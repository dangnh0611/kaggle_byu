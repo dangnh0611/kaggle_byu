{
 "cells": [
  {
   "cell_type": "code",
   "execution_count": 24,
   "metadata": {
    "vscode": {
     "languageId": "plaintext"
    }
   },
   "outputs": [],
   "source": [
    "import torch\n",
    "import os\n",
    "import numpy as np\n",
    "import pandas as pd\n",
    "import polars as pl\n",
    "from torch.nn import functional as F\n",
    "from byu.data.io import MultithreadOpencvTomogramLoader\n",
    "from tqdm import tqdm\n",
    "import cv2\n",
    "\n",
    "tomo_loader = MultithreadOpencvTomogramLoader(8)"
   ]
  },
  {
   "cell_type": "code",
   "execution_count": 25,
   "metadata": {
    "vscode": {
     "languageId": "plaintext"
    }
   },
   "outputs": [
    {
     "data": {
      "text/html": [
       "<div><style>\n",
       ".dataframe > thead > tr,\n",
       ".dataframe > tbody > tr {\n",
       "  text-align: right;\n",
       "  white-space: pre-wrap;\n",
       "}\n",
       "</style>\n",
       "<small>shape: (648, 20)</small><table border=\"1\" class=\"dataframe\"><thead><tr><th>tomo_id</th><th>Z</th><th>Y</th><th>X</th><th>voxel_spacing</th><th>ori_num_motors</th><th>num_motors</th><th>ZA</th><th>YA</th><th>XA</th><th>V</th><th>VA</th><th>motor_z</th><th>motor_y</th><th>motor_x</th><th>motor_zA</th><th>motor_yA</th><th>motor_xA</th><th>motor_zyx</th><th>motor_zyxA</th></tr><tr><td>str</td><td>i64</td><td>i64</td><td>i64</td><td>f64</td><td>i64</td><td>i64</td><td>f64</td><td>f64</td><td>f64</td><td>i64</td><td>f64</td><td>f64</td><td>f64</td><td>f64</td><td>f64</td><td>f64</td><td>f64</td><td>str</td><td>str</td></tr></thead><tbody><tr><td>&quot;tomo_003acc&quot;</td><td>500</td><td>1912</td><td>1847</td><td>6.5</td><td>0</td><td>0</td><td>3250.0</td><td>12428.0</td><td>12005.5</td><td>1765732000</td><td>4.8491e11</td><td>-1.0</td><td>-1.0</td><td>-1.0</td><td>-6.5</td><td>-6.5</td><td>-6.5</td><td>&quot;[]&quot;</td><td>&quot;[]&quot;</td></tr><tr><td>&quot;tomo_00e047&quot;</td><td>300</td><td>959</td><td>928</td><td>15.6</td><td>1</td><td>1</td><td>4680.0</td><td>14960.4</td><td>14476.8</td><td>266985600</td><td>1.0136e12</td><td>169.0</td><td>546.0</td><td>603.0</td><td>2636.4</td><td>8517.6</td><td>9406.8</td><td>&quot;[[169.0, 546.0, 603.0]]&quot;</td><td>&quot;[[2636.4, 8517.6, 9406.8]]&quot;</td></tr><tr><td>&quot;tomo_00e463&quot;</td><td>500</td><td>924</td><td>956</td><td>19.7</td><td>6</td><td>6</td><td>9850.0</td><td>18202.8</td><td>18833.2</td><td>441672000</td><td>3.3767e12</td><td>235.0</td><td>403.0</td><td>137.0</td><td>4629.5</td><td>7939.1</td><td>2698.9</td><td>&quot;[[235.0, 403.0, 137.0], [243.0…</td><td>&quot;[[4629.5, 7939.099999999999, 2…</td></tr><tr><td>&quot;tomo_01a877&quot;</td><td>300</td><td>960</td><td>928</td><td>13.1</td><td>1</td><td>1</td><td>3930.0</td><td>12576.0</td><td>12156.8</td><td>267264000</td><td>6.0083e11</td><td>147.0</td><td>638.0</td><td>286.0</td><td>1925.7</td><td>8357.8</td><td>3746.6</td><td>&quot;[[147.0, 638.0, 286.0]]&quot;</td><td>&quot;[[1925.7, 8357.8, 3746.6]]&quot;</td></tr><tr><td>&quot;tomo_02862f&quot;</td><td>300</td><td>959</td><td>928</td><td>15.6</td><td>1</td><td>1</td><td>4680.0</td><td>14960.4</td><td>14476.8</td><td>266985600</td><td>1.0136e12</td><td>101.0</td><td>351.0</td><td>120.0</td><td>1575.6</td><td>5475.6</td><td>1872.0</td><td>&quot;[[101.0, 351.0, 120.0]]&quot;</td><td>&quot;[[1575.6, 5475.599999999999, 1…</td></tr><tr><td>&hellip;</td><td>&hellip;</td><td>&hellip;</td><td>&hellip;</td><td>&hellip;</td><td>&hellip;</td><td>&hellip;</td><td>&hellip;</td><td>&hellip;</td><td>&hellip;</td><td>&hellip;</td><td>&hellip;</td><td>&hellip;</td><td>&hellip;</td><td>&hellip;</td><td>&hellip;</td><td>&hellip;</td><td>&hellip;</td><td>&hellip;</td><td>&hellip;</td></tr><tr><td>&quot;tomo_fe050c&quot;</td><td>300</td><td>959</td><td>928</td><td>15.6</td><td>1</td><td>2</td><td>4680.0</td><td>14960.4</td><td>14476.8</td><td>266985600</td><td>1.0136e12</td><td>138.0</td><td>134.0</td><td>542.0</td><td>2152.8</td><td>2090.4</td><td>8455.2</td><td>&quot;[[138.0, 134.0, 542.0], [143.1…</td><td>&quot;[[2152.7999999999997, 2090.4, …</td></tr><tr><td>&quot;tomo_fe85f6&quot;</td><td>800</td><td>928</td><td>960</td><td>13.1</td><td>0</td><td>1</td><td>10480.0</td><td>12156.8</td><td>12576.0</td><td>712704000</td><td>1.6022e12</td><td>463.5</td><td>903.5</td><td>747.0</td><td>6071.85</td><td>11835.85</td><td>9785.7</td><td>&quot;[[463.5, 903.5, 747.0]]&quot;</td><td>&quot;[[6071.849999999999, 11835.85,…</td></tr><tr><td>&quot;tomo_fea6e8&quot;</td><td>300</td><td>960</td><td>928</td><td>16.8</td><td>0</td><td>0</td><td>5040.0</td><td>16128.0</td><td>15590.4</td><td>267264000</td><td>1.2673e12</td><td>-1.0</td><td>-1.0</td><td>-1.0</td><td>-16.8</td><td>-16.8</td><td>-16.8</td><td>&quot;[]&quot;</td><td>&quot;[]&quot;</td></tr><tr><td>&quot;tomo_ff505c&quot;</td><td>300</td><td>959</td><td>928</td><td>15.6</td><td>1</td><td>1</td><td>4680.0</td><td>14960.4</td><td>14476.8</td><td>266985600</td><td>1.0136e12</td><td>111.0</td><td>816.0</td><td>678.0</td><td>1731.6</td><td>12729.6</td><td>10576.8</td><td>&quot;[[111.0, 816.0, 678.0]]&quot;</td><td>&quot;[[1731.6, 12729.6, 10576.8]]&quot;</td></tr><tr><td>&quot;tomo_ff7c20&quot;</td><td>800</td><td>928</td><td>960</td><td>13.1</td><td>0</td><td>1</td><td>10480.0</td><td>12156.8</td><td>12576.0</td><td>712704000</td><td>1.6022e12</td><td>307.25</td><td>493.0</td><td>63.0</td><td>4024.975</td><td>6458.3</td><td>825.3</td><td>&quot;[[307.25, 493.0, 63.0]]&quot;</td><td>&quot;[[4024.975, 6458.3, 825.3]]&quot;</td></tr></tbody></table></div>"
      ],
      "text/plain": [
       "shape: (648, 20)\n",
       "┌─────────────┬─────┬──────┬──────┬───┬──────────┬──────────┬───────────────────┬──────────────────┐\n",
       "│ tomo_id     ┆ Z   ┆ Y    ┆ X    ┆ … ┆ motor_yA ┆ motor_xA ┆ motor_zyx         ┆ motor_zyxA       │\n",
       "│ ---         ┆ --- ┆ ---  ┆ ---  ┆   ┆ ---      ┆ ---      ┆ ---               ┆ ---              │\n",
       "│ str         ┆ i64 ┆ i64  ┆ i64  ┆   ┆ f64      ┆ f64      ┆ str               ┆ str              │\n",
       "╞═════════════╪═════╪══════╪══════╪═══╪══════════╪══════════╪═══════════════════╪══════════════════╡\n",
       "│ tomo_003acc ┆ 500 ┆ 1912 ┆ 1847 ┆ … ┆ -6.5     ┆ -6.5     ┆ []                ┆ []               │\n",
       "│ tomo_00e047 ┆ 300 ┆ 959  ┆ 928  ┆ … ┆ 8517.6   ┆ 9406.8   ┆ [[169.0, 546.0,   ┆ [[2636.4,        │\n",
       "│             ┆     ┆      ┆      ┆   ┆          ┆          ┆ 603.0]]           ┆ 8517.6, 9406.8]] │\n",
       "│ tomo_00e463 ┆ 500 ┆ 924  ┆ 956  ┆ … ┆ 7939.1   ┆ 2698.9   ┆ [[235.0, 403.0,   ┆ [[4629.5, 7939.0 │\n",
       "│             ┆     ┆      ┆      ┆   ┆          ┆          ┆ 137.0], [243.0…   ┆ 99999999999, 2…  │\n",
       "│ tomo_01a877 ┆ 300 ┆ 960  ┆ 928  ┆ … ┆ 8357.8   ┆ 3746.6   ┆ [[147.0, 638.0,   ┆ [[1925.7,        │\n",
       "│             ┆     ┆      ┆      ┆   ┆          ┆          ┆ 286.0]]           ┆ 8357.8, 3746.6]] │\n",
       "│ tomo_02862f ┆ 300 ┆ 959  ┆ 928  ┆ … ┆ 5475.6   ┆ 1872.0   ┆ [[101.0, 351.0,   ┆ [[1575.6, 5475.5 │\n",
       "│             ┆     ┆      ┆      ┆   ┆          ┆          ┆ 120.0]]           ┆ 99999999999, 1…  │\n",
       "│ …           ┆ …   ┆ …    ┆ …    ┆ … ┆ …        ┆ …        ┆ …                 ┆ …                │\n",
       "│ tomo_fe050c ┆ 300 ┆ 959  ┆ 928  ┆ … ┆ 2090.4   ┆ 8455.2   ┆ [[138.0, 134.0,   ┆ [[2152.799999999 │\n",
       "│             ┆     ┆      ┆      ┆   ┆          ┆          ┆ 542.0], [143.1…   ┆ 9997, 2090.4, …  │\n",
       "│ tomo_fe85f6 ┆ 800 ┆ 928  ┆ 960  ┆ … ┆ 11835.85 ┆ 9785.7   ┆ [[463.5, 903.5,   ┆ [[6071.849999999 │\n",
       "│             ┆     ┆      ┆      ┆   ┆          ┆          ┆ 747.0]]           ┆ 999, 11835.85,…  │\n",
       "│ tomo_fea6e8 ┆ 300 ┆ 960  ┆ 928  ┆ … ┆ -16.8    ┆ -16.8    ┆ []                ┆ []               │\n",
       "│ tomo_ff505c ┆ 300 ┆ 959  ┆ 928  ┆ … ┆ 12729.6  ┆ 10576.8  ┆ [[111.0, 816.0,   ┆ [[1731.6,        │\n",
       "│             ┆     ┆      ┆      ┆   ┆          ┆          ┆ 678.0]]           ┆ 12729.6,         │\n",
       "│             ┆     ┆      ┆      ┆   ┆          ┆          ┆                   ┆ 10576.8]]        │\n",
       "│ tomo_ff7c20 ┆ 800 ┆ 928  ┆ 960  ┆ … ┆ 6458.3   ┆ 825.3    ┆ [[307.25, 493.0,  ┆ [[4024.975,      │\n",
       "│             ┆     ┆      ┆      ┆   ┆          ┆          ┆ 63.0]]            ┆ 6458.3, 825.3]]  │\n",
       "└─────────────┴─────┴──────┴──────┴───┴──────────┴──────────┴───────────────────┴──────────────────┘"
      ]
     },
     "execution_count": 25,
     "metadata": {},
     "output_type": "execute_result"
    }
   ],
   "source": [
    "DATA_DIR = '/home/dangnh36/datasets/.comp/byu/raw/train/'\n",
    "\n",
    "df = pl.scan_csv('/home/dangnh36/datasets/.comp/byu/processed/gt_v2.csv').collect()\n",
    "df"
   ]
  },
  {
   "cell_type": "code",
   "execution_count": 26,
   "metadata": {},
   "outputs": [
    {
     "data": {
      "text/html": [
       "<div><style>\n",
       ".dataframe > thead > tr,\n",
       ".dataframe > tbody > tr {\n",
       "  text-align: right;\n",
       "  white-space: pre-wrap;\n",
       "}\n",
       "</style>\n",
       "<small>shape: (1, 3)</small><table border=\"1\" class=\"dataframe\"><thead><tr><th>Z</th><th>Y</th><th>X</th></tr><tr><td>f64</td><td>f64</td><td>f64</td></tr></thead><tbody><tr><td>415.42284</td><td>953.356481</td><td>954.842593</td></tr></tbody></table></div>"
      ],
      "text/plain": [
       "shape: (1, 3)\n",
       "┌───────────┬────────────┬────────────┐\n",
       "│ Z         ┆ Y          ┆ X          │\n",
       "│ ---       ┆ ---        ┆ ---        │\n",
       "│ f64       ┆ f64        ┆ f64        │\n",
       "╞═══════════╪════════════╪════════════╡\n",
       "│ 415.42284 ┆ 953.356481 ┆ 954.842593 │\n",
       "└───────────┴────────────┴────────────┘"
      ]
     },
     "execution_count": 26,
     "metadata": {},
     "output_type": "execute_result"
    }
   ],
   "source": [
    "df.select(pl.col('Z', 'Y', 'X').mean())"
   ]
  },
  {
   "cell_type": "code",
   "execution_count": 27,
   "metadata": {},
   "outputs": [
    {
     "data": {
      "text/html": [
       "<div><style>\n",
       ".dataframe > thead > tr,\n",
       ".dataframe > tbody > tr {\n",
       "  text-align: right;\n",
       "  white-space: pre-wrap;\n",
       "}\n",
       "</style>\n",
       "<small>shape: (7, 2)</small><table border=\"1\" class=\"dataframe\"><thead><tr><th>num_motors</th><th>len</th></tr><tr><td>i64</td><td>u32</td></tr></thead><tbody><tr><td>0</td><td>231</td></tr><tr><td>1</td><td>359</td></tr><tr><td>2</td><td>35</td></tr><tr><td>3</td><td>10</td></tr><tr><td>4</td><td>9</td></tr><tr><td>6</td><td>3</td></tr><tr><td>10</td><td>1</td></tr></tbody></table></div>"
      ],
      "text/plain": [
       "shape: (7, 2)\n",
       "┌────────────┬─────┐\n",
       "│ num_motors ┆ len │\n",
       "│ ---        ┆ --- │\n",
       "│ i64        ┆ u32 │\n",
       "╞════════════╪═════╡\n",
       "│ 0          ┆ 231 │\n",
       "│ 1          ┆ 359 │\n",
       "│ 2          ┆ 35  │\n",
       "│ 3          ┆ 10  │\n",
       "│ 4          ┆ 9   │\n",
       "│ 6          ┆ 3   │\n",
       "│ 10         ┆ 1   │\n",
       "└────────────┴─────┘"
      ]
     },
     "execution_count": 27,
     "metadata": {},
     "output_type": "execute_result"
    }
   ],
   "source": [
    "df.group_by('num_motors').len().sort('num_motors')"
   ]
  },
  {
   "cell_type": "code",
   "execution_count": 28,
   "metadata": {},
   "outputs": [
    {
     "data": {
      "text/plain": [
       "289.6"
      ]
     },
     "execution_count": 28,
     "metadata": {},
     "output_type": "execute_result"
    }
   ],
   "source": [
    "(648 - 286) * 4/5"
   ]
  },
  {
   "cell_type": "code",
   "execution_count": 29,
   "metadata": {},
   "outputs": [
    {
     "data": {
      "text/html": [
       "<div><style>\n",
       ".dataframe > thead > tr,\n",
       ".dataframe > tbody > tr {\n",
       "  text-align: right;\n",
       "  white-space: pre-wrap;\n",
       "}\n",
       "</style>\n",
       "<small>shape: (10, 2)</small><table border=\"1\" class=\"dataframe\"><thead><tr><th>voxel_spacing</th><th>len</th></tr><tr><td>f64</td><td>u32</td></tr></thead><tbody><tr><td>6.5</td><td>3</td></tr><tr><td>13.1</td><td>263</td></tr><tr><td>13.2</td><td>2</td></tr><tr><td>13.3</td><td>18</td></tr><tr><td>15.6</td><td>171</td></tr><tr><td>16.1</td><td>40</td></tr><tr><td>16.8</td><td>85</td></tr><tr><td>19.2</td><td>7</td></tr><tr><td>19.3</td><td>10</td></tr><tr><td>19.7</td><td>49</td></tr></tbody></table></div>"
      ],
      "text/plain": [
       "shape: (10, 2)\n",
       "┌───────────────┬─────┐\n",
       "│ voxel_spacing ┆ len │\n",
       "│ ---           ┆ --- │\n",
       "│ f64           ┆ u32 │\n",
       "╞═══════════════╪═════╡\n",
       "│ 6.5           ┆ 3   │\n",
       "│ 13.1          ┆ 263 │\n",
       "│ 13.2          ┆ 2   │\n",
       "│ 13.3          ┆ 18  │\n",
       "│ 15.6          ┆ 171 │\n",
       "│ 16.1          ┆ 40  │\n",
       "│ 16.8          ┆ 85  │\n",
       "│ 19.2          ┆ 7   │\n",
       "│ 19.3          ┆ 10  │\n",
       "│ 19.7          ┆ 49  │\n",
       "└───────────────┴─────┘"
      ]
     },
     "execution_count": 29,
     "metadata": {},
     "output_type": "execute_result"
    }
   ],
   "source": [
    "df.group_by('voxel_spacing').len().sort('voxel_spacing')"
   ]
  },
  {
   "cell_type": "code",
   "execution_count": null,
   "metadata": {},
   "outputs": [],
   "source": []
  },
  {
   "cell_type": "code",
   "execution_count": 31,
   "metadata": {
    "collapsed": true,
    "jupyter": {
     "outputs_hidden": true
    }
   },
   "outputs": [
    {
     "name": "stdout",
     "output_type": "stream",
     "text": [
      "Number of tomos: 648\n"
     ]
    },
    {
     "name": "stderr",
     "output_type": "stream",
     "text": [
      "  0%|                        | 0/648 [00:00<?, ?it/s]"
     ]
    },
    {
     "name": "stdout",
     "output_type": "stream",
     "text": [
      "tomo_003acc (500, 1912, 1847) --> (500, 1912, 1847) torch.uint8\n"
     ]
    },
    {
     "name": "stderr",
     "output_type": "stream",
     "text": [
      "  0%|                | 2/648 [00:04<24:11,  2.25s/it]"
     ]
    },
    {
     "name": "stdout",
     "output_type": "stream",
     "text": [
      "tomo_00e047 (300, 959, 928) --> (300, 959, 928) torch.uint8\n",
      "tomo_00e463 (500, 924, 956) --> (500, 924, 956) torch.uint8\n"
     ]
    },
    {
     "name": "stderr",
     "output_type": "stream",
     "text": [
      "  1%|                | 4/648 [00:10<27:51,  2.60s/it]"
     ]
    },
    {
     "name": "stdout",
     "output_type": "stream",
     "text": [
      "tomo_01a877 (300, 960, 928) --> (300, 960, 928) torch.uint8\n"
     ]
    },
    {
     "name": "stderr",
     "output_type": "stream",
     "text": [
      "  1%|                | 5/648 [00:12<25:06,  2.34s/it]"
     ]
    },
    {
     "name": "stdout",
     "output_type": "stream",
     "text": [
      "tomo_02862f (300, 959, 928) --> (300, 959, 928) torch.uint8\n"
     ]
    },
    {
     "name": "stderr",
     "output_type": "stream",
     "text": [
      "  1%|▏               | 6/648 [00:14<22:50,  2.13s/it]"
     ]
    },
    {
     "name": "stdout",
     "output_type": "stream",
     "text": [
      "tomo_0308c5 (300, 960, 928) --> (300, 960, 928) torch.uint8\n",
      "tomo_0333fa (300, 960, 928) --> (300, 960, 928) torch.uint8\n"
     ]
    },
    {
     "name": "stderr",
     "output_type": "stream",
     "text": [
      "  1%|▏               | 8/648 [00:17<20:30,  1.92s/it]"
     ]
    },
    {
     "name": "stdout",
     "output_type": "stream",
     "text": [
      "tomo_033ebe (300, 960, 928) --> (300, 960, 928) torch.uint8\n",
      "tomo_03437b (300, 959, 928) --> (300, 959, 928) torch.uint8\n"
     ]
    },
    {
     "name": "stderr",
     "output_type": "stream",
     "text": [
      "  2%|▏              | 10/648 [00:20<18:52,  1.77s/it]"
     ]
    },
    {
     "name": "stdout",
     "output_type": "stream",
     "text": [
      "tomo_0363f2 (300, 960, 928) --> (300, 960, 928) torch.uint8\n",
      "tomo_040b80 (600, 928, 960) --> (600, 928, 960) torch.uint8\n"
     ]
    },
    {
     "name": "stderr",
     "output_type": "stream",
     "text": [
      "  2%|▎              | 11/648 [00:23<22:21,  2.11s/it]"
     ]
    },
    {
     "name": "stdout",
     "output_type": "stream",
     "text": [
      "tomo_049310 (500, 924, 956) --> (500, 924, 956) torch.uint8\n"
     ]
    },
    {
     "name": "stderr",
     "output_type": "stream",
     "text": [
      "  2%|▎              | 12/648 [00:26<23:31,  2.22s/it]"
     ]
    },
    {
     "name": "stdout",
     "output_type": "stream",
     "text": [
      "tomo_04d42b (500, 1024, 1440) --> (500, 1024, 1440) torch.uint8\n"
     ]
    },
    {
     "name": "stderr",
     "output_type": "stream",
     "text": [
      "  2%|▎              | 13/648 [00:29<25:26,  2.40s/it]"
     ]
    },
    {
     "name": "stdout",
     "output_type": "stream",
     "text": [
      "tomo_05b39c (800, 928, 960) --> (800, 928, 960) torch.uint8\n"
     ]
    },
    {
     "name": "stderr",
     "output_type": "stream",
     "text": [
      "  2%|▎              | 15/648 [00:34<26:25,  2.50s/it]"
     ]
    },
    {
     "name": "stdout",
     "output_type": "stream",
     "text": [
      "tomo_05df8a (300, 928, 928) --> (300, 928, 928) torch.uint8\n"
     ]
    },
    {
     "name": "stderr",
     "output_type": "stream",
     "text": [
      "  2%|▎              | 16/648 [00:36<23:14,  2.21s/it]"
     ]
    },
    {
     "name": "stdout",
     "output_type": "stream",
     "text": [
      "tomo_05f919 (300, 959, 928) --> (300, 959, 928) torch.uint8\n"
     ]
    },
    {
     "name": "stderr",
     "output_type": "stream",
     "text": [
      "  3%|▍              | 17/648 [00:37<20:01,  1.90s/it]"
     ]
    },
    {
     "name": "stdout",
     "output_type": "stream",
     "text": [
      "tomo_066095 (300, 960, 928) --> (300, 960, 928) torch.uint8\n"
     ]
    },
    {
     "name": "stderr",
     "output_type": "stream",
     "text": [
      "  3%|▍              | 18/648 [00:38<18:18,  1.74s/it]"
     ]
    },
    {
     "name": "stdout",
     "output_type": "stream",
     "text": [
      "tomo_06e11e (300, 960, 928) --> (300, 960, 928) torch.uint8\n"
     ]
    },
    {
     "name": "stderr",
     "output_type": "stream",
     "text": [
      "  3%|▍              | 19/648 [00:40<18:17,  1.74s/it]"
     ]
    },
    {
     "name": "stdout",
     "output_type": "stream",
     "text": [
      "tomo_072a16 (300, 960, 928) --> (300, 960, 928) torch.uint8\n",
      "tomo_081a2d (300, 959, 928) --> (300, 959, 928) torch.uint8\n"
     ]
    },
    {
     "name": "stderr",
     "output_type": "stream",
     "text": [
      "  3%|▍              | 20/648 [00:42<18:07,  1.73s/it]"
     ]
    },
    {
     "name": "stdout",
     "output_type": "stream",
     "text": [
      "tomo_08446f (500, 924, 956) --> (500, 924, 956) torch.uint8\n"
     ]
    },
    {
     "name": "stderr",
     "output_type": "stream",
     "text": [
      "  3%|▍              | 21/648 [00:44<20:02,  1.92s/it]"
     ]
    },
    {
     "name": "stdout",
     "output_type": "stream",
     "text": [
      "tomo_087d64 (800, 927, 959) --> (800, 927, 959) torch.uint8\n"
     ]
    },
    {
     "name": "stderr",
     "output_type": "stream",
     "text": [
      "  3%|▌              | 22/648 [00:48<24:59,  2.39s/it]"
     ]
    },
    {
     "name": "stdout",
     "output_type": "stream",
     "text": [
      "tomo_08a6d6 (800, 928, 960) --> (800, 928, 960) torch.uint8\n"
     ]
    },
    {
     "name": "stderr",
     "output_type": "stream",
     "text": [
      "  4%|▌              | 23/648 [00:51<28:50,  2.77s/it]"
     ]
    },
    {
     "name": "stdout",
     "output_type": "stream",
     "text": [
      "tomo_08bf73 (800, 928, 960) --> (800, 928, 960) torch.uint8\n"
     ]
    },
    {
     "name": "stderr",
     "output_type": "stream",
     "text": [
      "  4%|▌              | 24/648 [00:54<29:06,  2.80s/it]"
     ]
    },
    {
     "name": "stdout",
     "output_type": "stream",
     "text": [
      "tomo_098751 (500, 924, 956) --> (500, 924, 956) torch.uint8\n"
     ]
    },
    {
     "name": "stderr",
     "output_type": "stream",
     "text": [
      "  4%|▌              | 25/648 [00:56<27:17,  2.63s/it]"
     ]
    },
    {
     "name": "stdout",
     "output_type": "stream",
     "text": [
      "tomo_0a180f (800, 928, 960) --> (800, 928, 960) torch.uint8\n"
     ]
    },
    {
     "name": "stderr",
     "output_type": "stream",
     "text": [
      "  4%|▋              | 27/648 [01:01<24:39,  2.38s/it]"
     ]
    },
    {
     "name": "stdout",
     "output_type": "stream",
     "text": [
      "tomo_0a8f05 (300, 928, 928) --> (300, 928, 928) torch.uint8\n",
      "tomo_0c2749 (300, 960, 928) --> (300, 960, 928) torch.uint8\n"
     ]
    },
    {
     "name": "stderr",
     "output_type": "stream",
     "text": [
      "  4%|▋              | 29/648 [01:03<18:04,  1.75s/it]"
     ]
    },
    {
     "name": "stdout",
     "output_type": "stream",
     "text": [
      "tomo_0c3a99 (300, 959, 928) --> (300, 959, 928) torch.uint8\n",
      "tomo_0c3d78 (800, 928, 960) --> (800, 928, 960) torch.uint8\n"
     ]
    },
    {
     "name": "stderr",
     "output_type": "stream",
     "text": [
      "  5%|▋              | 31/648 [01:08<19:44,  1.92s/it]"
     ]
    },
    {
     "name": "stdout",
     "output_type": "stream",
     "text": [
      "tomo_0d4c9e (300, 960, 928) --> (300, 960, 928) torch.uint8\n"
     ]
    },
    {
     "name": "stderr",
     "output_type": "stream",
     "text": [
      "  5%|▋              | 32/648 [01:09<16:00,  1.56s/it]"
     ]
    },
    {
     "name": "stdout",
     "output_type": "stream",
     "text": [
      "tomo_0da370 (300, 928, 928) --> (300, 928, 928) torch.uint8\n",
      "tomo_0de3ee (500, 928, 960) --> (500, 928, 960) torch.uint8\n"
     ]
    },
    {
     "name": "stderr",
     "output_type": "stream",
     "text": [
      "  5%|▊              | 34/648 [01:11<14:36,  1.43s/it]"
     ]
    },
    {
     "name": "stdout",
     "output_type": "stream",
     "text": [
      "tomo_0e9757 (300, 960, 928) --> (300, 960, 928) torch.uint8\n"
     ]
    },
    {
     "name": "stderr",
     "output_type": "stream",
     "text": [
      "  5%|▊              | 35/648 [01:12<13:29,  1.32s/it]"
     ]
    },
    {
     "name": "stdout",
     "output_type": "stream",
     "text": [
      "tomo_0eb41e (300, 960, 928) --> (300, 960, 928) torch.uint8\n"
     ]
    },
    {
     "name": "stderr",
     "output_type": "stream",
     "text": [
      "  6%|▊              | 36/648 [01:14<12:46,  1.25s/it]"
     ]
    },
    {
     "name": "stdout",
     "output_type": "stream",
     "text": [
      "tomo_0eb994 (300, 959, 928) --> (300, 959, 928) torch.uint8\n"
     ]
    },
    {
     "name": "stderr",
     "output_type": "stream",
     "text": [
      "  6%|▊              | 37/648 [01:15<12:34,  1.23s/it]"
     ]
    },
    {
     "name": "stdout",
     "output_type": "stream",
     "text": [
      "tomo_0f9df0 (300, 960, 928) --> (300, 960, 928) torch.uint8\n",
      "tomo_0fab19 (300, 959, 928) --> (300, 959, 928) torch.uint8\n"
     ]
    },
    {
     "name": "stderr",
     "output_type": "stream",
     "text": [
      "  6%|▉              | 39/648 [01:17<11:30,  1.13s/it]"
     ]
    },
    {
     "name": "stdout",
     "output_type": "stream",
     "text": [
      "tomo_0fe63f (300, 960, 928) --> (300, 960, 928) torch.uint8\n"
     ]
    },
    {
     "name": "stderr",
     "output_type": "stream",
     "text": [
      "  6%|▉              | 40/648 [01:18<10:19,  1.02s/it]"
     ]
    },
    {
     "name": "stdout",
     "output_type": "stream",
     "text": [
      "tomo_101279 (300, 928, 928) --> (300, 928, 928) torch.uint8\n",
      "tomo_10a3bd (500, 1024, 1440) --> (500, 1024, 1440) torch.uint8\n"
     ]
    },
    {
     "name": "stderr",
     "output_type": "stream",
     "text": [
      "  6%|▉              | 42/648 [01:21<12:55,  1.28s/it]"
     ]
    },
    {
     "name": "stdout",
     "output_type": "stream",
     "text": [
      "tomo_10c564 (300, 960, 928) --> (300, 960, 928) torch.uint8\n"
     ]
    },
    {
     "name": "stderr",
     "output_type": "stream",
     "text": [
      "  7%|▉              | 43/648 [01:22<13:26,  1.33s/it]"
     ]
    },
    {
     "name": "stdout",
     "output_type": "stream",
     "text": [
      "tomo_122a02 (300, 959, 928) --> (300, 959, 928) torch.uint8\n"
     ]
    },
    {
     "name": "stderr",
     "output_type": "stream",
     "text": [
      "  7%|█              | 44/648 [01:24<13:28,  1.34s/it]"
     ]
    },
    {
     "name": "stdout",
     "output_type": "stream",
     "text": [
      "tomo_122c46 (300, 960, 928) --> (300, 960, 928) torch.uint8\n",
      "tomo_12f896 (300, 960, 928) --> (300, 960, 928) torch.uint8\n"
     ]
    },
    {
     "name": "stderr",
     "output_type": "stream",
     "text": [
      "  7%|█              | 46/648 [01:26<12:54,  1.29s/it]"
     ]
    },
    {
     "name": "stdout",
     "output_type": "stream",
     "text": [
      "tomo_13484c (300, 928, 928) --> (300, 928, 928) torch.uint8\n"
     ]
    },
    {
     "name": "stderr",
     "output_type": "stream",
     "text": [
      "  7%|█              | 47/648 [01:28<13:46,  1.38s/it]"
     ]
    },
    {
     "name": "stdout",
     "output_type": "stream",
     "text": [
      "tomo_134bb0 (300, 959, 928) --> (300, 959, 928) torch.uint8\n",
      "tomo_136c8d (500, 924, 956) --> (500, 924, 956) torch.uint8\n"
     ]
    },
    {
     "name": "stderr",
     "output_type": "stream",
     "text": [
      "  8%|█▏             | 49/648 [01:31<15:59,  1.60s/it]"
     ]
    },
    {
     "name": "stdout",
     "output_type": "stream",
     "text": [
      "tomo_138018 (300, 959, 928) --> (300, 959, 928) torch.uint8\n",
      "tomo_13973d (500, 924, 956) --> (500, 924, 956) torch.uint8\n"
     ]
    },
    {
     "name": "stderr",
     "output_type": "stream",
     "text": [
      "  8%|█▏             | 51/648 [01:35<16:16,  1.64s/it]"
     ]
    },
    {
     "name": "stdout",
     "output_type": "stream",
     "text": [
      "tomo_139d9e (300, 959, 928) --> (300, 959, 928) torch.uint8\n"
     ]
    },
    {
     "name": "stderr",
     "output_type": "stream",
     "text": [
      "  8%|█▏             | 52/648 [01:36<15:11,  1.53s/it]"
     ]
    },
    {
     "name": "stdout",
     "output_type": "stream",
     "text": [
      "tomo_1446aa (300, 960, 928) --> (300, 960, 928) torch.uint8\n",
      "tomo_146de2 (500, 924, 956) --> (500, 924, 956) torch.uint8\n"
     ]
    },
    {
     "name": "stderr",
     "output_type": "stream",
     "text": [
      "  8%|█▎             | 54/648 [01:39<15:08,  1.53s/it]"
     ]
    },
    {
     "name": "stdout",
     "output_type": "stream",
     "text": [
      "tomo_16136a (300, 960, 928) --> (300, 960, 928) torch.uint8\n"
     ]
    },
    {
     "name": "stderr",
     "output_type": "stream",
     "text": [
      "  8%|█▎             | 55/648 [01:40<13:56,  1.41s/it]"
     ]
    },
    {
     "name": "stdout",
     "output_type": "stream",
     "text": [
      "tomo_161683 (300, 928, 928) --> (300, 928, 928) torch.uint8\n",
      "tomo_16efa8 (300, 960, 928) --> (300, 960, 928) torch.uint8\n"
     ]
    },
    {
     "name": "stderr",
     "output_type": "stream",
     "text": [
      "  9%|█▎             | 56/648 [01:41<12:50,  1.30s/it]"
     ]
    },
    {
     "name": "stdout",
     "output_type": "stream",
     "text": [
      "tomo_16fce8 (300, 960, 928) --> (300, 960, 928) torch.uint8\n"
     ]
    },
    {
     "name": "stderr",
     "output_type": "stream",
     "text": [
      "  9%|█▎             | 58/648 [01:44<12:29,  1.27s/it]"
     ]
    },
    {
     "name": "stdout",
     "output_type": "stream",
     "text": [
      "tomo_17143f (300, 960, 928) --> (300, 960, 928) torch.uint8\n",
      "tomo_172f08 (800, 928, 960) --> (800, 928, 960) torch.uint8\n"
     ]
    },
    {
     "name": "stderr",
     "output_type": "stream",
     "text": [
      "  9%|█▍             | 60/648 [01:48<15:50,  1.62s/it]"
     ]
    },
    {
     "name": "stdout",
     "output_type": "stream",
     "text": [
      "tomo_180bfd (300, 960, 928) --> (300, 960, 928) torch.uint8\n",
      "tomo_183270 (800, 928, 960) --> (800, 928, 960) torch.uint8\n"
     ]
    },
    {
     "name": "stderr",
     "output_type": "stream",
     "text": [
      " 10%|█▍             | 62/648 [01:52<17:22,  1.78s/it]"
     ]
    },
    {
     "name": "stdout",
     "output_type": "stream",
     "text": [
      "tomo_191bcb (300, 960, 928) --> (300, 960, 928) torch.uint8\n"
     ]
    },
    {
     "name": "stderr",
     "output_type": "stream",
     "text": [
      " 10%|█▍             | 63/648 [01:54<15:45,  1.62s/it]"
     ]
    },
    {
     "name": "stdout",
     "output_type": "stream",
     "text": [
      "tomo_19a313 (300, 960, 928) --> (300, 960, 928) torch.uint8\n"
     ]
    },
    {
     "name": "stderr",
     "output_type": "stream",
     "text": [
      " 10%|█▍             | 64/648 [01:55<13:57,  1.43s/it]"
     ]
    },
    {
     "name": "stdout",
     "output_type": "stream",
     "text": [
      "tomo_19a4fd (300, 960, 928) --> (300, 960, 928) torch.uint8\n"
     ]
    },
    {
     "name": "stderr",
     "output_type": "stream",
     "text": [
      " 10%|█▌             | 65/648 [01:56<12:34,  1.29s/it]"
     ]
    },
    {
     "name": "stdout",
     "output_type": "stream",
     "text": [
      "tomo_1ab322 (300, 960, 928) --> (300, 960, 928) torch.uint8\n"
     ]
    },
    {
     "name": "stderr",
     "output_type": "stream",
     "text": [
      " 10%|█▌             | 66/648 [01:57<12:29,  1.29s/it]"
     ]
    },
    {
     "name": "stdout",
     "output_type": "stream",
     "text": [
      "tomo_1af88d (300, 960, 928) --> (300, 960, 928) torch.uint8\n",
      "tomo_1b82d1 (500, 924, 956) --> (500, 924, 956) torch.uint8\n"
     ]
    },
    {
     "name": "stderr",
     "output_type": "stream",
     "text": [
      " 10%|█▌             | 67/648 [01:59<14:02,  1.45s/it]"
     ]
    },
    {
     "name": "stdout",
     "output_type": "stream",
     "text": [
      "tomo_1c2534 (800, 927, 959) --> (800, 927, 959) torch.uint8\n"
     ]
    },
    {
     "name": "stderr",
     "output_type": "stream",
     "text": [
      " 11%|█▌             | 69/648 [02:01<12:59,  1.35s/it]"
     ]
    },
    {
     "name": "stdout",
     "output_type": "stream",
     "text": [
      "tomo_1c38fd (300, 960, 928) --> (300, 960, 928) torch.uint8\n"
     ]
    },
    {
     "name": "stderr",
     "output_type": "stream",
     "text": [
      " 11%|█▌             | 70/648 [02:02<11:01,  1.14s/it]"
     ]
    },
    {
     "name": "stdout",
     "output_type": "stream",
     "text": [
      "tomo_1c75ac (300, 960, 928) --> (300, 960, 928) torch.uint8\n"
     ]
    },
    {
     "name": "stderr",
     "output_type": "stream",
     "text": [
      " 11%|█▋             | 71/648 [02:03<10:17,  1.07s/it]"
     ]
    },
    {
     "name": "stdout",
     "output_type": "stream",
     "text": [
      "tomo_1cc887 (300, 928, 928) --> (300, 928, 928) torch.uint8\n",
      "tomo_1da097 (500, 928, 960) --> (500, 928, 960) torch.uint8\n"
     ]
    },
    {
     "name": "stderr",
     "output_type": "stream",
     "text": [
      " 11%|█▋             | 72/648 [02:04<10:46,  1.12s/it]"
     ]
    },
    {
     "name": "stdout",
     "output_type": "stream",
     "text": [
      "tomo_1da0da (800, 928, 960) --> (800, 928, 960) torch.uint8\n"
     ]
    },
    {
     "name": "stderr",
     "output_type": "stream",
     "text": [
      " 11%|█▋             | 73/648 [02:07<15:57,  1.67s/it]"
     ]
    },
    {
     "name": "stdout",
     "output_type": "stream",
     "text": [
      "tomo_1dc5f9 (500, 924, 956) --> (500, 924, 956) torch.uint8\n"
     ]
    },
    {
     "name": "stderr",
     "output_type": "stream",
     "text": [
      " 12%|█▋             | 75/648 [02:10<15:07,  1.58s/it]"
     ]
    },
    {
     "name": "stdout",
     "output_type": "stream",
     "text": [
      "tomo_1e9980 (300, 960, 928) --> (300, 960, 928) torch.uint8\n"
     ]
    },
    {
     "name": "stderr",
     "output_type": "stream",
     "text": [
      " 12%|█▊             | 76/648 [02:11<13:38,  1.43s/it]"
     ]
    },
    {
     "name": "stdout",
     "output_type": "stream",
     "text": [
      "tomo_1efc28 (300, 959, 928) --> (300, 959, 928) torch.uint8\n"
     ]
    },
    {
     "name": "stderr",
     "output_type": "stream",
     "text": [
      " 12%|█▊             | 77/648 [02:13<13:01,  1.37s/it]"
     ]
    },
    {
     "name": "stdout",
     "output_type": "stream",
     "text": [
      "tomo_1f0e78 (300, 959, 928) --> (300, 959, 928) torch.uint8\n"
     ]
    },
    {
     "name": "stderr",
     "output_type": "stream",
     "text": [
      " 12%|█▊             | 78/648 [02:14<12:26,  1.31s/it]"
     ]
    },
    {
     "name": "stdout",
     "output_type": "stream",
     "text": [
      "tomo_1fb6a7 (300, 960, 928) --> (300, 960, 928) torch.uint8\n"
     ]
    },
    {
     "name": "stderr",
     "output_type": "stream",
     "text": [
      " 12%|█▊             | 79/648 [02:15<11:23,  1.20s/it]"
     ]
    },
    {
     "name": "stdout",
     "output_type": "stream",
     "text": [
      "tomo_20a9ed (300, 960, 928) --> (300, 960, 928) torch.uint8\n"
     ]
    },
    {
     "name": "stderr",
     "output_type": "stream",
     "text": [
      " 12%|█▊             | 80/648 [02:16<11:11,  1.18s/it]"
     ]
    },
    {
     "name": "stdout",
     "output_type": "stream",
     "text": [
      "tomo_210371 (300, 960, 928) --> (300, 960, 928) torch.uint8\n"
     ]
    },
    {
     "name": "stderr",
     "output_type": "stream",
     "text": [
      " 12%|█▉             | 81/648 [02:17<10:33,  1.12s/it]"
     ]
    },
    {
     "name": "stdout",
     "output_type": "stream",
     "text": [
      "tomo_221a47 (300, 960, 928) --> (300, 960, 928) torch.uint8\n",
      "tomo_221c8e (500, 928, 928) --> (500, 928, 928) torch.uint8\n"
     ]
    },
    {
     "name": "stderr",
     "output_type": "stream",
     "text": [
      " 13%|█▉             | 83/648 [02:20<11:08,  1.18s/it]"
     ]
    },
    {
     "name": "stdout",
     "output_type": "stream",
     "text": [
      "tomo_225d8f (300, 960, 928) --> (300, 960, 928) torch.uint8\n",
      "tomo_226cd8 (500, 928, 960) --> (500, 928, 960) torch.uint8\n"
     ]
    },
    {
     "name": "stderr",
     "output_type": "stream",
     "text": [
      " 13%|█▉             | 84/648 [02:21<13:20,  1.42s/it]"
     ]
    },
    {
     "name": "stdout",
     "output_type": "stream",
     "text": [
      "tomo_22976c (500, 928, 960) --> (500, 928, 960) torch.uint8\n"
     ]
    },
    {
     "name": "stderr",
     "output_type": "stream",
     "text": [
      " 13%|█▉             | 85/648 [02:24<15:13,  1.62s/it]"
     ]
    },
    {
     "name": "stdout",
     "output_type": "stream",
     "text": [
      "tomo_229f0a (500, 960, 928) --> (500, 960, 928) torch.uint8\n"
     ]
    },
    {
     "name": "stderr",
     "output_type": "stream",
     "text": [
      " 13%|██             | 87/648 [02:27<14:27,  1.55s/it]"
     ]
    },
    {
     "name": "stdout",
     "output_type": "stream",
     "text": [
      "tomo_23a8e8 (300, 960, 928) --> (300, 960, 928) torch.uint8\n"
     ]
    },
    {
     "name": "stderr",
     "output_type": "stream",
     "text": [
      " 14%|██             | 88/648 [02:28<13:20,  1.43s/it]"
     ]
    },
    {
     "name": "stdout",
     "output_type": "stream",
     "text": [
      "tomo_23c8a4 (300, 960, 928) --> (300, 960, 928) torch.uint8\n",
      "tomo_23ce49 (300, 959, 928) --> (300, 959, 928) torch.uint8\n"
     ]
    },
    {
     "name": "stderr",
     "output_type": "stream",
     "text": [
      " 14%|██             | 89/648 [02:29<12:44,  1.37s/it]"
     ]
    },
    {
     "name": "stdout",
     "output_type": "stream",
     "text": [
      "tomo_247826 (500, 960, 928) --> (500, 960, 928) torch.uint8\n"
     ]
    },
    {
     "name": "stderr",
     "output_type": "stream",
     "text": [
      " 14%|██             | 91/648 [02:32<13:17,  1.43s/it]"
     ]
    },
    {
     "name": "stdout",
     "output_type": "stream",
     "text": [
      "tomo_24795a (300, 960, 928) --> (300, 960, 928) torch.uint8\n"
     ]
    },
    {
     "name": "stderr",
     "output_type": "stream",
     "text": [
      " 14%|██▏            | 92/648 [02:33<12:28,  1.35s/it]"
     ]
    },
    {
     "name": "stdout",
     "output_type": "stream",
     "text": [
      "tomo_2483bb (300, 960, 928) --> (300, 960, 928) torch.uint8\n",
      "tomo_24a095 (800, 928, 960) --> (800, 928, 960) torch.uint8\n"
     ]
    },
    {
     "name": "stderr",
     "output_type": "stream",
     "text": [
      " 15%|██▏            | 94/648 [02:37<14:15,  1.54s/it]"
     ]
    },
    {
     "name": "stdout",
     "output_type": "stream",
     "text": [
      "tomo_24fda8 (300, 960, 928) --> (300, 960, 928) torch.uint8\n"
     ]
    },
    {
     "name": "stderr",
     "output_type": "stream",
     "text": [
      " 15%|██▏            | 95/648 [02:38<13:22,  1.45s/it]"
     ]
    },
    {
     "name": "stdout",
     "output_type": "stream",
     "text": [
      "tomo_256717 (300, 928, 928) --> (300, 928, 928) torch.uint8\n",
      "tomo_25780f (300, 960, 928) --> (300, 960, 928) torch.uint8\n"
     ]
    },
    {
     "name": "stderr",
     "output_type": "stream",
     "text": [
      " 15%|██▏            | 97/648 [02:41<12:05,  1.32s/it]"
     ]
    },
    {
     "name": "stdout",
     "output_type": "stream",
     "text": [
      "tomo_2645a0 (300, 960, 928) --> (300, 960, 928) torch.uint8\n"
     ]
    },
    {
     "name": "stderr",
     "output_type": "stream",
     "text": [
      " 15%|██▎            | 98/648 [02:42<11:36,  1.27s/it]"
     ]
    },
    {
     "name": "stdout",
     "output_type": "stream",
     "text": [
      "tomo_278194 (300, 960, 928) --> (300, 960, 928) torch.uint8\n"
     ]
    },
    {
     "name": "stderr",
     "output_type": "stream",
     "text": [
      " 15%|██▎            | 99/648 [02:43<11:06,  1.21s/it]"
     ]
    },
    {
     "name": "stdout",
     "output_type": "stream",
     "text": [
      "tomo_285454 (300, 956, 924) --> (300, 956, 924) torch.uint8\n"
     ]
    },
    {
     "name": "stderr",
     "output_type": "stream",
     "text": [
      " 15%|██▏           | 100/648 [02:44<11:13,  1.23s/it]"
     ]
    },
    {
     "name": "stdout",
     "output_type": "stream",
     "text": [
      "tomo_285d15 (300, 960, 928) --> (300, 960, 928) torch.uint8\n"
     ]
    },
    {
     "name": "stderr",
     "output_type": "stream",
     "text": [
      " 16%|██▏           | 101/648 [02:46<11:43,  1.29s/it]"
     ]
    },
    {
     "name": "stdout",
     "output_type": "stream",
     "text": [
      "tomo_288d4f (300, 960, 928) --> (300, 960, 928) torch.uint8\n",
      "tomo_28f9c1 (500, 924, 956) --> (500, 924, 956) torch.uint8\n"
     ]
    },
    {
     "name": "stderr",
     "output_type": "stream",
     "text": [
      " 16%|██▏           | 103/648 [02:49<12:29,  1.37s/it]"
     ]
    },
    {
     "name": "stdout",
     "output_type": "stream",
     "text": [
      "tomo_2a6091 (300, 960, 928) --> (300, 960, 928) torch.uint8\n"
     ]
    },
    {
     "name": "stderr",
     "output_type": "stream",
     "text": [
      " 16%|██▏           | 104/648 [02:50<11:29,  1.27s/it]"
     ]
    },
    {
     "name": "stdout",
     "output_type": "stream",
     "text": [
      "tomo_2a6ca2 (300, 960, 928) --> (300, 960, 928) torch.uint8\n",
      "tomo_2a89bb (800, 928, 960) --> (800, 928, 960) torch.uint8\n"
     ]
    },
    {
     "name": "stderr",
     "output_type": "stream",
     "text": [
      " 16%|██▎           | 106/648 [02:54<13:45,  1.52s/it]"
     ]
    },
    {
     "name": "stdout",
     "output_type": "stream",
     "text": [
      "tomo_2acf68 (300, 960, 928) --> (300, 960, 928) torch.uint8\n",
      "tomo_2aeb29 (800, 927, 959) --> (800, 927, 959) torch.uint8\n"
     ]
    },
    {
     "name": "stderr",
     "output_type": "stream",
     "text": [
      " 17%|██▎           | 108/648 [02:57<14:50,  1.65s/it]"
     ]
    },
    {
     "name": "stdout",
     "output_type": "stream",
     "text": [
      "tomo_2b3cdf (300, 960, 928) --> (300, 960, 928) torch.uint8\n"
     ]
    },
    {
     "name": "stderr",
     "output_type": "stream",
     "text": [
      " 17%|██▎           | 109/648 [02:59<13:44,  1.53s/it]"
     ]
    },
    {
     "name": "stdout",
     "output_type": "stream",
     "text": [
      "tomo_2b996c (300, 960, 928) --> (300, 960, 928) torch.uint8\n"
     ]
    },
    {
     "name": "stderr",
     "output_type": "stream",
     "text": [
      " 17%|██▍           | 110/648 [03:00<12:15,  1.37s/it]"
     ]
    },
    {
     "name": "stdout",
     "output_type": "stream",
     "text": [
      "tomo_2bb588 (300, 960, 928) --> (300, 960, 928) torch.uint8\n"
     ]
    },
    {
     "name": "stderr",
     "output_type": "stream",
     "text": [
      " 17%|██▍           | 111/648 [03:01<11:31,  1.29s/it]"
     ]
    },
    {
     "name": "stdout",
     "output_type": "stream",
     "text": [
      "tomo_2c607f (300, 960, 928) --> (300, 960, 928) torch.uint8\n"
     ]
    },
    {
     "name": "stderr",
     "output_type": "stream",
     "text": [
      " 17%|██▍           | 112/648 [03:02<11:07,  1.25s/it]"
     ]
    },
    {
     "name": "stdout",
     "output_type": "stream",
     "text": [
      "tomo_2c8ea2 (300, 959, 928) --> (300, 959, 928) torch.uint8\n"
     ]
    },
    {
     "name": "stderr",
     "output_type": "stream",
     "text": [
      " 17%|██▍           | 113/648 [03:03<10:41,  1.20s/it]"
     ]
    },
    {
     "name": "stdout",
     "output_type": "stream",
     "text": [
      "tomo_2c9da1 (300, 960, 928) --> (300, 960, 928) torch.uint8\n"
     ]
    },
    {
     "name": "stderr",
     "output_type": "stream",
     "text": [
      " 18%|██▍           | 114/648 [03:04<10:21,  1.16s/it]"
     ]
    },
    {
     "name": "stdout",
     "output_type": "stream",
     "text": [
      "tomo_2c9f35 (300, 960, 928) --> (300, 960, 928) torch.uint8\n"
     ]
    },
    {
     "name": "stderr",
     "output_type": "stream",
     "text": [
      " 18%|██▍           | 115/648 [03:05<10:08,  1.14s/it]"
     ]
    },
    {
     "name": "stdout",
     "output_type": "stream",
     "text": [
      "tomo_2cace2 (300, 960, 928) --> (300, 960, 928) torch.uint8\n",
      "tomo_2daaee (500, 924, 956) --> (500, 924, 956) torch.uint8\n"
     ]
    },
    {
     "name": "stderr",
     "output_type": "stream",
     "text": [
      " 18%|██▌           | 117/648 [03:08<11:15,  1.27s/it]"
     ]
    },
    {
     "name": "stdout",
     "output_type": "stream",
     "text": [
      "tomo_2dcd5c (300, 960, 928) --> (300, 960, 928) torch.uint8\n"
     ]
    },
    {
     "name": "stderr",
     "output_type": "stream",
     "text": [
      " 18%|██▌           | 118/648 [03:09<10:29,  1.19s/it]"
     ]
    },
    {
     "name": "stdout",
     "output_type": "stream",
     "text": [
      "tomo_2dd6bd (300, 928, 928) --> (300, 928, 928) torch.uint8\n"
     ]
    },
    {
     "name": "stderr",
     "output_type": "stream",
     "text": [
      " 18%|██▌           | 119/648 [03:10<10:20,  1.17s/it]"
     ]
    },
    {
     "name": "stdout",
     "output_type": "stream",
     "text": [
      "tomo_2e1f4c (300, 959, 928) --> (300, 959, 928) torch.uint8\n"
     ]
    },
    {
     "name": "stderr",
     "output_type": "stream",
     "text": [
      " 19%|██▌           | 120/648 [03:11<09:41,  1.10s/it]"
     ]
    },
    {
     "name": "stdout",
     "output_type": "stream",
     "text": [
      "tomo_2f3261 (300, 960, 928) --> (300, 960, 928) torch.uint8\n",
      "tomo_2fb12d (300, 960, 928) --> (300, 960, 928) torch.uint8\n"
     ]
    },
    {
     "name": "stderr",
     "output_type": "stream",
     "text": [
      " 19%|██▋           | 122/648 [03:13<09:28,  1.08s/it]"
     ]
    },
    {
     "name": "stdout",
     "output_type": "stream",
     "text": [
      "tomo_2fc82d (300, 960, 928) --> (300, 960, 928) torch.uint8\n"
     ]
    },
    {
     "name": "stderr",
     "output_type": "stream",
     "text": [
      " 19%|██▋           | 123/648 [03:14<09:22,  1.07s/it]"
     ]
    },
    {
     "name": "stdout",
     "output_type": "stream",
     "text": [
      "tomo_305c97 (300, 960, 928) --> (300, 960, 928) torch.uint8\n",
      "tomo_307f33 (800, 928, 960) --> (800, 928, 960) torch.uint8\n"
     ]
    },
    {
     "name": "stderr",
     "output_type": "stream",
     "text": [
      " 19%|██▋           | 125/648 [03:18<12:31,  1.44s/it]"
     ]
    },
    {
     "name": "stdout",
     "output_type": "stream",
     "text": [
      "tomo_30b580 (300, 928, 928) --> (300, 928, 928) torch.uint8\n"
     ]
    },
    {
     "name": "stderr",
     "output_type": "stream",
     "text": [
      " 19%|██▋           | 126/648 [03:19<11:32,  1.33s/it]"
     ]
    },
    {
     "name": "stdout",
     "output_type": "stream",
     "text": [
      "tomo_30d4e5 (300, 959, 928) --> (300, 959, 928) torch.uint8\n",
      "tomo_317656 (300, 960, 928) --> (300, 960, 928) torch.uint8\n"
     ]
    },
    {
     "name": "stderr",
     "output_type": "stream",
     "text": [
      " 20%|██▋           | 127/648 [03:20<10:56,  1.26s/it]"
     ]
    },
    {
     "name": "stdout",
     "output_type": "stream",
     "text": [
      "tomo_3183d2 (300, 959, 928) --> (300, 959, 928) torch.uint8\n"
     ]
    },
    {
     "name": "stderr",
     "output_type": "stream",
     "text": [
      " 20%|██▊           | 128/648 [03:22<10:42,  1.24s/it]"
     ]
    },
    {
     "name": "stdout",
     "output_type": "stream",
     "text": [
      "tomo_319f79 (500, 928, 960) --> (500, 928, 960) torch.uint8\n"
     ]
    },
    {
     "name": "stderr",
     "output_type": "stream",
     "text": [
      " 20%|██▊           | 130/648 [03:25<10:59,  1.27s/it]"
     ]
    },
    {
     "name": "stdout",
     "output_type": "stream",
     "text": [
      "tomo_3264bc (300, 928, 928) --> (300, 928, 928) torch.uint8\n"
     ]
    },
    {
     "name": "stderr",
     "output_type": "stream",
     "text": [
      " 20%|██▊           | 131/648 [03:25<10:04,  1.17s/it]"
     ]
    },
    {
     "name": "stdout",
     "output_type": "stream",
     "text": [
      "tomo_32aaa7 (300, 960, 928) --> (300, 960, 928) torch.uint8\n"
     ]
    },
    {
     "name": "stderr",
     "output_type": "stream",
     "text": [
      " 20%|██▊           | 132/648 [03:27<10:01,  1.17s/it]"
     ]
    },
    {
     "name": "stdout",
     "output_type": "stream",
     "text": [
      "tomo_331130 (300, 960, 928) --> (300, 960, 928) torch.uint8\n",
      "tomo_35ec84 (800, 928, 960) --> (800, 928, 960) torch.uint8\n"
     ]
    },
    {
     "name": "stderr",
     "output_type": "stream",
     "text": [
      " 21%|██▉           | 134/648 [03:31<13:32,  1.58s/it]"
     ]
    },
    {
     "name": "stdout",
     "output_type": "stream",
     "text": [
      "tomo_369cce (300, 960, 928) --> (300, 960, 928) torch.uint8\n"
     ]
    },
    {
     "name": "stderr",
     "output_type": "stream",
     "text": [
      " 21%|██▉           | 135/648 [03:32<12:31,  1.46s/it]"
     ]
    },
    {
     "name": "stdout",
     "output_type": "stream",
     "text": [
      "tomo_37076e (300, 960, 928) --> (300, 960, 928) torch.uint8\n",
      "tomo_372690 (800, 928, 960) --> (800, 928, 960) torch.uint8\n"
     ]
    },
    {
     "name": "stderr",
     "output_type": "stream",
     "text": [
      " 21%|██▉           | 137/648 [03:36<13:59,  1.64s/it]"
     ]
    },
    {
     "name": "stdout",
     "output_type": "stream",
     "text": [
      "tomo_372a5c (300, 959, 928) --> (300, 959, 928) torch.uint8\n",
      "tomo_374ca7 (800, 928, 960) --> (800, 928, 960) torch.uint8\n"
     ]
    },
    {
     "name": "stderr",
     "output_type": "stream",
     "text": [
      " 21%|███           | 139/648 [03:40<15:06,  1.78s/it]"
     ]
    },
    {
     "name": "stdout",
     "output_type": "stream",
     "text": [
      "tomo_375513 (300, 960, 928) --> (300, 960, 928) torch.uint8\n",
      "tomo_378f43 (300, 960, 928) --> (300, 960, 928) torch.uint8\n"
     ]
    },
    {
     "name": "stderr",
     "output_type": "stream",
     "text": [
      " 22%|███           | 140/648 [03:41<13:33,  1.60s/it]"
     ]
    },
    {
     "name": "stdout",
     "output_type": "stream",
     "text": [
      "tomo_37c426 (600, 960, 928) --> (600, 960, 928) torch.uint8\n"
     ]
    },
    {
     "name": "stderr",
     "output_type": "stream",
     "text": [
      " 22%|███           | 141/648 [03:48<26:20,  3.12s/it]"
     ]
    },
    {
     "name": "stdout",
     "output_type": "stream",
     "text": [
      "tomo_37dd38 (500, 924, 956) --> (500, 924, 956) torch.uint8\n"
     ]
    },
    {
     "name": "stderr",
     "output_type": "stream",
     "text": [
      " 22%|███           | 142/648 [03:50<23:57,  2.84s/it]"
     ]
    },
    {
     "name": "stdout",
     "output_type": "stream",
     "text": [
      "tomo_381add (500, 924, 956) --> (500, 924, 956) torch.uint8\n"
     ]
    },
    {
     "name": "stderr",
     "output_type": "stream",
     "text": [
      " 22%|███           | 144/648 [03:53<18:14,  2.17s/it]"
     ]
    },
    {
     "name": "stdout",
     "output_type": "stream",
     "text": [
      "tomo_385eb6 (300, 960, 928) --> (300, 960, 928) torch.uint8\n"
     ]
    },
    {
     "name": "stderr",
     "output_type": "stream",
     "text": [
      " 22%|███▏          | 145/648 [03:55<15:38,  1.87s/it]"
     ]
    },
    {
     "name": "stdout",
     "output_type": "stream",
     "text": [
      "tomo_38c2a6 (300, 960, 928) --> (300, 960, 928) torch.uint8\n",
      "tomo_38d285 (800, 928, 960) --> (800, 928, 960) torch.uint8\n"
     ]
    },
    {
     "name": "stderr",
     "output_type": "stream",
     "text": [
      " 23%|███▏          | 147/648 [03:59<15:20,  1.84s/it]"
     ]
    },
    {
     "name": "stdout",
     "output_type": "stream",
     "text": [
      "tomo_399bd9 (300, 928, 928) --> (300, 928, 928) torch.uint8\n",
      "tomo_39b15b (500, 924, 956) --> (500, 924, 956) torch.uint8\n"
     ]
    },
    {
     "name": "stderr",
     "output_type": "stream",
     "text": [
      " 23%|███▏          | 148/648 [04:01<15:27,  1.86s/it]"
     ]
    },
    {
     "name": "stdout",
     "output_type": "stream",
     "text": [
      "tomo_3a0914 (800, 928, 960) --> (800, 928, 960) torch.uint8\n"
     ]
    },
    {
     "name": "stderr",
     "output_type": "stream",
     "text": [
      " 23%|███▏          | 150/648 [04:11<26:38,  3.21s/it]"
     ]
    },
    {
     "name": "stdout",
     "output_type": "stream",
     "text": [
      "tomo_3a3519 (300, 960, 928) --> (300, 960, 928) torch.uint8\n",
      "tomo_3a6a9d (500, 1024, 1440) --> (500, 1024, 1440) torch.uint8\n"
     ]
    },
    {
     "name": "stderr",
     "output_type": "stream",
     "text": [
      " 23%|███▎          | 151/648 [04:13<23:35,  2.85s/it]"
     ]
    },
    {
     "name": "stdout",
     "output_type": "stream",
     "text": [
      "tomo_3a8480 (500, 924, 956) --> (500, 924, 956) torch.uint8\n"
     ]
    },
    {
     "name": "stderr",
     "output_type": "stream",
     "text": [
      " 24%|███▎          | 153/648 [04:16<17:16,  2.09s/it]"
     ]
    },
    {
     "name": "stdout",
     "output_type": "stream",
     "text": [
      "tomo_3b1cc9 (300, 960, 928) --> (300, 960, 928) torch.uint8\n",
      "tomo_3b7a22 (800, 928, 960) --> (800, 928, 960) torch.uint8\n"
     ]
    },
    {
     "name": "stderr",
     "output_type": "stream",
     "text": [
      " 24%|███▎          | 154/648 [04:20<21:21,  2.59s/it]"
     ]
    },
    {
     "name": "stdout",
     "output_type": "stream",
     "text": [
      "tomo_3b8291 (500, 924, 956) --> (500, 924, 956) torch.uint8\n"
     ]
    },
    {
     "name": "stderr",
     "output_type": "stream",
     "text": [
      " 24%|███▎          | 156/648 [04:23<17:32,  2.14s/it]"
     ]
    },
    {
     "name": "stdout",
     "output_type": "stream",
     "text": [
      "tomo_3b83c7 (300, 960, 928) --> (300, 960, 928) torch.uint8\n"
     ]
    },
    {
     "name": "stderr",
     "output_type": "stream",
     "text": [
      " 24%|███▍          | 157/648 [04:25<15:45,  1.93s/it]"
     ]
    },
    {
     "name": "stdout",
     "output_type": "stream",
     "text": [
      "tomo_3c6038 (300, 959, 928) --> (300, 959, 928) torch.uint8\n"
     ]
    },
    {
     "name": "stderr",
     "output_type": "stream",
     "text": [
      " 24%|███▍          | 158/648 [04:26<14:04,  1.72s/it]"
     ]
    },
    {
     "name": "stdout",
     "output_type": "stream",
     "text": [
      "tomo_3e6ead (300, 960, 928) --> (300, 960, 928) torch.uint8\n",
      "tomo_3e7407 (500, 924, 956) --> (500, 924, 956) torch.uint8\n"
     ]
    },
    {
     "name": "stderr",
     "output_type": "stream",
     "text": [
      " 25%|███▍          | 160/648 [04:30<14:25,  1.77s/it]"
     ]
    },
    {
     "name": "stdout",
     "output_type": "stream",
     "text": [
      "tomo_3e7783 (300, 960, 928) --> (300, 960, 928) torch.uint8\n"
     ]
    },
    {
     "name": "stderr",
     "output_type": "stream",
     "text": [
      " 25%|███▍          | 161/648 [04:31<13:41,  1.69s/it]"
     ]
    },
    {
     "name": "stdout",
     "output_type": "stream",
     "text": [
      "tomo_3eb9c8 (300, 960, 928) --> (300, 960, 928) torch.uint8\n",
      "tomo_401341 (300, 960, 928) --> (300, 960, 928) torch.uint8\n"
     ]
    },
    {
     "name": "stderr",
     "output_type": "stream",
     "text": [
      " 25%|███▌          | 162/648 [04:33<13:13,  1.63s/it]"
     ]
    },
    {
     "name": "stdout",
     "output_type": "stream",
     "text": [
      "tomo_4077d8 (300, 928, 928) --> (300, 928, 928) torch.uint8\n"
     ]
    },
    {
     "name": "stderr",
     "output_type": "stream",
     "text": [
      " 25%|███▌          | 163/648 [04:34<12:34,  1.56s/it]"
     ]
    },
    {
     "name": "stdout",
     "output_type": "stream",
     "text": [
      "tomo_40b215 (500, 924, 956) --> (500, 924, 956) torch.uint8\n"
     ]
    },
    {
     "name": "stderr",
     "output_type": "stream",
     "text": [
      " 25%|███▌          | 165/648 [04:38<13:27,  1.67s/it]"
     ]
    },
    {
     "name": "stdout",
     "output_type": "stream",
     "text": [
      "tomo_4102f1 (300, 928, 928) --> (300, 928, 928) torch.uint8\n"
     ]
    },
    {
     "name": "stderr",
     "output_type": "stream",
     "text": [
      " 26%|███▌          | 166/648 [04:40<13:25,  1.67s/it]"
     ]
    },
    {
     "name": "stdout",
     "output_type": "stream",
     "text": [
      "tomo_412d88 (300, 928, 928) --> (300, 928, 928) torch.uint8\n",
      "tomo_417e5f (300, 960, 928) --> (300, 960, 928) torch.uint8\n"
     ]
    },
    {
     "name": "stderr",
     "output_type": "stream",
     "text": [
      " 26%|███▌          | 167/648 [04:41<12:23,  1.55s/it]"
     ]
    },
    {
     "name": "stdout",
     "output_type": "stream",
     "text": [
      "tomo_41ea80 (500, 1024, 1440) --> (500, 1024, 1440) torch.uint8\n"
     ]
    },
    {
     "name": "stderr",
     "output_type": "stream",
     "text": [
      " 26%|███▋          | 169/648 [04:45<14:01,  1.76s/it]"
     ]
    },
    {
     "name": "stdout",
     "output_type": "stream",
     "text": [
      "tomo_423d52 (300, 960, 928) --> (300, 960, 928) torch.uint8\n",
      "tomo_444829 (300, 928, 928) --> (300, 928, 928) torch.uint8\n"
     ]
    },
    {
     "name": "stderr",
     "output_type": "stream",
     "text": [
      " 26%|███▋          | 171/648 [04:48<13:00,  1.64s/it]"
     ]
    },
    {
     "name": "stdout",
     "output_type": "stream",
     "text": [
      "tomo_4469a7 (300, 960, 928) --> (300, 960, 928) torch.uint8\n",
      "tomo_4555b6 (500, 924, 956) --> (500, 924, 956) torch.uint8\n"
     ]
    },
    {
     "name": "stderr",
     "output_type": "stream",
     "text": [
      " 27%|███▋          | 173/648 [04:52<14:06,  1.78s/it]"
     ]
    },
    {
     "name": "stdout",
     "output_type": "stream",
     "text": [
      "tomo_455dcd (300, 960, 928) --> (300, 960, 928) torch.uint8\n"
     ]
    },
    {
     "name": "stderr",
     "output_type": "stream",
     "text": [
      " 27%|███▊          | 174/648 [04:54<13:56,  1.76s/it]"
     ]
    },
    {
     "name": "stdout",
     "output_type": "stream",
     "text": [
      "tomo_46250a (300, 928, 928) --> (300, 928, 928) torch.uint8\n",
      "tomo_464108 (800, 928, 928) --> (800, 928, 928) torch.uint8\n"
     ]
    },
    {
     "name": "stderr",
     "output_type": "stream",
     "text": [
      " 27%|███▊          | 176/648 [05:00<18:01,  2.29s/it]"
     ]
    },
    {
     "name": "stdout",
     "output_type": "stream",
     "text": [
      "tomo_466489 (300, 960, 928) --> (300, 960, 928) torch.uint8\n"
     ]
    },
    {
     "name": "stderr",
     "output_type": "stream",
     "text": [
      " 27%|███▊          | 177/648 [05:01<16:18,  2.08s/it]"
     ]
    },
    {
     "name": "stdout",
     "output_type": "stream",
     "text": [
      "tomo_47ac94 (300, 960, 928) --> (300, 960, 928) torch.uint8\n"
     ]
    },
    {
     "name": "stderr",
     "output_type": "stream",
     "text": [
      " 27%|███▊          | 178/648 [05:03<14:46,  1.89s/it]"
     ]
    },
    {
     "name": "stdout",
     "output_type": "stream",
     "text": [
      "tomo_47c399 (300, 960, 928) --> (300, 960, 928) torch.uint8\n",
      "tomo_47d380 (800, 928, 960) --> (800, 928, 960) torch.uint8\n"
     ]
    },
    {
     "name": "stderr",
     "output_type": "stream",
     "text": [
      " 28%|███▊          | 179/648 [05:07<19:02,  2.44s/it]"
     ]
    },
    {
     "name": "stdout",
     "output_type": "stream",
     "text": [
      "tomo_48dc93 (500, 924, 956) --> (500, 924, 956) torch.uint8\n"
     ]
    },
    {
     "name": "stderr",
     "output_type": "stream",
     "text": [
      " 28%|███▉          | 181/648 [05:10<15:51,  2.04s/it]"
     ]
    },
    {
     "name": "stdout",
     "output_type": "stream",
     "text": [
      "tomo_4925ee (300, 960, 928) --> (300, 960, 928) torch.uint8\n"
     ]
    },
    {
     "name": "stderr",
     "output_type": "stream",
     "text": [
      " 28%|███▉          | 182/648 [05:12<14:26,  1.86s/it]"
     ]
    },
    {
     "name": "stdout",
     "output_type": "stream",
     "text": [
      "tomo_493bea (300, 960, 928) --> (300, 960, 928) torch.uint8\n"
     ]
    },
    {
     "name": "stderr",
     "output_type": "stream",
     "text": [
      " 28%|███▉          | 183/648 [05:13<12:57,  1.67s/it]"
     ]
    },
    {
     "name": "stdout",
     "output_type": "stream",
     "text": [
      "tomo_49725c (300, 959, 928) --> (300, 959, 928) torch.uint8\n"
     ]
    },
    {
     "name": "stderr",
     "output_type": "stream",
     "text": [
      " 28%|███▉          | 184/648 [05:14<11:49,  1.53s/it]"
     ]
    },
    {
     "name": "stdout",
     "output_type": "stream",
     "text": [
      "tomo_499ee0 (300, 960, 928) --> (300, 960, 928) torch.uint8\n"
     ]
    },
    {
     "name": "stderr",
     "output_type": "stream",
     "text": [
      " 29%|███▉          | 185/648 [05:15<10:04,  1.31s/it]"
     ]
    },
    {
     "name": "stdout",
     "output_type": "stream",
     "text": [
      "tomo_49f4ee (300, 928, 928) --> (300, 928, 928) torch.uint8\n"
     ]
    },
    {
     "name": "stderr",
     "output_type": "stream",
     "text": [
      " 29%|████          | 186/648 [05:16<09:45,  1.27s/it]"
     ]
    },
    {
     "name": "stdout",
     "output_type": "stream",
     "text": [
      "tomo_4b124b (300, 960, 928) --> (300, 960, 928) torch.uint8\n"
     ]
    },
    {
     "name": "stderr",
     "output_type": "stream",
     "text": [
      " 29%|████          | 187/648 [05:17<09:48,  1.28s/it]"
     ]
    },
    {
     "name": "stdout",
     "output_type": "stream",
     "text": [
      "tomo_4b59a2 (300, 960, 928) --> (300, 960, 928) torch.uint8\n",
      "tomo_4baff0 (500, 924, 956) --> (500, 924, 956) torch.uint8\n"
     ]
    },
    {
     "name": "stderr",
     "output_type": "stream",
     "text": [
      " 29%|████          | 188/648 [05:19<11:55,  1.55s/it]"
     ]
    },
    {
     "name": "stdout",
     "output_type": "stream",
     "text": [
      "tomo_4c1ca8 (800, 928, 960) --> (800, 928, 960) torch.uint8\n"
     ]
    },
    {
     "name": "stderr",
     "output_type": "stream",
     "text": [
      " 29%|████          | 190/648 [05:24<13:23,  1.75s/it]"
     ]
    },
    {
     "name": "stdout",
     "output_type": "stream",
     "text": [
      "tomo_4c2e4e (300, 960, 928) --> (300, 960, 928) torch.uint8\n",
      "tomo_4d528f (800, 928, 960) --> (800, 928, 960) torch.uint8\n"
     ]
    },
    {
     "name": "stderr",
     "output_type": "stream",
     "text": [
      " 29%|████▏         | 191/648 [05:27<16:07,  2.12s/it]"
     ]
    },
    {
     "name": "stdout",
     "output_type": "stream",
     "text": [
      "tomo_4e1b18 (500, 924, 956) --> (500, 924, 956) torch.uint8\n"
     ]
    },
    {
     "name": "stderr",
     "output_type": "stream",
     "text": [
      " 30%|████▏         | 193/648 [05:30<13:01,  1.72s/it]"
     ]
    },
    {
     "name": "stdout",
     "output_type": "stream",
     "text": [
      "tomo_4e38b8 (300, 959, 928) --> (300, 959, 928) torch.uint8\n",
      "tomo_4e3e37 (800, 928, 960) --> (800, 928, 960) torch.uint8\n"
     ]
    },
    {
     "name": "stderr",
     "output_type": "stream",
     "text": [
      " 30%|████▏         | 194/648 [05:32<15:38,  2.07s/it]"
     ]
    },
    {
     "name": "stdout",
     "output_type": "stream",
     "text": [
      "tomo_4e41c2 (800, 927, 959) --> (800, 927, 959) torch.uint8\n"
     ]
    },
    {
     "name": "stderr",
     "output_type": "stream",
     "text": [
      " 30%|████▏         | 195/648 [05:36<18:25,  2.44s/it]"
     ]
    },
    {
     "name": "stdout",
     "output_type": "stream",
     "text": [
      "tomo_4e478f (300, 959, 928) --> (300, 959, 928) torch.uint8\n"
     ]
    },
    {
     "name": "stderr",
     "output_type": "stream",
     "text": [
      " 30%|████▏         | 196/648 [05:37<15:55,  2.11s/it]"
     ]
    },
    {
     "name": "stdout",
     "output_type": "stream",
     "text": [
      "tomo_4ed9de (300, 960, 928) --> (300, 960, 928) torch.uint8\n"
     ]
    },
    {
     "name": "stderr",
     "output_type": "stream",
     "text": [
      " 31%|████▎         | 198/648 [05:40<12:37,  1.68s/it]"
     ]
    },
    {
     "name": "stdout",
     "output_type": "stream",
     "text": [
      "tomo_4ee35e (300, 959, 928) --> (300, 959, 928) torch.uint8\n",
      "tomo_4f379f (300, 959, 928) --> (300, 959, 928) torch.uint8\n"
     ]
    },
    {
     "name": "stderr",
     "output_type": "stream",
     "text": [
      " 31%|████▎         | 200/648 [05:42<10:46,  1.44s/it]"
     ]
    },
    {
     "name": "stdout",
     "output_type": "stream",
     "text": [
      "tomo_4f5a7b (300, 960, 928) --> (300, 960, 928) torch.uint8\n",
      "tomo_507b7a (500, 928, 960) --> (500, 928, 960) torch.uint8\n"
     ]
    },
    {
     "name": "stderr",
     "output_type": "stream",
     "text": [
      " 31%|████▎         | 201/648 [05:44<12:03,  1.62s/it]"
     ]
    },
    {
     "name": "stdout",
     "output_type": "stream",
     "text": [
      "tomo_50cbd9 (800, 928, 960) --> (800, 928, 960) torch.uint8\n"
     ]
    },
    {
     "name": "stderr",
     "output_type": "stream",
     "text": [
      " 31%|████▎         | 202/648 [05:47<15:38,  2.10s/it]"
     ]
    },
    {
     "name": "stdout",
     "output_type": "stream",
     "text": [
      "tomo_50f0bf (500, 924, 956) --> (500, 924, 956) torch.uint8\n"
     ]
    },
    {
     "name": "stderr",
     "output_type": "stream",
     "text": [
      " 31%|████▍         | 204/648 [05:51<13:12,  1.78s/it]"
     ]
    },
    {
     "name": "stdout",
     "output_type": "stream",
     "text": [
      "tomo_510f4e (300, 928, 928) --> (300, 928, 928) torch.uint8\n",
      "tomo_512f98 (800, 928, 960) --> (800, 928, 960) torch.uint8\n"
     ]
    },
    {
     "name": "stderr",
     "output_type": "stream",
     "text": [
      " 32%|████▍         | 206/648 [05:55<13:34,  1.84s/it]"
     ]
    },
    {
     "name": "stdout",
     "output_type": "stream",
     "text": [
      "tomo_513010 (300, 960, 928) --> (300, 960, 928) torch.uint8\n",
      "tomo_516cdd (300, 959, 928) --> (300, 959, 928) torch.uint8\n"
     ]
    },
    {
     "name": "stderr",
     "output_type": "stream",
     "text": [
      " 32%|████▍         | 208/648 [05:57<10:42,  1.46s/it]"
     ]
    },
    {
     "name": "stdout",
     "output_type": "stream",
     "text": [
      "tomo_517f70 (300, 928, 928) --> (300, 928, 928) torch.uint8\n"
     ]
    },
    {
     "name": "stderr",
     "output_type": "stream",
     "text": [
      " 32%|████▌         | 209/648 [05:58<09:58,  1.36s/it]"
     ]
    },
    {
     "name": "stdout",
     "output_type": "stream",
     "text": [
      "tomo_518a1f (300, 960, 928) --> (300, 960, 928) torch.uint8\n"
     ]
    },
    {
     "name": "stderr",
     "output_type": "stream",
     "text": [
      " 32%|████▌         | 210/648 [05:59<08:37,  1.18s/it]"
     ]
    },
    {
     "name": "stdout",
     "output_type": "stream",
     "text": [
      "tomo_51a47f (300, 960, 928) --> (300, 960, 928) torch.uint8\n",
      "tomo_51a77e (500, 928, 960) --> (500, 928, 960) torch.uint8\n"
     ]
    },
    {
     "name": "stderr",
     "output_type": "stream",
     "text": [
      " 33%|████▌         | 211/648 [06:00<08:46,  1.20s/it]"
     ]
    },
    {
     "name": "stdout",
     "output_type": "stream",
     "text": [
      "tomo_5308e8 (800, 928, 960) --> (800, 928, 960) torch.uint8\n"
     ]
    },
    {
     "name": "stderr",
     "output_type": "stream",
     "text": [
      " 33%|████▌         | 212/648 [06:02<10:53,  1.50s/it]"
     ]
    },
    {
     "name": "stdout",
     "output_type": "stream",
     "text": [
      "tomo_532d49 (300, 960, 928) --> (300, 960, 928) torch.uint8\n"
     ]
    },
    {
     "name": "stderr",
     "output_type": "stream",
     "text": [
      " 33%|████▌         | 213/648 [06:03<09:24,  1.30s/it]"
     ]
    },
    {
     "name": "stdout",
     "output_type": "stream",
     "text": [
      "tomo_539259 (300, 960, 928) --> (300, 960, 928) torch.uint8\n"
     ]
    },
    {
     "name": "stderr",
     "output_type": "stream",
     "text": [
      " 33%|████▌         | 214/648 [06:04<08:24,  1.16s/it]"
     ]
    },
    {
     "name": "stdout",
     "output_type": "stream",
     "text": [
      "tomo_53c71b (800, 928, 960) --> (800, 928, 960) torch.uint8\n"
     ]
    },
    {
     "name": "stderr",
     "output_type": "stream",
     "text": [
      " 33%|████▋         | 216/648 [06:08<10:14,  1.42s/it]"
     ]
    },
    {
     "name": "stdout",
     "output_type": "stream",
     "text": [
      "tomo_53e048 (300, 960, 928) --> (300, 960, 928) torch.uint8\n"
     ]
    },
    {
     "name": "stderr",
     "output_type": "stream",
     "text": [
      " 33%|████▋         | 217/648 [06:08<08:59,  1.25s/it]"
     ]
    },
    {
     "name": "stdout",
     "output_type": "stream",
     "text": [
      "tomo_54e1a7 (300, 928, 928) --> (300, 928, 928) torch.uint8\n"
     ]
    },
    {
     "name": "stderr",
     "output_type": "stream",
     "text": [
      " 34%|████▋         | 218/648 [06:10<09:19,  1.30s/it]"
     ]
    },
    {
     "name": "stdout",
     "output_type": "stream",
     "text": [
      "tomo_556257 (300, 959, 928) --> (300, 959, 928) torch.uint8\n",
      "tomo_568537 (300, 960, 928) --> (300, 960, 928) torch.uint8\n"
     ]
    },
    {
     "name": "stderr",
     "output_type": "stream",
     "text": [
      " 34%|████▋         | 219/648 [06:11<09:13,  1.29s/it]"
     ]
    },
    {
     "name": "stdout",
     "output_type": "stream",
     "text": [
      "tomo_569981 (800, 928, 928) --> (800, 928, 928) torch.uint8\n"
     ]
    },
    {
     "name": "stderr",
     "output_type": "stream",
     "text": [
      " 34%|████▊         | 221/648 [06:16<12:04,  1.70s/it]"
     ]
    },
    {
     "name": "stdout",
     "output_type": "stream",
     "text": [
      "tomo_56b9a3 (300, 928, 928) --> (300, 928, 928) torch.uint8\n"
     ]
    },
    {
     "name": "stderr",
     "output_type": "stream",
     "text": [
      " 34%|████▊         | 222/648 [06:17<10:59,  1.55s/it]"
     ]
    },
    {
     "name": "stdout",
     "output_type": "stream",
     "text": [
      "tomo_57592d (300, 928, 928) --> (300, 928, 928) torch.uint8\n",
      "tomo_5764d6 (500, 928, 960) --> (500, 928, 960) torch.uint8\n"
     ]
    },
    {
     "name": "stderr",
     "output_type": "stream",
     "text": [
      " 35%|████▊         | 224/648 [06:20<10:58,  1.55s/it]"
     ]
    },
    {
     "name": "stdout",
     "output_type": "stream",
     "text": [
      "tomo_57c814 (300, 928, 928) --> (300, 928, 928) torch.uint8\n",
      "tomo_5984bf (800, 928, 960) --> (800, 928, 960) torch.uint8\n"
     ]
    },
    {
     "name": "stderr",
     "output_type": "stream",
     "text": [
      " 35%|████▊         | 225/648 [06:23<14:22,  2.04s/it]"
     ]
    },
    {
     "name": "stdout",
     "output_type": "stream",
     "text": [
      "tomo_59b470 (300, 960, 928) --> (300, 960, 928) torch.uint8\n"
     ]
    },
    {
     "name": "stderr",
     "output_type": "stream",
     "text": [
      " 35%|████▉         | 226/648 [06:25<12:42,  1.81s/it]"
     ]
    },
    {
     "name": "stdout",
     "output_type": "stream",
     "text": [
      "tomo_5b087f (300, 959, 928) --> (300, 959, 928) torch.uint8\n"
     ]
    },
    {
     "name": "stderr",
     "output_type": "stream",
     "text": [
      " 35%|████▉         | 228/648 [06:27<10:07,  1.45s/it]"
     ]
    },
    {
     "name": "stdout",
     "output_type": "stream",
     "text": [
      "tomo_5b34b2 (300, 960, 928) --> (300, 960, 928) torch.uint8\n",
      "tomo_5b359d (800, 928, 960) --> (800, 928, 960) torch.uint8\n"
     ]
    },
    {
     "name": "stderr",
     "output_type": "stream",
     "text": [
      " 35%|████▉         | 229/648 [06:30<13:25,  1.92s/it]"
     ]
    },
    {
     "name": "stdout",
     "output_type": "stream",
     "text": [
      "tomo_5b8db4 (800, 928, 960) --> (800, 928, 960) torch.uint8\n"
     ]
    },
    {
     "name": "stderr",
     "output_type": "stream",
     "text": [
      " 35%|████▉         | 230/648 [06:34<17:09,  2.46s/it]"
     ]
    },
    {
     "name": "stdout",
     "output_type": "stream",
     "text": [
      "tomo_5ba0cf (500, 924, 956) --> (500, 924, 956) torch.uint8\n"
     ]
    },
    {
     "name": "stderr",
     "output_type": "stream",
     "text": [
      " 36%|████▉         | 231/648 [06:36<16:44,  2.41s/it]"
     ]
    },
    {
     "name": "stdout",
     "output_type": "stream",
     "text": [
      "tomo_5bb31c (800, 928, 928) --> (800, 928, 928) torch.uint8\n"
     ]
    },
    {
     "name": "stderr",
     "output_type": "stream",
     "text": [
      " 36%|█████         | 232/648 [06:39<18:42,  2.70s/it]"
     ]
    },
    {
     "name": "stdout",
     "output_type": "stream",
     "text": [
      "tomo_5d01e8 (500, 1024, 1440) --> (500, 1024, 1440) torch.uint8\n"
     ]
    },
    {
     "name": "stderr",
     "output_type": "stream",
     "text": [
      " 36%|█████         | 233/648 [06:42<18:00,  2.60s/it]"
     ]
    },
    {
     "name": "stdout",
     "output_type": "stream",
     "text": [
      "tomo_5d4c65 (500, 928, 960) --> (500, 928, 960) torch.uint8\n"
     ]
    },
    {
     "name": "stderr",
     "output_type": "stream",
     "text": [
      " 36%|█████         | 235/648 [06:46<15:21,  2.23s/it]"
     ]
    },
    {
     "name": "stdout",
     "output_type": "stream",
     "text": [
      "tomo_5d798e (300, 960, 928) --> (300, 960, 928) torch.uint8\n"
     ]
    },
    {
     "name": "stderr",
     "output_type": "stream",
     "text": [
      " 36%|█████         | 236/648 [06:47<14:08,  2.06s/it]"
     ]
    },
    {
     "name": "stdout",
     "output_type": "stream",
     "text": [
      "tomo_5dd63d (300, 960, 928) --> (300, 960, 928) torch.uint8\n",
      "tomo_5e2a91 (300, 960, 928) --> (300, 960, 928) torch.uint8\n"
     ]
    },
    {
     "name": "stderr",
     "output_type": "stream",
     "text": [
      " 37%|█████▏        | 238/648 [06:51<12:42,  1.86s/it]"
     ]
    },
    {
     "name": "stdout",
     "output_type": "stream",
     "text": [
      "tomo_5f1f0c (300, 960, 928) --> (300, 960, 928) torch.uint8\n"
     ]
    },
    {
     "name": "stderr",
     "output_type": "stream",
     "text": [
      " 37%|█████▏        | 239/648 [06:52<11:45,  1.72s/it]"
     ]
    },
    {
     "name": "stdout",
     "output_type": "stream",
     "text": [
      "tomo_5f235a (300, 960, 928) --> (300, 960, 928) torch.uint8\n",
      "tomo_5f34b3 (500, 924, 956) --> (500, 924, 956) torch.uint8\n"
     ]
    },
    {
     "name": "stderr",
     "output_type": "stream",
     "text": [
      " 37%|█████▏        | 241/648 [06:57<13:41,  2.02s/it]"
     ]
    },
    {
     "name": "stdout",
     "output_type": "stream",
     "text": [
      "tomo_603e40 (300, 960, 928) --> (300, 960, 928) torch.uint8\n"
     ]
    },
    {
     "name": "stderr",
     "output_type": "stream",
     "text": [
      " 37%|█████▏        | 242/648 [06:58<12:22,  1.83s/it]"
     ]
    },
    {
     "name": "stdout",
     "output_type": "stream",
     "text": [
      "tomo_60d478 (300, 928, 928) --> (300, 928, 928) torch.uint8\n"
     ]
    },
    {
     "name": "stderr",
     "output_type": "stream",
     "text": [
      " 38%|█████▎        | 243/648 [07:00<11:31,  1.71s/it]"
     ]
    },
    {
     "name": "stdout",
     "output_type": "stream",
     "text": [
      "tomo_60ddbd (300, 960, 928) --> (300, 960, 928) torch.uint8\n",
      "tomo_616f0b (300, 959, 928) --> (300, 959, 928) torch.uint8\n"
     ]
    },
    {
     "name": "stderr",
     "output_type": "stream",
     "text": [
      " 38%|█████▎        | 244/648 [07:01<11:14,  1.67s/it]"
     ]
    },
    {
     "name": "stdout",
     "output_type": "stream",
     "text": [
      "tomo_61e947 (800, 928, 960) --> (800, 928, 960) torch.uint8\n"
     ]
    },
    {
     "name": "stderr",
     "output_type": "stream",
     "text": [
      " 38%|█████▎        | 246/648 [07:06<13:32,  2.02s/it]"
     ]
    },
    {
     "name": "stdout",
     "output_type": "stream",
     "text": [
      "tomo_622ca9 (300, 928, 928) --> (300, 928, 928) torch.uint8\n"
     ]
    },
    {
     "name": "stderr",
     "output_type": "stream",
     "text": [
      " 38%|█████▎        | 247/648 [07:08<11:51,  1.78s/it]"
     ]
    },
    {
     "name": "stdout",
     "output_type": "stream",
     "text": [
      "tomo_62dbea (300, 960, 928) --> (300, 960, 928) torch.uint8\n",
      "tomo_62eea8 (300, 960, 928) --> (300, 960, 928) torch.uint8\n"
     ]
    },
    {
     "name": "stderr",
     "output_type": "stream",
     "text": [
      " 38%|█████▎        | 248/648 [07:09<10:57,  1.64s/it]"
     ]
    },
    {
     "name": "stdout",
     "output_type": "stream",
     "text": [
      "tomo_6303f0 (300, 960, 928) --> (300, 960, 928) torch.uint8\n"
     ]
    },
    {
     "name": "stderr",
     "output_type": "stream",
     "text": [
      " 38%|█████▍        | 249/648 [07:10<10:01,  1.51s/it]"
     ]
    },
    {
     "name": "stdout",
     "output_type": "stream",
     "text": [
      "tomo_634b06 (500, 928, 960) --> (500, 928, 960) torch.uint8\n"
     ]
    },
    {
     "name": "stderr",
     "output_type": "stream",
     "text": [
      " 39%|█████▍        | 250/648 [07:12<11:15,  1.70s/it]"
     ]
    },
    {
     "name": "stdout",
     "output_type": "stream",
     "text": [
      "tomo_63e635 (800, 928, 960) --> (800, 928, 960) torch.uint8\n"
     ]
    },
    {
     "name": "stderr",
     "output_type": "stream",
     "text": [
      " 39%|█████▍        | 251/648 [07:16<14:49,  2.24s/it]"
     ]
    },
    {
     "name": "stdout",
     "output_type": "stream",
     "text": [
      "tomo_640a74 (300, 960, 928) --> (300, 960, 928) torch.uint8\n"
     ]
    },
    {
     "name": "stderr",
     "output_type": "stream",
     "text": [
      " 39%|█████▍        | 253/648 [07:18<10:54,  1.66s/it]"
     ]
    },
    {
     "name": "stdout",
     "output_type": "stream",
     "text": [
      "tomo_643b20 (300, 960, 928) --> (300, 960, 928) torch.uint8\n",
      "tomo_646049 (300, 960, 928) --> (300, 960, 928) torch.uint8\n"
     ]
    },
    {
     "name": "stderr",
     "output_type": "stream",
     "text": [
      " 39%|█████▌        | 255/648 [07:20<09:11,  1.40s/it]"
     ]
    },
    {
     "name": "stdout",
     "output_type": "stream",
     "text": [
      "tomo_6478e5 (300, 960, 928) --> (300, 960, 928) torch.uint8\n",
      "tomo_648adf (400, 960, 928) --> (400, 960, 928) torch.uint8\n"
     ]
    },
    {
     "name": "stderr",
     "output_type": "stream",
     "text": [
      " 40%|█████▌        | 256/648 [07:22<09:31,  1.46s/it]"
     ]
    },
    {
     "name": "stdout",
     "output_type": "stream",
     "text": [
      "tomo_651ec2 (500, 924, 956) --> (500, 924, 956) torch.uint8\n"
     ]
    },
    {
     "name": "stderr",
     "output_type": "stream",
     "text": [
      " 40%|█████▌        | 258/648 [07:25<09:17,  1.43s/it]"
     ]
    },
    {
     "name": "stdout",
     "output_type": "stream",
     "text": [
      "tomo_651ecd (300, 960, 928) --> (300, 960, 928) torch.uint8\n"
     ]
    },
    {
     "name": "stderr",
     "output_type": "stream",
     "text": [
      " 40%|█████▌        | 259/648 [07:26<08:35,  1.32s/it]"
     ]
    },
    {
     "name": "stdout",
     "output_type": "stream",
     "text": [
      "tomo_6521dc (300, 960, 928) --> (300, 960, 928) torch.uint8\n",
      "tomo_656915 (500, 924, 956) --> (500, 924, 956) torch.uint8\n"
     ]
    },
    {
     "name": "stderr",
     "output_type": "stream",
     "text": [
      " 40%|█████▋        | 261/648 [07:29<08:29,  1.32s/it]"
     ]
    },
    {
     "name": "stdout",
     "output_type": "stream",
     "text": [
      "tomo_6607ec (300, 960, 928) --> (300, 960, 928) torch.uint8\n"
     ]
    },
    {
     "name": "stderr",
     "output_type": "stream",
     "text": [
      " 40%|█████▋        | 262/648 [07:30<07:34,  1.18s/it]"
     ]
    },
    {
     "name": "stdout",
     "output_type": "stream",
     "text": [
      "tomo_66285d (300, 928, 928) --> (300, 928, 928) torch.uint8\n"
     ]
    },
    {
     "name": "stderr",
     "output_type": "stream",
     "text": [
      " 41%|█████▋        | 263/648 [07:31<07:11,  1.12s/it]"
     ]
    },
    {
     "name": "stdout",
     "output_type": "stream",
     "text": [
      "tomo_672101 (300, 960, 928) --> (300, 960, 928) torch.uint8\n"
     ]
    },
    {
     "name": "stderr",
     "output_type": "stream",
     "text": [
      " 41%|█████▋        | 264/648 [07:32<06:59,  1.09s/it]"
     ]
    },
    {
     "name": "stdout",
     "output_type": "stream",
     "text": [
      "tomo_6733fa (300, 960, 928) --> (300, 960, 928) torch.uint8\n"
     ]
    },
    {
     "name": "stderr",
     "output_type": "stream",
     "text": [
      " 41%|█████▋        | 265/648 [07:33<07:04,  1.11s/it]"
     ]
    },
    {
     "name": "stdout",
     "output_type": "stream",
     "text": [
      "tomo_675583 (300, 960, 928) --> (300, 960, 928) torch.uint8\n"
     ]
    },
    {
     "name": "stderr",
     "output_type": "stream",
     "text": [
      " 41%|█████▋        | 266/648 [07:34<07:07,  1.12s/it]"
     ]
    },
    {
     "name": "stdout",
     "output_type": "stream",
     "text": [
      "tomo_67565e (300, 959, 928) --> (300, 959, 928) torch.uint8\n"
     ]
    },
    {
     "name": "stderr",
     "output_type": "stream",
     "text": [
      " 41%|█████▊        | 267/648 [07:35<07:00,  1.10s/it]"
     ]
    },
    {
     "name": "stdout",
     "output_type": "stream",
     "text": [
      "tomo_676744 (300, 960, 928) --> (300, 960, 928) torch.uint8\n"
     ]
    },
    {
     "name": "stderr",
     "output_type": "stream",
     "text": [
      " 41%|█████▊        | 268/648 [07:36<07:09,  1.13s/it]"
     ]
    },
    {
     "name": "stdout",
     "output_type": "stream",
     "text": [
      "tomo_67717e (300, 959, 928) --> (300, 959, 928) torch.uint8\n",
      "tomo_67ff4e (800, 928, 960) --> (800, 928, 960) torch.uint8\n"
     ]
    },
    {
     "name": "stderr",
     "output_type": "stream",
     "text": [
      " 42%|█████▊        | 270/648 [07:41<10:30,  1.67s/it]"
     ]
    },
    {
     "name": "stdout",
     "output_type": "stream",
     "text": [
      "tomo_68e123 (300, 928, 928) --> (300, 928, 928) torch.uint8\n",
      "tomo_692081 (800, 928, 960) --> (800, 928, 960) torch.uint8\n"
     ]
    },
    {
     "name": "stderr",
     "output_type": "stream",
     "text": [
      " 42%|█████▊        | 271/648 [07:44<13:48,  2.20s/it]"
     ]
    },
    {
     "name": "stdout",
     "output_type": "stream",
     "text": [
      "tomo_6943e6 (300, 960, 928) --> (300, 960, 928) torch.uint8\n"
     ]
    },
    {
     "name": "stderr",
     "output_type": "stream",
     "text": [
      " 42%|█████▉        | 273/648 [07:47<11:13,  1.80s/it]"
     ]
    },
    {
     "name": "stdout",
     "output_type": "stream",
     "text": [
      "tomo_69d7c9 (300, 960, 928) --> (300, 960, 928) torch.uint8\n",
      "tomo_6a6a3b (800, 928, 960) --> (800, 928, 960) torch.uint8\n"
     ]
    },
    {
     "name": "stderr",
     "output_type": "stream",
     "text": [
      " 42%|█████▉        | 274/648 [07:51<15:07,  2.43s/it]"
     ]
    },
    {
     "name": "stdout",
     "output_type": "stream",
     "text": [
      "tomo_6a84b7 (800, 928, 960) --> (800, 928, 960) torch.uint8\n"
     ]
    },
    {
     "name": "stderr",
     "output_type": "stream",
     "text": [
      " 43%|█████▉        | 276/648 [07:58<17:13,  2.78s/it]"
     ]
    },
    {
     "name": "stdout",
     "output_type": "stream",
     "text": [
      "tomo_6acb9e (300, 960, 928) --> (300, 960, 928) torch.uint8\n",
      "tomo_6b1fd3 (500, 924, 956) --> (500, 924, 956) torch.uint8\n"
     ]
    },
    {
     "name": "stderr",
     "output_type": "stream",
     "text": [
      " 43%|█████▉        | 277/648 [08:01<17:45,  2.87s/it]"
     ]
    },
    {
     "name": "stdout",
     "output_type": "stream",
     "text": [
      "tomo_6bb452 (800, 928, 960) --> (800, 928, 960) torch.uint8\n"
     ]
    },
    {
     "name": "stderr",
     "output_type": "stream",
     "text": [
      " 43%|██████        | 279/648 [08:07<16:45,  2.73s/it]"
     ]
    },
    {
     "name": "stdout",
     "output_type": "stream",
     "text": [
      "tomo_6bc974 (300, 928, 928) --> (300, 928, 928) torch.uint8\n"
     ]
    },
    {
     "name": "stderr",
     "output_type": "stream",
     "text": [
      " 43%|██████        | 280/648 [08:08<14:06,  2.30s/it]"
     ]
    },
    {
     "name": "stdout",
     "output_type": "stream",
     "text": [
      "tomo_6c203d (300, 960, 928) --> (300, 960, 928) torch.uint8\n",
      "tomo_6c4df3 (500, 924, 956) --> (500, 924, 956) torch.uint8\n"
     ]
    },
    {
     "name": "stderr",
     "output_type": "stream",
     "text": [
      " 44%|██████        | 282/648 [08:13<13:59,  2.29s/it]"
     ]
    },
    {
     "name": "stdout",
     "output_type": "stream",
     "text": [
      "tomo_6c5a26 (300, 960, 928) --> (300, 960, 928) torch.uint8\n",
      "tomo_6cb0f0 (300, 960, 928) --> (300, 960, 928) torch.uint8\n"
     ]
    },
    {
     "name": "stderr",
     "output_type": "stream",
     "text": [
      " 44%|██████        | 283/648 [08:14<12:52,  2.12s/it]"
     ]
    },
    {
     "name": "stdout",
     "output_type": "stream",
     "text": [
      "tomo_6cf2df (500, 928, 960) --> (500, 928, 960) torch.uint8\n"
     ]
    },
    {
     "name": "stderr",
     "output_type": "stream",
     "text": [
      " 44%|██████▏       | 284/648 [08:17<14:19,  2.36s/it]"
     ]
    },
    {
     "name": "stdout",
     "output_type": "stream",
     "text": [
      "tomo_6d22d1 (300, 960, 928) --> (300, 960, 928) torch.uint8\n"
     ]
    },
    {
     "name": "stderr",
     "output_type": "stream",
     "text": [
      " 44%|██████▏       | 286/648 [08:20<11:53,  1.97s/it]"
     ]
    },
    {
     "name": "stdout",
     "output_type": "stream",
     "text": [
      "tomo_6df2d6 (300, 960, 928) --> (300, 960, 928) torch.uint8\n",
      "tomo_6e196d (500, 1024, 1440) --> (500, 1024, 1440) torch.uint8\n"
     ]
    },
    {
     "name": "stderr",
     "output_type": "stream",
     "text": [
      " 44%|██████▏       | 288/648 [08:25<12:11,  2.03s/it]"
     ]
    },
    {
     "name": "stdout",
     "output_type": "stream",
     "text": [
      "tomo_6e237a (300, 959, 928) --> (300, 959, 928) torch.uint8\n"
     ]
    },
    {
     "name": "stderr",
     "output_type": "stream",
     "text": [
      " 45%|██████▏       | 289/648 [08:26<11:03,  1.85s/it]"
     ]
    },
    {
     "name": "stdout",
     "output_type": "stream",
     "text": [
      "tomo_6f0ee4 (300, 959, 928) --> (300, 959, 928) torch.uint8\n"
     ]
    },
    {
     "name": "stderr",
     "output_type": "stream",
     "text": [
      " 45%|██████▎       | 290/648 [08:27<09:19,  1.56s/it]"
     ]
    },
    {
     "name": "stdout",
     "output_type": "stream",
     "text": [
      "tomo_6f2c1f (300, 960, 928) --> (300, 960, 928) torch.uint8\n",
      "tomo_6f83d4 (300, 960, 928) --> (300, 960, 928) torch.uint8\n"
     ]
    },
    {
     "name": "stderr",
     "output_type": "stream",
     "text": [
      " 45%|██████▎       | 292/648 [08:29<06:52,  1.16s/it]"
     ]
    },
    {
     "name": "stdout",
     "output_type": "stream",
     "text": [
      "tomo_7036ee (300, 960, 928) --> (300, 960, 928) torch.uint8\n",
      "tomo_711fad (500, 924, 956) --> (500, 924, 956) torch.uint8\n"
     ]
    },
    {
     "name": "stderr",
     "output_type": "stream",
     "text": [
      " 45%|██████▎       | 293/648 [08:30<07:03,  1.19s/it]"
     ]
    },
    {
     "name": "stdout",
     "output_type": "stream",
     "text": [
      "tomo_71d2c0 (800, 928, 928) --> (800, 928, 928) torch.uint8\n"
     ]
    },
    {
     "name": "stderr",
     "output_type": "stream",
     "text": [
      " 46%|██████▎       | 295/648 [08:33<07:34,  1.29s/it]"
     ]
    },
    {
     "name": "stdout",
     "output_type": "stream",
     "text": [
      "tomo_71ece1 (300, 928, 928) --> (300, 928, 928) torch.uint8\n"
     ]
    },
    {
     "name": "stderr",
     "output_type": "stream",
     "text": [
      " 46%|██████▍       | 296/648 [08:34<07:32,  1.29s/it]"
     ]
    },
    {
     "name": "stdout",
     "output_type": "stream",
     "text": [
      "tomo_72763e (300, 959, 928) --> (300, 959, 928) torch.uint8\n"
     ]
    },
    {
     "name": "stderr",
     "output_type": "stream",
     "text": [
      " 46%|██████▍       | 297/648 [08:36<07:53,  1.35s/it]"
     ]
    },
    {
     "name": "stdout",
     "output_type": "stream",
     "text": [
      "tomo_72b187 (300, 960, 928) --> (300, 960, 928) torch.uint8\n"
     ]
    },
    {
     "name": "stderr",
     "output_type": "stream",
     "text": [
      " 46%|██████▍       | 298/648 [08:37<07:32,  1.29s/it]"
     ]
    },
    {
     "name": "stdout",
     "output_type": "stream",
     "text": [
      "tomo_73173f (300, 928, 928) --> (300, 928, 928) torch.uint8\n",
      "tomo_736dfa (800, 927, 959) --> (800, 927, 959) torch.uint8\n"
     ]
    },
    {
     "name": "stderr",
     "output_type": "stream",
     "text": [
      " 46%|██████▍       | 300/648 [08:42<10:54,  1.88s/it]"
     ]
    },
    {
     "name": "stdout",
     "output_type": "stream",
     "text": [
      "tomo_738500 (300, 960, 928) --> (300, 960, 928) torch.uint8\n",
      "tomo_746d88 (800, 928, 928) --> (800, 928, 928) torch.uint8\n"
     ]
    },
    {
     "name": "stderr",
     "output_type": "stream",
     "text": [
      " 46%|██████▌       | 301/648 [08:46<14:05,  2.44s/it]"
     ]
    },
    {
     "name": "stdout",
     "output_type": "stream",
     "text": [
      "tomo_754447 (500, 924, 956) --> (500, 924, 956) torch.uint8\n"
     ]
    },
    {
     "name": "stderr",
     "output_type": "stream",
     "text": [
      " 47%|██████▌       | 303/648 [08:49<11:52,  2.07s/it]"
     ]
    },
    {
     "name": "stdout",
     "output_type": "stream",
     "text": [
      "tomo_7550f4 (300, 960, 928) --> (300, 960, 928) torch.uint8\n",
      "tomo_769126 (300, 960, 928) --> (300, 960, 928) torch.uint8\n"
     ]
    },
    {
     "name": "stderr",
     "output_type": "stream",
     "text": [
      " 47%|██████▌       | 304/648 [08:51<10:05,  1.76s/it]"
     ]
    },
    {
     "name": "stdout",
     "output_type": "stream",
     "text": [
      "tomo_76a42b (300, 960, 928) --> (300, 960, 928) torch.uint8\n"
     ]
    },
    {
     "name": "stderr",
     "output_type": "stream",
     "text": [
      " 47%|██████▌       | 305/648 [08:52<09:13,  1.61s/it]"
     ]
    },
    {
     "name": "stdout",
     "output_type": "stream",
     "text": [
      "tomo_774aae (800, 928, 960) --> (800, 928, 960) torch.uint8\n"
     ]
    },
    {
     "name": "stderr",
     "output_type": "stream",
     "text": [
      " 47%|██████▌       | 306/648 [08:56<13:23,  2.35s/it]"
     ]
    },
    {
     "name": "stdout",
     "output_type": "stream",
     "text": [
      "tomo_78b03d (300, 960, 928) --> (300, 960, 928) torch.uint8\n"
     ]
    },
    {
     "name": "stderr",
     "output_type": "stream",
     "text": [
      " 47%|██████▋       | 307/648 [08:57<11:17,  1.99s/it]"
     ]
    },
    {
     "name": "stdout",
     "output_type": "stream",
     "text": [
      "tomo_79756f (300, 959, 928) --> (300, 959, 928) torch.uint8\n"
     ]
    },
    {
     "name": "stderr",
     "output_type": "stream",
     "text": [
      " 48%|██████▋       | 309/648 [09:00<09:13,  1.63s/it]"
     ]
    },
    {
     "name": "stdout",
     "output_type": "stream",
     "text": [
      "tomo_79a385 (300, 960, 928) --> (300, 960, 928) torch.uint8\n"
     ]
    },
    {
     "name": "stderr",
     "output_type": "stream",
     "text": [
      " 48%|██████▋       | 310/648 [09:01<08:32,  1.52s/it]"
     ]
    },
    {
     "name": "stdout",
     "output_type": "stream",
     "text": [
      "tomo_79d622 (300, 928, 928) --> (300, 928, 928) torch.uint8\n",
      "tomo_7a49bd (500, 1024, 1440) --> (500, 1024, 1440) torch.uint8\n"
     ]
    },
    {
     "name": "stderr",
     "output_type": "stream",
     "text": [
      " 48%|██████▋       | 312/648 [09:05<09:45,  1.74s/it]"
     ]
    },
    {
     "name": "stdout",
     "output_type": "stream",
     "text": [
      "tomo_7a9b64 (300, 960, 928) --> (300, 960, 928) torch.uint8\n"
     ]
    },
    {
     "name": "stderr",
     "output_type": "stream",
     "text": [
      " 48%|██████▊       | 313/648 [09:06<08:51,  1.59s/it]"
     ]
    },
    {
     "name": "stdout",
     "output_type": "stream",
     "text": [
      "tomo_7b1ee3 (300, 960, 928) --> (300, 960, 928) torch.uint8\n"
     ]
    },
    {
     "name": "stderr",
     "output_type": "stream",
     "text": [
      " 48%|██████▊       | 314/648 [09:08<08:46,  1.58s/it]"
     ]
    },
    {
     "name": "stdout",
     "output_type": "stream",
     "text": [
      "tomo_7ca7c0 (300, 928, 928) --> (300, 928, 928) torch.uint8\n"
     ]
    },
    {
     "name": "stderr",
     "output_type": "stream",
     "text": [
      " 49%|██████▊       | 315/648 [09:09<08:28,  1.53s/it]"
     ]
    },
    {
     "name": "stdout",
     "output_type": "stream",
     "text": [
      "tomo_7cf523 (300, 960, 928) --> (300, 960, 928) torch.uint8\n",
      "tomo_7dc063 (800, 928, 960) --> (800, 928, 960) torch.uint8\n"
     ]
    },
    {
     "name": "stderr",
     "output_type": "stream",
     "text": [
      " 49%|██████▊       | 316/648 [09:13<12:42,  2.30s/it]"
     ]
    },
    {
     "name": "stdout",
     "output_type": "stream",
     "text": [
      "tomo_7dcfb8 (300, 960, 928) --> (300, 960, 928) torch.uint8\n"
     ]
    },
    {
     "name": "stderr",
     "output_type": "stream",
     "text": [
      " 49%|██████▊       | 317/648 [09:15<11:09,  2.02s/it]"
     ]
    },
    {
     "name": "stdout",
     "output_type": "stream",
     "text": [
      "tomo_7e3494 (800, 928, 960) --> (800, 928, 960) torch.uint8\n"
     ]
    },
    {
     "name": "stderr",
     "output_type": "stream",
     "text": [
      " 49%|██████▉       | 319/648 [09:20<12:36,  2.30s/it]"
     ]
    },
    {
     "name": "stdout",
     "output_type": "stream",
     "text": [
      "tomo_7eb641 (300, 960, 928) --> (300, 960, 928) torch.uint8\n",
      "tomo_7f0184 (300, 960, 928) --> (300, 960, 928) torch.uint8\n"
     ]
    },
    {
     "name": "stderr",
     "output_type": "stream",
     "text": [
      " 49%|██████▉       | 320/648 [09:21<10:23,  1.90s/it]"
     ]
    },
    {
     "name": "stdout",
     "output_type": "stream",
     "text": [
      "tomo_7fa3b1 (300, 960, 928) --> (300, 960, 928) torch.uint8\n"
     ]
    },
    {
     "name": "stderr",
     "output_type": "stream",
     "text": [
      " 50%|██████▉       | 321/648 [09:22<09:01,  1.66s/it]"
     ]
    },
    {
     "name": "stdout",
     "output_type": "stream",
     "text": [
      "tomo_7fbc49 (300, 960, 928) --> (300, 960, 928) torch.uint8\n"
     ]
    },
    {
     "name": "stderr",
     "output_type": "stream",
     "text": [
      " 50%|██████▉       | 322/648 [09:24<08:34,  1.58s/it]"
     ]
    },
    {
     "name": "stdout",
     "output_type": "stream",
     "text": [
      "tomo_806a8f (300, 960, 928) --> (300, 960, 928) torch.uint8\n"
     ]
    },
    {
     "name": "stderr",
     "output_type": "stream",
     "text": [
      " 50%|██████▉       | 323/648 [09:25<08:06,  1.50s/it]"
     ]
    },
    {
     "name": "stdout",
     "output_type": "stream",
     "text": [
      "tomo_80bf0f (500, 960, 928) --> (500, 960, 928) torch.uint8\n"
     ]
    },
    {
     "name": "stderr",
     "output_type": "stream",
     "text": [
      " 50%|███████       | 324/648 [09:28<10:12,  1.89s/it]"
     ]
    },
    {
     "name": "stdout",
     "output_type": "stream",
     "text": [
      "tomo_813916 (800, 928, 960) --> (800, 928, 960) torch.uint8\n"
     ]
    },
    {
     "name": "stderr",
     "output_type": "stream",
     "text": [
      " 50%|███████       | 326/648 [09:33<11:24,  2.13s/it]"
     ]
    },
    {
     "name": "stdout",
     "output_type": "stream",
     "text": [
      "tomo_81445c (300, 960, 928) --> (300, 960, 928) torch.uint8\n",
      "tomo_8174f5 (500, 1024, 1440) --> (500, 1024, 1440) torch.uint8\n"
     ]
    },
    {
     "name": "stderr",
     "output_type": "stream",
     "text": [
      " 51%|███████       | 328/648 [09:37<10:28,  1.96s/it]"
     ]
    },
    {
     "name": "stdout",
     "output_type": "stream",
     "text": [
      "tomo_821255 (300, 960, 928) --> (300, 960, 928) torch.uint8\n"
     ]
    },
    {
     "name": "stderr",
     "output_type": "stream",
     "text": [
      " 51%|███████       | 329/648 [09:38<09:47,  1.84s/it]"
     ]
    },
    {
     "name": "stdout",
     "output_type": "stream",
     "text": [
      "tomo_823bc7 (300, 960, 928) --> (300, 960, 928) torch.uint8\n"
     ]
    },
    {
     "name": "stderr",
     "output_type": "stream",
     "text": [
      " 51%|███████▏      | 330/648 [09:40<08:50,  1.67s/it]"
     ]
    },
    {
     "name": "stdout",
     "output_type": "stream",
     "text": [
      "tomo_82d780 (300, 960, 928) --> (300, 960, 928) torch.uint8\n",
      "tomo_8351d1 (500, 1024, 1440) --> (500, 1024, 1440) torch.uint8\n"
     ]
    },
    {
     "name": "stderr",
     "output_type": "stream",
     "text": [
      " 51%|███████▏      | 332/648 [09:45<10:27,  1.99s/it]"
     ]
    },
    {
     "name": "stdout",
     "output_type": "stream",
     "text": [
      "tomo_84997e (300, 959, 928) --> (300, 959, 928) torch.uint8\n"
     ]
    },
    {
     "name": "stderr",
     "output_type": "stream",
     "text": [
      " 51%|███████▏      | 333/648 [09:46<09:36,  1.83s/it]"
     ]
    },
    {
     "name": "stdout",
     "output_type": "stream",
     "text": [
      "tomo_8554af (300, 960, 928) --> (300, 960, 928) torch.uint8\n",
      "tomo_85708b (800, 928, 960) --> (800, 928, 960) torch.uint8\n"
     ]
    },
    {
     "name": "stderr",
     "output_type": "stream",
     "text": [
      " 52%|███████▏      | 335/648 [09:52<12:01,  2.31s/it]"
     ]
    },
    {
     "name": "stdout",
     "output_type": "stream",
     "text": [
      "tomo_85edfd (300, 960, 928) --> (300, 960, 928) torch.uint8\n",
      "tomo_85fa87 (300, 959, 928) --> (300, 959, 928) torch.uint8\n"
     ]
    },
    {
     "name": "stderr",
     "output_type": "stream",
     "text": [
      " 52%|███████▎      | 336/648 [09:53<10:29,  2.02s/it]"
     ]
    },
    {
     "name": "stdout",
     "output_type": "stream",
     "text": [
      "tomo_8634ee (800, 928, 960) --> (800, 928, 960) torch.uint8\n"
     ]
    },
    {
     "name": "stderr",
     "output_type": "stream",
     "text": [
      " 52%|███████▎      | 338/648 [09:56<08:24,  1.63s/it]"
     ]
    },
    {
     "name": "stdout",
     "output_type": "stream",
     "text": [
      "tomo_868255 (300, 960, 928) --> (300, 960, 928) torch.uint8\n"
     ]
    },
    {
     "name": "stderr",
     "output_type": "stream",
     "text": [
      " 52%|███████▎      | 339/648 [09:57<07:24,  1.44s/it]"
     ]
    },
    {
     "name": "stdout",
     "output_type": "stream",
     "text": [
      "tomo_881d84 (300, 960, 928) --> (300, 960, 928) torch.uint8\n",
      "tomo_88af60 (500, 1024, 1440) --> (500, 1024, 1440) torch.uint8\n"
     ]
    },
    {
     "name": "stderr",
     "output_type": "stream",
     "text": [
      " 53%|███████▎      | 341/648 [10:02<09:38,  1.88s/it]"
     ]
    },
    {
     "name": "stdout",
     "output_type": "stream",
     "text": [
      "tomo_891730 (300, 960, 928) --> (300, 960, 928) torch.uint8\n",
      "tomo_891afe (300, 960, 928) --> (300, 960, 928) torch.uint8\n"
     ]
    },
    {
     "name": "stderr",
     "output_type": "stream",
     "text": [
      " 53%|███████▍      | 342/648 [10:03<08:45,  1.72s/it]"
     ]
    },
    {
     "name": "stdout",
     "output_type": "stream",
     "text": [
      "tomo_89d156 (300, 928, 928) --> (300, 928, 928) torch.uint8\n"
     ]
    },
    {
     "name": "stderr",
     "output_type": "stream",
     "text": [
      " 53%|███████▍      | 343/648 [10:04<08:04,  1.59s/it]"
     ]
    },
    {
     "name": "stdout",
     "output_type": "stream",
     "text": [
      "tomo_8acc4b (500, 1024, 1440) --> (500, 1024, 1440) torch.uint8\n"
     ]
    },
    {
     "name": "stderr",
     "output_type": "stream",
     "text": [
      " 53%|███████▍      | 345/648 [10:09<09:47,  1.94s/it]"
     ]
    },
    {
     "name": "stdout",
     "output_type": "stream",
     "text": [
      "tomo_8b6795 (300, 960, 928) --> (300, 960, 928) torch.uint8\n",
      "tomo_8c13d9 (300, 928, 928) --> (300, 928, 928) torch.uint8\n"
     ]
    },
    {
     "name": "stderr",
     "output_type": "stream",
     "text": [
      " 53%|███████▍      | 346/648 [10:11<08:49,  1.75s/it]"
     ]
    },
    {
     "name": "stdout",
     "output_type": "stream",
     "text": [
      "tomo_8d231b (300, 960, 928) --> (300, 960, 928) torch.uint8\n"
     ]
    },
    {
     "name": "stderr",
     "output_type": "stream",
     "text": [
      " 54%|███████▍      | 347/648 [10:13<08:58,  1.79s/it]"
     ]
    },
    {
     "name": "stdout",
     "output_type": "stream",
     "text": [
      "tomo_8d2d48 (300, 924, 956) --> (300, 924, 956) torch.uint8\n"
     ]
    },
    {
     "name": "stderr",
     "output_type": "stream",
     "text": [
      " 54%|███████▌      | 348/648 [10:14<08:40,  1.74s/it]"
     ]
    },
    {
     "name": "stdout",
     "output_type": "stream",
     "text": [
      "tomo_8d5995 (300, 960, 928) --> (300, 960, 928) torch.uint8\n"
     ]
    },
    {
     "name": "stderr",
     "output_type": "stream",
     "text": [
      " 54%|███████▌      | 350/648 [10:18<08:30,  1.71s/it]"
     ]
    },
    {
     "name": "stdout",
     "output_type": "stream",
     "text": [
      "tomo_8e30f5 (300, 960, 928) --> (300, 960, 928) torch.uint8\n"
     ]
    },
    {
     "name": "stderr",
     "output_type": "stream",
     "text": [
      " 54%|███████▌      | 351/648 [10:19<08:00,  1.62s/it]"
     ]
    },
    {
     "name": "stdout",
     "output_type": "stream",
     "text": [
      "tomo_8e4919 (300, 960, 928) --> (300, 960, 928) torch.uint8\n",
      "tomo_8e4f7d (300, 960, 928) --> (300, 960, 928) torch.uint8\n"
     ]
    },
    {
     "name": "stderr",
     "output_type": "stream",
     "text": [
      " 54%|███████▌      | 352/648 [10:21<08:15,  1.67s/it]"
     ]
    },
    {
     "name": "stdout",
     "output_type": "stream",
     "text": [
      "tomo_8e58f1 (300, 960, 928) --> (300, 960, 928) torch.uint8\n"
     ]
    },
    {
     "name": "stderr",
     "output_type": "stream",
     "text": [
      " 54%|███████▋      | 353/648 [10:22<07:56,  1.62s/it]"
     ]
    },
    {
     "name": "stdout",
     "output_type": "stream",
     "text": [
      "tomo_8e8368 (300, 959, 928) --> (300, 959, 928) torch.uint8\n"
     ]
    },
    {
     "name": "stderr",
     "output_type": "stream",
     "text": [
      " 55%|███████▋      | 354/648 [10:24<07:33,  1.54s/it]"
     ]
    },
    {
     "name": "stdout",
     "output_type": "stream",
     "text": [
      "tomo_8e90f9 (300, 960, 928) --> (300, 960, 928) torch.uint8\n"
     ]
    },
    {
     "name": "stderr",
     "output_type": "stream",
     "text": [
      " 55%|███████▋      | 355/648 [10:25<07:47,  1.59s/it]"
     ]
    },
    {
     "name": "stdout",
     "output_type": "stream",
     "text": [
      "tomo_8ee8fd (300, 960, 928) --> (300, 960, 928) torch.uint8\n"
     ]
    },
    {
     "name": "stderr",
     "output_type": "stream",
     "text": [
      " 55%|███████▋      | 356/648 [10:27<07:58,  1.64s/it]"
     ]
    },
    {
     "name": "stdout",
     "output_type": "stream",
     "text": [
      "tomo_8f063a (300, 960, 928) --> (300, 960, 928) torch.uint8\n"
     ]
    },
    {
     "name": "stderr",
     "output_type": "stream",
     "text": [
      " 55%|███████▋      | 357/648 [10:28<07:17,  1.50s/it]"
     ]
    },
    {
     "name": "stdout",
     "output_type": "stream",
     "text": [
      "tomo_8f4d60 (300, 960, 928) --> (300, 960, 928) torch.uint8\n"
     ]
    },
    {
     "name": "stderr",
     "output_type": "stream",
     "text": [
      " 55%|███████▋      | 358/648 [10:30<07:05,  1.47s/it]"
     ]
    },
    {
     "name": "stdout",
     "output_type": "stream",
     "text": [
      "tomo_8f5995 (300, 960, 928) --> (300, 960, 928) torch.uint8\n"
     ]
    },
    {
     "name": "stderr",
     "output_type": "stream",
     "text": [
      " 56%|███████▊      | 360/648 [10:32<06:15,  1.30s/it]"
     ]
    },
    {
     "name": "stdout",
     "output_type": "stream",
     "text": [
      "tomo_91031e (300, 960, 928) --> (300, 960, 928) torch.uint8\n"
     ]
    },
    {
     "name": "stderr",
     "output_type": "stream",
     "text": [
      " 56%|███████▊      | 361/648 [10:33<06:07,  1.28s/it]"
     ]
    },
    {
     "name": "stdout",
     "output_type": "stream",
     "text": [
      "tomo_918e2b (300, 960, 928) --> (300, 960, 928) torch.uint8\n",
      "tomo_91beab (500, 924, 956) --> (500, 924, 956) torch.uint8\n"
     ]
    },
    {
     "name": "stderr",
     "output_type": "stream",
     "text": [
      " 56%|███████▊      | 363/648 [10:37<07:18,  1.54s/it]"
     ]
    },
    {
     "name": "stdout",
     "output_type": "stream",
     "text": [
      "tomo_91c84c (300, 960, 928) --> (300, 960, 928) torch.uint8\n"
     ]
    },
    {
     "name": "stderr",
     "output_type": "stream",
     "text": [
      " 56%|███████▊      | 364/648 [10:38<07:14,  1.53s/it]"
     ]
    },
    {
     "name": "stdout",
     "output_type": "stream",
     "text": [
      "tomo_935ae0 (300, 960, 928) --> (300, 960, 928) torch.uint8\n"
     ]
    },
    {
     "name": "stderr",
     "output_type": "stream",
     "text": [
      " 56%|███████▉      | 365/648 [10:40<06:40,  1.42s/it]"
     ]
    },
    {
     "name": "stdout",
     "output_type": "stream",
     "text": [
      "tomo_935f8a (300, 960, 928) --> (300, 960, 928) torch.uint8\n"
     ]
    },
    {
     "name": "stderr",
     "output_type": "stream",
     "text": [
      " 56%|███████▉      | 366/648 [10:40<05:58,  1.27s/it]"
     ]
    },
    {
     "name": "stdout",
     "output_type": "stream",
     "text": [
      "tomo_93c0b4 (300, 960, 928) --> (300, 960, 928) torch.uint8\n",
      "tomo_94a841 (300, 960, 928) --> (300, 960, 928) torch.uint8\n"
     ]
    },
    {
     "name": "stderr",
     "output_type": "stream",
     "text": [
      " 57%|███████▉      | 368/648 [10:43<05:44,  1.23s/it]"
     ]
    },
    {
     "name": "stdout",
     "output_type": "stream",
     "text": [
      "tomo_94c173 (300, 960, 928) --> (300, 960, 928) torch.uint8\n"
     ]
    },
    {
     "name": "stderr",
     "output_type": "stream",
     "text": [
      " 57%|███████▉      | 369/648 [10:44<06:03,  1.30s/it]"
     ]
    },
    {
     "name": "stdout",
     "output_type": "stream",
     "text": [
      "tomo_957567 (300, 960, 928) --> (300, 960, 928) torch.uint8\n",
      "tomo_95c0eb (800, 927, 959) --> (800, 927, 959) torch.uint8\n"
     ]
    },
    {
     "name": "stderr",
     "output_type": "stream",
     "text": [
      " 57%|████████      | 371/648 [10:49<08:11,  1.77s/it]"
     ]
    },
    {
     "name": "stdout",
     "output_type": "stream",
     "text": [
      "tomo_95e699 (300, 960, 928) --> (300, 960, 928) torch.uint8\n"
     ]
    },
    {
     "name": "stderr",
     "output_type": "stream",
     "text": [
      " 57%|████████      | 372/648 [10:50<07:13,  1.57s/it]"
     ]
    },
    {
     "name": "stdout",
     "output_type": "stream",
     "text": [
      "tomo_9674bf (300, 960, 928) --> (300, 960, 928) torch.uint8\n",
      "tomo_971966 (500, 924, 956) --> (500, 924, 956) torch.uint8\n"
     ]
    },
    {
     "name": "stderr",
     "output_type": "stream",
     "text": [
      " 58%|████████      | 373/648 [10:52<07:50,  1.71s/it]"
     ]
    },
    {
     "name": "stdout",
     "output_type": "stream",
     "text": [
      "tomo_9722d1 (500, 924, 956) --> (500, 924, 956) torch.uint8\n"
     ]
    },
    {
     "name": "stderr",
     "output_type": "stream",
     "text": [
      " 58%|████████      | 375/648 [10:56<07:29,  1.65s/it]"
     ]
    },
    {
     "name": "stdout",
     "output_type": "stream",
     "text": [
      "tomo_974fd4 (300, 928, 928) --> (300, 928, 928) torch.uint8\n",
      "tomo_975287 (500, 924, 956) --> (500, 924, 956) torch.uint8\n"
     ]
    },
    {
     "name": "stderr",
     "output_type": "stream",
     "text": [
      " 58%|████████      | 376/648 [10:58<07:56,  1.75s/it]"
     ]
    },
    {
     "name": "stdout",
     "output_type": "stream",
     "text": [
      "tomo_97876d (800, 928, 960) --> (800, 928, 960) torch.uint8\n"
     ]
    },
    {
     "name": "stderr",
     "output_type": "stream",
     "text": [
      " 58%|████████▏     | 378/648 [11:02<08:53,  1.97s/it]"
     ]
    },
    {
     "name": "stdout",
     "output_type": "stream",
     "text": [
      "tomo_97a2c6 (300, 959, 928) --> (300, 959, 928) torch.uint8\n",
      "tomo_983fce (500, 928, 960) --> (500, 928, 960) torch.uint8\n"
     ]
    },
    {
     "name": "stderr",
     "output_type": "stream",
     "text": [
      " 58%|████████▏     | 379/648 [11:05<09:01,  2.01s/it]"
     ]
    },
    {
     "name": "stdout",
     "output_type": "stream",
     "text": [
      "tomo_98686a (300, 960, 928) --> (300, 960, 928) torch.uint8\n"
     ]
    },
    {
     "name": "stderr",
     "output_type": "stream",
     "text": [
      " 59%|████████▏     | 381/648 [11:06<06:36,  1.49s/it]"
     ]
    },
    {
     "name": "stdout",
     "output_type": "stream",
     "text": [
      "tomo_98d455 (300, 959, 928) --> (300, 959, 928) torch.uint8\n",
      "tomo_997240 (500, 924, 956) --> (500, 924, 956) torch.uint8\n"
     ]
    },
    {
     "name": "stderr",
     "output_type": "stream",
     "text": [
      " 59%|████████▎     | 383/648 [11:09<06:28,  1.47s/it]"
     ]
    },
    {
     "name": "stdout",
     "output_type": "stream",
     "text": [
      "tomo_997437 (300, 959, 928) --> (300, 959, 928) torch.uint8\n"
     ]
    },
    {
     "name": "stderr",
     "output_type": "stream",
     "text": [
      " 59%|████████▎     | 384/648 [11:10<05:37,  1.28s/it]"
     ]
    },
    {
     "name": "stdout",
     "output_type": "stream",
     "text": [
      "tomo_9986f0 (300, 960, 928) --> (300, 960, 928) torch.uint8\n",
      "tomo_9997b3 (300, 960, 928) --> (300, 960, 928) torch.uint8\n"
     ]
    },
    {
     "name": "stderr",
     "output_type": "stream",
     "text": [
      " 60%|████████▎     | 386/648 [11:12<04:43,  1.08s/it]"
     ]
    },
    {
     "name": "stdout",
     "output_type": "stream",
     "text": [
      "tomo_99a3ce (300, 960, 928) --> (300, 960, 928) torch.uint8\n",
      "tomo_9a7701 (500, 924, 956) --> (500, 924, 956) torch.uint8\n"
     ]
    },
    {
     "name": "stderr",
     "output_type": "stream",
     "text": [
      " 60%|████████▎     | 387/648 [11:14<05:44,  1.32s/it]"
     ]
    },
    {
     "name": "stdout",
     "output_type": "stream",
     "text": [
      "tomo_9ae65f (500, 924, 956) --> (500, 924, 956) torch.uint8\n"
     ]
    },
    {
     "name": "stderr",
     "output_type": "stream",
     "text": [
      " 60%|████████▍     | 388/648 [11:16<07:05,  1.63s/it]"
     ]
    },
    {
     "name": "stdout",
     "output_type": "stream",
     "text": [
      "tomo_9aee96 (800, 928, 960) --> (800, 928, 960) torch.uint8\n"
     ]
    },
    {
     "name": "stderr",
     "output_type": "stream",
     "text": [
      " 60%|████████▍     | 390/648 [11:21<08:26,  1.96s/it]"
     ]
    },
    {
     "name": "stdout",
     "output_type": "stream",
     "text": [
      "tomo_9c0253 (300, 960, 928) --> (300, 960, 928) torch.uint8\n",
      "tomo_9cd09e (300, 960, 928) --> (300, 960, 928) torch.uint8\n"
     ]
    },
    {
     "name": "stderr",
     "output_type": "stream",
     "text": [
      " 60%|████████▍     | 391/648 [11:22<07:19,  1.71s/it]"
     ]
    },
    {
     "name": "stdout",
     "output_type": "stream",
     "text": [
      "tomo_9cde9d (600, 928, 928) --> (600, 928, 928) torch.uint8\n"
     ]
    },
    {
     "name": "stderr",
     "output_type": "stream",
     "text": [
      " 60%|████████▍     | 392/648 [11:25<08:42,  2.04s/it]"
     ]
    },
    {
     "name": "stdout",
     "output_type": "stream",
     "text": [
      "tomo_9d3a0e (300, 960, 928) --> (300, 960, 928) torch.uint8\n"
     ]
    },
    {
     "name": "stderr",
     "output_type": "stream",
     "text": [
      " 61%|████████▍     | 393/648 [11:27<07:49,  1.84s/it]"
     ]
    },
    {
     "name": "stdout",
     "output_type": "stream",
     "text": [
      "tomo_9dbc12 (500, 924, 956) --> (500, 924, 956) torch.uint8\n"
     ]
    },
    {
     "name": "stderr",
     "output_type": "stream",
     "text": [
      " 61%|████████▌     | 395/648 [11:30<07:31,  1.79s/it]"
     ]
    },
    {
     "name": "stdout",
     "output_type": "stream",
     "text": [
      "tomo_9ed470 (300, 959, 928) --> (300, 959, 928) torch.uint8\n"
     ]
    },
    {
     "name": "stderr",
     "output_type": "stream",
     "text": [
      " 61%|████████▌     | 396/648 [11:31<06:42,  1.60s/it]"
     ]
    },
    {
     "name": "stdout",
     "output_type": "stream",
     "text": [
      "tomo_9f1828 (300, 959, 928) --> (300, 959, 928) torch.uint8\n",
      "tomo_9f222a (300, 960, 928) --> (300, 960, 928) torch.uint8\n"
     ]
    },
    {
     "name": "stderr",
     "output_type": "stream",
     "text": [
      " 61%|████████▌     | 397/648 [11:32<05:59,  1.43s/it]"
     ]
    },
    {
     "name": "stdout",
     "output_type": "stream",
     "text": [
      "tomo_9f424e (800, 928, 928) --> (800, 928, 928) torch.uint8\n"
     ]
    },
    {
     "name": "stderr",
     "output_type": "stream",
     "text": [
      " 61%|████████▌     | 398/648 [11:35<08:06,  1.95s/it]"
     ]
    },
    {
     "name": "stdout",
     "output_type": "stream",
     "text": [
      "tomo_9f918e (800, 928, 960) --> (800, 928, 960) torch.uint8\n"
     ]
    },
    {
     "name": "stderr",
     "output_type": "stream",
     "text": [
      " 62%|████████▋     | 400/648 [11:43<10:56,  2.65s/it]"
     ]
    },
    {
     "name": "stdout",
     "output_type": "stream",
     "text": [
      "tomo_9fc2b6 (300, 960, 928) --> (300, 960, 928) torch.uint8\n"
     ]
    },
    {
     "name": "stderr",
     "output_type": "stream",
     "text": [
      " 62%|████████▋     | 401/648 [11:44<08:54,  2.16s/it]"
     ]
    },
    {
     "name": "stdout",
     "output_type": "stream",
     "text": [
      "tomo_a020d7 (300, 928, 928) --> (300, 928, 928) torch.uint8\n"
     ]
    },
    {
     "name": "stderr",
     "output_type": "stream",
     "text": [
      " 62%|████████▋     | 402/648 [11:45<07:27,  1.82s/it]"
     ]
    },
    {
     "name": "stdout",
     "output_type": "stream",
     "text": [
      "tomo_a0cb00 (300, 960, 928) --> (300, 960, 928) torch.uint8\n"
     ]
    },
    {
     "name": "stderr",
     "output_type": "stream",
     "text": [
      " 62%|████████▋     | 403/648 [11:46<06:29,  1.59s/it]"
     ]
    },
    {
     "name": "stdout",
     "output_type": "stream",
     "text": [
      "tomo_a1a9a3 (300, 960, 928) --> (300, 960, 928) torch.uint8\n"
     ]
    },
    {
     "name": "stderr",
     "output_type": "stream",
     "text": [
      " 62%|████████▋     | 404/648 [11:47<05:59,  1.47s/it]"
     ]
    },
    {
     "name": "stdout",
     "output_type": "stream",
     "text": [
      "tomo_a2a928 (300, 960, 928) --> (300, 960, 928) torch.uint8\n",
      "tomo_a2bf30 (300, 960, 928) --> (300, 960, 928) torch.uint8\n"
     ]
    },
    {
     "name": "stderr",
     "output_type": "stream",
     "text": [
      " 62%|████████▊     | 405/648 [11:49<06:20,  1.56s/it]"
     ]
    },
    {
     "name": "stdout",
     "output_type": "stream",
     "text": [
      "tomo_a37a5c (300, 959, 928) --> (300, 959, 928) torch.uint8\n"
     ]
    },
    {
     "name": "stderr",
     "output_type": "stream",
     "text": [
      " 63%|████████▊     | 406/648 [11:51<06:39,  1.65s/it]"
     ]
    },
    {
     "name": "stdout",
     "output_type": "stream",
     "text": [
      "tomo_a3ed10 (800, 928, 960) --> (800, 928, 960) torch.uint8\n"
     ]
    },
    {
     "name": "stderr",
     "output_type": "stream",
     "text": [
      " 63%|████████▊     | 408/648 [11:57<08:48,  2.20s/it]"
     ]
    },
    {
     "name": "stdout",
     "output_type": "stream",
     "text": [
      "tomo_a46b26 (300, 960, 928) --> (300, 960, 928) torch.uint8\n"
     ]
    },
    {
     "name": "stderr",
     "output_type": "stream",
     "text": [
      " 63%|████████▊     | 409/648 [11:59<08:22,  2.10s/it]"
     ]
    },
    {
     "name": "stdout",
     "output_type": "stream",
     "text": [
      "tomo_a4c52f (300, 960, 928) --> (300, 960, 928) torch.uint8\n",
      "tomo_a4f419 (800, 928, 960) --> (800, 928, 960) torch.uint8\n"
     ]
    },
    {
     "name": "stderr",
     "output_type": "stream",
     "text": [
      " 63%|████████▉     | 411/648 [12:06<10:10,  2.57s/it]"
     ]
    },
    {
     "name": "stdout",
     "output_type": "stream",
     "text": [
      "tomo_a537dd (300, 960, 928) --> (300, 960, 928) torch.uint8\n"
     ]
    },
    {
     "name": "stderr",
     "output_type": "stream",
     "text": [
      " 64%|████████▉     | 412/648 [12:08<09:26,  2.40s/it]"
     ]
    },
    {
     "name": "stdout",
     "output_type": "stream",
     "text": [
      "tomo_a549d6 (300, 960, 928) --> (300, 960, 928) torch.uint8\n",
      "tomo_a5ac23 (300, 959, 928) --> (300, 959, 928) torch.uint8\n"
     ]
    },
    {
     "name": "stderr",
     "output_type": "stream",
     "text": [
      " 64%|████████▉     | 413/648 [12:09<08:35,  2.19s/it]"
     ]
    },
    {
     "name": "stdout",
     "output_type": "stream",
     "text": [
      "tomo_a6646f (800, 928, 960) --> (800, 928, 960) torch.uint8\n"
     ]
    },
    {
     "name": "stderr",
     "output_type": "stream",
     "text": [
      " 64%|████████▉     | 414/648 [12:14<11:19,  2.90s/it]"
     ]
    },
    {
     "name": "stdout",
     "output_type": "stream",
     "text": [
      "tomo_a67e9f (500, 924, 956) --> (500, 924, 956) torch.uint8\n"
     ]
    },
    {
     "name": "stderr",
     "output_type": "stream",
     "text": [
      " 64%|████████▉     | 415/648 [12:17<11:06,  2.86s/it]"
     ]
    },
    {
     "name": "stdout",
     "output_type": "stream",
     "text": [
      "tomo_a72a52 (800, 928, 960) --> (800, 928, 960) torch.uint8\n"
     ]
    },
    {
     "name": "stderr",
     "output_type": "stream",
     "text": [
      " 64%|█████████     | 417/648 [12:22<10:00,  2.60s/it]"
     ]
    },
    {
     "name": "stdout",
     "output_type": "stream",
     "text": [
      "tomo_a75c98 (300, 960, 928) --> (300, 960, 928) torch.uint8\n",
      "tomo_a8073d (500, 928, 960) --> (500, 928, 960) torch.uint8\n"
     ]
    },
    {
     "name": "stderr",
     "output_type": "stream",
     "text": [
      " 65%|█████████     | 418/648 [12:24<09:14,  2.41s/it]"
     ]
    },
    {
     "name": "stdout",
     "output_type": "stream",
     "text": [
      "tomo_a81e01 (300, 959, 928) --> (300, 959, 928) torch.uint8\n"
     ]
    },
    {
     "name": "stderr",
     "output_type": "stream",
     "text": [
      " 65%|█████████     | 420/648 [12:26<06:32,  1.72s/it]"
     ]
    },
    {
     "name": "stdout",
     "output_type": "stream",
     "text": [
      "tomo_a84050 (300, 928, 928) --> (300, 928, 928) torch.uint8\n",
      "tomo_a8bf76 (300, 960, 928) --> (300, 960, 928) torch.uint8\n"
     ]
    },
    {
     "name": "stderr",
     "output_type": "stream",
     "text": [
      " 65%|█████████     | 421/648 [12:27<05:26,  1.44s/it]"
     ]
    },
    {
     "name": "stdout",
     "output_type": "stream",
     "text": [
      "tomo_a910fe (300, 960, 928) --> (300, 960, 928) torch.uint8\n"
     ]
    },
    {
     "name": "stderr",
     "output_type": "stream",
     "text": [
      " 65%|█████████     | 422/648 [12:28<04:39,  1.24s/it]"
     ]
    },
    {
     "name": "stdout",
     "output_type": "stream",
     "text": [
      "tomo_a9d067 (500, 924, 956) --> (500, 924, 956) torch.uint8\n"
     ]
    },
    {
     "name": "stderr",
     "output_type": "stream",
     "text": [
      " 65%|█████████▏    | 424/648 [12:31<05:16,  1.41s/it]"
     ]
    },
    {
     "name": "stdout",
     "output_type": "stream",
     "text": [
      "tomo_aaa1fd (300, 960, 928) --> (300, 960, 928) torch.uint8\n",
      "tomo_ab30af (500, 1024, 1440) --> (500, 1024, 1440) torch.uint8\n"
     ]
    },
    {
     "name": "stderr",
     "output_type": "stream",
     "text": [
      " 66%|█████████▏    | 425/648 [12:34<06:41,  1.80s/it]"
     ]
    },
    {
     "name": "stdout",
     "output_type": "stream",
     "text": [
      "tomo_ab78d0 (800, 928, 960) --> (800, 928, 960) torch.uint8\n"
     ]
    },
    {
     "name": "stderr",
     "output_type": "stream",
     "text": [
      " 66%|█████████▏    | 426/648 [12:38<09:34,  2.59s/it]"
     ]
    },
    {
     "name": "stdout",
     "output_type": "stream",
     "text": [
      "tomo_ab804d (800, 928, 960) --> (800, 928, 960) torch.uint8\n"
     ]
    },
    {
     "name": "stderr",
     "output_type": "stream",
     "text": [
      " 66%|█████████▏    | 428/648 [12:44<09:32,  2.60s/it]"
     ]
    },
    {
     "name": "stdout",
     "output_type": "stream",
     "text": [
      "tomo_abac2e (300, 959, 928) --> (300, 959, 928) torch.uint8\n"
     ]
    },
    {
     "name": "stderr",
     "output_type": "stream",
     "text": [
      " 66%|█████████▎    | 429/648 [12:45<08:06,  2.22s/it]"
     ]
    },
    {
     "name": "stdout",
     "output_type": "stream",
     "text": [
      "tomo_abb45a (300, 960, 928) --> (300, 960, 928) torch.uint8\n",
      "tomo_abbd3b (800, 928, 928) --> (800, 928, 928) torch.uint8\n"
     ]
    },
    {
     "name": "stderr",
     "output_type": "stream",
     "text": [
      " 66%|█████████▎    | 430/648 [12:49<09:44,  2.68s/it]"
     ]
    },
    {
     "name": "stdout",
     "output_type": "stream",
     "text": [
      "tomo_ac4f0d (800, 928, 960) --> (800, 928, 960) torch.uint8\n"
     ]
    },
    {
     "name": "stderr",
     "output_type": "stream",
     "text": [
      " 67%|█████████▎    | 431/648 [12:54<12:15,  3.39s/it]"
     ]
    },
    {
     "name": "stdout",
     "output_type": "stream",
     "text": [
      "tomo_ac9fef (500, 924, 956) --> (500, 924, 956) torch.uint8\n"
     ]
    },
    {
     "name": "stderr",
     "output_type": "stream",
     "text": [
      " 67%|█████████▎    | 433/648 [12:58<08:57,  2.50s/it]"
     ]
    },
    {
     "name": "stdout",
     "output_type": "stream",
     "text": [
      "tomo_acadd7 (300, 960, 928) --> (300, 960, 928) torch.uint8\n"
     ]
    },
    {
     "name": "stderr",
     "output_type": "stream",
     "text": [
      " 67%|█████████▍    | 434/648 [12:59<07:35,  2.13s/it]"
     ]
    },
    {
     "name": "stdout",
     "output_type": "stream",
     "text": [
      "tomo_adc026 (300, 959, 928) --> (300, 959, 928) torch.uint8\n",
      "tomo_ae347a (500, 924, 956) --> (500, 924, 956) torch.uint8\n"
     ]
    },
    {
     "name": "stderr",
     "output_type": "stream",
     "text": [
      " 67%|█████████▍    | 435/648 [13:01<07:26,  2.09s/it]"
     ]
    },
    {
     "name": "stdout",
     "output_type": "stream",
     "text": [
      "tomo_aeaf51 (500, 1024, 1440) --> (500, 1024, 1440) torch.uint8\n"
     ]
    },
    {
     "name": "stderr",
     "output_type": "stream",
     "text": [
      " 67%|█████████▍    | 436/648 [13:03<07:42,  2.18s/it]"
     ]
    },
    {
     "name": "stdout",
     "output_type": "stream",
     "text": [
      "tomo_aec312 (500, 924, 956) --> (500, 924, 956) torch.uint8\n"
     ]
    },
    {
     "name": "stderr",
     "output_type": "stream",
     "text": [
      " 67%|█████████▍    | 437/648 [13:06<08:04,  2.30s/it]"
     ]
    },
    {
     "name": "stdout",
     "output_type": "stream",
     "text": [
      "tomo_aff073 (500, 924, 956) --> (500, 924, 956) torch.uint8\n"
     ]
    },
    {
     "name": "stderr",
     "output_type": "stream",
     "text": [
      " 68%|█████████▍    | 439/648 [13:10<07:36,  2.19s/it]"
     ]
    },
    {
     "name": "stdout",
     "output_type": "stream",
     "text": [
      "tomo_b03f81 (300, 960, 928) --> (300, 960, 928) torch.uint8\n",
      "tomo_b0ded6 (500, 924, 956) --> (500, 924, 956) torch.uint8\n"
     ]
    },
    {
     "name": "stderr",
     "output_type": "stream",
     "text": [
      " 68%|█████████▌    | 440/648 [13:13<08:14,  2.38s/it]"
     ]
    },
    {
     "name": "stdout",
     "output_type": "stream",
     "text": [
      "tomo_b0e5c6 (300, 928, 928) --> (300, 928, 928) torch.uint8\n"
     ]
    },
    {
     "name": "stderr",
     "output_type": "stream",
     "text": [
      " 68%|█████████▌    | 441/648 [13:15<07:28,  2.17s/it]"
     ]
    },
    {
     "name": "stdout",
     "output_type": "stream",
     "text": [
      "tomo_b10aa4 (300, 960, 928) --> (300, 960, 928) torch.uint8\n"
     ]
    },
    {
     "name": "stderr",
     "output_type": "stream",
     "text": [
      " 68%|█████████▌    | 442/648 [13:16<06:41,  1.95s/it]"
     ]
    },
    {
     "name": "stdout",
     "output_type": "stream",
     "text": [
      "tomo_b11ddc (300, 960, 928) --> (300, 960, 928) torch.uint8\n"
     ]
    },
    {
     "name": "stderr",
     "output_type": "stream",
     "text": [
      " 68%|█████████▌    | 443/648 [13:18<06:15,  1.83s/it]"
     ]
    },
    {
     "name": "stdout",
     "output_type": "stream",
     "text": [
      "tomo_b18127 (500, 924, 956) --> (500, 924, 956) torch.uint8\n"
     ]
    },
    {
     "name": "stderr",
     "output_type": "stream",
     "text": [
      " 69%|█████████▌    | 445/648 [13:22<06:15,  1.85s/it]"
     ]
    },
    {
     "name": "stdout",
     "output_type": "stream",
     "text": [
      "tomo_b24f1a (300, 960, 928) --> (300, 960, 928) torch.uint8\n",
      "tomo_b28579 (800, 927, 959) --> (800, 927, 959) torch.uint8\n"
     ]
    },
    {
     "name": "stderr",
     "output_type": "stream",
     "text": [
      " 69%|█████████▋    | 447/648 [13:26<06:44,  2.01s/it]"
     ]
    },
    {
     "name": "stdout",
     "output_type": "stream",
     "text": [
      "tomo_b2b342 (300, 960, 928) --> (300, 960, 928) torch.uint8\n",
      "tomo_b2eb0c (500, 1024, 1440) --> (500, 1024, 1440) torch.uint8\n"
     ]
    },
    {
     "name": "stderr",
     "output_type": "stream",
     "text": [
      " 69%|█████████▋    | 449/648 [13:31<06:35,  1.99s/it]"
     ]
    },
    {
     "name": "stdout",
     "output_type": "stream",
     "text": [
      "tomo_b2ebbc (300, 960, 928) --> (300, 960, 928) torch.uint8\n",
      "tomo_b33d4e (500, 928, 960) --> (500, 928, 960) torch.uint8\n"
     ]
    },
    {
     "name": "stderr",
     "output_type": "stream",
     "text": [
      " 69%|█████████▋    | 450/648 [13:33<06:52,  2.08s/it]"
     ]
    },
    {
     "name": "stdout",
     "output_type": "stream",
     "text": [
      "tomo_b4a1f0 (500, 924, 956) --> (500, 924, 956) torch.uint8\n"
     ]
    },
    {
     "name": "stderr",
     "output_type": "stream",
     "text": [
      " 70%|█████████▋    | 451/648 [13:36<07:19,  2.23s/it]"
     ]
    },
    {
     "name": "stdout",
     "output_type": "stream",
     "text": [
      "tomo_b4d92b (300, 960, 928) --> (300, 960, 928) torch.uint8\n"
     ]
    },
    {
     "name": "stderr",
     "output_type": "stream",
     "text": [
      " 70%|█████████▊    | 452/648 [13:37<06:30,  1.99s/it]"
     ]
    },
    {
     "name": "stdout",
     "output_type": "stream",
     "text": [
      "tomo_b4d9da (800, 928, 960) --> (800, 928, 960) torch.uint8\n"
     ]
    },
    {
     "name": "stderr",
     "output_type": "stream",
     "text": [
      " 70%|█████████▊    | 453/648 [13:40<07:56,  2.44s/it]"
     ]
    },
    {
     "name": "stdout",
     "output_type": "stream",
     "text": [
      "tomo_b50c0f (300, 928, 928) --> (300, 928, 928) torch.uint8\n"
     ]
    },
    {
     "name": "stderr",
     "output_type": "stream",
     "text": [
      " 70%|█████████▊    | 455/648 [13:43<05:53,  1.83s/it]"
     ]
    },
    {
     "name": "stdout",
     "output_type": "stream",
     "text": [
      "tomo_b54396 (300, 960, 928) --> (300, 960, 928) torch.uint8\n",
      "tomo_b7becf (800, 927, 959) --> (800, 927, 959) torch.uint8\n"
     ]
    },
    {
     "name": "stderr",
     "output_type": "stream",
     "text": [
      " 70%|█████████▊    | 456/648 [13:46<07:05,  2.21s/it]"
     ]
    },
    {
     "name": "stdout",
     "output_type": "stream",
     "text": [
      "tomo_b7d014 (500, 928, 960) --> (500, 928, 960) torch.uint8\n"
     ]
    },
    {
     "name": "stderr",
     "output_type": "stream",
     "text": [
      " 71%|█████████▉    | 458/648 [13:48<05:09,  1.63s/it]"
     ]
    },
    {
     "name": "stdout",
     "output_type": "stream",
     "text": [
      "tomo_b7d94c (300, 960, 928) --> (300, 960, 928) torch.uint8\n"
     ]
    },
    {
     "name": "stderr",
     "output_type": "stream",
     "text": [
      " 71%|█████████▉    | 459/648 [13:49<04:16,  1.36s/it]"
     ]
    },
    {
     "name": "stdout",
     "output_type": "stream",
     "text": [
      "tomo_b80310 (300, 928, 928) --> (300, 928, 928) torch.uint8\n"
     ]
    },
    {
     "name": "stderr",
     "output_type": "stream",
     "text": [
      " 71%|█████████▉    | 460/648 [13:50<03:42,  1.19s/it]"
     ]
    },
    {
     "name": "stdout",
     "output_type": "stream",
     "text": [
      "tomo_b8595d (300, 928, 928) --> (300, 928, 928) torch.uint8\n"
     ]
    },
    {
     "name": "stderr",
     "output_type": "stream",
     "text": [
      " 71%|█████████▉    | 461/648 [13:51<03:19,  1.06s/it]"
     ]
    },
    {
     "name": "stdout",
     "output_type": "stream",
     "text": [
      "tomo_b87c8e (300, 960, 928) --> (300, 960, 928) torch.uint8\n"
     ]
    },
    {
     "name": "stderr",
     "output_type": "stream",
     "text": [
      " 71%|█████████▉    | 462/648 [13:52<03:18,  1.07s/it]"
     ]
    },
    {
     "name": "stdout",
     "output_type": "stream",
     "text": [
      "tomo_b8f096 (300, 960, 928) --> (300, 960, 928) torch.uint8\n",
      "tomo_b9088c (300, 960, 928) --> (300, 960, 928) torch.uint8\n"
     ]
    },
    {
     "name": "stderr",
     "output_type": "stream",
     "text": [
      " 72%|██████████    | 464/648 [13:54<03:33,  1.16s/it]"
     ]
    },
    {
     "name": "stdout",
     "output_type": "stream",
     "text": [
      "tomo_b93a2d (300, 960, 928) --> (300, 960, 928) torch.uint8\n",
      "tomo_b98cf6 (800, 928, 960) --> (800, 928, 960) torch.uint8\n"
     ]
    },
    {
     "name": "stderr",
     "output_type": "stream",
     "text": [
      " 72%|██████████    | 465/648 [13:58<05:39,  1.86s/it]"
     ]
    },
    {
     "name": "stdout",
     "output_type": "stream",
     "text": [
      "tomo_b9de3e (500, 1024, 1440) --> (500, 1024, 1440) torch.uint8\n"
     ]
    },
    {
     "name": "stderr",
     "output_type": "stream",
     "text": [
      " 72%|██████████    | 467/648 [14:01<05:20,  1.77s/it]"
     ]
    },
    {
     "name": "stdout",
     "output_type": "stream",
     "text": [
      "tomo_b9eb9a (300, 960, 928) --> (300, 960, 928) torch.uint8\n",
      "tomo_ba37ec (300, 960, 928) --> (300, 960, 928) torch.uint8\n"
     ]
    },
    {
     "name": "stderr",
     "output_type": "stream",
     "text": [
      " 72%|██████████    | 468/648 [14:03<05:03,  1.69s/it]"
     ]
    },
    {
     "name": "stdout",
     "output_type": "stream",
     "text": [
      "tomo_ba76d8 (800, 928, 928) --> (800, 928, 928) torch.uint8\n"
     ]
    },
    {
     "name": "stderr",
     "output_type": "stream",
     "text": [
      " 73%|██████████▏   | 470/648 [14:08<06:10,  2.08s/it]"
     ]
    },
    {
     "name": "stdout",
     "output_type": "stream",
     "text": [
      "tomo_ba9b3d (300, 959, 928) --> (300, 959, 928) torch.uint8\n",
      "tomo_bad724 (800, 928, 960) --> (800, 928, 960) torch.uint8\n"
     ]
    },
    {
     "name": "stderr",
     "output_type": "stream",
     "text": [
      " 73%|██████████▏   | 472/648 [14:13<06:23,  2.18s/it]"
     ]
    },
    {
     "name": "stdout",
     "output_type": "stream",
     "text": [
      "tomo_bad7b3 (300, 959, 928) --> (300, 959, 928) torch.uint8\n"
     ]
    },
    {
     "name": "stderr",
     "output_type": "stream",
     "text": [
      " 73%|██████████▏   | 473/648 [14:14<05:27,  1.87s/it]"
     ]
    },
    {
     "name": "stdout",
     "output_type": "stream",
     "text": [
      "tomo_bb5ac1 (300, 960, 928) --> (300, 960, 928) torch.uint8\n"
     ]
    },
    {
     "name": "stderr",
     "output_type": "stream",
     "text": [
      " 73%|██████████▏   | 474/648 [14:15<04:45,  1.64s/it]"
     ]
    },
    {
     "name": "stdout",
     "output_type": "stream",
     "text": [
      "tomo_bb9df3 (300, 960, 928) --> (300, 960, 928) torch.uint8\n",
      "tomo_bbe766 (300, 959, 928) --> (300, 959, 928) torch.uint8\n"
     ]
    },
    {
     "name": "stderr",
     "output_type": "stream",
     "text": [
      " 73%|██████████▎   | 475/648 [14:17<04:24,  1.53s/it]"
     ]
    },
    {
     "name": "stdout",
     "output_type": "stream",
     "text": [
      "tomo_bc143f (500, 924, 956) --> (500, 924, 956) torch.uint8\n"
     ]
    },
    {
     "name": "stderr",
     "output_type": "stream",
     "text": [
      " 74%|██████████▎   | 477/648 [14:20<04:28,  1.57s/it]"
     ]
    },
    {
     "name": "stdout",
     "output_type": "stream",
     "text": [
      "tomo_bcb115 (300, 960, 928) --> (300, 960, 928) torch.uint8\n",
      "tomo_bd42fa (500, 928, 960) --> (500, 928, 960) torch.uint8\n"
     ]
    },
    {
     "name": "stderr",
     "output_type": "stream",
     "text": [
      " 74%|██████████▎   | 479/648 [14:23<04:30,  1.60s/it]"
     ]
    },
    {
     "name": "stdout",
     "output_type": "stream",
     "text": [
      "tomo_bdc097 (300, 960, 928) --> (300, 960, 928) torch.uint8\n",
      "tomo_bdd3a0 (300, 959, 928) --> (300, 959, 928) torch.uint8\n"
     ]
    },
    {
     "name": "stderr",
     "output_type": "stream",
     "text": [
      " 74%|██████████▎   | 480/648 [14:24<04:08,  1.48s/it]"
     ]
    },
    {
     "name": "stdout",
     "output_type": "stream",
     "text": [
      "tomo_bde7f3 (300, 960, 928) --> (300, 960, 928) torch.uint8\n"
     ]
    },
    {
     "name": "stderr",
     "output_type": "stream",
     "text": [
      " 74%|██████████▍   | 481/648 [14:26<03:48,  1.37s/it]"
     ]
    },
    {
     "name": "stdout",
     "output_type": "stream",
     "text": [
      "tomo_be4a3a (300, 959, 928) --> (300, 959, 928) torch.uint8\n"
     ]
    },
    {
     "name": "stderr",
     "output_type": "stream",
     "text": [
      " 74%|██████████▍   | 482/648 [14:27<03:33,  1.28s/it]"
     ]
    },
    {
     "name": "stdout",
     "output_type": "stream",
     "text": [
      "tomo_be9b98 (800, 928, 960) --> (800, 928, 960) torch.uint8\n"
     ]
    },
    {
     "name": "stderr",
     "output_type": "stream",
     "text": [
      " 75%|██████████▍   | 484/648 [14:32<04:52,  1.79s/it]"
     ]
    },
    {
     "name": "stdout",
     "output_type": "stream",
     "text": [
      "tomo_bebadf (300, 960, 928) --> (300, 960, 928) torch.uint8\n"
     ]
    },
    {
     "name": "stderr",
     "output_type": "stream",
     "text": [
      " 75%|██████████▍   | 485/648 [14:33<04:18,  1.59s/it]"
     ]
    },
    {
     "name": "stdout",
     "output_type": "stream",
     "text": [
      "tomo_bede89 (300, 960, 928) --> (300, 960, 928) torch.uint8\n",
      "tomo_bf1398 (500, 924, 956) --> (500, 924, 956) torch.uint8\n"
     ]
    },
    {
     "name": "stderr",
     "output_type": "stream",
     "text": [
      " 75%|██████████▌   | 486/648 [14:35<04:38,  1.72s/it]"
     ]
    },
    {
     "name": "stdout",
     "output_type": "stream",
     "text": [
      "tomo_bfd5ea (500, 924, 956) --> (500, 924, 956) torch.uint8\n"
     ]
    },
    {
     "name": "stderr",
     "output_type": "stream",
     "text": [
      " 75%|██████████▌   | 488/648 [14:38<04:22,  1.64s/it]"
     ]
    },
    {
     "name": "stdout",
     "output_type": "stream",
     "text": [
      "tomo_bfdf19 (300, 960, 928) --> (300, 960, 928) torch.uint8\n"
     ]
    },
    {
     "name": "stderr",
     "output_type": "stream",
     "text": [
      " 75%|██████████▌   | 489/648 [14:39<04:03,  1.53s/it]"
     ]
    },
    {
     "name": "stdout",
     "output_type": "stream",
     "text": [
      "tomo_c00ab5 (300, 960, 928) --> (300, 960, 928) torch.uint8\n",
      "tomo_c10f64 (300, 960, 928) --> (300, 960, 928) torch.uint8\n"
     ]
    },
    {
     "name": "stderr",
     "output_type": "stream",
     "text": [
      " 76%|██████████▌   | 491/648 [14:42<03:34,  1.37s/it]"
     ]
    },
    {
     "name": "stdout",
     "output_type": "stream",
     "text": [
      "tomo_c11e12 (300, 959, 928) --> (300, 959, 928) torch.uint8\n",
      "tomo_c13fbf (500, 924, 956) --> (500, 924, 956) torch.uint8\n"
     ]
    },
    {
     "name": "stderr",
     "output_type": "stream",
     "text": [
      " 76%|██████████▋   | 493/648 [14:45<03:49,  1.48s/it]"
     ]
    },
    {
     "name": "stdout",
     "output_type": "stream",
     "text": [
      "tomo_c3619a (300, 928, 928) --> (300, 928, 928) torch.uint8\n",
      "tomo_c36b4b (300, 960, 928) --> (300, 960, 928) torch.uint8\n"
     ]
    },
    {
     "name": "stderr",
     "output_type": "stream",
     "text": [
      " 76%|██████████▋   | 494/648 [14:46<03:24,  1.33s/it]"
     ]
    },
    {
     "name": "stdout",
     "output_type": "stream",
     "text": [
      "tomo_c36baf (300, 960, 928) --> (300, 960, 928) torch.uint8\n"
     ]
    },
    {
     "name": "stderr",
     "output_type": "stream",
     "text": [
      " 76%|██████████▋   | 495/648 [14:47<03:08,  1.23s/it]"
     ]
    },
    {
     "name": "stdout",
     "output_type": "stream",
     "text": [
      "tomo_c38e83 (500, 928, 960) --> (500, 928, 960) torch.uint8\n"
     ]
    },
    {
     "name": "stderr",
     "output_type": "stream",
     "text": [
      " 77%|██████████▋   | 497/648 [14:51<03:37,  1.44s/it]"
     ]
    },
    {
     "name": "stdout",
     "output_type": "stream",
     "text": [
      "tomo_c46d3c (300, 960, 928) --> (300, 960, 928) torch.uint8\n",
      "tomo_c4a4bb (300, 960, 928) --> (300, 960, 928) torch.uint8\n"
     ]
    },
    {
     "name": "stderr",
     "output_type": "stream",
     "text": [
      " 77%|██████████▊   | 498/648 [14:52<03:36,  1.44s/it]"
     ]
    },
    {
     "name": "stdout",
     "output_type": "stream",
     "text": [
      "tomo_c4bfe2 (800, 928, 960) --> (800, 928, 960) torch.uint8\n"
     ]
    },
    {
     "name": "stderr",
     "output_type": "stream",
     "text": [
      " 77%|██████████▊   | 500/648 [14:57<04:18,  1.75s/it]"
     ]
    },
    {
     "name": "stdout",
     "output_type": "stream",
     "text": [
      "tomo_c4db00 (300, 960, 928) --> (300, 960, 928) torch.uint8\n",
      "tomo_c596be (800, 928, 960) --> (800, 928, 960) torch.uint8\n"
     ]
    },
    {
     "name": "stderr",
     "output_type": "stream",
     "text": [
      " 77%|██████████▊   | 502/648 [15:01<04:41,  1.93s/it]"
     ]
    },
    {
     "name": "stdout",
     "output_type": "stream",
     "text": [
      "tomo_c649f8 (300, 960, 928) --> (300, 960, 928) torch.uint8\n"
     ]
    },
    {
     "name": "stderr",
     "output_type": "stream",
     "text": [
      " 78%|██████████▊   | 503/648 [15:02<03:53,  1.61s/it]"
     ]
    },
    {
     "name": "stdout",
     "output_type": "stream",
     "text": [
      "tomo_c678d9 (300, 928, 928) --> (300, 928, 928) torch.uint8\n",
      "tomo_c6f50a (300, 960, 928) --> (300, 960, 928) torch.uint8\n"
     ]
    },
    {
     "name": "stderr",
     "output_type": "stream",
     "text": [
      " 78%|██████████▉   | 504/648 [15:03<03:42,  1.54s/it]"
     ]
    },
    {
     "name": "stdout",
     "output_type": "stream",
     "text": [
      "tomo_c77de0 (494, 1912, 1847) --> (494, 1912, 1847) torch.uint8\n"
     ]
    },
    {
     "name": "stderr",
     "output_type": "stream",
     "text": [
      " 78%|██████████▉   | 505/648 [15:08<05:43,  2.40s/it]"
     ]
    },
    {
     "name": "stdout",
     "output_type": "stream",
     "text": [
      "tomo_c7a40f (500, 1024, 1440) --> (500, 1024, 1440) torch.uint8\n"
     ]
    },
    {
     "name": "stderr",
     "output_type": "stream",
     "text": [
      " 78%|██████████▉   | 507/648 [15:14<06:21,  2.71s/it]"
     ]
    },
    {
     "name": "stdout",
     "output_type": "stream",
     "text": [
      "tomo_c7b008 (300, 960, 928) --> (300, 960, 928) torch.uint8\n",
      "tomo_c84b46 (300, 960, 928) --> (300, 960, 928) torch.uint8\n"
     ]
    },
    {
     "name": "stderr",
     "output_type": "stream",
     "text": [
      " 79%|██████████▉   | 509/648 [15:18<05:03,  2.18s/it]"
     ]
    },
    {
     "name": "stdout",
     "output_type": "stream",
     "text": [
      "tomo_c84b8e (300, 960, 928) --> (300, 960, 928) torch.uint8\n"
     ]
    },
    {
     "name": "stderr",
     "output_type": "stream",
     "text": [
      " 79%|███████████   | 510/648 [15:19<04:46,  2.07s/it]"
     ]
    },
    {
     "name": "stdout",
     "output_type": "stream",
     "text": [
      "tomo_c8f3ce (300, 928, 928) --> (300, 928, 928) torch.uint8\n",
      "tomo_c925ee (800, 927, 959) --> (800, 927, 959) torch.uint8\n"
     ]
    },
    {
     "name": "stderr",
     "output_type": "stream",
     "text": [
      " 79%|███████████   | 511/648 [15:24<06:23,  2.80s/it]"
     ]
    },
    {
     "name": "stdout",
     "output_type": "stream",
     "text": [
      "tomo_c9d07c (500, 924, 956) --> (500, 924, 956) torch.uint8\n"
     ]
    },
    {
     "name": "stderr",
     "output_type": "stream",
     "text": [
      " 79%|███████████   | 512/648 [15:27<06:25,  2.83s/it]"
     ]
    },
    {
     "name": "stdout",
     "output_type": "stream",
     "text": [
      "tomo_ca1d13 (500, 928, 960) --> (500, 928, 960) torch.uint8\n"
     ]
    },
    {
     "name": "stderr",
     "output_type": "stream",
     "text": [
      " 79%|███████████   | 513/648 [15:30<06:18,  2.80s/it]"
     ]
    },
    {
     "name": "stdout",
     "output_type": "stream",
     "text": [
      "tomo_ca472a (800, 928, 960) --> (800, 928, 960) torch.uint8\n"
     ]
    },
    {
     "name": "stderr",
     "output_type": "stream",
     "text": [
      " 79%|███████████   | 514/648 [15:34<07:07,  3.19s/it]"
     ]
    },
    {
     "name": "stdout",
     "output_type": "stream",
     "text": [
      "tomo_ca8be0 (500, 928, 928) --> (500, 928, 928) torch.uint8\n"
     ]
    },
    {
     "name": "stderr",
     "output_type": "stream",
     "text": [
      " 79%|███████████▏  | 515/648 [15:36<06:28,  2.92s/it]"
     ]
    },
    {
     "name": "stdout",
     "output_type": "stream",
     "text": [
      "tomo_cabaa0 (500, 924, 956) --> (500, 924, 956) torch.uint8\n"
     ]
    },
    {
     "name": "stderr",
     "output_type": "stream",
     "text": [
      " 80%|███████████▏  | 517/648 [15:39<04:47,  2.19s/it]"
     ]
    },
    {
     "name": "stdout",
     "output_type": "stream",
     "text": [
      "tomo_cacb75 (300, 960, 928) --> (300, 960, 928) torch.uint8\n",
      "tomo_cad74b (500, 928, 960) --> (500, 928, 960) torch.uint8\n"
     ]
    },
    {
     "name": "stderr",
     "output_type": "stream",
     "text": [
      " 80%|███████████▏  | 518/648 [15:41<04:49,  2.22s/it]"
     ]
    },
    {
     "name": "stdout",
     "output_type": "stream",
     "text": [
      "tomo_cae587 (300, 960, 928) --> (300, 960, 928) torch.uint8\n"
     ]
    },
    {
     "name": "stderr",
     "output_type": "stream",
     "text": [
      " 80%|███████████▏  | 519/648 [15:42<04:02,  1.88s/it]"
     ]
    },
    {
     "name": "stdout",
     "output_type": "stream",
     "text": [
      "tomo_cb5ec6 (800, 928, 960) --> (800, 928, 960) torch.uint8\n"
     ]
    },
    {
     "name": "stderr",
     "output_type": "stream",
     "text": [
      " 80%|███████████▎  | 521/648 [15:47<04:03,  1.92s/it]"
     ]
    },
    {
     "name": "stdout",
     "output_type": "stream",
     "text": [
      "tomo_cc2b5c (300, 960, 928) --> (300, 960, 928) torch.uint8\n",
      "tomo_cc3fc4 (300, 960, 928) --> (300, 960, 928) torch.uint8\n"
     ]
    },
    {
     "name": "stderr",
     "output_type": "stream",
     "text": [
      " 81%|███████████▎  | 522/648 [15:48<03:38,  1.74s/it]"
     ]
    },
    {
     "name": "stdout",
     "output_type": "stream",
     "text": [
      "tomo_cc65a9 (300, 960, 928) --> (300, 960, 928) torch.uint8\n"
     ]
    },
    {
     "name": "stderr",
     "output_type": "stream",
     "text": [
      " 81%|███████████▎  | 524/648 [15:51<03:05,  1.50s/it]"
     ]
    },
    {
     "name": "stdout",
     "output_type": "stream",
     "text": [
      "tomo_cd1a7c (300, 960, 928) --> (300, 960, 928) torch.uint8\n",
      "tomo_cf0875 (300, 960, 928) --> (300, 960, 928) torch.uint8\n"
     ]
    },
    {
     "name": "stderr",
     "output_type": "stream",
     "text": [
      " 81%|███████████▎  | 525/648 [15:52<02:57,  1.44s/it]"
     ]
    },
    {
     "name": "stdout",
     "output_type": "stream",
     "text": [
      "tomo_cf53d0 (300, 928, 928) --> (300, 928, 928) torch.uint8\n"
     ]
    },
    {
     "name": "stderr",
     "output_type": "stream",
     "text": [
      " 81%|███████████▎  | 526/648 [15:53<02:45,  1.35s/it]"
     ]
    },
    {
     "name": "stdout",
     "output_type": "stream",
     "text": [
      "tomo_cf5bfc (800, 928, 960) --> (800, 928, 960) torch.uint8\n"
     ]
    },
    {
     "name": "stderr",
     "output_type": "stream",
     "text": [
      " 81%|███████████▍  | 527/648 [15:56<03:44,  1.85s/it]"
     ]
    },
    {
     "name": "stdout",
     "output_type": "stream",
     "text": [
      "tomo_cff77a (300, 960, 928) --> (300, 960, 928) torch.uint8\n"
     ]
    },
    {
     "name": "stderr",
     "output_type": "stream",
     "text": [
      " 82%|███████████▍  | 529/648 [15:58<02:50,  1.43s/it]"
     ]
    },
    {
     "name": "stdout",
     "output_type": "stream",
     "text": [
      "tomo_d0699e (300, 960, 928) --> (300, 960, 928) torch.uint8\n"
     ]
    },
    {
     "name": "stderr",
     "output_type": "stream",
     "text": [
      " 82%|███████████▍  | 530/648 [15:59<02:30,  1.28s/it]"
     ]
    },
    {
     "name": "stdout",
     "output_type": "stream",
     "text": [
      "tomo_d0aa3b (300, 928, 928) --> (300, 928, 928) torch.uint8\n"
     ]
    },
    {
     "name": "stderr",
     "output_type": "stream",
     "text": [
      " 82%|███████████▍  | 531/648 [16:00<02:22,  1.22s/it]"
     ]
    },
    {
     "name": "stdout",
     "output_type": "stream",
     "text": [
      "tomo_d0c025 (300, 960, 928) --> (300, 960, 928) torch.uint8\n",
      "tomo_d0d9b6 (800, 927, 959) --> (800, 927, 959) torch.uint8\n"
     ]
    },
    {
     "name": "stderr",
     "output_type": "stream",
     "text": [
      " 82%|███████████▌  | 533/648 [16:04<02:59,  1.56s/it]"
     ]
    },
    {
     "name": "stdout",
     "output_type": "stream",
     "text": [
      "tomo_d21396 (300, 959, 928) --> (300, 959, 928) torch.uint8\n",
      "tomo_d23087 (300, 960, 928) --> (300, 960, 928) torch.uint8\n"
     ]
    },
    {
     "name": "stderr",
     "output_type": "stream",
     "text": [
      " 83%|███████████▌  | 535/648 [16:06<02:28,  1.31s/it]"
     ]
    },
    {
     "name": "stdout",
     "output_type": "stream",
     "text": [
      "tomo_d2339b (300, 960, 928) --> (300, 960, 928) torch.uint8\n",
      "tomo_d26fcb (300, 960, 928) --> (300, 960, 928) torch.uint8\n"
     ]
    },
    {
     "name": "stderr",
     "output_type": "stream",
     "text": [
      " 83%|███████████▌  | 537/648 [16:09<02:16,  1.23s/it]"
     ]
    },
    {
     "name": "stdout",
     "output_type": "stream",
     "text": [
      "tomo_d2b1bc (300, 960, 928) --> (300, 960, 928) torch.uint8\n",
      "tomo_d31c96 (800, 928, 960) --> (800, 928, 960) torch.uint8\n"
     ]
    },
    {
     "name": "stderr",
     "output_type": "stream",
     "text": [
      " 83%|███████████▋  | 539/648 [16:13<03:06,  1.71s/it]"
     ]
    },
    {
     "name": "stdout",
     "output_type": "stream",
     "text": [
      "tomo_d396b5 (300, 960, 928) --> (300, 960, 928) torch.uint8\n",
      "tomo_d3bef7 (300, 960, 928) --> (300, 960, 928) torch.uint8\n"
     ]
    },
    {
     "name": "stderr",
     "output_type": "stream",
     "text": [
      " 83%|███████████▋  | 540/648 [16:14<02:38,  1.47s/it]"
     ]
    },
    {
     "name": "stdout",
     "output_type": "stream",
     "text": [
      "tomo_d5465a (800, 928, 960) --> (800, 928, 960) torch.uint8\n"
     ]
    },
    {
     "name": "stderr",
     "output_type": "stream",
     "text": [
      " 83%|███████████▋  | 541/648 [16:16<02:48,  1.58s/it]"
     ]
    },
    {
     "name": "stdout",
     "output_type": "stream",
     "text": [
      "tomo_d56709 (500, 924, 956) --> (500, 924, 956) torch.uint8\n"
     ]
    },
    {
     "name": "stderr",
     "output_type": "stream",
     "text": [
      " 84%|███████████▋  | 542/648 [16:18<02:42,  1.53s/it]"
     ]
    },
    {
     "name": "stdout",
     "output_type": "stream",
     "text": [
      "tomo_d5aa20 (800, 928, 960) --> (800, 928, 960) torch.uint8\n"
     ]
    },
    {
     "name": "stderr",
     "output_type": "stream",
     "text": [
      " 84%|███████████▊  | 544/648 [16:23<03:35,  2.07s/it]"
     ]
    },
    {
     "name": "stdout",
     "output_type": "stream",
     "text": [
      "tomo_d634b7 (300, 960, 928) --> (300, 960, 928) torch.uint8\n",
      "tomo_d662b0 (500, 924, 956) --> (500, 924, 956) torch.uint8\n"
     ]
    },
    {
     "name": "stderr",
     "output_type": "stream",
     "text": [
      " 84%|███████████▊  | 546/648 [16:27<03:23,  2.00s/it]"
     ]
    },
    {
     "name": "stdout",
     "output_type": "stream",
     "text": [
      "tomo_d6c63f (300, 960, 928) --> (300, 960, 928) torch.uint8\n"
     ]
    },
    {
     "name": "stderr",
     "output_type": "stream",
     "text": [
      " 84%|███████████▊  | 547/648 [16:29<03:01,  1.80s/it]"
     ]
    },
    {
     "name": "stdout",
     "output_type": "stream",
     "text": [
      "tomo_d6e3c7 (300, 928, 928) --> (300, 928, 928) torch.uint8\n",
      "tomo_d723cd (800, 928, 960) --> (800, 928, 960) torch.uint8\n"
     ]
    },
    {
     "name": "stderr",
     "output_type": "stream",
     "text": [
      " 85%|███████████▊  | 549/648 [16:34<03:39,  2.21s/it]"
     ]
    },
    {
     "name": "stdout",
     "output_type": "stream",
     "text": [
      "tomo_d7475d (300, 960, 928) --> (300, 960, 928) torch.uint8\n"
     ]
    },
    {
     "name": "stderr",
     "output_type": "stream",
     "text": [
      " 85%|███████████▉  | 550/648 [16:36<03:30,  2.15s/it]"
     ]
    },
    {
     "name": "stdout",
     "output_type": "stream",
     "text": [
      "tomo_d83ff4 (300, 959, 928) --> (300, 959, 928) torch.uint8\n",
      "tomo_d84544 (300, 960, 928) --> (300, 960, 928) torch.uint8\n"
     ]
    },
    {
     "name": "stderr",
     "output_type": "stream",
     "text": [
      " 85%|███████████▉  | 551/648 [16:37<02:57,  1.83s/it]"
     ]
    },
    {
     "name": "stdout",
     "output_type": "stream",
     "text": [
      "tomo_d8c917 (800, 928, 960) --> (800, 928, 960) torch.uint8\n"
     ]
    },
    {
     "name": "stderr",
     "output_type": "stream",
     "text": [
      " 85%|███████████▉  | 553/648 [16:45<04:02,  2.56s/it]"
     ]
    },
    {
     "name": "stdout",
     "output_type": "stream",
     "text": [
      "tomo_d916dc (300, 960, 928) --> (300, 960, 928) torch.uint8\n",
      "tomo_d96d6e (800, 928, 960) --> (800, 928, 960) torch.uint8\n"
     ]
    },
    {
     "name": "stderr",
     "output_type": "stream",
     "text": [
      " 85%|███████████▉  | 554/648 [16:49<04:46,  3.05s/it]"
     ]
    },
    {
     "name": "stdout",
     "output_type": "stream",
     "text": [
      "tomo_d9a2af (300, 960, 928) --> (300, 960, 928) torch.uint8\n"
     ]
    },
    {
     "name": "stderr",
     "output_type": "stream",
     "text": [
      " 86%|████████████  | 556/648 [16:52<03:31,  2.30s/it]"
     ]
    },
    {
     "name": "stdout",
     "output_type": "stream",
     "text": [
      "tomo_da38ea (300, 959, 928) --> (300, 959, 928) torch.uint8\n",
      "tomo_da79d8 (500, 924, 956) --> (500, 924, 956) torch.uint8\n"
     ]
    },
    {
     "name": "stderr",
     "output_type": "stream",
     "text": [
      " 86%|████████████  | 557/648 [16:54<03:39,  2.41s/it]"
     ]
    },
    {
     "name": "stdout",
     "output_type": "stream",
     "text": [
      "tomo_dae195 (800, 928, 960) --> (800, 928, 960) torch.uint8\n"
     ]
    },
    {
     "name": "stderr",
     "output_type": "stream",
     "text": [
      " 86%|████████████  | 559/648 [17:00<03:28,  2.34s/it]"
     ]
    },
    {
     "name": "stdout",
     "output_type": "stream",
     "text": [
      "tomo_db2a10 (300, 928, 928) --> (300, 928, 928) torch.uint8\n"
     ]
    },
    {
     "name": "stderr",
     "output_type": "stream",
     "text": [
      " 86%|████████████  | 560/648 [17:01<02:56,  2.00s/it]"
     ]
    },
    {
     "name": "stdout",
     "output_type": "stream",
     "text": [
      "tomo_db4517 (300, 960, 928) --> (300, 960, 928) torch.uint8\n",
      "tomo_db6051 (500, 928, 960) --> (500, 928, 960) torch.uint8\n"
     ]
    },
    {
     "name": "stderr",
     "output_type": "stream",
     "text": [
      " 87%|████████████  | 561/648 [17:03<02:55,  2.02s/it]"
     ]
    },
    {
     "name": "stdout",
     "output_type": "stream",
     "text": [
      "tomo_db656f (300, 959, 928) --> (300, 959, 928) torch.uint8\n"
     ]
    },
    {
     "name": "stderr",
     "output_type": "stream",
     "text": [
      " 87%|████████████▏ | 562/648 [17:04<02:35,  1.81s/it]"
     ]
    },
    {
     "name": "stdout",
     "output_type": "stream",
     "text": [
      "tomo_dbc66d (300, 960, 928) --> (300, 960, 928) torch.uint8\n"
     ]
    },
    {
     "name": "stderr",
     "output_type": "stream",
     "text": [
      " 87%|████████████▏ | 563/648 [17:05<02:19,  1.64s/it]"
     ]
    },
    {
     "name": "stdout",
     "output_type": "stream",
     "text": [
      "tomo_dc9a96 (500, 1024, 1440) --> (500, 1024, 1440) torch.uint8\n"
     ]
    },
    {
     "name": "stderr",
     "output_type": "stream",
     "text": [
      " 87%|████████████▏ | 565/648 [17:09<02:22,  1.71s/it]"
     ]
    },
    {
     "name": "stdout",
     "output_type": "stream",
     "text": [
      "tomo_dcb9b4 (300, 960, 928) --> (300, 960, 928) torch.uint8\n",
      "tomo_dd36c9 (500, 924, 956) --> (500, 924, 956) torch.uint8\n"
     ]
    },
    {
     "name": "stderr",
     "output_type": "stream",
     "text": [
      " 88%|████████████▎ | 567/648 [17:13<02:25,  1.80s/it]"
     ]
    },
    {
     "name": "stdout",
     "output_type": "stream",
     "text": [
      "tomo_decb81 (300, 960, 928) --> (300, 960, 928) torch.uint8\n"
     ]
    },
    {
     "name": "stderr",
     "output_type": "stream",
     "text": [
      " 88%|████████████▎ | 568/648 [17:15<02:19,  1.74s/it]"
     ]
    },
    {
     "name": "stdout",
     "output_type": "stream",
     "text": [
      "tomo_dee783 (300, 960, 928) --> (300, 960, 928) torch.uint8\n"
     ]
    },
    {
     "name": "stderr",
     "output_type": "stream",
     "text": [
      " 88%|████████████▎ | 569/648 [17:16<02:12,  1.67s/it]"
     ]
    },
    {
     "name": "stdout",
     "output_type": "stream",
     "text": [
      "tomo_df866a (300, 960, 928) --> (300, 960, 928) torch.uint8\n"
     ]
    },
    {
     "name": "stderr",
     "output_type": "stream",
     "text": [
      " 88%|████████████▎ | 570/648 [17:18<02:09,  1.65s/it]"
     ]
    },
    {
     "name": "stdout",
     "output_type": "stream",
     "text": [
      "tomo_dfc627 (300, 960, 928) --> (300, 960, 928) torch.uint8\n",
      "tomo_dfdc32 (500, 924, 956) --> (500, 924, 956) torch.uint8\n"
     ]
    },
    {
     "name": "stderr",
     "output_type": "stream",
     "text": [
      " 88%|████████████▎ | 572/648 [17:23<02:29,  1.96s/it]"
     ]
    },
    {
     "name": "stdout",
     "output_type": "stream",
     "text": [
      "tomo_e0739f (300, 960, 928) --> (300, 960, 928) torch.uint8\n",
      "tomo_e1a034 (300, 960, 928) --> (300, 960, 928) torch.uint8\n"
     ]
    },
    {
     "name": "stderr",
     "output_type": "stream",
     "text": [
      " 88%|████████████▍ | 573/648 [17:24<02:16,  1.83s/it]"
     ]
    },
    {
     "name": "stdout",
     "output_type": "stream",
     "text": [
      "tomo_e1e5d3 (300, 960, 928) --> (300, 960, 928) torch.uint8\n"
     ]
    },
    {
     "name": "stderr",
     "output_type": "stream",
     "text": [
      " 89%|████████████▍ | 574/648 [17:26<02:07,  1.72s/it]"
     ]
    },
    {
     "name": "stdout",
     "output_type": "stream",
     "text": [
      "tomo_e22370 (500, 924, 956) --> (500, 924, 956) torch.uint8\n"
     ]
    },
    {
     "name": "stderr",
     "output_type": "stream",
     "text": [
      " 89%|████████████▍ | 576/648 [17:30<02:23,  2.00s/it]"
     ]
    },
    {
     "name": "stdout",
     "output_type": "stream",
     "text": [
      "tomo_e26c6b (300, 928, 928) --> (300, 928, 928) torch.uint8\n",
      "tomo_e2a336 (800, 928, 928) --> (800, 928, 928) torch.uint8\n"
     ]
    },
    {
     "name": "stderr",
     "output_type": "stream",
     "text": [
      " 89%|████████████▍ | 578/648 [17:36<02:44,  2.35s/it]"
     ]
    },
    {
     "name": "stdout",
     "output_type": "stream",
     "text": [
      "tomo_e2ccab (300, 928, 928) --> (300, 928, 928) torch.uint8\n",
      "tomo_e2da77 (800, 928, 960) --> (800, 928, 960) torch.uint8\n"
     ]
    },
    {
     "name": "stderr",
     "output_type": "stream",
     "text": [
      " 90%|████████████▌ | 580/648 [17:42<02:46,  2.45s/it]"
     ]
    },
    {
     "name": "stdout",
     "output_type": "stream",
     "text": [
      "tomo_e32b81 (300, 960, 928) --> (300, 960, 928) torch.uint8\n"
     ]
    },
    {
     "name": "stderr",
     "output_type": "stream",
     "text": [
      " 90%|████████████▌ | 581/648 [17:43<02:18,  2.06s/it]"
     ]
    },
    {
     "name": "stdout",
     "output_type": "stream",
     "text": [
      "tomo_e34af8 (300, 960, 928) --> (300, 960, 928) torch.uint8\n",
      "tomo_e3864f (800, 928, 928) --> (800, 928, 928) torch.uint8\n"
     ]
    },
    {
     "name": "stderr",
     "output_type": "stream",
     "text": [
      " 90%|████████████▌ | 583/648 [17:48<02:22,  2.19s/it]"
     ]
    },
    {
     "name": "stdout",
     "output_type": "stream",
     "text": [
      "tomo_e50f04 (300, 960, 928) --> (300, 960, 928) torch.uint8\n"
     ]
    },
    {
     "name": "stderr",
     "output_type": "stream",
     "text": [
      " 90%|████████████▌ | 584/648 [17:49<02:01,  1.90s/it]"
     ]
    },
    {
     "name": "stdout",
     "output_type": "stream",
     "text": [
      "tomo_e51e5e (300, 959, 928) --> (300, 959, 928) torch.uint8\n",
      "tomo_e55f81 (300, 960, 928) --> (300, 960, 928) torch.uint8\n"
     ]
    },
    {
     "name": "stderr",
     "output_type": "stream",
     "text": [
      " 90%|████████████▋ | 586/648 [17:52<01:39,  1.61s/it]"
     ]
    },
    {
     "name": "stdout",
     "output_type": "stream",
     "text": [
      "tomo_e57baf (300, 959, 928) --> (300, 959, 928) torch.uint8\n",
      "tomo_e5a091 (500, 960, 928) --> (500, 960, 928) torch.uint8\n"
     ]
    },
    {
     "name": "stderr",
     "output_type": "stream",
     "text": [
      " 91%|████████████▋ | 588/648 [17:55<01:37,  1.62s/it]"
     ]
    },
    {
     "name": "stdout",
     "output_type": "stream",
     "text": [
      "tomo_e5ac94 (300, 960, 928) --> (300, 960, 928) torch.uint8\n"
     ]
    },
    {
     "name": "stderr",
     "output_type": "stream",
     "text": [
      " 91%|████████████▋ | 589/648 [17:56<01:27,  1.49s/it]"
     ]
    },
    {
     "name": "stdout",
     "output_type": "stream",
     "text": [
      "tomo_e61cdf (300, 959, 928) --> (300, 959, 928) torch.uint8\n"
     ]
    },
    {
     "name": "stderr",
     "output_type": "stream",
     "text": [
      " 91%|████████████▋ | 590/648 [17:57<01:19,  1.36s/it]"
     ]
    },
    {
     "name": "stdout",
     "output_type": "stream",
     "text": [
      "tomo_e63ab4 (300, 960, 928) --> (300, 960, 928) torch.uint8\n"
     ]
    },
    {
     "name": "stderr",
     "output_type": "stream",
     "text": [
      " 91%|████████████▊ | 591/648 [17:58<01:14,  1.31s/it]"
     ]
    },
    {
     "name": "stdout",
     "output_type": "stream",
     "text": [
      "tomo_e685b8 (300, 959, 928) --> (300, 959, 928) torch.uint8\n"
     ]
    },
    {
     "name": "stderr",
     "output_type": "stream",
     "text": [
      " 91%|████████████▊ | 592/648 [18:00<01:15,  1.34s/it]"
     ]
    },
    {
     "name": "stdout",
     "output_type": "stream",
     "text": [
      "tomo_e6f7f7 (300, 960, 928) --> (300, 960, 928) torch.uint8\n"
     ]
    },
    {
     "name": "stderr",
     "output_type": "stream",
     "text": [
      " 92%|████████████▊ | 593/648 [18:01<01:13,  1.33s/it]"
     ]
    },
    {
     "name": "stdout",
     "output_type": "stream",
     "text": [
      "tomo_e71210 (300, 960, 928) --> (300, 960, 928) torch.uint8\n"
     ]
    },
    {
     "name": "stderr",
     "output_type": "stream",
     "text": [
      " 92%|████████████▊ | 594/648 [18:02<01:07,  1.25s/it]"
     ]
    },
    {
     "name": "stdout",
     "output_type": "stream",
     "text": [
      "tomo_e72e60 (300, 960, 928) --> (300, 960, 928) torch.uint8\n",
      "tomo_e764a7 (500, 960, 928) --> (500, 960, 928) torch.uint8\n"
     ]
    },
    {
     "name": "stderr",
     "output_type": "stream",
     "text": [
      " 92%|████████████▊ | 595/648 [18:04<01:19,  1.51s/it]"
     ]
    },
    {
     "name": "stdout",
     "output_type": "stream",
     "text": [
      "tomo_e77217 (800, 928, 960) --> (800, 928, 960) torch.uint8\n"
     ]
    },
    {
     "name": "stderr",
     "output_type": "stream",
     "text": [
      " 92%|████████████▉ | 596/648 [18:07<01:36,  1.86s/it]"
     ]
    },
    {
     "name": "stdout",
     "output_type": "stream",
     "text": [
      "tomo_e7c195 (300, 960, 928) --> (300, 960, 928) torch.uint8\n"
     ]
    },
    {
     "name": "stderr",
     "output_type": "stream",
     "text": [
      " 92%|████████████▉ | 597/648 [18:08<01:24,  1.65s/it]"
     ]
    },
    {
     "name": "stdout",
     "output_type": "stream",
     "text": [
      "tomo_e81143 (300, 960, 928) --> (300, 960, 928) torch.uint8\n"
     ]
    },
    {
     "name": "stderr",
     "output_type": "stream",
     "text": [
      " 92%|████████████▉ | 599/648 [18:10<01:08,  1.39s/it]"
     ]
    },
    {
     "name": "stdout",
     "output_type": "stream",
     "text": [
      "tomo_e8db69 (300, 960, 928) --> (300, 960, 928) torch.uint8\n"
     ]
    },
    {
     "name": "stderr",
     "output_type": "stream",
     "text": [
      " 93%|████████████▉ | 600/648 [18:11<01:00,  1.26s/it]"
     ]
    },
    {
     "name": "stdout",
     "output_type": "stream",
     "text": [
      "tomo_e96200 (300, 928, 928) --> (300, 928, 928) torch.uint8\n"
     ]
    },
    {
     "name": "stderr",
     "output_type": "stream",
     "text": [
      " 93%|████████████▉ | 601/648 [18:13<00:58,  1.24s/it]"
     ]
    },
    {
     "name": "stdout",
     "output_type": "stream",
     "text": [
      "tomo_e9b7f2 (300, 960, 928) --> (300, 960, 928) torch.uint8\n",
      "tomo_e9fa5f (800, 928, 960) --> (800, 928, 960) torch.uint8\n"
     ]
    },
    {
     "name": "stderr",
     "output_type": "stream",
     "text": [
      " 93%|█████████████ | 602/648 [18:16<01:23,  1.83s/it]"
     ]
    },
    {
     "name": "stdout",
     "output_type": "stream",
     "text": [
      "tomo_ea3f3a (300, 960, 928) --> (300, 960, 928) torch.uint8\n"
     ]
    },
    {
     "name": "stderr",
     "output_type": "stream",
     "text": [
      " 93%|█████████████ | 603/648 [18:17<01:10,  1.57s/it]"
     ]
    },
    {
     "name": "stdout",
     "output_type": "stream",
     "text": [
      "tomo_eb26ee (500, 1024, 1440) --> (500, 1024, 1440) torch.uint8\n"
     ]
    },
    {
     "name": "stderr",
     "output_type": "stream",
     "text": [
      " 93%|█████████████ | 605/648 [18:20<01:07,  1.57s/it]"
     ]
    },
    {
     "name": "stdout",
     "output_type": "stream",
     "text": [
      "tomo_eb4fd4 (300, 959, 928) --> (300, 959, 928) torch.uint8\n"
     ]
    },
    {
     "name": "stderr",
     "output_type": "stream",
     "text": [
      " 94%|█████████████ | 606/648 [18:22<01:06,  1.59s/it]"
     ]
    },
    {
     "name": "stdout",
     "output_type": "stream",
     "text": [
      "tomo_ec1314 (300, 959, 928) --> (300, 959, 928) torch.uint8\n",
      "tomo_ec607b (500, 928, 960) --> (500, 928, 960) torch.uint8\n"
     ]
    },
    {
     "name": "stderr",
     "output_type": "stream",
     "text": [
      " 94%|█████████████ | 607/648 [18:24<01:13,  1.79s/it]"
     ]
    },
    {
     "name": "stdout",
     "output_type": "stream",
     "text": [
      "tomo_ecbc12 (800, 928, 960) --> (800, 928, 960) torch.uint8\n"
     ]
    },
    {
     "name": "stderr",
     "output_type": "stream",
     "text": [
      " 94%|█████████████▏| 608/648 [18:28<01:33,  2.35s/it]"
     ]
    },
    {
     "name": "stdout",
     "output_type": "stream",
     "text": [
      "tomo_ed1c97 (500, 924, 956) --> (500, 924, 956) torch.uint8\n"
     ]
    },
    {
     "name": "stderr",
     "output_type": "stream",
     "text": [
      " 94%|█████████████▏| 610/648 [18:31<01:18,  2.06s/it]"
     ]
    },
    {
     "name": "stdout",
     "output_type": "stream",
     "text": [
      "tomo_ede779 (300, 960, 928) --> (300, 960, 928) torch.uint8\n",
      "tomo_ef1a1a (300, 960, 928) --> (300, 960, 928) torch.uint8\n"
     ]
    },
    {
     "name": "stderr",
     "output_type": "stream",
     "text": [
      " 94%|█████████████▏| 611/648 [18:32<01:05,  1.77s/it]"
     ]
    },
    {
     "name": "stdout",
     "output_type": "stream",
     "text": [
      "tomo_efe1f8 (300, 960, 928) --> (300, 960, 928) torch.uint8\n"
     ]
    },
    {
     "name": "stderr",
     "output_type": "stream",
     "text": [
      " 94%|█████████████▏| 612/648 [18:34<00:59,  1.65s/it]"
     ]
    },
    {
     "name": "stdout",
     "output_type": "stream",
     "text": [
      "tomo_f07244 (800, 928, 960) --> (800, 928, 960) torch.uint8\n"
     ]
    },
    {
     "name": "stderr",
     "output_type": "stream",
     "text": [
      " 95%|█████████████▎| 614/648 [18:38<01:03,  1.88s/it]"
     ]
    },
    {
     "name": "stdout",
     "output_type": "stream",
     "text": [
      "tomo_f0adfc (300, 960, 928) --> (300, 960, 928) torch.uint8\n",
      "tomo_f1bf2f (800, 928, 960) --> (800, 928, 960) torch.uint8\n"
     ]
    },
    {
     "name": "stderr",
     "output_type": "stream",
     "text": [
      " 95%|█████████████▎| 616/648 [18:43<01:03,  1.98s/it]"
     ]
    },
    {
     "name": "stdout",
     "output_type": "stream",
     "text": [
      "tomo_f2fa4a (300, 960, 928) --> (300, 960, 928) torch.uint8\n",
      "tomo_f36495 (800, 928, 960) --> (800, 928, 960) torch.uint8\n"
     ]
    },
    {
     "name": "stderr",
     "output_type": "stream",
     "text": [
      " 95%|█████████████▎| 618/648 [18:47<01:01,  2.05s/it]"
     ]
    },
    {
     "name": "stdout",
     "output_type": "stream",
     "text": [
      "tomo_f3e449 (300, 959, 928) --> (300, 959, 928) torch.uint8\n"
     ]
    },
    {
     "name": "stderr",
     "output_type": "stream",
     "text": [
      " 96%|█████████████▎| 619/648 [18:49<00:51,  1.79s/it]"
     ]
    },
    {
     "name": "stdout",
     "output_type": "stream",
     "text": [
      "tomo_f427b3 (300, 959, 928) --> (300, 959, 928) torch.uint8\n",
      "tomo_f672c0 (800, 928, 928) --> (800, 928, 928) torch.uint8\n"
     ]
    },
    {
     "name": "stderr",
     "output_type": "stream",
     "text": [
      " 96%|█████████████▍| 620/648 [18:52<01:02,  2.22s/it]"
     ]
    },
    {
     "name": "stdout",
     "output_type": "stream",
     "text": [
      "tomo_f6a38a (500, 924, 956) --> (500, 924, 956) torch.uint8\n"
     ]
    },
    {
     "name": "stderr",
     "output_type": "stream",
     "text": [
      " 96%|█████████████▍| 621/648 [18:53<00:52,  1.96s/it]"
     ]
    },
    {
     "name": "stdout",
     "output_type": "stream",
     "text": [
      "tomo_f6de9b (800, 928, 960) --> (800, 928, 960) torch.uint8\n"
     ]
    },
    {
     "name": "stderr",
     "output_type": "stream",
     "text": [
      " 96%|█████████████▍| 622/648 [18:55<00:50,  1.95s/it]"
     ]
    },
    {
     "name": "stdout",
     "output_type": "stream",
     "text": [
      "tomo_f71c16 (800, 928, 960) --> (800, 928, 960) torch.uint8\n"
     ]
    },
    {
     "name": "stderr",
     "output_type": "stream",
     "text": [
      " 96%|█████████████▍| 624/648 [18:58<00:39,  1.65s/it]"
     ]
    },
    {
     "name": "stdout",
     "output_type": "stream",
     "text": [
      "tomo_f76529 (300, 960, 928) --> (300, 960, 928) torch.uint8\n",
      "tomo_f78e91 (300, 960, 928) --> (300, 960, 928) torch.uint8\n"
     ]
    },
    {
     "name": "stderr",
     "output_type": "stream",
     "text": [
      " 97%|█████████████▌| 626/648 [19:00<00:31,  1.41s/it]"
     ]
    },
    {
     "name": "stdout",
     "output_type": "stream",
     "text": [
      "tomo_f7f28b (300, 960, 928) --> (300, 960, 928) torch.uint8\n",
      "tomo_f82a15 (500, 924, 956) --> (500, 924, 956) torch.uint8\n"
     ]
    },
    {
     "name": "stderr",
     "output_type": "stream",
     "text": [
      " 97%|█████████████▌| 627/648 [19:03<00:35,  1.67s/it]"
     ]
    },
    {
     "name": "stdout",
     "output_type": "stream",
     "text": [
      "tomo_f871ad (300, 960, 928) --> (300, 960, 928) torch.uint8\n"
     ]
    },
    {
     "name": "stderr",
     "output_type": "stream",
     "text": [
      " 97%|█████████████▌| 628/648 [19:04<00:31,  1.58s/it]"
     ]
    },
    {
     "name": "stdout",
     "output_type": "stream",
     "text": [
      "tomo_f8b46e (300, 928, 928) --> (300, 928, 928) torch.uint8\n"
     ]
    },
    {
     "name": "stderr",
     "output_type": "stream",
     "text": [
      " 97%|█████████████▌| 629/648 [19:05<00:28,  1.49s/it]"
     ]
    },
    {
     "name": "stdout",
     "output_type": "stream",
     "text": [
      "tomo_f8b835 (800, 928, 960) --> (800, 928, 960) torch.uint8\n"
     ]
    },
    {
     "name": "stderr",
     "output_type": "stream",
     "text": [
      " 97%|█████████████▌| 630/648 [19:09<00:37,  2.06s/it]"
     ]
    },
    {
     "name": "stdout",
     "output_type": "stream",
     "text": [
      "tomo_f94504 (500, 924, 956) --> (500, 924, 956) torch.uint8\n"
     ]
    },
    {
     "name": "stderr",
     "output_type": "stream",
     "text": [
      " 97%|█████████████▋| 631/648 [19:11<00:36,  2.14s/it]"
     ]
    },
    {
     "name": "stdout",
     "output_type": "stream",
     "text": [
      "tomo_fa5d78 (800, 928, 960) --> (800, 928, 960) torch.uint8\n"
     ]
    },
    {
     "name": "stderr",
     "output_type": "stream",
     "text": [
      " 98%|█████████████▋| 633/648 [19:15<00:30,  2.03s/it]"
     ]
    },
    {
     "name": "stdout",
     "output_type": "stream",
     "text": [
      "tomo_fadbe2 (300, 928, 928) --> (300, 928, 928) torch.uint8\n"
     ]
    },
    {
     "name": "stderr",
     "output_type": "stream",
     "text": [
      " 98%|█████████████▋| 634/648 [19:17<00:24,  1.78s/it]"
     ]
    },
    {
     "name": "stdout",
     "output_type": "stream",
     "text": [
      "tomo_fb08b5 (300, 959, 928) --> (300, 959, 928) torch.uint8\n",
      "tomo_fb6ce6 (800, 928, 928) --> (800, 928, 928) torch.uint8\n"
     ]
    },
    {
     "name": "stderr",
     "output_type": "stream",
     "text": [
      " 98%|█████████████▋| 636/648 [19:21<00:22,  1.83s/it]"
     ]
    },
    {
     "name": "stdout",
     "output_type": "stream",
     "text": [
      "tomo_fbb49b (300, 960, 928) --> (300, 960, 928) torch.uint8\n",
      "tomo_fc1665 (500, 927, 959) --> (500, 927, 959) torch.uint8\n"
     ]
    },
    {
     "name": "stderr",
     "output_type": "stream",
     "text": [
      " 98%|█████████████▊| 638/648 [19:24<00:16,  1.62s/it]"
     ]
    },
    {
     "name": "stdout",
     "output_type": "stream",
     "text": [
      "tomo_fc3c39 (300, 960, 928) --> (300, 960, 928) torch.uint8\n",
      "tomo_fc5ae4 (300, 960, 928) --> (300, 960, 928) torch.uint8\n"
     ]
    },
    {
     "name": "stderr",
     "output_type": "stream",
     "text": [
      " 99%|█████████████▊| 639/648 [19:25<00:13,  1.45s/it]"
     ]
    },
    {
     "name": "stdout",
     "output_type": "stream",
     "text": [
      "tomo_fc90fd (500, 1912, 1847) --> (500, 1912, 1847) torch.uint8\n"
     ]
    },
    {
     "name": "stderr",
     "output_type": "stream",
     "text": [
      " 99%|█████████████▊| 641/648 [19:30<00:14,  2.02s/it]"
     ]
    },
    {
     "name": "stdout",
     "output_type": "stream",
     "text": [
      "tomo_fd41c4 (300, 928, 928) --> (300, 928, 928) torch.uint8\n",
      "tomo_fd5b38 (300, 960, 928) --> (300, 960, 928) torch.uint8\n"
     ]
    },
    {
     "name": "stderr",
     "output_type": "stream",
     "text": [
      " 99%|█████████████▉| 643/648 [19:34<00:09,  1.89s/it]"
     ]
    },
    {
     "name": "stdout",
     "output_type": "stream",
     "text": [
      "tomo_fd9357 (300, 928, 928) --> (300, 928, 928) torch.uint8\n",
      "tomo_fe050c (300, 959, 928) --> (300, 959, 928) torch.uint8\n"
     ]
    },
    {
     "name": "stderr",
     "output_type": "stream",
     "text": [
      " 99%|█████████████▉| 644/648 [19:35<00:06,  1.70s/it]"
     ]
    },
    {
     "name": "stdout",
     "output_type": "stream",
     "text": [
      "tomo_fe85f6 (800, 928, 960) --> (800, 928, 960) torch.uint8\n"
     ]
    },
    {
     "name": "stderr",
     "output_type": "stream",
     "text": [
      "100%|█████████████▉| 646/648 [19:41<00:04,  2.17s/it]"
     ]
    },
    {
     "name": "stdout",
     "output_type": "stream",
     "text": [
      "tomo_fea6e8 (300, 960, 928) --> (300, 960, 928) torch.uint8\n"
     ]
    },
    {
     "name": "stderr",
     "output_type": "stream",
     "text": [
      "100%|█████████████▉| 647/648 [19:43<00:02,  2.11s/it]"
     ]
    },
    {
     "name": "stdout",
     "output_type": "stream",
     "text": [
      "tomo_ff505c (300, 959, 928) --> (300, 959, 928) torch.uint8\n",
      "tomo_ff7c20 (800, 928, 960) --> (800, 928, 960) torch.uint8\n"
     ]
    },
    {
     "name": "stderr",
     "output_type": "stream",
     "text": [
      "100%|██████████████| 648/648 [19:47<00:00,  1.83s/it]\n"
     ]
    }
   ],
   "source": [
    "# ORIGINAL WITHOUT ANY INTERPOLATION\n",
    "\n",
    "ret = {}\n",
    "DATA_DIR = '/home/dangnh36/datasets/.comp/byu/raw/train/'\n",
    "TARGET_SPACING = 13.1\n",
    "\n",
    "tomo_ids = sorted(os.listdir(DATA_DIR))\n",
    "print('Number of tomos:', len(tomo_ids))\n",
    "global_hist = None\n",
    "\n",
    "for row in tqdm(df.iter_rows(named = True), total = len(df)):\n",
    "    tomo_id = row['tomo_id']\n",
    "    ori_spacing = row['voxel_spacing']\n",
    "    tomo_dir = os.path.join(DATA_DIR, tomo_id)\n",
    "    tomo = tomo_loader.load(tomo_dir)\n",
    "    ori_shape = tuple(tomo.shape)\n",
    "\n",
    "    tomo = torch.from_numpy(tomo)\n",
    "    assert tomo.dtype == torch.uint8\n",
    "    spaced_shape = tuple(tomo.shape)\n",
    "    print(tomo_id, ori_shape, '-->', spaced_shape, tomo.dtype)\n",
    "    hist = torch.bincount(tomo.view(-1), minlength=256)\n",
    "    assert hist.shape[0] == 256\n",
    "    # print((tomo == 255).sum())\n",
    "    # hist = hist / hist.sum()\n",
    "    hist = hist.cpu().numpy()\n",
    "    ret[tomo_id] = {\n",
    "        'ori_shape': ori_shape,\n",
    "        'spaced_shape': spaced_shape,\n",
    "        'hist': hist.tolist()\n",
    "    }"
   ]
  },
  {
   "cell_type": "code",
   "execution_count": null,
   "metadata": {},
   "outputs": [],
   "source": []
  },
  {
   "cell_type": "code",
   "execution_count": null,
   "metadata": {},
   "outputs": [],
   "source": []
  },
  {
   "cell_type": "code",
   "execution_count": null,
   "metadata": {},
   "outputs": [],
   "source": []
  },
  {
   "cell_type": "code",
   "execution_count": null,
   "metadata": {
    "scrolled": true,
    "vscode": {
     "languageId": "plaintext"
    }
   },
   "outputs": [],
   "source": [
    "# ret = {}\n",
    "# DATA_DIR = '/home/dangnh36/datasets/.comp/byu/raw/train/'\n",
    "# TARGET_SPACING = 13.1\n",
    "\n",
    "# tomo_ids = sorted(os.listdir(DATA_DIR))\n",
    "# print('Number of tomos:', len(tomo_ids))\n",
    "# global_hist = None\n",
    "\n",
    "# for row in tqdm(df.iter_rows(named = True), total = len(df)):\n",
    "#     tomo_id = row['tomo_id']\n",
    "#     ori_spacing = row['voxel_spacing']\n",
    "#     tomo_dir = os.path.join(DATA_DIR, tomo_id)\n",
    "#     tomo = tomo_loader.load(tomo_dir)\n",
    "#     ori_shape = tuple(tomo.shape)\n",
    "\n",
    "#     tomo = torch.from_numpy(tomo)\n",
    "#     try:\n",
    "#         tomo = F.interpolate(\n",
    "#                 tomo[None, None].cuda().half(),\n",
    "#                 size=None,\n",
    "#                 scale_factor=ori_spacing / TARGET_SPACING,\n",
    "#                 mode='trilinear',\n",
    "#                 align_corners=False,\n",
    "#                 recompute_scale_factor=False,\n",
    "#         )[0, 0].to(torch.uint8)\n",
    "#     except Exception as e:\n",
    "#         print('EXCEPTION:', e)\n",
    "#         tomo = F.interpolate(\n",
    "#                 tomo[None, None].half(),\n",
    "#                 size=None,\n",
    "#                 scale_factor=ori_spacing / TARGET_SPACING,\n",
    "#                 mode='trilinear',\n",
    "#                 align_corners=False,\n",
    "#                 recompute_scale_factor=False,\n",
    "#         )[0, 0].to(torch.uint8).cuda()\n",
    "        \n",
    "#     spaced_shape = tuple(tomo.shape)\n",
    "#     print(tomo_idx, tomo_id, ori_shape, '-->', spaced_shape, tomo.dtype)\n",
    "#     hist = torch.bincount(tomo.view(-1), minlength=256)\n",
    "#     assert hist.shape[0] == 256\n",
    "#     # print((tomo == 255).sum())\n",
    "#     # hist = hist / hist.sum()\n",
    "#     hist = hist.cpu().numpy()\n",
    "#     ret[tomo_id] = {\n",
    "#         'ori_shape': ori_shape,\n",
    "#         'spaced_shape': spaced_shape,\n",
    "#         'hist': hist.tolist()\n",
    "#     }"
   ]
  },
  {
   "cell_type": "code",
   "execution_count": null,
   "metadata": {
    "vscode": {
     "languageId": "plaintext"
    }
   },
   "outputs": [],
   "source": [
    "len(ret)"
   ]
  },
  {
   "cell_type": "code",
   "execution_count": null,
   "metadata": {
    "vscode": {
     "languageId": "plaintext"
    }
   },
   "outputs": [],
   "source": [
    "import json\n",
    "\n",
    "with open('/home/dangnh36/datasets/.comp/byu/processed/histogram.json', 'w') as f:\n",
    "    json.dump(ret, f)"
   ]
  },
  {
   "cell_type": "code",
   "execution_count": null,
   "metadata": {},
   "outputs": [],
   "source": []
  },
  {
   "cell_type": "code",
   "execution_count": 9,
   "metadata": {},
   "outputs": [],
   "source": [
    "import json\n",
    "\n",
    "with open('/home/dangnh36/datasets/.comp/byu/processed/histogram.json', 'r') as f:\n",
    "    ret = json.load(f)"
   ]
  },
  {
   "cell_type": "code",
   "execution_count": 32,
   "metadata": {},
   "outputs": [
    {
     "name": "stdout",
     "output_type": "stream",
     "text": [
      "0.87910068792905 1.0508322702308281\n",
      "0.935768935599588 1.281379719204307\n"
     ]
    }
   ],
   "source": [
    "# FIND SUITABLE PERCENTILE THRESHOLD TO PROCESS EXTERNAL DATASET\n",
    "WRONG_QUANTILE_TOMO_IDS = [\n",
    "    \"tomo_08bf73\",\n",
    "    \"tomo_24a095\",\n",
    "    \"tomo_37c426\",\n",
    "    \"tomo_3a0914\",\n",
    "    \"tomo_3b8291\",\n",
    "    \"tomo_5b359d\",\n",
    "    \"tomo_648adf\",\n",
    "    \"tomo_67ff4e\",\n",
    "    \"tomo_692081\",\n",
    "    \"tomo_6b1fd3\",\n",
    "    \"tomo_774aae\",\n",
    "    \"tomo_9f918e\",\n",
    "    \"tomo_ac4f0d\",\n",
    "    \"tomo_b18127\",\n",
    "    \"tomo_d8c917\",\n",
    "]\n",
    "\n",
    "lowers = []\n",
    "highers = []\n",
    "for i, (tomo_id, data) in enumerate(ret.items()):\n",
    "    if tomo_id in WRONG_QUANTILE_TOMO_IDS:\n",
    "        continue\n",
    "    hist = np.array(data['hist'])\n",
    "    norm_hist = hist / hist.sum() * 100\n",
    "    assert len(norm_hist) == 256\n",
    "    lowers.append(norm_hist[0])\n",
    "    highers.append(norm_hist[-1])\n",
    "\n",
    "print(np.mean(lowers),np.std(lowers))\n",
    "print(np.mean(highers), np.std(highers))"
   ]
  },
  {
   "cell_type": "code",
   "execution_count": 39,
   "metadata": {},
   "outputs": [
    {
     "data": {
      "text/plain": [
       "99.06423106440042"
      ]
     },
     "execution_count": 39,
     "metadata": {},
     "output_type": "execute_result"
    }
   ],
   "source": [
    "100 - 0.935768935599588"
   ]
  },
  {
   "cell_type": "code",
   "execution_count": 21,
   "metadata": {},
   "outputs": [
    {
     "data": {
      "text/plain": [
       "-0.05275474082465681"
      ]
     },
     "execution_count": 21,
     "metadata": {},
     "output_type": "execute_result"
    }
   ],
   "source": [
    "0.340946046576918 - 100 / 254"
   ]
  },
  {
   "cell_type": "code",
   "execution_count": null,
   "metadata": {},
   "outputs": [],
   "source": []
  },
  {
   "cell_type": "code",
   "execution_count": null,
   "metadata": {},
   "outputs": [],
   "source": []
  },
  {
   "cell_type": "code",
   "execution_count": 33,
   "metadata": {},
   "outputs": [
    {
     "name": "stdout",
     "output_type": "stream",
     "text": [
      "0.9999999999999999 0.9999999999999999\n",
      "[1.0, 1.0, 1.0, 1.0, 1.0, 1.0, 1.0, 1.0, 1.0, 1.0, 0.9999999999999999, 1.0, 1.0, 1.0, 1.0, 0.9999999999999999, 1.0, 1.0, 1.0, 1.0, 1.0, 1.0, 1.0, 1.0, 0.9999999999999999, 1.0, 1.0, 1.0, 1.0, 1.0, 1.0, 1.0, 1.0, 1.0, 1.0, 1.0, 1.0, 1.0, 1.0, 1.0, 1.0, 1.0, 1.0, 1.0, 1.0, 1.0, 1.0, 1.0, 1.0, 1.0, 1.0, 1.0, 1.0, 1.0, 1.0, 1.0, 0.9999999999999999, 1.0, 0.9999999999999999, 1.0, 0.9999999999999999, 1.0, 1.0, 1.0, 1.0, 0.9999999999999999, 0.9999999999999999, 1.0, 1.0, 1.0, 0.9999999999999999, 1.0, 0.9999999999999999, 0.9999999999999999, 1.0, 1.0, 1.0, 1.0, 1.0, 0.9999999999999998, 1.0, 1.0, 1.0, 1.0, 0.9999999999999999, 1.0, 1.0, 1.0, 1.0, 1.0, 1.0, 1.0, 1.0, 1.0, 1.0, 1.0, 1.0, 1.0, 1.0, 1.0, 1.0, 1.0, 0.9999999999999999, 0.9999999999999999, 1.0, 1.0, 0.9999999999999999, 1.0, 1.0, 1.0, 1.0, 1.0, 1.0, 1.0, 1.0, 1.0, 1.0, 1.0, 1.0, 1.0, 1.0, 1.0, 1.0, 1.0, 1.0, 1.0, 1.0, 1.0, 1.0, 1.0, 1.0, 1.0, 1.0, 1.0, 1.0, 1.0, 1.0, 1.0, 1.0, 1.0, 1.0, 1.0, 1.0, 1.0, 1.0, 1.0, 1.0, 0.9999999999999999, 1.0, 1.0, 1.0, 1.0, 1.0, 1.0, 1.0, 1.0, 1.0, 1.0, 1.0, 0.9999999999999999, 1.0, 1.0, 0.9999999999999999, 1.0, 1.0, 1.0, 1.0, 1.0, 1.0, 1.0, 0.9999999999999999, 1.0, 1.0, 1.0, 1.0, 0.9999999999999999, 1.0, 1.0, 1.0, 1.0, 1.0, 1.0, 1.0, 1.0, 1.0, 1.0, 0.9999999999999999, 1.0, 1.0, 1.0, 0.9999999999999999, 1.0, 1.0, 1.0, 1.0, 1.0, 1.0, 1.0, 1.0, 1.0, 1.0, 1.0, 1.0, 1.0, 1.0, 0.9999999999999999, 1.0, 1.0, 1.0, 1.0, 1.0, 1.0, 0.9999999999999999, 1.0, 0.9999999999999999, 1.0, 1.0, 1.0, 1.0, 0.9999999999999999, 1.0, 1.0, 1.0, 1.0, 1.0, 1.0, 1.0, 0.9999999999999999, 1.0, 1.0, 1.0, 1.0, 1.0, 1.0, 1.0, 1.0, 1.0, 1.0, 1.0, 1.0, 0.9999999999999999, 1.0, 1.0, 1.0, 1.0, 1.0, 1.0, 1.0, 1.0, 1.0, 1.0, 0.9999999999999999, 1.0, 1.0, 1.0, 1.0, 1.0, 1.0, 1.0, 0.9999999999999999, 1.0, 1.0, 1.0, 1.0, 1.0, 1.0, 1.0, 1.0, 1.0, 1.0, 1.0, 1.0, 1.0, 0.9999999999999999, 0.9999999999999999, 1.0, 1.0, 0.9999999999999999, 1.0, 1.0, 1.0, 1.0, 1.0, 1.0, 1.0, 1.0, 1.0, 1.0, 1.0, 1.0, 1.0, 1.0, 1.0, 1.0, 1.0, 0.9999999999999999, 1.0, 1.0, 1.0, 1.0, 1.0, 1.0, 1.0, 0.9999999999999999, 1.0, 1.0, 1.0, 1.0, 1.0, 1.0, 1.0, 1.0, 1.0, 1.0, 0.9999999999999999, 1.0, 1.0, 1.0, 1.0, 1.0, 1.0, 1.0, 1.0, 0.9999999999999999, 1.0, 1.0, 1.0, 1.0, 1.0, 1.0, 1.0, 1.0, 1.0, 1.0, 1.0, 1.0, 1.0, 1.0, 1.0, 0.9999999999999999, 1.0, 1.0, 1.0, 1.0, 1.0, 1.0, 1.0, 1.0, 1.0, 1.0, 1.0, 1.0, 1.0, 1.0, 1.0, 1.0, 1.0, 1.0, 1.0, 1.0, 1.0, 1.0, 1.0, 1.0, 1.0, 0.9999999999999999, 1.0, 1.0, 1.0, 1.0, 1.0, 1.0, 1.0, 1.0, 1.0, 1.0, 1.0, 1.0, 1.0, 0.9999999999999999, 1.0, 1.0, 1.0, 1.0, 1.0, 1.0, 1.0, 1.0, 1.0, 1.0, 1.0, 1.0, 1.0, 1.0, 1.0, 1.0, 1.0, 1.0, 1.0, 1.0, 1.0, 1.0, 1.0, 1.0, 1.0, 1.0, 1.0, 1.0, 1.0, 1.0, 1.0, 0.9999999999999999, 1.0, 1.0, 1.0, 1.0, 1.0, 1.0, 1.0, 1.0, 1.0, 1.0, 1.0, 0.9999999999999999, 1.0, 1.0, 1.0, 1.0, 1.0, 1.0, 1.0, 1.0, 1.0, 1.0, 1.0, 1.0, 1.0, 1.0, 1.0, 0.9999999999999999, 1.0, 0.9999999999999999, 1.0, 1.0, 1.0, 1.0, 1.0, 1.0, 1.0, 1.0, 1.0, 1.0, 1.0, 1.0, 0.9999999999999999, 1.0, 1.0, 1.0, 1.0, 1.0, 1.0, 0.9999999999999999, 1.0, 1.0, 1.0, 1.0, 1.0, 1.0, 1.0, 1.0, 1.0, 0.9999999999999999, 1.0, 1.0, 1.0, 1.0, 1.0, 1.0, 1.0, 1.0, 0.9999999999999999, 1.0, 0.9999999999999999, 0.9999999999999999, 1.0, 1.0, 1.0, 1.0, 0.9999999999999999, 1.0, 1.0, 1.0, 1.0, 1.0, 1.0, 1.0, 0.9999999999999999, 1.0, 1.0, 1.0, 1.0, 0.9999999999999999, 1.0, 1.0, 1.0, 1.0, 1.0, 1.0, 0.9999999999999999, 1.0, 1.0, 1.0, 0.9999999999999999, 1.0, 1.0, 1.0, 1.0, 1.0, 1.0, 1.0, 1.0, 1.0, 1.0, 1.0, 1.0, 1.0, 1.0, 1.0, 1.0, 1.0, 1.0, 0.9999999999999999, 1.0, 0.9999999999999999, 1.0, 0.9999999999999999, 1.0, 1.0, 1.0, 1.0, 1.0, 1.0, 1.0, 1.0, 0.9999999999999999, 1.0, 1.0, 1.0, 0.9999999999999999, 1.0, 1.0, 1.0, 1.0, 1.0, 1.0, 1.0, 1.0, 1.0, 1.0, 1.0, 0.9999999999999999, 1.0, 1.0, 1.0, 1.0, 1.0, 1.0, 0.9999999999999999, 1.0, 1.0, 1.0, 1.0, 1.0, 1.0, 1.0, 1.0, 1.0, 1.0, 1.0, 1.0, 1.0, 1.0, 1.0, 1.0, 1.0, 1.0, 1.0, 1.0, 1.0, 1.0, 1.0, 1.0, 1.0, 1.0, 1.0, 1.0, 1.0, 1.0, 1.0, 1.0, 1.0, 1.0, 1.0, 1.0, 1.0, 1.0, 1.0, 0.9999999999999999, 1.0, 1.0, 1.0, 1.0, 1.0, 1.0, 1.0, 1.0, 1.0, 1.0, 1.0, 0.9999999999999999, 1.0, 1.0, 1.0, 1.0, 1.0, 1.0, 1.0, 1.0, 1.0, 1.0, 1.0, 1.0, 1.0, 1.0, 0.9999999999999999, 1.0, 1.0, 1.0, 1.0, 1.0, 0.9999999999999999, 1.0, 1.0, 1.0, 1.0, 0.9999999999999999, 1.0, 1.0]\n"
     ]
    }
   ],
   "source": [
    "accu = None\n",
    "avg = None\n",
    "all_hists = []\n",
    "\n",
    "for i, (tomo_id, data) in enumerate(ret.items()):\n",
    "    hist = np.array(data['hist'])\n",
    "    norm_hist = hist / hist.sum()\n",
    "    # print(norm_hist.sum())\n",
    "    if i == 0:\n",
    "        accu = hist.copy()\n",
    "        avg = norm_hist.copy()\n",
    "    else:\n",
    "        accu += hist\n",
    "        avg += norm_hist\n",
    "    all_hists.append(norm_hist)\n",
    "\n",
    "\n",
    "all_hists = np.array(all_hists)\n",
    "# all_hists = all_hists.reshape((len(ret), -1, 8)).mean(axis = -1)\n",
    "\n",
    "accu = accu / accu.sum()\n",
    "avg  = avg / len(ret)\n",
    "print(accu.sum(), avg.sum())\n",
    "print([e.sum() for e in all_hists])"
   ]
  },
  {
   "cell_type": "code",
   "execution_count": 34,
   "metadata": {},
   "outputs": [],
   "source": [
    "from matplotlib import pyplot as plt"
   ]
  },
  {
   "cell_type": "code",
   "execution_count": 35,
   "metadata": {},
   "outputs": [
    {
     "data": {
      "image/png": "[encoded data removed]",
      "text/plain": [
       "<Figure size 1200x600 with 1 Axes>"
      ]
     },
     "metadata": {},
     "output_type": "display_data"
    }
   ],
   "source": [
    "import numpy as np\n",
    "import matplotlib.pyplot as plt\n",
    "from scipy.stats import norm\n",
    "\n",
    "# 🔹 Input: precomputed histogram with 256 bins (replace this with your real data)\n",
    "hist = accu\n",
    "\n",
    "# 🔹 Bin centers\n",
    "bin_edges = np.arange(257)           # 0 to 256\n",
    "bin_centers = (bin_edges[:-1] + bin_edges[1:]) / 2  # 0.5 to 255.5\n",
    "\n",
    "# 🔹 Estimate mean and std from the histogram\n",
    "total = np.sum(hist[1:-1])\n",
    "mean = np.sum(hist[1:-1] * bin_centers[1:-1]) / total\n",
    "variance = np.sum(hist[1:-1] * (bin_centers[1:-1] - mean) ** 2) / total\n",
    "std = np.sqrt(variance)\n",
    "\n",
    "# 🔹 Create PDF from estimated normal\n",
    "pdf = norm.pdf(bin_centers, mean, std)\n",
    "pdf_scaled = pdf * total * (bin_edges[1] - bin_edges[0])  # scale to histogram\n",
    "\n",
    "# 🔹 Plot\n",
    "plt.figure(figsize=(12, 6))\n",
    "plt.bar(bin_centers, hist, width=1.0, color='skyblue', edgecolor='black', label='Histogram')\n",
    "plt.plot(bin_centers, pdf_scaled, 'r-', linewidth=2, label=f'Normal PDF\\nμ={mean:.2f}, σ={std:.2f}')\n",
    "plt.title(\"Precomputed Histogram with Fitted Normal Distribution\")\n",
    "plt.xlabel(\"Value\")\n",
    "plt.ylabel(\"Frequency\")\n",
    "plt.legend()\n",
    "plt.grid(True)\n",
    "plt.tight_layout()\n",
    "plt.show()"
   ]
  },
  {
   "cell_type": "code",
   "execution_count": 37,
   "metadata": {},
   "outputs": [
    {
     "data": {
      "image/png": "[encoded data removed]",
      "text/plain": [
       "<Figure size 1200x600 with 1 Axes>"
      ]
     },
     "metadata": {},
     "output_type": "display_data"
    }
   ],
   "source": [
    "import numpy as np\n",
    "import matplotlib.pyplot as plt\n",
    "from scipy.stats import norm\n",
    "\n",
    "# 🔹 Input: precomputed histogram with 256 bins (replace this with your real data)\n",
    "hist = avg\n",
    "\n",
    "# 🔹 Bin centers\n",
    "bin_edges = np.arange(257)           # 0 to 256\n",
    "bin_centers = (bin_edges[:-1] + bin_edges[1:]) / 2  # 0.5 to 255.5\n",
    "\n",
    "# 🔹 Estimate mean and std from the histogram\n",
    "total = np.sum(hist[1:-1])\n",
    "mean = np.sum(hist[1:-1] * bin_centers[1:-1]) / total\n",
    "variance = np.sum(hist[1:-1] * (bin_centers[1:-1] - mean) ** 2) / total\n",
    "std = np.sqrt(variance)\n",
    "\n",
    "# 🔹 Create PDF from estimated normal\n",
    "pdf = norm.pdf(bin_centers, mean, std)\n",
    "pdf_scaled = pdf * total * (bin_edges[1] - bin_edges[0])  # scale to histogram\n",
    "\n",
    "# 🔹 Plot\n",
    "plt.figure(figsize=(12, 6))\n",
    "plt.bar(bin_centers, hist, width=1.0, color='skyblue', edgecolor='black', label='Histogram')\n",
    "plt.plot(bin_centers, pdf_scaled, 'r-', linewidth=2, label=f'Normal PDF\\nμ={mean:.2f}, σ={std:.2f}')\n",
    "plt.title(\"Precomputed Histogram with Fitted Normal Distribution\")\n",
    "plt.xlabel(\"Value\")\n",
    "plt.ylabel(\"Frequency\")\n",
    "plt.legend()\n",
    "plt.grid(True)\n",
    "plt.tight_layout()\n",
    "plt.show()"
   ]
  },
  {
   "cell_type": "code",
   "execution_count": null,
   "metadata": {},
   "outputs": [],
   "source": []
  },
  {
   "cell_type": "code",
   "execution_count": null,
   "metadata": {},
   "outputs": [],
   "source": []
  },
  {
   "cell_type": "code",
   "execution_count": 17,
   "metadata": {},
   "outputs": [],
   "source": [
    "import numpy as np\n",
    "from scipy.special import rel_entr\n",
    "from sklearn.utils import shuffle\n",
    "\n",
    "import numpy as np\n",
    "import matplotlib.pyplot as plt\n",
    "from sklearn.cluster import KMeans\n",
    "from sklearn.decomposition import PCA\n",
    "from sklearn.manifold import TSNE\n",
    "from sklearn.metrics import pairwise_distances\n",
    "from sklearn_extra.cluster import KMedoids"
   ]
  },
  {
   "cell_type": "code",
   "execution_count": 18,
   "metadata": {},
   "outputs": [
    {
     "data": {
      "text/plain": [
       "(648, 256)"
      ]
     },
     "execution_count": 18,
     "metadata": {},
     "output_type": "execute_result"
    }
   ],
   "source": [
    "K = 4\n",
    "all_hists.shape"
   ]
  },
  {
   "cell_type": "code",
   "execution_count": null,
   "metadata": {
    "vscode": {
     "languageId": "plaintext"
    }
   },
   "outputs": [],
   "source": [
    "# from sklearn.cluster import KMeans\n",
    "\n",
    "# all_hists = np.array(all_hists)\n",
    "# kmeans = KMeans(n_clusters=K, init='random', n_init='auto', max_iter=1000, random_state=42)\n",
    "# labels = kmeans.fit_predict(all_hists)\n",
    "# centroids = kmeans.cluster_centers_\n",
    "# labels"
   ]
  },
  {
   "cell_type": "code",
   "execution_count": null,
   "metadata": {},
   "outputs": [],
   "source": []
  },
  {
   "cell_type": "code",
   "execution_count": null,
   "metadata": {},
   "outputs": [],
   "source": [
    "# from sklearn.cluster import KMeans\n",
    "\n",
    "# reducer = TSNE(n_components=2, perplexity=30, random_state=42, init='pca')\n",
    "# # reducer = PCA(n_components=3)\n",
    "# reduced = reducer.fit_transform(histograms_norm)\n",
    "# print(reduced.shape)\n",
    "\n",
    "# kmeans = KMeans(n_clusters=K, init='random', n_init='auto', max_iter=1000, random_state=42)\n",
    "# labels = kmeans.fit_predict(reduced)\n",
    "# # centroids = kmeans.cluster_centers_\n",
    "# centroids = []\n",
    "# for cluster_idx in range(K):\n",
    "#     cluster_hist = all_hists[labels == cluster_idx].mean(axis = 0)\n",
    "#     centroids.append(cluster_hist)\n",
    "# labels"
   ]
  },
  {
   "cell_type": "code",
   "execution_count": null,
   "metadata": {},
   "outputs": [],
   "source": []
  },
  {
   "cell_type": "code",
   "execution_count": 19,
   "metadata": {},
   "outputs": [
    {
     "data": {
      "text/plain": [
       "array([0, 0, 0, 3, 0, 2, 2, 3, 0, 3, 0, 0, 0, 2, 2, 2, 2, 2, 2, 0, 0, 2,\n",
       "       2, 1, 0, 2, 2, 2, 0, 2, 2, 3, 2, 2, 2, 2, 2, 0, 3, 3, 0, 3, 2, 2,\n",
       "       3, 2, 2, 0, 0, 0, 0, 3, 0, 2, 0, 3, 2, 2, 2, 2, 2, 3, 3, 2, 2, 3,\n",
       "       0, 2, 2, 2, 0, 2, 2, 0, 2, 0, 2, 2, 3, 2, 3, 0, 3, 2, 3, 0, 2, 2,\n",
       "       2, 0, 2, 2, 1, 2, 0, 3, 2, 2, 2, 3, 2, 0, 3, 3, 0, 3, 2, 3, 2, 3,\n",
       "       3, 2, 3, 2, 2, 0, 3, 2, 2, 3, 3, 2, 2, 0, 3, 2, 2, 2, 2, 3, 3, 3,\n",
       "       0, 3, 3, 2, 2, 2, 3, 3, 1, 0, 0, 2, 3, 2, 2, 0, 1, 2, 0, 3, 3, 2,\n",
       "       1, 3, 2, 2, 0, 3, 3, 3, 2, 0, 2, 0, 2, 0, 3, 3, 2, 0, 3, 2, 3, 2,\n",
       "       2, 3, 2, 0, 2, 3, 2, 3, 3, 3, 3, 0, 2, 3, 0, 0, 2, 2, 2, 0, 2, 0,\n",
       "       2, 3, 2, 2, 0, 3, 2, 3, 2, 3, 2, 2, 2, 0, 2, 2, 2, 3, 3, 2, 3, 3,\n",
       "       2, 2, 2, 2, 2, 2, 2, 2, 1, 2, 0, 0, 0, 2, 2, 3, 2, 2, 3, 0, 3, 3,\n",
       "       3, 2, 2, 3, 3, 3, 3, 2, 2, 3, 3, 2, 2, 1, 0, 3, 2, 0, 2, 3, 3, 3,\n",
       "       2, 0, 2, 0, 1, 2, 1, 2, 3, 2, 2, 3, 1, 2, 2, 3, 0, 2, 3, 2, 3, 3,\n",
       "       0, 0, 0, 3, 3, 2, 0, 0, 3, 2, 3, 3, 2, 2, 0, 0, 2, 3, 3, 1, 3, 2,\n",
       "       2, 2, 0, 3, 3, 0, 2, 2, 3, 0, 2, 3, 2, 3, 3, 0, 2, 3, 0, 2, 3, 2,\n",
       "       0, 2, 3, 0, 0, 0, 2, 2, 0, 0, 3, 2, 2, 0, 3, 3, 2, 0, 2, 2, 2, 3,\n",
       "       2, 2, 2, 2, 3, 2, 3, 3, 3, 0, 2, 3, 2, 3, 2, 3, 3, 2, 3, 3, 0, 0,\n",
       "       2, 0, 2, 2, 2, 3, 2, 0, 2, 3, 2, 3, 0, 0, 2, 3, 3, 0, 3, 0, 2, 2,\n",
       "       2, 3, 1, 3, 2, 3, 2, 2, 2, 0, 2, 2, 2, 0, 2, 3, 2, 2, 0, 2, 3, 2,\n",
       "       0, 3, 3, 3, 0, 3, 0, 2, 2, 0, 3, 0, 1, 0, 2, 2, 0, 0, 0, 0, 3, 0,\n",
       "       2, 0, 2, 1, 2, 2, 2, 0, 3, 2, 0, 3, 2, 3, 3, 2, 2, 3, 3, 2, 3, 3,\n",
       "       2, 2, 2, 0, 2, 2, 0, 0, 2, 0, 2, 2, 2, 0, 2, 2, 2, 2, 3, 3, 2, 3,\n",
       "       3, 0, 0, 2, 3, 2, 0, 0, 2, 2, 3, 2, 3, 3, 2, 3, 2, 3, 3, 2, 0, 0,\n",
       "       2, 2, 3, 2, 2, 0, 2, 2, 0, 0, 2, 2, 2, 0, 2, 3, 2, 2, 3, 3, 2, 2,\n",
       "       2, 2, 3, 2, 0, 3, 3, 3, 3, 2, 2, 3, 2, 0, 0, 3, 0, 3, 2, 0, 2, 0,\n",
       "       3, 1, 2, 0, 3, 2, 0, 0, 2, 3, 2, 2, 2, 0, 2, 0, 2, 2, 2, 3, 0, 2,\n",
       "       2, 3, 0, 2, 0, 2, 2, 0, 2, 0, 2, 0, 2, 0, 0, 3, 2, 2, 2, 3, 2, 3,\n",
       "       0, 2, 2, 2, 2, 3, 2, 3, 2, 0, 2, 2, 3, 2, 0, 2, 2, 3, 2, 2, 2, 2,\n",
       "       3, 0, 2, 3, 0, 0, 0, 2, 3, 2, 0, 3, 3, 2, 0, 2, 3, 0, 0, 3, 0, 2,\n",
       "       3, 0, 2, 3, 0, 2, 2, 2, 0, 2])"
      ]
     },
     "execution_count": 19,
     "metadata": {},
     "output_type": "execute_result"
    }
   ],
   "source": [
    "def chi2_distance(p, q, eps=1e-10):\n",
    "    p = np.asarray(p)\n",
    "    q = np.asarray(q)\n",
    "    return 0.5 * np.sum((p - q)**2 / (p + q + eps))\n",
    "\n",
    "\n",
    "def sym_kl(p, q, eps=1e-10):\n",
    "    p = np.asarray(p) + eps\n",
    "    q = np.asarray(q) + eps\n",
    "    kl1 = np.sum(p * np.log(p / q))\n",
    "    kl2 = np.sum(q * np.log(q / p))\n",
    "    return 0.5 * (kl1 + kl2)\n",
    "\n",
    "\n",
    "def ks_distance(p, q):\n",
    "    cdf1 = np.cumsum(p) / np.sum(p)\n",
    "    cdf2 = np.cumsum(q) / np.sum(q)\n",
    "    return np.max(np.abs(cdf1 - cdf2))\n",
    "    \n",
    "\n",
    "# Choose a distance metric:\n",
    "distance_matrix = pairwise_distances(all_hists, metric=sym_kl)  # or sym_kl / ks_distance\n",
    "\n",
    "# Clustering with KMedoids\n",
    "kmedoids = KMedoids(n_clusters=K, metric='precomputed', random_state=42)\n",
    "kmedoids.fit(distance_matrix)\n",
    "\n",
    "labels = kmedoids.labels_\n",
    "medoid_indices = kmedoids.medoid_indices_\n",
    "centroids = all_hists[medoid_indices]\n",
    "labels"
   ]
  },
  {
   "cell_type": "code",
   "execution_count": null,
   "metadata": {},
   "outputs": [],
   "source": []
  },
  {
   "cell_type": "code",
   "execution_count": null,
   "metadata": {},
   "outputs": [],
   "source": []
  },
  {
   "cell_type": "code",
   "execution_count": null,
   "metadata": {},
   "outputs": [],
   "source": []
  },
  {
   "cell_type": "code",
   "execution_count": null,
   "metadata": {},
   "outputs": [],
   "source": []
  },
  {
   "cell_type": "code",
   "execution_count": null,
   "metadata": {},
   "outputs": [],
   "source": [
    "# def kl_divergence(p, q):\n",
    "#     \"\"\"Compute the KL divergence between two probability distributions.\"\"\"\n",
    "#     p = np.asarray(p, dtype=np.float64)\n",
    "#     q = np.asarray(q, dtype=np.float64)\n",
    "\n",
    "#     # Normalize to probability distributions\n",
    "#     p /= np.sum(p)\n",
    "#     q /= np.sum(q)\n",
    "\n",
    "#     # Add epsilon to avoid log(0)\n",
    "#     epsilon = 1e-10\n",
    "#     p = np.clip(p, epsilon, 1)\n",
    "#     q = np.clip(q, epsilon, 1)\n",
    "\n",
    "#     return np.sum(rel_entr(p, q))  # KL(P || Q)\n",
    "\n",
    "\n",
    "# def ks_distance(hist1, hist2):\n",
    "#     \"\"\"Compute KS statistic between two histograms.\"\"\"\n",
    "#     cdf1 = np.cumsum(hist1) / np.sum(hist1)\n",
    "#     cdf2 = np.cumsum(hist2) / np.sum(hist2)\n",
    "#     return np.max(np.abs(cdf1 - cdf2))  # Equivalent to ks_2samp's D-statistic\n",
    "\n",
    "\n",
    "# def chi2_distance(p, q, epsilon=1e-10):\n",
    "#     \"\"\"Compute Chi-Square distance between two histograms.\"\"\"\n",
    "#     p = np.asarray(p, dtype=np.float64)\n",
    "#     q = np.asarray(q, dtype=np.float64)\n",
    "\n",
    "#     numerator = (p - q) ** 2\n",
    "#     denominator = p + q + epsilon\n",
    "#     return 0.5 * np.sum(numerator / denominator)\n",
    "\n",
    "\n",
    "# def hellinger_distance(p, q):\n",
    "#     \"\"\"Compute Hellinger distance between two histograms.\"\"\"\n",
    "#     p = np.asarray(p, dtype=np.float64)\n",
    "#     q = np.asarray(q, dtype=np.float64)\n",
    "\n",
    "#     # Normalize histograms to sum to 1\n",
    "#     p /= np.sum(p)\n",
    "#     q /= np.sum(q)\n",
    "\n",
    "#     return np.sqrt(0.5 * np.sum((np.sqrt(p) - np.sqrt(q)) ** 2))\n",
    "\n",
    "    \n",
    "\n",
    "# def kmeans_kl(histograms, k=3, max_iters=100, tol=1e-4, random_state=None):\n",
    "#     \"\"\"KMeans clustering using KL divergence.\"\"\"\n",
    "#     np.random.seed(random_state)\n",
    "#     n_samples = len(histograms)\n",
    "\n",
    "#     # Initialize centroids randomly\n",
    "#     centroids = shuffle(histograms, random_state=random_state)[:k]\n",
    "\n",
    "#     for iteration in range(max_iters):\n",
    "#         clusters = [[] for _ in range(k)]\n",
    "\n",
    "#         # Assign clusters based on KL divergence\n",
    "#         for idx, hist in enumerate(histograms):\n",
    "#             distances = [kl_divergence(hist, centroid) for centroid in centroids]\n",
    "#             # distances = [ks_distance(hist, centroid) for centroid in centroids]\n",
    "#             # distances = [chi2_distance(hist, centroid) for centroid in centroids]\n",
    "#             # distances = [hellinger_distance(hist, centroid) for centroid in centroids]\n",
    "            \n",
    "            \n",
    "#             cluster_idx = np.argmin(distances)\n",
    "#             clusters[cluster_idx].append(idx)\n",
    "\n",
    "#         new_centroids = []\n",
    "\n",
    "#         for cluster in clusters:\n",
    "#             if not cluster:\n",
    "#                 # If a cluster is empty, reinitialize its centroid randomly\n",
    "#                 new_centroids.append(histograms[np.random.randint(n_samples)])\n",
    "#                 continue\n",
    "\n",
    "#             # Compute average histogram (mean) as new centroid\n",
    "#             cluster_hists = np.array([histograms[i] for i in cluster])\n",
    "#             mean_hist = np.mean(cluster_hists, axis=0)\n",
    "#             new_centroids.append(mean_hist)\n",
    "\n",
    "#         # Convergence check\n",
    "#         centroid_shifts = [kl_divergence(c1, c2) for c1, c2 in zip(centroids, new_centroids)]\n",
    "#         if all(shift < tol for shift in centroid_shifts):\n",
    "#             break\n",
    "\n",
    "#         centroids = new_centroids\n",
    "\n",
    "#     # Final assignment\n",
    "#     labels = np.empty(n_samples, dtype=int)\n",
    "#     for idx, hist in enumerate(histograms):\n",
    "#         distances = [kl_divergence(hist, centroid) for centroid in centroids]\n",
    "#         labels[idx] = np.argmin(distances)\n",
    "\n",
    "#     return labels, centroids\n",
    "\n",
    "# labels, centroids = kmeans_kl(all_hists, k=K, max_iters=500, tol=1e-5, random_state=42)\n",
    "# labels"
   ]
  },
  {
   "cell_type": "code",
   "execution_count": null,
   "metadata": {},
   "outputs": [],
   "source": []
  },
  {
   "cell_type": "code",
   "execution_count": 20,
   "metadata": {},
   "outputs": [
    {
     "data": {
      "image/png": "[encoded data removed]",
      "text/plain": [
       "<Figure size 1500x800 with 4 Axes>"
      ]
     },
     "metadata": {},
     "output_type": "display_data"
    }
   ],
   "source": [
    "# Step 3: Plot clusters\n",
    "plt.figure(figsize=(15, 4 * ((K + 2) // 3)))\n",
    "\n",
    "for k in range(K):\n",
    "    cluster_histos = all_hists[labels == k]\n",
    "    plt.subplot((K + 2) // 3, 3, k + 1)\n",
    "\n",
    "    for h in cluster_histos:\n",
    "        plt.plot(h, color='gray', alpha=0.2)\n",
    "\n",
    "    plt.plot(centroids[k], color='red', linewidth=2, label='Centroid')\n",
    "    plt.title(f'Cluster {k} ({len(cluster_histos)} samples)')\n",
    "    plt.xlabel('Bin')\n",
    "    plt.ylabel('Normalized Frequency')\n",
    "    plt.ylim(0, 0.15)\n",
    "    plt.grid(True)\n",
    "    plt.legend()\n",
    "\n",
    "plt.tight_layout()\n",
    "plt.show()"
   ]
  },
  {
   "cell_type": "code",
   "execution_count": 21,
   "metadata": {},
   "outputs": [
    {
     "data": {
      "text/plain": [
       "1.5758161404737379"
      ]
     },
     "execution_count": 21,
     "metadata": {},
     "output_type": "execute_result"
    }
   ],
   "source": [
    "dark = np.where(labels == 1)[0]\n",
    "(all_hists[dark][:, :50].sum(axis = 1) / all_hists[dark][:, 50:].sum(axis = 1)).min()"
   ]
  },
  {
   "cell_type": "code",
   "execution_count": 22,
   "metadata": {},
   "outputs": [
    {
     "data": {
      "text/plain": [
       "0.22984729837800635"
      ]
     },
     "execution_count": 22,
     "metadata": {},
     "output_type": "execute_result"
    }
   ],
   "source": [
    "(all_hists[~dark][:, :50].sum(axis = 1) / all_hists[~dark][:, 50:].sum(axis = 1)).max()"
   ]
  },
  {
   "cell_type": "code",
   "execution_count": null,
   "metadata": {},
   "outputs": [],
   "source": [
    "(1.5758161404737379 + 0.22984729837800635) / 2"
   ]
  },
  {
   "cell_type": "code",
   "execution_count": 39,
   "metadata": {},
   "outputs": [
    {
     "data": {
      "text/plain": [
       "['tomo_08bf73',\n",
       " 'tomo_225d8f',\n",
       " 'tomo_24a095',\n",
       " 'tomo_2c9da1',\n",
       " 'tomo_32aaa7',\n",
       " 'tomo_37c426',\n",
       " 'tomo_3a0914',\n",
       " 'tomo_3a8480',\n",
       " 'tomo_3b8291',\n",
       " 'tomo_3b83c7',\n",
       " 'tomo_423d52',\n",
       " 'tomo_53e048',\n",
       " 'tomo_54e1a7',\n",
       " 'tomo_5b359d',\n",
       " 'tomo_648adf',\n",
       " 'tomo_67ff4e',\n",
       " 'tomo_692081',\n",
       " 'tomo_6b1fd3',\n",
       " 'tomo_6c203d',\n",
       " 'tomo_73173f',\n",
       " 'tomo_774aae',\n",
       " 'tomo_7f0184',\n",
       " 'tomo_7fbc49',\n",
       " 'tomo_81445c',\n",
       " 'tomo_918e2b',\n",
       " 'tomo_93c0b4',\n",
       " 'tomo_98686a',\n",
       " 'tomo_9986f0',\n",
       " 'tomo_9cd09e',\n",
       " 'tomo_9f424e',\n",
       " 'tomo_9f918e',\n",
       " 'tomo_a8bf76',\n",
       " 'tomo_ac4f0d',\n",
       " 'tomo_b18127',\n",
       " 'tomo_bde7f3',\n",
       " 'tomo_c36baf',\n",
       " 'tomo_c84b8e',\n",
       " 'tomo_d0c025',\n",
       " 'tomo_d8c917',\n",
       " 'tomo_f672c0']"
      ]
     },
     "execution_count": 39,
     "metadata": {},
     "output_type": "execute_result"
    }
   ],
   "source": [
    "[list(ret.keys())[idx] for idx in np.where(all_hists[:, :50].sum(axis=1) / all_hists[:, 50:].sum(axis = 1) > 0.22)[0]]"
   ]
  },
  {
   "cell_type": "code",
   "execution_count": 55,
   "metadata": {},
   "outputs": [
    {
     "data": {
      "text/html": [
       "<div><style>\n",
       ".dataframe > thead > tr,\n",
       ".dataframe > tbody > tr {\n",
       "  text-align: right;\n",
       "  white-space: pre-wrap;\n",
       "}\n",
       "</style>\n",
       "<small>shape: (1, 2)</small><table border=\"1\" class=\"dataframe\"><thead><tr><th>num_motors</th><th>len</th></tr><tr><td>i64</td><td>u32</td></tr></thead><tbody><tr><td>0</td><td>15</td></tr></tbody></table></div>"
      ],
      "text/plain": [
       "shape: (1, 2)\n",
       "┌────────────┬─────┐\n",
       "│ num_motors ┆ len │\n",
       "│ ---        ┆ --- │\n",
       "│ i64        ┆ u32 │\n",
       "╞════════════╪═════╡\n",
       "│ 0          ┆ 15  │\n",
       "└────────────┴─────┘"
      ]
     },
     "execution_count": 55,
     "metadata": {},
     "output_type": "execute_result"
    }
   ],
   "source": [
    "df.filter(pl.col('tomo_id').is_in(ERR1)).group_by('num_motors').len()"
   ]
  },
  {
   "cell_type": "code",
   "execution_count": null,
   "metadata": {},
   "outputs": [],
   "source": []
  },
  {
   "cell_type": "code",
   "execution_count": null,
   "metadata": {},
   "outputs": [],
   "source": []
  },
  {
   "cell_type": "code",
   "execution_count": null,
   "metadata": {},
   "outputs": [],
   "source": []
  },
  {
   "cell_type": "code",
   "execution_count": 23,
   "metadata": {},
   "outputs": [
    {
     "data": {
      "image/png": "[encoded data removed]",
      "text/plain": [
       "<Figure size 800x600 with 1 Axes>"
      ]
     },
     "metadata": {},
     "output_type": "display_data"
    },
    {
     "data": {
      "image/png": "[encoded data removed]",
      "text/plain": [
       "<Figure size 800x600 with 1 Axes>"
      ]
     },
     "metadata": {},
     "output_type": "display_data"
    }
   ],
   "source": [
    "# Step 3: Dimensionality reduction\n",
    "histograms_norm = all_hists\n",
    "for method in ['pca', 'tsne']:\n",
    "    if method == 'pca':\n",
    "        reducer = PCA(n_components=2)\n",
    "    elif method == 'tsne':\n",
    "        reducer = TSNE(n_components=2, perplexity=30, random_state=42, init='pca')\n",
    "    else:\n",
    "        raise ValueError(\"Method must be 'pca' or 'tsne'\")\n",
    "    \n",
    "    reduced = reducer.fit_transform(histograms_norm)\n",
    "    \n",
    "    # Step 4: Scatter plot\n",
    "    plt.figure(figsize=(8, 6))\n",
    "    for k in range(K):\n",
    "        cluster_points = reduced[labels == k]\n",
    "        plt.scatter(cluster_points[:, 0], cluster_points[:, 1], label=f'Cluster {k}', alpha=0.6)\n",
    "    \n",
    "    plt.title(f\"Histogram Clusters Visualized with {method.upper()}\")\n",
    "    plt.xlabel(\"Component 1\")\n",
    "    plt.ylabel(\"Component 2\")\n",
    "    plt.legend()\n",
    "    plt.grid(True)\n",
    "    plt.tight_layout()\n",
    "    plt.show()"
   ]
  },
  {
   "cell_type": "code",
   "execution_count": 51,
   "metadata": {},
   "outputs": [
    {
     "name": "stdout",
     "output_type": "stream",
     "text": [
      "['tomo_08bf73', 'tomo_24a095', 'tomo_37c426', 'tomo_3a0914', 'tomo_3b8291', 'tomo_5b359d', 'tomo_648adf', 'tomo_67ff4e', 'tomo_692081', 'tomo_6b1fd3', 'tomo_774aae', 'tomo_9f918e', 'tomo_ac4f0d', 'tomo_b18127', 'tomo_d8c917']\n"
     ]
    }
   ],
   "source": [
    "ERR2 = sorted([list(ret.keys())[idx] for idx in np.where(labels == 1)[0]])\n",
    "print(ERR2)"
   ]
  },
  {
   "cell_type": "code",
   "execution_count": null,
   "metadata": {},
   "outputs": [],
   "source": [
    "ERR1 = sorted([list(ret.keys())[idx] for idx in np.where(all_hists[:, :50].sum(axis=1) / all_hists[:, 50:].sum(axis = 1) > 1.0)[0]])\n",
    "print(len(ERR1), ERR1)\n",
    "\n",
    "for tomo_id in ERR1:\n",
    "    tomo_dir = os.path.join(DATA_DIR, tomo_id)\n",
    "    slice_names = sorted(os.listdir(tomo_dir), key = lambda x: int(x.split('.')[0].split('_')[1]))\n",
    "    Z = len(slice_names)\n",
    "    img = cv2.imread(os.path.join(tomo_dir, slice_names[Z // 2]))\n",
    "    img2 = img + 127\n",
    "    viz = np.concatenate([img, img2], axis = 1)\n",
    "    plt.imshow(viz, cmap='gray')\n",
    "    plt.show()"
   ]
  },
  {
   "cell_type": "code",
   "execution_count": 52,
   "metadata": {},
   "outputs": [
    {
     "data": {
      "text/plain": [
       "True"
      ]
     },
     "execution_count": 52,
     "metadata": {},
     "output_type": "execute_result"
    }
   ],
   "source": [
    "ERR1 == ERR2"
   ]
  },
  {
   "cell_type": "code",
   "execution_count": null,
   "metadata": {},
   "outputs": [],
   "source": []
  },
  {
   "cell_type": "code",
   "execution_count": null,
   "metadata": {},
   "outputs": [],
   "source": [
    "def plot_cluster(cluster_idx):\n",
    "    idxs = np.where(labels == cluster_idx)[0]\n",
    "    vizs = []\n",
    "    for idx in idxs:\n",
    "        tomo_id = list(ret.keys())[idx]\n",
    "        tomo_dir = os.path.join(DATA_DIR, tomo_id)\n",
    "        norm_hist = all_hists[idx]\n",
    "        slice_names = sorted(os.listdir(tomo_dir), key = lambda x: int(x.split('.')[0].split('_')[1]))\n",
    "        Z = len(slice_names)\n",
    "        img = cv2.imread(os.path.join(tomo_dir, slice_names[Z // 2]))\n",
    "        # img_inv = 255 - img\n",
    "        \n",
    "        # viz = np.concatenate([img, img_inv], axis = 1)\n",
    "        viz = img.astype(np.uint8) + 127\n",
    "        # viz = 255 - img\n",
    "        \n",
    "        # plt.imshow(viz, cmap='gray')\n",
    "        # plt.title(f'{tomo_id}')\n",
    "        # plt.axis('off')  # hide axis ticks\n",
    "        # plt.plot(norm_hist)\n",
    "        # plt.show()\n",
    "        if len(vizs) >= 50:\n",
    "            break\n",
    "        vizs.append(viz)\n",
    "\n",
    "    num_imgs = len(vizs)\n",
    "    cols = 5\n",
    "    rows = num_imgs // cols\n",
    "    rows = rows + 1 if rows % 5 != 0 else rows\n",
    "    fig, axes = plt.subplots(rows, cols, figsize=(12, 14))\n",
    "    axes = axes.flatten()\n",
    "\n",
    "    for i in range(rows * cols):\n",
    "        ax = axes[i]\n",
    "        if i < len(vizs):\n",
    "            ax.imshow(vizs[i], cmap='gray')\n",
    "        ax.axis('off')  # Hide axes\n",
    "    plt.tight_layout()\n",
    "    plt.show()\n",
    "\n",
    "for cluster_idx in range(K):\n",
    "    print('\\n\\n\\n------------------------------------')\n",
    "    print('CLUSTER', cluster_idx)\n",
    "    print('NUM TOMOS:', (labels == cluster_idx).sum())\n",
    "    plot_cluster(cluster_idx)\n",
    "    print('\\n\\n\\n------------------------------------')"
   ]
  },
  {
   "cell_type": "code",
   "execution_count": null,
   "metadata": {},
   "outputs": [],
   "source": []
  },
  {
   "cell_type": "code",
   "execution_count": null,
   "metadata": {},
   "outputs": [],
   "source": []
  },
  {
   "cell_type": "code",
   "execution_count": null,
   "metadata": {},
   "outputs": [],
   "source": []
  },
  {
   "cell_type": "code",
   "execution_count": null,
   "metadata": {},
   "outputs": [],
   "source": []
  },
  {
   "cell_type": "code",
   "execution_count": null,
   "metadata": {},
   "outputs": [],
   "source": []
  },
  {
   "cell_type": "code",
   "execution_count": null,
   "metadata": {},
   "outputs": [],
   "source": []
  },
  {
   "cell_type": "code",
   "execution_count": null,
   "metadata": {},
   "outputs": [],
   "source": []
  },
  {
   "cell_type": "code",
   "execution_count": null,
   "metadata": {},
   "outputs": [],
   "source": []
  },
  {
   "cell_type": "code",
   "execution_count": null,
   "metadata": {},
   "outputs": [],
   "source": []
  },
  {
   "cell_type": "code",
   "execution_count": null,
   "metadata": {},
   "outputs": [],
   "source": []
  },
  {
   "cell_type": "code",
   "execution_count": null,
   "metadata": {},
   "outputs": [],
   "source": []
  },
  {
   "cell_type": "code",
   "execution_count": null,
   "metadata": {},
   "outputs": [],
   "source": []
  },
  {
   "cell_type": "code",
   "execution_count": null,
   "metadata": {},
   "outputs": [],
   "source": []
  },
  {
   "cell_type": "code",
   "execution_count": null,
   "metadata": {},
   "outputs": [],
   "source": []
  },
  {
   "cell_type": "code",
   "execution_count": null,
   "metadata": {},
   "outputs": [],
   "source": []
  },
  {
   "cell_type": "code",
   "execution_count": null,
   "metadata": {},
   "outputs": [],
   "source": []
  },
  {
   "cell_type": "code",
   "execution_count": null,
   "metadata": {},
   "outputs": [],
   "source": []
  },
  {
   "cell_type": "code",
   "execution_count": null,
   "metadata": {},
   "outputs": [],
   "source": []
  },
  {
   "cell_type": "markdown",
   "metadata": {},
   "source": [
    "## DINOv2"
   ]
  },
  {
   "cell_type": "code",
   "execution_count": null,
   "metadata": {},
   "outputs": [],
   "source": [
    "import torch\n",
    "import torchvision.transforms as T\n",
    "from PIL import Image\n",
    "\n",
    "# Load DINOv2 ViT model (small/large/giant — here we use 'vitb' = base)\n",
    "dinov2_vitg14_reg_lc = torch.hub.load('facebookresearch/dinov2', 'dinov2_vitg14_reg_lc')\n",
    "dinov2_vitg14_reg_lc.eval().cuda()\n",
    "model = dinov2_vitg14_reg_lc"
   ]
  },
  {
   "cell_type": "code",
   "execution_count": null,
   "metadata": {},
   "outputs": [],
   "source": [
    "transform = T.Compose([\n",
    "    T.Resize(224),\n",
    "    T.CenterCrop(224),\n",
    "    T.ToTensor(),\n",
    "    T.Normalize(\n",
    "        mean=[0.485, 0.456, 0.406],  # ImageNet mean\n",
    "        std=[0.229, 0.224, 0.225]    # ImageNet std\n",
    "    )\n",
    "])"
   ]
  },
  {
   "cell_type": "code",
   "execution_count": null,
   "metadata": {},
   "outputs": [],
   "source": [
    "def extract_embedding(image_path):\n",
    "    img = Image.open(image_path).convert('RGB')\n",
    "    img_tensor = transform(img).unsqueeze(0).cuda()  # Add batch dimension\n",
    "    with torch.no_grad():\n",
    "        embedding = model(img_tensor)\n",
    "    return embedding.squeeze(0)  # Shape: [dimension]"
   ]
  },
  {
   "cell_type": "code",
   "execution_count": null,
   "metadata": {},
   "outputs": [],
   "source": [
    "all_embeds = []\n",
    "for tomo_id in tqdm(list(ret.keys())):\n",
    "    tomo_dir = os.path.join(DATA_DIR, tomo_id)\n",
    "    slice_names = sorted(os.listdir(tomo_dir), key = lambda x: int(x.split('.')[0].split('_')[1]))\n",
    "    Z = len(slice_names)\n",
    "    embed = extract_embedding(os.path.join(tomo_dir, slice_names[Z // 2]))\n",
    "    print(embed.shape)\n",
    "    all_embeds.append(embed)"
   ]
  },
  {
   "cell_type": "code",
   "execution_count": null,
   "metadata": {},
   "outputs": [],
   "source": [
    "all_embeds = torch.stack(all_embeds, axis = 0)\n",
    "all_embeds.shape"
   ]
  },
  {
   "cell_type": "code",
   "execution_count": null,
   "metadata": {},
   "outputs": [],
   "source": [
    "from sklearn.cluster import KMeans\n",
    "from sklearn.preprocessing import normalize\n",
    "import numpy as np\n",
    "\n",
    "# Assume `embeddings` is an (N, D) matrix of image embeddings\n",
    "# Normalize each vector to unit length\n",
    "embeddings_normalized = normalize(all_embeds.cpu().numpy(), norm='l2')\n",
    "\n",
    "# Now you can use regular KMeans\n",
    "kmeans = KMeans(n_clusters=K, random_state=42)\n",
    "kmeans.fit(embeddings_normalized)\n",
    "\n",
    "labels = kmeans.labels_\n",
    "centroids = kmeans.cluster_centers_\n",
    "labels"
   ]
  },
  {
   "cell_type": "code",
   "execution_count": null,
   "metadata": {},
   "outputs": [],
   "source": [
    "# Step 3: Dimensionality reduction\n",
    "histograms_norm = embeddings_normalized\n",
    "for method in ['pca', 'tsne']:\n",
    "    if method == 'pca':\n",
    "        reducer = PCA(n_components=2)\n",
    "    elif method == 'tsne':\n",
    "        reducer = TSNE(n_components=2, perplexity=30, random_state=42, init='pca')\n",
    "    else:\n",
    "        raise ValueError(\"Method must be 'pca' or 'tsne'\")\n",
    "    \n",
    "    reduced = reducer.fit_transform(histograms_norm)\n",
    "    \n",
    "    # Step 4: Scatter plot\n",
    "    plt.figure(figsize=(8, 6))\n",
    "    for k in range(K):\n",
    "        cluster_points = reduced[labels == k]\n",
    "        plt.scatter(cluster_points[:, 0], cluster_points[:, 1], label=f'Cluster {k}', alpha=0.6)\n",
    "    \n",
    "    plt.title(f\"Histogram Clusters Visualized with {method.upper()}\")\n",
    "    plt.xlabel(\"Component 1\")\n",
    "    plt.ylabel(\"Component 2\")\n",
    "    plt.legend()\n",
    "    plt.grid(True)\n",
    "    plt.tight_layout()\n",
    "    plt.show()"
   ]
  },
  {
   "cell_type": "code",
   "execution_count": null,
   "metadata": {},
   "outputs": [],
   "source": [
    "def plot_cluster(cluster_idx):\n",
    "    idxs = np.where(labels == cluster_idx)[0]\n",
    "    vizs = []\n",
    "    for idx in idxs:\n",
    "        tomo_id = list(ret.keys())[idx]\n",
    "        tomo_dir = os.path.join(DATA_DIR, tomo_id)\n",
    "        norm_hist = all_hists[idx]\n",
    "        slice_names = sorted(os.listdir(tomo_dir), key = lambda x: int(x.split('.')[0].split('_')[1]))\n",
    "        Z = len(slice_names)\n",
    "        img = cv2.imread(os.path.join(tomo_dir, slice_names[Z // 2]))\n",
    "        # img_inv = 255 - img\n",
    "        # viz = np.concatenate([img, img_inv], axis = 1)\n",
    "        viz = img\n",
    "        # plt.imshow(viz, cmap='gray')\n",
    "        # plt.title(f'{tomo_id}')\n",
    "        # plt.axis('off')  # hide axis ticks\n",
    "        # plt.plot(norm_hist)\n",
    "        # plt.show()\n",
    "        if len(vizs) >= 50:\n",
    "            break\n",
    "        vizs.append(viz)\n",
    "\n",
    "    num_imgs = len(vizs)\n",
    "    cols = 5\n",
    "    rows = num_imgs // cols\n",
    "    rows = rows + 1 if rows % 5 != 0 else rows\n",
    "    fig, axes = plt.subplots(rows, cols, figsize=(12, 14))\n",
    "    axes = axes.flatten()\n",
    "\n",
    "    for i in range(rows * cols):\n",
    "        ax = axes[i]\n",
    "        if i < len(vizs):\n",
    "            ax.imshow(vizs[i], cmap='gray')\n",
    "        ax.axis('off')  # Hide axes\n",
    "    plt.tight_layout()\n",
    "    plt.show()\n",
    "\n",
    "for cluster_idx in range(K):\n",
    "    print('\\n\\n\\n------------------------------------')\n",
    "    print('CLUSTER', cluster_idx)\n",
    "    print('NUM TOMOS:', (labels == cluster_idx).sum())\n",
    "    plot_cluster(cluster_idx)\n",
    "    print('\\n\\n\\n------------------------------------')"
   ]
  },
  {
   "cell_type": "code",
   "execution_count": null,
   "metadata": {},
   "outputs": [],
   "source": []
  },
  {
   "cell_type": "code",
   "execution_count": null,
   "metadata": {},
   "outputs": [],
   "source": []
  },
  {
   "cell_type": "code",
   "execution_count": null,
   "metadata": {},
   "outputs": [],
   "source": []
  },
  {
   "cell_type": "code",
   "execution_count": null,
   "metadata": {},
   "outputs": [],
   "source": []
  },
  {
   "cell_type": "code",
   "execution_count": null,
   "metadata": {},
   "outputs": [],
   "source": []
  },
  {
   "cell_type": "code",
   "execution_count": null,
   "metadata": {},
   "outputs": [],
   "source": []
  }
 ],
 "metadata": {
  "kernelspec": {
   "display_name": "Python 3 (ipykernel)",
   "language": "python",
   "name": "python3"
  },
  "language_info": {
   "codemirror_mode": {
    "name": "ipython",
    "version": 3
   },
   "file_extension": ".py",
   "mimetype": "text/x-python",
   "name": "python",
   "nbconvert_exporter": "python",
   "pygments_lexer": "ipython3",
   "version": "3.11.10"
  }
 },
 "nbformat": 4,
 "nbformat_minor": 4
}
