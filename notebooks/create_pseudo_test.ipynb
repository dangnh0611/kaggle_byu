{
 "cells": [
  {
   "cell_type": "code",
   "execution_count": 2,
   "id": "e7e55223-1ac9-425e-9d8d-112a4aedf684",
   "metadata": {},
   "outputs": [],
   "source": [
    "import argparse\n",
    "import os\n",
    "import numpy as np\n",
    "import multiprocessing as mp\n",
    "import polars as pl\n",
    "import queue\n",
    "from byu.data.io import MultithreadOpencvTomogramLoader\n",
    "from torch.nn import functional as F\n",
    "import torch\n",
    "import random\n",
    "from tqdm import tqdm"
   ]
  },
  {
   "cell_type": "code",
   "execution_count": 3,
   "id": "4f35e678-deff-477f-a0b9-b7b4bf7b2bf3",
   "metadata": {},
   "outputs": [
    {
     "data": {
      "text/html": [
       "<div><style>\n",
       ".dataframe > thead > tr,\n",
       ".dataframe > tbody > tr {\n",
       "  text-align: right;\n",
       "  white-space: pre-wrap;\n",
       "}\n",
       "</style>\n",
       "<small>shape: (648, 20)</small><table border=\"1\" class=\"dataframe\"><thead><tr><th>tomo_id</th><th>Z</th><th>Y</th><th>X</th><th>voxel_spacing</th><th>ori_num_motors</th><th>num_motors</th><th>ZA</th><th>YA</th><th>XA</th><th>V</th><th>VA</th><th>motor_z</th><th>motor_y</th><th>motor_x</th><th>motor_zA</th><th>motor_yA</th><th>motor_xA</th><th>motor_zyx</th><th>motor_zyxA</th></tr><tr><td>str</td><td>i64</td><td>i64</td><td>i64</td><td>f64</td><td>i64</td><td>i64</td><td>f64</td><td>f64</td><td>f64</td><td>i64</td><td>f64</td><td>f64</td><td>f64</td><td>f64</td><td>f64</td><td>f64</td><td>f64</td><td>str</td><td>str</td></tr></thead><tbody><tr><td>&quot;tomo_003acc&quot;</td><td>500</td><td>1912</td><td>1847</td><td>6.5</td><td>0</td><td>0</td><td>3250.0</td><td>12428.0</td><td>12005.5</td><td>1765732000</td><td>4.8491e11</td><td>-1.0</td><td>-1.0</td><td>-1.0</td><td>-6.5</td><td>-6.5</td><td>-6.5</td><td>&quot;[]&quot;</td><td>&quot;[]&quot;</td></tr><tr><td>&quot;tomo_00e047&quot;</td><td>300</td><td>959</td><td>928</td><td>15.6</td><td>1</td><td>1</td><td>4680.0</td><td>14960.4</td><td>14476.8</td><td>266985600</td><td>1.0136e12</td><td>169.0</td><td>546.0</td><td>603.0</td><td>2636.4</td><td>8517.6</td><td>9406.8</td><td>&quot;[[169.0, 546.0, 603.0]]&quot;</td><td>&quot;[[2636.4, 8517.6, 9406.8]]&quot;</td></tr><tr><td>&quot;tomo_00e463&quot;</td><td>500</td><td>924</td><td>956</td><td>19.7</td><td>6</td><td>6</td><td>9850.0</td><td>18202.8</td><td>18833.2</td><td>441672000</td><td>3.3767e12</td><td>235.0</td><td>403.0</td><td>137.0</td><td>4629.5</td><td>7939.1</td><td>2698.9</td><td>&quot;[[235.0, 403.0, 137.0], [243.0…</td><td>&quot;[[4629.5, 7939.099999999999, 2…</td></tr><tr><td>&quot;tomo_01a877&quot;</td><td>300</td><td>960</td><td>928</td><td>13.1</td><td>1</td><td>1</td><td>3930.0</td><td>12576.0</td><td>12156.8</td><td>267264000</td><td>6.0083e11</td><td>147.0</td><td>638.0</td><td>286.0</td><td>1925.7</td><td>8357.8</td><td>3746.6</td><td>&quot;[[147.0, 638.0, 286.0]]&quot;</td><td>&quot;[[1925.7, 8357.8, 3746.6]]&quot;</td></tr><tr><td>&quot;tomo_02862f&quot;</td><td>300</td><td>959</td><td>928</td><td>15.6</td><td>1</td><td>1</td><td>4680.0</td><td>14960.4</td><td>14476.8</td><td>266985600</td><td>1.0136e12</td><td>101.0</td><td>351.0</td><td>120.0</td><td>1575.6</td><td>5475.6</td><td>1872.0</td><td>&quot;[[101.0, 351.0, 120.0]]&quot;</td><td>&quot;[[1575.6, 5475.599999999999, 1…</td></tr><tr><td>&hellip;</td><td>&hellip;</td><td>&hellip;</td><td>&hellip;</td><td>&hellip;</td><td>&hellip;</td><td>&hellip;</td><td>&hellip;</td><td>&hellip;</td><td>&hellip;</td><td>&hellip;</td><td>&hellip;</td><td>&hellip;</td><td>&hellip;</td><td>&hellip;</td><td>&hellip;</td><td>&hellip;</td><td>&hellip;</td><td>&hellip;</td><td>&hellip;</td></tr><tr><td>&quot;tomo_fe050c&quot;</td><td>300</td><td>959</td><td>928</td><td>15.6</td><td>1</td><td>2</td><td>4680.0</td><td>14960.4</td><td>14476.8</td><td>266985600</td><td>1.0136e12</td><td>138.0</td><td>134.0</td><td>542.0</td><td>2152.8</td><td>2090.4</td><td>8455.2</td><td>&quot;[[138.0, 134.0, 542.0], [143.1…</td><td>&quot;[[2152.7999999999997, 2090.4, …</td></tr><tr><td>&quot;tomo_fe85f6&quot;</td><td>800</td><td>928</td><td>960</td><td>13.1</td><td>0</td><td>1</td><td>10480.0</td><td>12156.8</td><td>12576.0</td><td>712704000</td><td>1.6022e12</td><td>463.5</td><td>903.5</td><td>747.0</td><td>6071.85</td><td>11835.85</td><td>9785.7</td><td>&quot;[[463.5, 903.5, 747.0]]&quot;</td><td>&quot;[[6071.849999999999, 11835.85,…</td></tr><tr><td>&quot;tomo_fea6e8&quot;</td><td>300</td><td>960</td><td>928</td><td>16.8</td><td>0</td><td>0</td><td>5040.0</td><td>16128.0</td><td>15590.4</td><td>267264000</td><td>1.2673e12</td><td>-1.0</td><td>-1.0</td><td>-1.0</td><td>-16.8</td><td>-16.8</td><td>-16.8</td><td>&quot;[]&quot;</td><td>&quot;[]&quot;</td></tr><tr><td>&quot;tomo_ff505c&quot;</td><td>300</td><td>959</td><td>928</td><td>15.6</td><td>1</td><td>1</td><td>4680.0</td><td>14960.4</td><td>14476.8</td><td>266985600</td><td>1.0136e12</td><td>111.0</td><td>816.0</td><td>678.0</td><td>1731.6</td><td>12729.6</td><td>10576.8</td><td>&quot;[[111.0, 816.0, 678.0]]&quot;</td><td>&quot;[[1731.6, 12729.6, 10576.8]]&quot;</td></tr><tr><td>&quot;tomo_ff7c20&quot;</td><td>800</td><td>928</td><td>960</td><td>13.1</td><td>0</td><td>1</td><td>10480.0</td><td>12156.8</td><td>12576.0</td><td>712704000</td><td>1.6022e12</td><td>307.25</td><td>493.0</td><td>63.0</td><td>4024.975</td><td>6458.3</td><td>825.3</td><td>&quot;[[307.25, 493.0, 63.0]]&quot;</td><td>&quot;[[4024.975, 6458.3, 825.3]]&quot;</td></tr></tbody></table></div>"
      ],
      "text/plain": [
       "shape: (648, 20)\n",
       "┌─────────────┬─────┬──────┬──────┬───┬──────────┬──────────┬───────────────────┬──────────────────┐\n",
       "│ tomo_id     ┆ Z   ┆ Y    ┆ X    ┆ … ┆ motor_yA ┆ motor_xA ┆ motor_zyx         ┆ motor_zyxA       │\n",
       "│ ---         ┆ --- ┆ ---  ┆ ---  ┆   ┆ ---      ┆ ---      ┆ ---               ┆ ---              │\n",
       "│ str         ┆ i64 ┆ i64  ┆ i64  ┆   ┆ f64      ┆ f64      ┆ str               ┆ str              │\n",
       "╞═════════════╪═════╪══════╪══════╪═══╪══════════╪══════════╪═══════════════════╪══════════════════╡\n",
       "│ tomo_003acc ┆ 500 ┆ 1912 ┆ 1847 ┆ … ┆ -6.5     ┆ -6.5     ┆ []                ┆ []               │\n",
       "│ tomo_00e047 ┆ 300 ┆ 959  ┆ 928  ┆ … ┆ 8517.6   ┆ 9406.8   ┆ [[169.0, 546.0,   ┆ [[2636.4,        │\n",
       "│             ┆     ┆      ┆      ┆   ┆          ┆          ┆ 603.0]]           ┆ 8517.6, 9406.8]] │\n",
       "│ tomo_00e463 ┆ 500 ┆ 924  ┆ 956  ┆ … ┆ 7939.1   ┆ 2698.9   ┆ [[235.0, 403.0,   ┆ [[4629.5, 7939.0 │\n",
       "│             ┆     ┆      ┆      ┆   ┆          ┆          ┆ 137.0], [243.0…   ┆ 99999999999, 2…  │\n",
       "│ tomo_01a877 ┆ 300 ┆ 960  ┆ 928  ┆ … ┆ 8357.8   ┆ 3746.6   ┆ [[147.0, 638.0,   ┆ [[1925.7,        │\n",
       "│             ┆     ┆      ┆      ┆   ┆          ┆          ┆ 286.0]]           ┆ 8357.8, 3746.6]] │\n",
       "│ tomo_02862f ┆ 300 ┆ 959  ┆ 928  ┆ … ┆ 5475.6   ┆ 1872.0   ┆ [[101.0, 351.0,   ┆ [[1575.6, 5475.5 │\n",
       "│             ┆     ┆      ┆      ┆   ┆          ┆          ┆ 120.0]]           ┆ 99999999999, 1…  │\n",
       "│ …           ┆ …   ┆ …    ┆ …    ┆ … ┆ …        ┆ …        ┆ …                 ┆ …                │\n",
       "│ tomo_fe050c ┆ 300 ┆ 959  ┆ 928  ┆ … ┆ 2090.4   ┆ 8455.2   ┆ [[138.0, 134.0,   ┆ [[2152.799999999 │\n",
       "│             ┆     ┆      ┆      ┆   ┆          ┆          ┆ 542.0], [143.1…   ┆ 9997, 2090.4, …  │\n",
       "│ tomo_fe85f6 ┆ 800 ┆ 928  ┆ 960  ┆ … ┆ 11835.85 ┆ 9785.7   ┆ [[463.5, 903.5,   ┆ [[6071.849999999 │\n",
       "│             ┆     ┆      ┆      ┆   ┆          ┆          ┆ 747.0]]           ┆ 999, 11835.85,…  │\n",
       "│ tomo_fea6e8 ┆ 300 ┆ 960  ┆ 928  ┆ … ┆ -16.8    ┆ -16.8    ┆ []                ┆ []               │\n",
       "│ tomo_ff505c ┆ 300 ┆ 959  ┆ 928  ┆ … ┆ 12729.6  ┆ 10576.8  ┆ [[111.0, 816.0,   ┆ [[1731.6,        │\n",
       "│             ┆     ┆      ┆      ┆   ┆          ┆          ┆ 678.0]]           ┆ 12729.6,         │\n",
       "│             ┆     ┆      ┆      ┆   ┆          ┆          ┆                   ┆ 10576.8]]        │\n",
       "│ tomo_ff7c20 ┆ 800 ┆ 928  ┆ 960  ┆ … ┆ 6458.3   ┆ 825.3    ┆ [[307.25, 493.0,  ┆ [[4024.975,      │\n",
       "│             ┆     ┆      ┆      ┆   ┆          ┆          ┆ 63.0]]            ┆ 6458.3, 825.3]]  │\n",
       "└─────────────┴─────┴──────┴──────┴───┴──────────┴──────────┴───────────────────┴──────────────────┘"
      ]
     },
     "execution_count": 3,
     "metadata": {},
     "output_type": "execute_result"
    }
   ],
   "source": [
    "df = pl.scan_csv('/home/dangnh36/datasets/.comp/byu/processed/gt_v2.csv').collect()\n",
    "df"
   ]
  },
  {
   "cell_type": "code",
   "execution_count": 4,
   "id": "22eac206-ea86-49f4-8a13-009964d098f3",
   "metadata": {},
   "outputs": [],
   "source": [
    "tomo_loader = MultithreadOpencvTomogramLoader(8)"
   ]
  },
  {
   "cell_type": "code",
   "execution_count": 5,
   "id": "31748156-5efc-457b-b91c-4ba784901454",
   "metadata": {},
   "outputs": [],
   "source": [
    "from copy import deepcopy\n",
    "import cv2"
   ]
  },
  {
   "cell_type": "code",
   "execution_count": null,
   "id": "f0c3c5d4-5793-4b12-8e9d-b3658bef79df",
   "metadata": {},
   "outputs": [
    {
     "name": "stdout",
     "output_type": "stream",
     "text": [
      "{'tomo_id': 'tomo_a84050', 'Z': 300, 'Y': 928, 'X': 928, 'voxel_spacing': 13.1, 'ori_num_motors': 2, 'num_motors': 2, 'ZA': 3930.0, 'YA': 12156.8, 'XA': 12156.8, 'V': 258355200, 'VA': 580805999923.2, 'motor_z': 80.0, 'motor_y': 771.0, 'motor_x': 150.0, 'motor_zA': 1048.0, 'motor_yA': 10100.1, 'motor_xA': 1965.0, 'motor_zyx': '[[80.0, 771.0, 150.0], [150.0, 458.0, 606.0]]', 'motor_zyxA': '[[1048.0, 10100.1, 1965.0], [1965.0, 5999.8, 7938.599999999999]]'}\n",
      "(300, 928, 928)\n",
      "max new shape: [592, 1886, 1785]\n",
      "scale: 2.0323275862068964\n",
      "Return (609, 1885, 1885) uint8\n",
      "-----------------------------------\n",
      "\n",
      "\n"
     ]
    },
    {
     "name": "stderr",
     "output_type": "stream",
     "text": [
      "Saving tomo_a84050: 100%|████████████████████████████████████████████████████████████████████| 609/609 [00:07<00:00, 81.10it/s]\n"
     ]
    },
    {
     "name": "stdout",
     "output_type": "stream",
     "text": [
      "{'tomo_id': 'tomo_ec607b', 'Z': 500, 'Y': 928, 'X': 960, 'voxel_spacing': 13.1, 'ori_num_motors': 2, 'num_motors': 2, 'ZA': 6550.0, 'YA': 12156.8, 'XA': 12576.0, 'V': 445440000, 'VA': 1001389655040.0, 'motor_z': 432.0, 'motor_y': 159.0, 'motor_x': 202.0, 'motor_zA': 5659.2, 'motor_yA': 2082.9, 'motor_xA': 2646.2, 'motor_zyx': '[[432.0, 159.0, 202.0], [466.0, 458.0, 301.0]]', 'motor_zyxA': '[[5659.2, 2082.9, 2646.2], [6104.599999999999, 5999.8, 3943.1]]'}\n",
      "(500, 928, 960)\n",
      "max new shape: [635, 2094, 1757]\n",
      "scale: 2.2564655172413794\n",
      "Return (1128, 2094, 2166) uint8\n",
      "-----------------------------------\n",
      "\n",
      "\n"
     ]
    },
    {
     "name": "stderr",
     "output_type": "stream",
     "text": [
      "Saving tomo_ec607b: 100%|██████████████████████████████████████████████████████████████████| 1128/1128 [00:21<00:00, 53.53it/s]\n"
     ]
    },
    {
     "name": "stdout",
     "output_type": "stream",
     "text": [
      "{'tomo_id': 'tomo_0f9df0', 'Z': 300, 'Y': 960, 'X': 928, 'voxel_spacing': 15.6, 'ori_num_motors': 1, 'num_motors': 1, 'ZA': 4680.0, 'YA': 14976.0, 'XA': 14476.8, 'V': 267264000, 'VA': 1014645325824.0, 'motor_z': 94.0, 'motor_y': 174.0, 'motor_x': 599.0, 'motor_zA': 1466.3999999999999, 'motor_yA': 2714.4, 'motor_xA': 9344.4, 'motor_zyx': '[[94.0, 174.0, 599.0]]', 'motor_zyxA': '[[1466.3999999999999, 2714.4, 9344.4]]'}\n",
      "(300, 960, 928)\n",
      "max new shape: [647, 2007, 1644]\n",
      "scale: 2.1566666666666667\n",
      "Return (647, 2070, 2001) uint8\n",
      "-----------------------------------\n",
      "\n",
      "\n"
     ]
    },
    {
     "name": "stderr",
     "output_type": "stream",
     "text": [
      "Saving tomo_0f9df0: 100%|████████████████████████████████████████████████████████████████████| 647/647 [00:10<00:00, 63.66it/s]\n"
     ]
    },
    {
     "name": "stdout",
     "output_type": "stream",
     "text": [
      "{'tomo_id': 'tomo_b80310', 'Z': 300, 'Y': 928, 'X': 928, 'voxel_spacing': 13.1, 'ori_num_motors': 1, 'num_motors': 1, 'ZA': 3930.0, 'YA': 12156.8, 'XA': 12156.8, 'V': 258355200, 'VA': 580805999923.2, 'motor_z': 123.0, 'motor_y': 429.0, 'motor_x': 296.0, 'motor_zA': 1611.3, 'motor_yA': 5619.9, 'motor_xA': 3877.6, 'motor_zyx': '[[123.0, 429.0, 296.0]]', 'motor_zyxA': '[[1611.3, 5619.9, 3877.6]]'}\n",
      "(300, 928, 928)\n",
      "max new shape: [573, 2092, 1741]\n",
      "scale: 2.2543103448275863\n",
      "Return (676, 2092, 2092) uint8\n",
      "-----------------------------------\n",
      "\n",
      "\n"
     ]
    },
    {
     "name": "stderr",
     "output_type": "stream",
     "text": [
      "Saving tomo_b80310: 100%|████████████████████████████████████████████████████████████████████| 676/676 [00:09<00:00, 70.20it/s]\n"
     ]
    },
    {
     "name": "stdout",
     "output_type": "stream",
     "text": [
      "{'tomo_id': 'tomo_c649f8', 'Z': 300, 'Y': 960, 'X': 928, 'voxel_spacing': 13.1, 'ori_num_motors': 1, 'num_motors': 1, 'ZA': 3930.0, 'YA': 12576.0, 'XA': 12156.8, 'V': 267264000, 'VA': 600833793024.0, 'motor_z': 146.0, 'motor_y': 798.0, 'motor_x': 635.0, 'motor_zA': 1912.6, 'motor_yA': 10453.8, 'motor_xA': 8318.5, 'motor_zyx': '[[146.0, 798.0, 635.0]]', 'motor_zyxA': '[[1912.6, 10453.8, 8318.5]]'}\n",
      "(300, 960, 928)\n",
      "max new shape: [648, 2011, 1457]\n",
      "scale: 2.16\n",
      "Return (648, 2073, 2004) uint8\n",
      "-----------------------------------\n",
      "\n",
      "\n"
     ]
    },
    {
     "name": "stderr",
     "output_type": "stream",
     "text": [
      "Saving tomo_c649f8: 100%|████████████████████████████████████████████████████████████████████| 648/648 [00:09<00:00, 66.78it/s]\n"
     ]
    },
    {
     "name": "stdout",
     "output_type": "stream",
     "text": [
      "{'tomo_id': 'tomo_8e4f7d', 'Z': 300, 'Y': 960, 'X': 928, 'voxel_spacing': 13.1, 'ori_num_motors': 1, 'num_motors': 1, 'ZA': 3930.0, 'YA': 12576.0, 'XA': 12156.8, 'V': 267264000, 'VA': 600833793024.0, 'motor_z': 131.0, 'motor_y': 593.0, 'motor_x': 480.0, 'motor_zA': 1716.1, 'motor_yA': 7768.3, 'motor_xA': 6288.0, 'motor_zyx': '[[131.0, 593.0, 480.0]]', 'motor_zyxA': '[[1716.1, 7768.3, 6288.0]]'}\n",
      "(300, 960, 928)\n",
      "max new shape: [644, 2144, 1762]\n",
      "scale: 2.2333333333333334\n",
      "Return (670, 2144, 2072) uint8\n",
      "-----------------------------------\n",
      "\n",
      "\n"
     ]
    },
    {
     "name": "stderr",
     "output_type": "stream",
     "text": [
      "Saving tomo_8e4f7d: 100%|████████████████████████████████████████████████████████████████████| 670/670 [00:10<00:00, 66.99it/s]\n"
     ]
    },
    {
     "name": "stdout",
     "output_type": "stream",
     "text": [
      "{'tomo_id': 'tomo_ff505c', 'Z': 300, 'Y': 959, 'X': 928, 'voxel_spacing': 15.6, 'ori_num_motors': 1, 'num_motors': 1, 'ZA': 4680.0, 'YA': 14960.4, 'XA': 14476.8, 'V': 266985600, 'VA': 1013588403609.6, 'motor_z': 111.0, 'motor_y': 816.0, 'motor_x': 678.0, 'motor_zA': 1731.6, 'motor_yA': 12729.6, 'motor_xA': 10576.8, 'motor_zyx': '[[111.0, 816.0, 678.0]]', 'motor_zyxA': '[[1731.6, 12729.6, 10576.8]]'}\n",
      "(300, 959, 928)\n",
      "max new shape: [545, 2225, 1755]\n",
      "scale: 2.3201251303441084\n",
      "Return (696, 2225, 2153) uint8\n",
      "-----------------------------------\n",
      "\n",
      "\n"
     ]
    },
    {
     "name": "stderr",
     "output_type": "stream",
     "text": [
      "Saving tomo_ff505c: 100%|████████████████████████████████████████████████████████████████████| 696/696 [00:12<00:00, 57.85it/s]\n"
     ]
    },
    {
     "name": "stdout",
     "output_type": "stream",
     "text": [
      "{'tomo_id': 'tomo_9986f0', 'Z': 300, 'Y': 960, 'X': 928, 'voxel_spacing': 13.1, 'ori_num_motors': 1, 'num_motors': 1, 'ZA': 3930.0, 'YA': 12576.0, 'XA': 12156.8, 'V': 267264000, 'VA': 600833793024.0, 'motor_z': 208.0, 'motor_y': 556.0, 'motor_x': 376.0, 'motor_zA': 2724.7999999999997, 'motor_yA': 7283.599999999999, 'motor_xA': 4925.599999999999, 'motor_zyx': '[[208.0, 556.0, 376.0]]', 'motor_zyxA': '[[2724.7999999999997, 7283.599999999999, 4925.599999999999]]'}\n",
      "(300, 960, 928)\n",
      "max new shape: [556, 2093, 1707]\n",
      "scale: 2.1802083333333333\n",
      "Return (654, 2093, 2023) uint8\n",
      "-----------------------------------\n",
      "\n",
      "\n"
     ]
    },
    {
     "name": "stderr",
     "output_type": "stream",
     "text": [
      "Saving tomo_9986f0: 100%|████████████████████████████████████████████████████████████████████| 654/654 [00:08<00:00, 76.08it/s]\n"
     ]
    },
    {
     "name": "stdout",
     "output_type": "stream",
     "text": [
      "{'tomo_id': 'tomo_49f4ee', 'Z': 300, 'Y': 928, 'X': 928, 'voxel_spacing': 13.1, 'ori_num_motors': 1, 'num_motors': 1, 'ZA': 3930.0, 'YA': 12156.8, 'XA': 12156.8, 'V': 258355200, 'VA': 580805999923.2, 'motor_z': 166.0, 'motor_y': 670.0, 'motor_x': 413.0, 'motor_zA': 2174.6, 'motor_yA': 8777.0, 'motor_xA': 5410.3, 'motor_zyx': '[[166.0, 670.0, 413.0]]', 'motor_zyxA': '[[2174.6, 8777.0, 5410.3]]'}\n",
      "(300, 928, 928)\n",
      "max new shape: [573, 2045, 1504]\n",
      "scale: 2.2036637931034484\n",
      "Return (661, 2045, 2045) uint8\n",
      "-----------------------------------\n",
      "\n",
      "\n"
     ]
    },
    {
     "name": "stderr",
     "output_type": "stream",
     "text": [
      "Saving tomo_49f4ee: 100%|████████████████████████████████████████████████████████████████████| 661/661 [00:08<00:00, 79.11it/s]\n"
     ]
    },
    {
     "name": "stdout",
     "output_type": "stream",
     "text": [
      "{'tomo_id': 'tomo_5e2a91', 'Z': 300, 'Y': 960, 'X': 928, 'voxel_spacing': 15.6, 'ori_num_motors': 1, 'num_motors': 1, 'ZA': 4680.0, 'YA': 14976.0, 'XA': 14476.8, 'V': 267264000, 'VA': 1014645325824.0, 'motor_z': 267.0, 'motor_y': 574.0, 'motor_x': 284.0, 'motor_zA': 4165.2, 'motor_yA': 8954.4, 'motor_xA': 4430.4, 'motor_zyx': '[[267.0, 574.0, 284.0]]', 'motor_zyxA': '[[4165.2, 8954.4, 4430.4]]'}\n",
      "(300, 960, 928)\n",
      "max new shape: [673, 2183, 1685]\n",
      "scale: 2.2739583333333333\n",
      "Return (682, 2183, 2110) uint8\n",
      "-----------------------------------\n",
      "\n",
      "\n"
     ]
    },
    {
     "name": "stderr",
     "output_type": "stream",
     "text": [
      "Saving tomo_5e2a91: 100%|████████████████████████████████████████████████████████████████████| 682/682 [00:11<00:00, 60.26it/s]\n"
     ]
    },
    {
     "name": "stdout",
     "output_type": "stream",
     "text": [
      "{'tomo_id': 'tomo_e0739f', 'Z': 300, 'Y': 960, 'X': 928, 'voxel_spacing': 16.8, 'ori_num_motors': 0, 'num_motors': 0, 'ZA': 5040.0, 'YA': 16128.0, 'XA': 15590.400000000001, 'V': 267264000, 'VA': 1267267534848.0, 'motor_z': -1.0, 'motor_y': -1.0, 'motor_x': -1.0, 'motor_zA': -16.8, 'motor_yA': -16.8, 'motor_xA': -16.8, 'motor_zyx': '[]', 'motor_zyxA': '[]'}\n",
      "(300, 960, 928)\n",
      "max new shape: [637, 2178, 1647]\n",
      "scale: 2.26875\n",
      "Return (680, 2178, 2105) uint8\n",
      "-----------------------------------\n",
      "\n",
      "\n"
     ]
    },
    {
     "name": "stderr",
     "output_type": "stream",
     "text": [
      "Saving tomo_e0739f: 100%|████████████████████████████████████████████████████████████████████| 680/680 [00:11<00:00, 60.81it/s]\n"
     ]
    },
    {
     "name": "stdout",
     "output_type": "stream",
     "text": [
      "{'tomo_id': 'tomo_4baff0', 'Z': 500, 'Y': 924, 'X': 956, 'voxel_spacing': 16.1, 'ori_num_motors': 0, 'num_motors': 1, 'ZA': 8050.000000000001, 'YA': 14876.400000000001, 'XA': 15391.600000000002, 'V': 441672000, 'VA': 1843221365832.0007, 'motor_z': 162.5, 'motor_y': 281.75, 'motor_x': 814.5, 'motor_zA': 2616.2500000000005, 'motor_yA': 4536.175, 'motor_xA': 13113.45, 'motor_zyx': '[[162.5, 281.75, 814.5]]', 'motor_zyxA': '[[2616.2500000000005, 4536.175, 13113.45]]'}\n",
      "(500, 924, 956)\n",
      "max new shape: [670, 1938, 1780]\n",
      "scale: 2.0974025974025974\n",
      "Return (1048, 1938, 2005) uint8\n",
      "-----------------------------------\n",
      "\n",
      "\n"
     ]
    },
    {
     "name": "stderr",
     "output_type": "stream",
     "text": [
      "Saving tomo_4baff0: 100%|██████████████████████████████████████████████████████████████████| 1048/1048 [00:15<00:00, 66.94it/s]\n"
     ]
    },
    {
     "name": "stdout",
     "output_type": "stream",
     "text": [
      "{'tomo_id': 'tomo_1fb6a7', 'Z': 300, 'Y': 960, 'X': 928, 'voxel_spacing': 16.8, 'ori_num_motors': 0, 'num_motors': 0, 'ZA': 5040.0, 'YA': 16128.0, 'XA': 15590.400000000001, 'V': 267264000, 'VA': 1267267534848.0, 'motor_z': -1.0, 'motor_y': -1.0, 'motor_x': -1.0, 'motor_zA': -16.8, 'motor_yA': -16.8, 'motor_xA': -16.8, 'motor_zyx': '[]', 'motor_zyxA': '[]'}\n",
      "(300, 960, 928)\n",
      "max new shape: [667, 1962, 1468]\n",
      "scale: 2.223333333333333\n",
      "Return (667, 2134, 2063) uint8\n",
      "-----------------------------------\n",
      "\n",
      "\n"
     ]
    },
    {
     "name": "stderr",
     "output_type": "stream",
     "text": [
      "Saving tomo_1fb6a7: 100%|████████████████████████████████████████████████████████████████████| 667/667 [00:10<00:00, 63.84it/s]\n"
     ]
    },
    {
     "name": "stdout",
     "output_type": "stream",
     "text": [
      "{'tomo_id': 'tomo_3b7a22', 'Z': 800, 'Y': 928, 'X': 960, 'voxel_spacing': 13.1, 'ori_num_motors': 0, 'num_motors': 0, 'ZA': 10480.0, 'YA': 12156.8, 'XA': 12576.0, 'V': 712704000, 'VA': 1602223448063.9998, 'motor_z': -1.0, 'motor_y': -1.0, 'motor_x': -1.0, 'motor_zA': -13.1, 'motor_yA': -13.1, 'motor_xA': -13.1, 'motor_zyx': '[]', 'motor_zyxA': '[]'}\n",
      "(800, 928, 960)\n",
      "max new shape: [661, 1853, 1737]\n",
      "scale: 1.9967672413793103\n",
      "Return (1597, 1853, 1916) uint8\n",
      "-----------------------------------\n",
      "\n",
      "\n"
     ]
    },
    {
     "name": "stderr",
     "output_type": "stream",
     "text": [
      "Saving tomo_3b7a22: 100%|██████████████████████████████████████████████████████████████████| 1597/1597 [00:22<00:00, 71.65it/s]\n"
     ]
    },
    {
     "name": "stdout",
     "output_type": "stream",
     "text": [
      "{'tomo_id': 'tomo_56b9a3', 'Z': 300, 'Y': 928, 'X': 928, 'voxel_spacing': 13.1, 'ori_num_motors': 1, 'num_motors': 1, 'ZA': 3930.0, 'YA': 12156.8, 'XA': 12156.8, 'V': 258355200, 'VA': 580805999923.2, 'motor_z': 60.0, 'motor_y': 299.0, 'motor_x': 498.0, 'motor_zA': 786.0, 'motor_yA': 3916.9, 'motor_xA': 6523.8, 'motor_zyx': '[[60.0, 299.0, 498.0]]', 'motor_zyxA': '[[786.0, 3916.9, 6523.8]]'}\n",
      "(300, 928, 928)\n",
      "max new shape: [658, 2026, 1514]\n",
      "scale: 2.1933333333333334\n",
      "Return (658, 2035, 2035) uint8\n",
      "-----------------------------------\n",
      "\n",
      "\n"
     ]
    },
    {
     "name": "stderr",
     "output_type": "stream",
     "text": [
      "Saving tomo_56b9a3: 100%|████████████████████████████████████████████████████████████████████| 658/658 [00:08<00:00, 73.72it/s]\n"
     ]
    },
    {
     "name": "stdout",
     "output_type": "stream",
     "text": [
      "{'tomo_id': 'tomo_b0ded6', 'Z': 500, 'Y': 924, 'X': 956, 'voxel_spacing': 19.7, 'ori_num_motors': 2, 'num_motors': 2, 'ZA': 9850.0, 'YA': 18202.8, 'XA': 18833.2, 'V': 441672000, 'VA': 3376747183656.0, 'motor_z': 267.0, 'motor_y': 343.0, 'motor_x': 834.0, 'motor_zA': 5259.9, 'motor_yA': 6757.099999999999, 'motor_xA': 16429.8, 'motor_zyx': '[[267.0, 343.0, 834.0], [247.0, 335.0, 838.0]]', 'motor_zyxA': '[[5259.9, 6757.099999999999, 16429.8], [4865.9, 6599.5, 16508.6]]'}\n",
      "(500, 924, 956)\n",
      "max new shape: [672, 1851, 1751]\n",
      "scale: 2.0032467532467533\n",
      "Return (1001, 1851, 1915) uint8\n",
      "-----------------------------------\n",
      "\n",
      "\n"
     ]
    },
    {
     "name": "stderr",
     "output_type": "stream",
     "text": [
      "Saving tomo_b0ded6: 100%|██████████████████████████████████████████████████████████████████| 1001/1001 [00:13<00:00, 72.89it/s]\n"
     ]
    },
    {
     "name": "stdout",
     "output_type": "stream",
     "text": [
      "{'tomo_id': 'tomo_b98cf6', 'Z': 800, 'Y': 928, 'X': 960, 'voxel_spacing': 13.1, 'ori_num_motors': 0, 'num_motors': 0, 'ZA': 10480.0, 'YA': 12156.8, 'XA': 12576.0, 'V': 712704000, 'VA': 1602223448063.9998, 'motor_z': -1.0, 'motor_y': -1.0, 'motor_x': -1.0, 'motor_zA': -13.1, 'motor_yA': -13.1, 'motor_xA': -13.1, 'motor_zyx': '[]', 'motor_zyxA': '[]'}\n",
      "(800, 928, 960)\n",
      "max new shape: [564, 2210, 1471]\n",
      "scale: 2.3814655172413794\n"
     ]
    }
   ],
   "source": [
    "device = torch.device('cpu')\n",
    "\n",
    "os.makedirs('/home/dangnh36/datasets/.comp/byu/processed/pseudo_test/tomograms', exist_ok=False)\n",
    "\n",
    "new_rows = []\n",
    "for row_idx, row in enumerate(df.sample(20).iter_rows(named = True)):\n",
    "    print(row)\n",
    "    tomo_id = row['tomo_id']\n",
    "\n",
    "    tomo_dir = os.path.join('/home/dangnh36/datasets/.comp/byu/raw/train/', tomo_id)\n",
    "\n",
    "    # read ori tomo\n",
    "    tomo = tomo_loader.load(tomo_dir)\n",
    "    ori_shape = tomo.shape  # ZYX\n",
    "    print(ori_shape)\n",
    "    MAX_SHAPE = (450, 1500, 1200)\n",
    "    max_new_shape = [(random.randrange(int(new * 1.2), int(new*1.5))) for new in MAX_SHAPE]\n",
    "    print('max new shape:', max_new_shape)\n",
    "    scale = max([ new/old for new, old in zip(max_new_shape, ori_shape)])\n",
    "    print('scale:', scale)\n",
    "\n",
    "    new_tomo = F.interpolate(\n",
    "            torch.from_numpy(tomo).to(device)[None, None].float(),\n",
    "            size=None,\n",
    "            scale_factor=scale,\n",
    "            mode='trilinear',\n",
    "            align_corners=None,\n",
    "            recompute_scale_factor=False,\n",
    "    )[0, 0]\n",
    "    new_tomo = torch.clip(new_tomo, 0, 255.0).to(torch.uint8).cpu().numpy()\n",
    "    print('Return', new_tomo.shape, new_tomo.dtype)\n",
    "\n",
    "    # scale the annotations too\n",
    "    new_row = deepcopy(row)\n",
    "    new_row['Z'] = new_tomo.shape[0]\n",
    "    new_row['Y'] = new_tomo.shape[1]\n",
    "    new_row['X'] = new_tomo.shape[2]\n",
    "    new_row['voxel_spacing'] /= scale\n",
    "    new_row['V'] *= (scale ** 3)\n",
    "    if row['motor_z'] != -1:\n",
    "        new_row['motor_z'] *= scale\n",
    "        new_row['motor_y'] *= scale\n",
    "        new_row['motor_x'] *= scale\n",
    "    new_rows.append(new_row)\n",
    "    print('-----------------------------------\\n\\n')\n",
    "\n",
    "    tomo_dir = f'/home/dangnh36/datasets/.comp/byu/processed/pseudo_test/tomograms/{tomo_id}'\n",
    "    os.makedirs(tomo_dir, exist_ok=False)\n",
    "    for z_idx in tqdm(range(new_tomo.shape[0]), desc = f'Saving {tomo_id}'):\n",
    "        slice_img = new_tomo[z_idx]\n",
    "        fname = os.path.join(tomo_dir, f\"slice_{z_idx:04d}.jpg\")\n",
    "        cv2.imwrite(fname, slice_img)\n",
    "\n",
    "new_df = pl.DataFrame(new_rows)\n",
    "new_df = new_df.select(pl.col(['tomo_id', 'Z', 'Y', 'X', 'voxel_spacing', 'ori_num_motors', 'num_motors', 'motor_z', 'motor_y', 'motor_x']))\n",
    "new_df.write_csv('/home/dangnh36/datasets/.comp/byu/processed/pseudo_test/gt.csv')"
   ]
  },
  {
   "cell_type": "code",
   "execution_count": null,
   "id": "73b25194-efe1-4d4b-a66a-6b88d4c18320",
   "metadata": {},
   "outputs": [],
   "source": []
  },
  {
   "cell_type": "code",
   "execution_count": 7,
   "id": "0375189d-2e04-4992-ac5a-5f3685f4cb51",
   "metadata": {},
   "outputs": [],
   "source": [
    "!rm -rf /home/dangnh36/datasets/.comp/byu/processed/pseudo_test/"
   ]
  },
  {
   "cell_type": "code",
   "execution_count": null,
   "id": "143fdd14-d090-4d52-abe4-c8693e76ca03",
   "metadata": {},
   "outputs": [],
   "source": []
  },
  {
   "cell_type": "code",
   "execution_count": null,
   "id": "7e56da28-36f2-49a0-9c45-557ce332ae69",
   "metadata": {},
   "outputs": [],
   "source": []
  },
  {
   "cell_type": "code",
   "execution_count": null,
   "id": "51040a15-65fe-4be5-af17-b79ff1af9823",
   "metadata": {},
   "outputs": [],
   "source": []
  },
  {
   "cell_type": "code",
   "execution_count": null,
   "id": "522313fd-92aa-4a83-8cf0-70e0a77fcd17",
   "metadata": {},
   "outputs": [],
   "source": []
  },
  {
   "cell_type": "code",
   "execution_count": null,
   "id": "4191d36e-1193-4a1b-9ea7-b791b90f3dfb",
   "metadata": {},
   "outputs": [],
   "source": []
  },
  {
   "cell_type": "code",
   "execution_count": null,
   "id": "021ce58d-1638-4415-83b1-1f2e0cc7e5d7",
   "metadata": {},
   "outputs": [],
   "source": []
  },
  {
   "cell_type": "code",
   "execution_count": null,
   "id": "cda4d0f8-8ee9-486b-b3df-c5deddef860a",
   "metadata": {},
   "outputs": [],
   "source": []
  },
  {
   "cell_type": "code",
   "execution_count": null,
   "id": "af3b4dca-b573-48d2-be9e-242df0caf8ca",
   "metadata": {},
   "outputs": [],
   "source": []
  },
  {
   "cell_type": "code",
   "execution_count": null,
   "id": "af6fae41-a2ce-4f08-b5e5-5a2d45262ea9",
   "metadata": {},
   "outputs": [],
   "source": []
  },
  {
   "cell_type": "code",
   "execution_count": null,
   "id": "d6cb3deb-35ab-4159-a003-b0d073bcbe9a",
   "metadata": {},
   "outputs": [],
   "source": []
  },
  {
   "cell_type": "code",
   "execution_count": null,
   "id": "c6d299a3-0e5d-4ffe-be7b-a9f1da813d5e",
   "metadata": {},
   "outputs": [],
   "source": []
  },
  {
   "cell_type": "code",
   "execution_count": null,
   "id": "41761996-4ee8-4b60-8d25-01f2b43ed562",
   "metadata": {},
   "outputs": [],
   "source": []
  },
  {
   "cell_type": "code",
   "execution_count": null,
   "id": "c644f014-9a53-49ad-936d-f0218d1b41f2",
   "metadata": {},
   "outputs": [],
   "source": []
  },
  {
   "cell_type": "code",
   "execution_count": null,
   "id": "44c5b99d-cec0-4158-be3e-b5f2c7a5ca0b",
   "metadata": {},
   "outputs": [],
   "source": []
  },
  {
   "cell_type": "code",
   "execution_count": null,
   "id": "1d72f0d9-ea1c-43a4-8e62-7b5952c89906",
   "metadata": {},
   "outputs": [],
   "source": []
  },
  {
   "cell_type": "code",
   "execution_count": null,
   "id": "d62ac61c-6d7b-4a78-9049-ab97d48e1f3d",
   "metadata": {},
   "outputs": [],
   "source": []
  },
  {
   "cell_type": "code",
   "execution_count": null,
   "id": "3a032f98-1d9f-4c2a-ab17-46cbab3c37d7",
   "metadata": {},
   "outputs": [],
   "source": []
  },
  {
   "cell_type": "code",
   "execution_count": null,
   "id": "26a3e145-9d5a-4c7e-a2df-9869f4aeac89",
   "metadata": {},
   "outputs": [],
   "source": []
  },
  {
   "cell_type": "code",
   "execution_count": null,
   "id": "84c5d862-f918-46fb-ba07-c2ebadfbf4f7",
   "metadata": {},
   "outputs": [],
   "source": []
  },
  {
   "cell_type": "code",
   "execution_count": null,
   "id": "b33dced3-2c10-4ce1-a89f-c47fc4c0d038",
   "metadata": {},
   "outputs": [],
   "source": []
  },
  {
   "cell_type": "code",
   "execution_count": null,
   "id": "8736c891-23b4-46fd-8a15-a2dad0d78b7f",
   "metadata": {},
   "outputs": [],
   "source": []
  },
  {
   "cell_type": "code",
   "execution_count": null,
   "id": "486239fe-5796-4e38-8f74-a8765617288a",
   "metadata": {},
   "outputs": [],
   "source": []
  },
  {
   "cell_type": "code",
   "execution_count": null,
   "id": "bbf8f2aa-3b8e-427a-8a03-2db1a6dd5bfb",
   "metadata": {},
   "outputs": [],
   "source": []
  },
  {
   "cell_type": "code",
   "execution_count": null,
   "id": "4d759c62-c8da-4d0b-a4dc-7109b23e9050",
   "metadata": {},
   "outputs": [],
   "source": []
  },
  {
   "cell_type": "code",
   "execution_count": null,
   "id": "d05ce886-783b-434a-b0a1-85e39c59fd75",
   "metadata": {},
   "outputs": [],
   "source": []
  },
  {
   "cell_type": "code",
   "execution_count": null,
   "id": "7d4cbe67-6d4c-4b14-a340-3f02b75abd16",
   "metadata": {},
   "outputs": [],
   "source": []
  },
  {
   "cell_type": "code",
   "execution_count": null,
   "id": "47aab9e5-955e-45a5-bf2b-03e5646bf28c",
   "metadata": {},
   "outputs": [],
   "source": []
  }
 ],
 "metadata": {
  "kernelspec": {
   "display_name": "Python 3 (ipykernel)",
   "language": "python",
   "name": "python3"
  },
  "language_info": {
   "codemirror_mode": {
    "name": "ipython",
    "version": 3
   },
   "file_extension": ".py",
   "mimetype": "text/x-python",
   "name": "python",
   "nbconvert_exporter": "python",
   "pygments_lexer": "ipython3",
   "version": "3.11.10"
  }
 },
 "nbformat": 4,
 "nbformat_minor": 5
}
