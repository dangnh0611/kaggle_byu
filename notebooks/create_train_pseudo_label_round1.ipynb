{
 "cells": [
  {
   "cell_type": "code",
   "execution_count": null,
   "id": "3b1a7c6b-f6b2-4f26-98b9-86fad22457b6",
   "metadata": {
    "editable": true,
    "slideshow": {
     "slide_type": ""
    },
    "tags": []
   },
   "outputs": [],
   "source": []
  },
  {
   "cell_type": "code",
   "execution_count": 3,
   "id": "613fc960-7869-4415-9d7c-53d617682155",
   "metadata": {
    "editable": true,
    "slideshow": {
     "slide_type": ""
    },
    "tags": []
   },
   "outputs": [],
   "source": [
    "import xml.etree.ElementTree as ET\n",
    "import polars as pl"
   ]
  },
  {
   "cell_type": "code",
   "execution_count": 3,
   "id": "c051c54f-39ae-4d46-92b4-181566d6022c",
   "metadata": {
    "editable": true,
    "slideshow": {
     "slide_type": ""
    },
    "tags": []
   },
   "outputs": [],
   "source": [
    "def parse_cvat_tag_annotations(xml_file_path):\n",
    "    \"\"\"\n",
    "    Parse a CVAT annotation XML file and return a dictionary mapping filenames to tags.\n",
    "    \n",
    "    Args:\n",
    "        xml_file_path: Path to the CVAT annotation XML file\n",
    "        \n",
    "    Returns:\n",
    "        dict: A dictionary with filenames as keys and lists of tags as values\n",
    "    \"\"\"\n",
    "    # Parse the XML file\n",
    "    tree = ET.parse(xml_file_path)\n",
    "    root = tree.getroot()\n",
    "    \n",
    "    # Create a dictionary to store the results\n",
    "    filename_to_tags = {}\n",
    "    \n",
    "    # Iterate through all image elements\n",
    "    for image in root.findall('.//image'):\n",
    "        # Get the filename from the 'name' attribute\n",
    "        filename = image.get('name')\n",
    "        \n",
    "        # Initialize an empty list for this filename\n",
    "        tags = []\n",
    "        \n",
    "        # Find all tag elements for this image\n",
    "        for tag in image.findall('./tag'):\n",
    "            # Get the label attribute\n",
    "            label = tag.get('label')\n",
    "            if label:\n",
    "                tags.append(label)\n",
    "        \n",
    "        # Add the filename and its tags to the dictionary\n",
    "        filename_to_tags[filename] = tags\n",
    "    \n",
    "    return filename_to_tags"
   ]
  },
  {
   "cell_type": "code",
   "execution_count": 4,
   "id": "75286b77-7cac-46fb-89cb-0c049de5c263",
   "metadata": {},
   "outputs": [
    {
     "name": "stdout",
     "output_type": "stream",
     "text": [
      "{'FP/FP-1-tomo_0333fa-300x960x928-spacing16.799999237060547.jpg': ['0'], 'FP/FP-102-tomo_d0d9b6-800x927x959-spacing13.100000381469727.jpg': ['1'], 'FP/FP-102-tomo_d31c96-800x928x960-spacing13.100000381469727.jpg': ['1', '2'], 'FP/FP-103-tomo_dbc66d-300x960x928-spacing16.799999237060547.jpg': ['0'], 'FP/FP-105-tomo_dae195-800x928x960-spacing16.100000381469727.jpg': [], 'FP/FP-105-tomo_e2a336-800x928x928-spacing19.299999237060547.jpg': ['1'], 'FP/FP-106-tomo_e32b81-300x960x928-spacing15.600000381469727.jpg': ['0'], 'FP/FP-107-tomo_e2da77-800x928x960-spacing13.100000381469727.jpg': ['1'], 'FP/FP-108-tomo_e72e60-300x960x928-spacing13.100000381469727.jpg': ['1'], 'FP/FP-109-tomo_dd36c9-500x924x956-spacing16.100000381469727.jpg': ['0'], 'FP/FP-11-tomo_172f08-800x928x960-spacing13.100000381469727.jpg': ['1'], 'FP/FP-11-tomo_1da0da-800x928x960-spacing13.100000381469727.jpg': ['1'], 'FP/FP-110-tomo_e0739f-300x960x928-spacing16.799999237060547.jpg': ['0'], 'FP/FP-110-tomo_e96200-300x928x928-spacing16.799999237060547.jpg': ['0'], 'FP/FP-111-tomo_e1a034-300x960x928-spacing19.200000762939453.jpg': ['0'], 'FP/FP-112-tomo_ef1a1a-300x960x928-spacing19.200000762939453.jpg': ['0'], 'FP/FP-114-tomo_ecbc12-800x928x960-spacing13.100000381469727.jpg': ['1'], 'FP/FP-115-tomo_f82a15-500x924x956-spacing16.100000381469727.jpg': ['0'], 'FP/FP-115-tomo_f8b835-800x928x960-spacing13.100000381469727.jpg': ['0'], 'FP/FP-116-tomo_f94504-500x924x956-spacing16.100000381469727.jpg': ['1'], 'FP/FP-116-tomo_fbb49b-300x960x928-spacing16.799999237060547.jpg': ['0'], 'FP/FP-117-tomo_f1bf2f-800x928x960-spacing13.100000381469727.jpg': ['0'], 'FP/FP-117-tomo_fa5d78-800x928x960-spacing13.100000381469727.jpg': ['0'], 'FP/FP-119-tomo_fe85f6-800x928x960-spacing13.100000381469727.jpg': ['1'], 'FP/FP-119-tomo_fea6e8-300x960x928-spacing16.799999237060547.jpg': ['0'], 'FP/FP-120-tomo_ff7c20-800x928x960-spacing13.100000381469727.jpg': ['1'], 'FP/FP-13-tomo_136c8d-500x924x956-spacing19.700000762939453.jpg': ['0'], 'FP/FP-14-tomo_1dc5f9-500x924x956-spacing19.700000762939453.jpg': ['1'], 'FP/FP-15-tomo_28f9c1-500x924x956-spacing16.100000381469727.jpg': ['1'], 'FP/FP-16-tomo_23c8a4-300x960x928-spacing16.799999237060547.jpg': ['1', '3'], 'FP/FP-18-tomo_2aeb29-800x927x959-spacing13.100000381469727.jpg': ['0'], 'FP/FP-19-tomo_2b996c-300x960x928-spacing16.799999237060547.jpg': ['0'], 'FP/FP-20-tomo_2cace2-300x960x928-spacing16.799999237060547.jpg': ['0'], 'FP/FP-24-tomo_39b15b-500x924x956-spacing16.100000381469727.jpg': ['0'], 'FP/FP-25-tomo_285454-300x956x924-spacing16.100000381469727.jpg': ['0'], 'FP/FP-26-tomo_2a89bb-800x928x960-spacing16.100000381469727.jpg': ['1'], 'FP/FP-26-tomo_3b1cc9-300x960x928-spacing13.100000381469727.jpg': ['1'], 'FP/FP-28-tomo_2c9f35-300x960x928-spacing16.799999237060547.jpg': ['1'], 'FP/FP-28-tomo_464108-800x928x928-spacing13.100000381469727.jpg': ['1'], 'FP/FP-3-tomo_040b80-600x928x960-spacing16.100000381469727.jpg': ['1'], 'FP/FP-3-tomo_098751-500x924x956-spacing16.100000381469727.jpg': ['0'], 'FP/FP-30-tomo_2dd6bd-300x928x928-spacing16.799999237060547.jpg': ['0'], 'FP/FP-31-tomo_2fb12d-300x960x928-spacing16.799999237060547.jpg': ['0'], 'FP/FP-32-tomo_4c1ca8-800x928x960-spacing13.100000381469727.jpg': ['0'], 'FP/FP-33-tomo_4d528f-800x928x960-spacing16.100000381469727.jpg': ['1'], 'FP/FP-33-tomo_50f0bf-500x924x956-spacing16.100000381469727.jpg': ['1'], 'FP/FP-34-tomo_466489-300x960x928-spacing16.799999237060547.jpg': ['1'], 'FP/FP-34-tomo_4e41c2-800x927x959-spacing13.100000381469727.jpg': ['0'], 'FP/FP-34-tomo_5308e8-800x928x960-spacing16.100000381469727.jpg': ['1'], 'FP/FP-35-tomo_47ac94-300x960x928-spacing15.600000381469727.jpg': ['1', '2'], 'FP/FP-36-tomo_47d380-800x928x960-spacing13.100000381469727.jpg': ['0'], 'FP/FP-37-tomo_4e3e37-800x928x960-spacing13.100000381469727.jpg': ['0'], 'FP/FP-37-tomo_569981-800x928x928-spacing13.100000381469727.jpg': ['1'], 'FP/FP-4-tomo_049310-500x924x956-spacing19.700000762939453.jpg': ['0'], 'FP/FP-40-tomo_4f5a7b-300x960x928-spacing13.100000381469727.jpg': ['1'], 'FP/FP-40-tomo_61e947-800x928x960-spacing13.100000381469727.jpg': ['0'], 'FP/FP-41-tomo_4baff0-500x924x956-spacing16.100000381469727.jpg': ['1'], 'FP/FP-41-tomo_512f98-800x928x960-spacing13.100000381469727.jpg': ['0'], 'FP/FP-41-tomo_646049-300x960x928-spacing15.600000381469727.jpg': ['1'], 'FP/FP-42-tomo_4e1b18-500x924x956-spacing19.700000762939453.jpg': ['1', '2', '3'], 'FP/FP-43-tomo_54e1a7-300x928x928-spacing16.799999237060547.jpg': ['1'], 'FP/FP-44-tomo_50cbd9-800x928x960-spacing13.100000381469727.jpg': ['1'], 'FP/FP-45-tomo_5984bf-800x928x960-spacing13.100000381469727.jpg': ['0'], 'FP/FP-45-tomo_69d7c9-300x960x928-spacing16.799999237060547.jpg': ['1'], 'FP/FP-47-tomo_53c71b-800x928x960-spacing13.100000381469727.jpg': ['1'], 'FP/FP-47-tomo_5f34b3-500x924x956-spacing19.700000762939453.jpg': ['0'], 'FP/FP-47-tomo_6607ec-300x960x928-spacing15.600000381469727.jpg': ['0'], 'FP/FP-5-tomo_06e11e-300x960x928-spacing15.600000381469727.jpg': ['1'], 'FP/FP-5-tomo_08a6d6-800x928x960-spacing13.100000381469727.jpg': ['0'], 'FP/FP-5-tomo_0d4c9e-300x960x928-spacing15.600000381469727.jpg': ['0'], 'FP/FP-51-tomo_5b8db4-800x928x960-spacing13.100000381469727.jpg': ['0'], 'FP/FP-52-tomo_746d88-800x928x928-spacing19.299999237060547.jpg': ['0'], 'FP/FP-53-tomo_6943e6-300x960x928-spacing16.799999237060547.jpg': ['1', '3'], 'FP/FP-53-tomo_6a6a3b-800x928x960-spacing13.100000381469727.jpg': ['0'], 'FP/FP-53-tomo_78b03d-300x960x928-spacing16.799999237060547.jpg': ['0'], 'FP/FP-54-tomo_6a84b7-800x928x960-spacing13.100000381469727.jpg': ['0'], 'FP/FP-54-tomo_88af60-500x1024x1440-spacing13.300000190734863.jpg': ['0'], 'FP/FP-55-tomo_6521dc-300x960x928-spacing15.600000381469727.jpg': ['1', '2', '3'], 'FP/FP-57-tomo_6bb452-800x928x960-spacing13.100000381469727.jpg': ['0'], 'FP/FP-57-tomo_8634ee-800x928x960-spacing13.100000381469727.jpg': ['1'], 'FP/FP-57-tomo_8e4919-300x960x928-spacing15.600000381469727.jpg': ['0'], 'FP/FP-58-tomo_72b187-300x960x928-spacing13.100000381469727.jpg': ['1'], 'FP/FP-59-tomo_935f8a-300x960x928-spacing16.799999237060547.jpg': ['0'], 'FP/FP-6-tomo_0eb41e-300x960x928-spacing16.799999237060547.jpg': ['0'], 'FP/FP-61-tomo_80bf0f-500x960x928-spacing16.799999237060547.jpg': ['0'], 'FP/FP-62-tomo_736dfa-800x927x959-spacing13.100000381469727.jpg': ['0'], 'FP/FP-62-tomo_971966-500x924x956-spacing16.100000381469727.jpg': ['1', '2', '3'], 'FP/FP-65-tomo_7fa3b1-300x960x928-spacing19.200000762939453.jpg': ['0'], 'FP/FP-65-tomo_974fd4-300x928x928-spacing16.799999237060547.jpg': ['1'], 'FP/FP-68-tomo_85708b-800x928x960-spacing16.100000381469727.jpg': ['0'], 'FP/FP-68-tomo_9ae65f-500x924x956-spacing19.700000762939453.jpg': ['1'], 'FP/FP-7-tomo_0c2749-300x960x928-spacing15.600000381469727.jpg': ['0'], 'FP/FP-70-tomo_ab804d-800x928x960-spacing13.100000381469727.jpg': ['1'], 'FP/FP-72-tomo_a3ed10-800x928x960-spacing13.100000381469727.jpg': ['0'], 'FP/FP-73-tomo_aeaf51-500x1024x1440-spacing13.300000190734863.jpg': ['0'], 'FP/FP-76-tomo_97876d-800x928x960-spacing13.100000381469727.jpg': ['1'], 'FP/FP-77-tomo_ab78d0-800x928x960-spacing13.100000381469727.jpg': ['1'], 'FP/FP-77-tomo_ac9fef-500x924x956-spacing19.700000762939453.jpg': ['1'], 'FP/FP-78-tomo_9aee96-800x928x960-spacing13.100000381469727.jpg': ['0'], 'FP/FP-78-tomo_b10aa4-300x960x928-spacing15.600000381469727.jpg': ['0'], 'FP/FP-79-tomo_9dbc12-500x924x956-spacing16.100000381469727.jpg': ['0'], 'FP/FP-8-tomo_16fce8-300x960x928-spacing15.600000381469727.jpg': ['0'], 'FP/FP-80-tomo_b2b342-300x960x928-spacing15.600000381469727.jpg': ['0'], 'FP/FP-81-tomo_a4f419-800x928x960-spacing16.100000381469727.jpg': ['0'], 'FP/FP-81-tomo_b2eb0c-500x1024x1440-spacing13.300000190734863.jpg': ['0'], 'FP/FP-83-tomo_a2a928-300x960x928-spacing16.799999237060547.jpg': ['1'], 'FP/FP-83-tomo_a6646f-800x928x960-spacing13.100000381469727.jpg': ['0'], 'FP/FP-83-tomo_b7becf-800x927x959-spacing13.100000381469727.jpg': ['0'], 'FP/FP-83-tomo_c13fbf-500x924x956-spacing19.700000762939453.jpg': ['0'], 'FP/FP-84-tomo_b87c8e-300x960x928-spacing13.100000381469727.jpg': ['1'], 'FP/FP-85-tomo_bad724-800x928x960-spacing13.100000381469727.jpg': ['1'], 'FP/FP-85-tomo_bb5ac1-300x960x928-spacing16.799999237060547.jpg': ['0'], 'FP/FP-87-tomo_bd42fa-500x928x960-spacing13.100000381469727.jpg': ['1'], 'FP/FP-88-tomo_aff073-500x924x956-spacing16.100000381469727.jpg': ['1', '2', '3'], 'FP/FP-88-tomo_c6f50a-300x960x928-spacing16.799999237060547.jpg': ['1'], 'FP/FP-89-tomo_b11ddc-300x960x928-spacing19.200000762939453.jpg': ['0'], 'FP/FP-90-tomo_c38e83-500x928x960-spacing13.100000381469727.jpg': ['0'], 'FP/FP-90-tomo_c925ee-800x927x959-spacing13.100000381469727.jpg': ['0'], 'FP/FP-91-tomo_c4bfe2-800x928x960-spacing13.100000381469727.jpg': ['1'], 'FP/FP-92-tomo_cabaa0-500x924x956-spacing19.700000762939453.jpg': ['1'], 'FP/FP-93-tomo_bfd5ea-500x924x956-spacing16.100000381469727.jpg': ['0'], 'FP/FP-94-tomo_bdc097-300x960x928-spacing16.799999237060547.jpg': ['1', '2'], 'FP/FP-94-tomo_cf5bfc-800x928x960-spacing13.100000381469727.jpg': ['0'], 'FP/FP-95-tomo_c4db00-300x960x928-spacing13.100000381469727.jpg': ['0'], 'FP/FP-97-tomo_c9d07c-500x924x956-spacing16.100000381469727.jpg': ['0'], 'FP/FP-97-tomo_d0699e-300x960x928-spacing16.799999237060547.jpg': ['0'], 'FP/FP-98-tomo_cb5ec6-800x928x960-spacing16.100000381469727.jpg': ['0'], 'FP/FP-98-tomo_d5465a-800x928x960-spacing13.100000381469727.jpg': ['0'], 'FP/FP-98-tomo_d5aa20-800x928x960-spacing16.100000381469727.jpg': ['1']}\n"
     ]
    }
   ],
   "source": [
    "# Example usage\n",
    "anno = parse_cvat_tag_annotations(\"/home/dangnh36/datasets/.comp/byu/processed/pseudo_label/round1/annotations.xml\")\n",
    "print(anno)"
   ]
  },
  {
   "cell_type": "code",
   "execution_count": 5,
   "id": "6afa888a-7be3-46db-9a45-d2ee867171f2",
   "metadata": {},
   "outputs": [
    {
     "name": "stdout",
     "output_type": "stream",
     "text": [
      "129\n",
      "{'tomo_0333fa': [0], 'tomo_d0d9b6': [1], 'tomo_d31c96': [1, 2], 'tomo_dbc66d': [0], 'tomo_dae195': [], 'tomo_e2a336': [1], 'tomo_e32b81': [0], 'tomo_e2da77': [1], 'tomo_e72e60': [1], 'tomo_dd36c9': [0], 'tomo_172f08': [1], 'tomo_1da0da': [1], 'tomo_e0739f': [0], 'tomo_e96200': [0], 'tomo_e1a034': [0], 'tomo_ef1a1a': [0], 'tomo_ecbc12': [1], 'tomo_f82a15': [0], 'tomo_f8b835': [0], 'tomo_f94504': [1], 'tomo_fbb49b': [0], 'tomo_f1bf2f': [0], 'tomo_fa5d78': [0], 'tomo_fe85f6': [1], 'tomo_fea6e8': [0], 'tomo_ff7c20': [1], 'tomo_136c8d': [0], 'tomo_1dc5f9': [1], 'tomo_28f9c1': [1], 'tomo_23c8a4': [1, 3], 'tomo_2aeb29': [0], 'tomo_2b996c': [0], 'tomo_2cace2': [0], 'tomo_39b15b': [0], 'tomo_285454': [0], 'tomo_2a89bb': [1], 'tomo_3b1cc9': [1], 'tomo_2c9f35': [1], 'tomo_464108': [1], 'tomo_040b80': [1], 'tomo_098751': [0], 'tomo_2dd6bd': [0], 'tomo_2fb12d': [0], 'tomo_4c1ca8': [0], 'tomo_4d528f': [1], 'tomo_50f0bf': [1], 'tomo_466489': [1], 'tomo_4e41c2': [0], 'tomo_5308e8': [1], 'tomo_47ac94': [1, 2], 'tomo_47d380': [0], 'tomo_4e3e37': [0], 'tomo_569981': [1], 'tomo_049310': [0], 'tomo_4f5a7b': [1], 'tomo_61e947': [0], 'tomo_4baff0': [1], 'tomo_512f98': [0], 'tomo_646049': [1], 'tomo_4e1b18': [1, 2, 3], 'tomo_54e1a7': [1], 'tomo_50cbd9': [1], 'tomo_5984bf': [0], 'tomo_69d7c9': [1], 'tomo_53c71b': [1], 'tomo_5f34b3': [0], 'tomo_6607ec': [0], 'tomo_06e11e': [1], 'tomo_08a6d6': [0], 'tomo_0d4c9e': [0], 'tomo_5b8db4': [0], 'tomo_746d88': [0], 'tomo_6943e6': [1, 3], 'tomo_6a6a3b': [0], 'tomo_78b03d': [0], 'tomo_6a84b7': [0], 'tomo_88af60': [0], 'tomo_6521dc': [1, 2, 3], 'tomo_6bb452': [0], 'tomo_8634ee': [1], 'tomo_8e4919': [0], 'tomo_72b187': [1], 'tomo_935f8a': [0], 'tomo_0eb41e': [0], 'tomo_80bf0f': [0], 'tomo_736dfa': [0], 'tomo_971966': [1, 2, 3], 'tomo_7fa3b1': [0], 'tomo_974fd4': [1], 'tomo_85708b': [0], 'tomo_9ae65f': [1], 'tomo_0c2749': [0], 'tomo_ab804d': [1], 'tomo_a3ed10': [0], 'tomo_aeaf51': [0], 'tomo_97876d': [1], 'tomo_ab78d0': [1], 'tomo_ac9fef': [1], 'tomo_9aee96': [0], 'tomo_b10aa4': [0], 'tomo_9dbc12': [0], 'tomo_16fce8': [0], 'tomo_b2b342': [0], 'tomo_a4f419': [0], 'tomo_b2eb0c': [0], 'tomo_a2a928': [1], 'tomo_a6646f': [0], 'tomo_b7becf': [0], 'tomo_c13fbf': [0], 'tomo_b87c8e': [1], 'tomo_bad724': [1], 'tomo_bb5ac1': [0], 'tomo_bd42fa': [1], 'tomo_aff073': [1, 2, 3], 'tomo_c6f50a': [1], 'tomo_b11ddc': [0], 'tomo_c38e83': [0], 'tomo_c925ee': [0], 'tomo_c4bfe2': [1], 'tomo_cabaa0': [1], 'tomo_bfd5ea': [0], 'tomo_bdc097': [1, 2], 'tomo_cf5bfc': [0], 'tomo_c4db00': [0], 'tomo_c9d07c': [0], 'tomo_d0699e': [0], 'tomo_cb5ec6': [0], 'tomo_d5465a': [0], 'tomo_d5aa20': [1]}\n"
     ]
    }
   ],
   "source": [
    "anno = {\n",
    "    k.split('-')[2]: [int(e) for e in v] for k, v in anno.items()\n",
    "}\n",
    "print(len(anno))\n",
    "print(anno)"
   ]
  },
  {
   "cell_type": "code",
   "execution_count": 6,
   "id": "acbbe5ca-5550-47d3-956b-2e82c99e0d07",
   "metadata": {},
   "outputs": [],
   "source": [
    "# with corrected FN, not using CVAT\n",
    "anno.update({\n",
    "    'tomo_401341': [0, 1],\n",
    "    'tomo_2b3cdf': [0, 1],\n",
    "    'tomo_fe050c': [0, 1],\n",
    "    'tomo_5b34b2': [0, 1],\n",
    "})"
   ]
  },
  {
   "cell_type": "code",
   "execution_count": 17,
   "id": "5012dd6a-34db-46e0-885e-1d4b69ab5c55",
   "metadata": {},
   "outputs": [
    {
     "data": {
      "text/plain": [
       "133"
      ]
     },
     "execution_count": 17,
     "metadata": {},
     "output_type": "execute_result"
    }
   ],
   "source": [
    "len(anno)"
   ]
  },
  {
   "cell_type": "code",
   "execution_count": 7,
   "id": "90172600-1bc6-4965-9318-3b4395af6e21",
   "metadata": {},
   "outputs": [
    {
     "name": "stdout",
     "output_type": "stream",
     "text": [
      "60\n",
      "17\n"
     ]
    }
   ],
   "source": [
    "print(len([v for v in anno.values() if v!= [0]]))\n",
    "print(sum([len(v) - 1 for v in anno.values() if len(v) > 1]))"
   ]
  },
  {
   "cell_type": "code",
   "execution_count": null,
   "id": "48f6c495-fbf3-4b97-b6a3-79bfefe94c2a",
   "metadata": {},
   "outputs": [],
   "source": []
  },
  {
   "cell_type": "code",
   "execution_count": null,
   "id": "7c5f109a-8701-4ed9-b4e7-073ac6db31ad",
   "metadata": {},
   "outputs": [],
   "source": []
  },
  {
   "cell_type": "code",
   "execution_count": null,
   "id": "c3f332cb-cc62-4a06-9516-2ac32e341432",
   "metadata": {},
   "outputs": [],
   "source": []
  },
  {
   "cell_type": "code",
   "execution_count": 8,
   "id": "86602252-f649-482e-9697-3f6fec1f5132",
   "metadata": {},
   "outputs": [
    {
     "name": "stdout",
     "output_type": "stream",
     "text": [
      "Fold 0: (152, 6)\n",
      "Fold 1: (164, 6)\n",
      "Fold 2: (152, 6)\n",
      "Fold 3: (159, 6)\n",
      "Fold 4: (166, 6)\n"
     ]
    },
    {
     "data": {
      "text/html": [
       "<div><style>\n",
       ".dataframe > thead > tr,\n",
       ".dataframe > tbody > tr {\n",
       "  text-align: right;\n",
       "  white-space: pre-wrap;\n",
       "}\n",
       "</style>\n",
       "<small>shape: (793, 6)</small><table border=\"1\" class=\"dataframe\"><thead><tr><th>tomo_id</th><th>motor_z</th><th>motor_y</th><th>motor_x</th><th>conf</th><th>fold</th></tr><tr><td>str</td><td>f64</td><td>f64</td><td>f64</td><td>f64</td><td>i32</td></tr></thead><tbody><tr><td>&quot;tomo_19a313&quot;</td><td>72.8125</td><td>600.5</td><td>297.5</td><td>0.706055</td><td>0</td></tr><tr><td>&quot;tomo_05f919&quot;</td><td>118.5</td><td>463.0</td><td>840.5</td><td>0.70459</td><td>0</td></tr><tr><td>&quot;tomo_05f919&quot;</td><td>126.6875</td><td>684.5</td><td>890.0</td><td>0.48877</td><td>0</td></tr><tr><td>&quot;tomo_16136a&quot;</td><td>140.5</td><td>567.0</td><td>430.0</td><td>0.254639</td><td>0</td></tr><tr><td>&quot;tomo_0e9757&quot;</td><td>-1.0</td><td>-1.0</td><td>-1.0</td><td>0.0</td><td>0</td></tr><tr><td>&hellip;</td><td>&hellip;</td><td>&hellip;</td><td>&hellip;</td><td>&hellip;</td><td>&hellip;</td></tr><tr><td>&quot;tomo_fb08b5&quot;</td><td>102.0625</td><td>676.5</td><td>553.5</td><td>0.734863</td><td>4</td></tr><tr><td>&quot;tomo_fbb49b&quot;</td><td>140.5</td><td>407.0</td><td>346.25</td><td>0.058685</td><td>4</td></tr><tr><td>&quot;tomo_fc3c39&quot;</td><td>125.1875</td><td>536.5</td><td>491.0</td><td>0.662109</td><td>4</td></tr><tr><td>&quot;tomo_fc5ae4&quot;</td><td>23.921875</td><td>512.5</td><td>307.25</td><td>0.4140625</td><td>4</td></tr><tr><td>&quot;tomo_fea6e8&quot;</td><td>102.375</td><td>628.0</td><td>430.0</td><td>0.086975</td><td>4</td></tr></tbody></table></div>"
      ],
      "text/plain": [
       "shape: (793, 6)\n",
       "┌─────────────┬───────────┬─────────┬─────────┬───────────┬──────┐\n",
       "│ tomo_id     ┆ motor_z   ┆ motor_y ┆ motor_x ┆ conf      ┆ fold │\n",
       "│ ---         ┆ ---       ┆ ---     ┆ ---     ┆ ---       ┆ ---  │\n",
       "│ str         ┆ f64       ┆ f64     ┆ f64     ┆ f64       ┆ i32  │\n",
       "╞═════════════╪═══════════╪═════════╪═════════╪═══════════╪══════╡\n",
       "│ tomo_19a313 ┆ 72.8125   ┆ 600.5   ┆ 297.5   ┆ 0.706055  ┆ 0    │\n",
       "│ tomo_05f919 ┆ 118.5     ┆ 463.0   ┆ 840.5   ┆ 0.70459   ┆ 0    │\n",
       "│ tomo_05f919 ┆ 126.6875  ┆ 684.5   ┆ 890.0   ┆ 0.48877   ┆ 0    │\n",
       "│ tomo_16136a ┆ 140.5     ┆ 567.0   ┆ 430.0   ┆ 0.254639  ┆ 0    │\n",
       "│ tomo_0e9757 ┆ -1.0      ┆ -1.0    ┆ -1.0    ┆ 0.0       ┆ 0    │\n",
       "│ …           ┆ …         ┆ …       ┆ …       ┆ …         ┆ …    │\n",
       "│ tomo_fb08b5 ┆ 102.0625  ┆ 676.5   ┆ 553.5   ┆ 0.734863  ┆ 4    │\n",
       "│ tomo_fbb49b ┆ 140.5     ┆ 407.0   ┆ 346.25  ┆ 0.058685  ┆ 4    │\n",
       "│ tomo_fc3c39 ┆ 125.1875  ┆ 536.5   ┆ 491.0   ┆ 0.662109  ┆ 4    │\n",
       "│ tomo_fc5ae4 ┆ 23.921875 ┆ 512.5   ┆ 307.25  ┆ 0.4140625 ┆ 4    │\n",
       "│ tomo_fea6e8 ┆ 102.375   ┆ 628.0   ┆ 430.0   ┆ 0.086975  ┆ 4    │\n",
       "└─────────────┴───────────┴─────────┴─────────┴───────────┴──────┘"
      ]
     },
     "execution_count": 8,
     "metadata": {},
     "output_type": "execute_result"
    }
   ],
   "source": [
    "dfs = []\n",
    "\n",
    "for fold_idx in range(5):\n",
    "    csv_path = f'/home/dangnh36/datasets/.comp/byu/processed/pseudo_label/round1/fold{fold_idx}.csv'\n",
    "    df = pl.scan_csv(csv_path).with_columns(pl.lit(fold_idx).alias('fold')).collect()\n",
    "    print(f'Fold {fold_idx}: {df.shape}')\n",
    "    dfs.append(df)\n",
    "pseudo_df = pl.concat(dfs)\n",
    "pseudo_df"
   ]
  },
  {
   "cell_type": "code",
   "execution_count": 9,
   "id": "29610686-784e-4007-a6cb-4c55c13d29b2",
   "metadata": {},
   "outputs": [
    {
     "data": {
      "text/plain": [
       "603"
      ]
     },
     "execution_count": 9,
     "metadata": {},
     "output_type": "execute_result"
    }
   ],
   "source": [
    "pseudo_df['tomo_id'].n_unique()"
   ]
  },
  {
   "cell_type": "code",
   "execution_count": null,
   "id": "bd931b89-e729-4fbc-a377-4df6f309410d",
   "metadata": {},
   "outputs": [],
   "source": []
  },
  {
   "cell_type": "code",
   "execution_count": null,
   "id": "f5811408-5342-4d93-912a-6b8ea2da2cd4",
   "metadata": {},
   "outputs": [],
   "source": []
  },
  {
   "cell_type": "code",
   "execution_count": null,
   "id": "9ecb54ab-206b-4301-9246-425ede2a17ef",
   "metadata": {},
   "outputs": [],
   "source": []
  },
  {
   "cell_type": "code",
   "execution_count": 10,
   "id": "cfdcb2e8-fd32-4c77-b85c-2cd7907e003a",
   "metadata": {},
   "outputs": [
    {
     "data": {
      "text/html": [
       "<div><style>\n",
       ".dataframe > thead > tr,\n",
       ".dataframe > tbody > tr {\n",
       "  text-align: right;\n",
       "  white-space: pre-wrap;\n",
       "}\n",
       "</style>\n",
       "<small>shape: (737, 12)</small><table border=\"1\" class=\"dataframe\"><thead><tr><th>row_id</th><th>tomo_id</th><th>Motor axis 0</th><th>Motor axis 1</th><th>Motor axis 2</th><th>Array shape (axis 0)</th><th>Array shape (axis 1)</th><th>Array shape (axis 2)</th><th>Voxel spacing</th><th>Number of motors</th><th>source</th><th>conf</th></tr><tr><td>i64</td><td>str</td><td>f64</td><td>f64</td><td>f64</td><td>i64</td><td>i64</td><td>i64</td><td>f64</td><td>i64</td><td>str</td><td>f64</td></tr></thead><tbody><tr><td>0</td><td>&quot;tomo_003acc&quot;</td><td>-1.0</td><td>-1.0</td><td>-1.0</td><td>500</td><td>1912</td><td>1847</td><td>6.5</td><td>0</td><td>&quot;origin&quot;</td><td>1.0</td></tr><tr><td>1</td><td>&quot;tomo_00e047&quot;</td><td>169.0</td><td>546.0</td><td>603.0</td><td>300</td><td>959</td><td>928</td><td>15.6</td><td>1</td><td>&quot;origin&quot;</td><td>1.0</td></tr><tr><td>2</td><td>&quot;tomo_00e463&quot;</td><td>235.0</td><td>403.0</td><td>137.0</td><td>500</td><td>924</td><td>956</td><td>19.7</td><td>6</td><td>&quot;origin&quot;</td><td>1.0</td></tr><tr><td>3</td><td>&quot;tomo_00e463&quot;</td><td>243.0</td><td>363.0</td><td>153.0</td><td>500</td><td>924</td><td>956</td><td>19.7</td><td>6</td><td>&quot;origin&quot;</td><td>1.0</td></tr><tr><td>4</td><td>&quot;tomo_00e463&quot;</td><td>222.0</td><td>379.0</td><td>144.0</td><td>500</td><td>924</td><td>956</td><td>19.7</td><td>6</td><td>&quot;origin&quot;</td><td>1.0</td></tr><tr><td>&hellip;</td><td>&hellip;</td><td>&hellip;</td><td>&hellip;</td><td>&hellip;</td><td>&hellip;</td><td>&hellip;</td><td>&hellip;</td><td>&hellip;</td><td>&hellip;</td><td>&hellip;</td><td>&hellip;</td></tr><tr><td>732</td><td>&quot;tomo_fe050c&quot;</td><td>138.0</td><td>134.0</td><td>542.0</td><td>300</td><td>959</td><td>928</td><td>15.6</td><td>1</td><td>&quot;origin&quot;</td><td>1.0</td></tr><tr><td>733</td><td>&quot;tomo_fe85f6&quot;</td><td>-1.0</td><td>-1.0</td><td>-1.0</td><td>800</td><td>928</td><td>960</td><td>13.1</td><td>0</td><td>&quot;origin&quot;</td><td>1.0</td></tr><tr><td>734</td><td>&quot;tomo_fea6e8&quot;</td><td>-1.0</td><td>-1.0</td><td>-1.0</td><td>300</td><td>960</td><td>928</td><td>16.8</td><td>0</td><td>&quot;origin&quot;</td><td>1.0</td></tr><tr><td>735</td><td>&quot;tomo_ff505c&quot;</td><td>111.0</td><td>816.0</td><td>678.0</td><td>300</td><td>959</td><td>928</td><td>15.6</td><td>1</td><td>&quot;origin&quot;</td><td>1.0</td></tr><tr><td>736</td><td>&quot;tomo_ff7c20&quot;</td><td>-1.0</td><td>-1.0</td><td>-1.0</td><td>800</td><td>928</td><td>960</td><td>13.1</td><td>0</td><td>&quot;origin&quot;</td><td>1.0</td></tr></tbody></table></div>"
      ],
      "text/plain": [
       "shape: (737, 12)\n",
       "┌────────┬─────────────┬────────────────┬────────────────┬───┬─────────┬───────────┬────────┬──────┐\n",
       "│ row_id ┆ tomo_id     ┆ Motor axis 0   ┆ Motor axis 1   ┆ … ┆ Voxel   ┆ Number of ┆ source ┆ conf │\n",
       "│ ---    ┆ ---         ┆ ---            ┆ ---            ┆   ┆ spacing ┆ motors    ┆ ---    ┆ ---  │\n",
       "│ i64    ┆ str         ┆ f64            ┆ f64            ┆   ┆ ---     ┆ ---       ┆ str    ┆ f64  │\n",
       "│        ┆             ┆                ┆                ┆   ┆ f64     ┆ i64       ┆        ┆      │\n",
       "╞════════╪═════════════╪════════════════╪════════════════╪═══╪═════════╪═══════════╪════════╪══════╡\n",
       "│ 0      ┆ tomo_003acc ┆ -1.0           ┆ -1.0           ┆ … ┆ 6.5     ┆ 0         ┆ origin ┆ 1.0  │\n",
       "│ 1      ┆ tomo_00e047 ┆ 169.0          ┆ 546.0          ┆ … ┆ 15.6    ┆ 1         ┆ origin ┆ 1.0  │\n",
       "│ 2      ┆ tomo_00e463 ┆ 235.0          ┆ 403.0          ┆ … ┆ 19.7    ┆ 6         ┆ origin ┆ 1.0  │\n",
       "│ 3      ┆ tomo_00e463 ┆ 243.0          ┆ 363.0          ┆ … ┆ 19.7    ┆ 6         ┆ origin ┆ 1.0  │\n",
       "│ 4      ┆ tomo_00e463 ┆ 222.0          ┆ 379.0          ┆ … ┆ 19.7    ┆ 6         ┆ origin ┆ 1.0  │\n",
       "│ …      ┆ …           ┆ …              ┆ …              ┆ … ┆ …       ┆ …         ┆ …      ┆ …    │\n",
       "│ 732    ┆ tomo_fe050c ┆ 138.0          ┆ 134.0          ┆ … ┆ 15.6    ┆ 1         ┆ origin ┆ 1.0  │\n",
       "│ 733    ┆ tomo_fe85f6 ┆ -1.0           ┆ -1.0           ┆ … ┆ 13.1    ┆ 0         ┆ origin ┆ 1.0  │\n",
       "│ 734    ┆ tomo_fea6e8 ┆ -1.0           ┆ -1.0           ┆ … ┆ 16.8    ┆ 0         ┆ origin ┆ 1.0  │\n",
       "│ 735    ┆ tomo_ff505c ┆ 111.0          ┆ 816.0          ┆ … ┆ 15.6    ┆ 1         ┆ origin ┆ 1.0  │\n",
       "│ 736    ┆ tomo_ff7c20 ┆ -1.0           ┆ -1.0           ┆ … ┆ 13.1    ┆ 0         ┆ origin ┆ 1.0  │\n",
       "└────────┴─────────────┴────────────────┴────────────────┴───┴─────────┴───────────┴────────┴──────┘"
      ]
     },
     "execution_count": 10,
     "metadata": {},
     "output_type": "execute_result"
    }
   ],
   "source": [
    "gt_df = pl.scan_csv('/home/dangnh36/datasets/.comp/byu/raw/train_labels.csv').with_columns(\n",
    "    pl.lit('origin').alias('source'),\n",
    "    pl.lit(1.0).alias('conf')\n",
    ").collect()\n",
    "gt_df"
   ]
  },
  {
   "cell_type": "code",
   "execution_count": null,
   "id": "4ddeba65-8fc8-4586-b948-c8229fd155fc",
   "metadata": {},
   "outputs": [],
   "source": []
  },
  {
   "cell_type": "code",
   "execution_count": 11,
   "id": "5e46d3a3-4465-4b31-928c-d53aed11bc0e",
   "metadata": {},
   "outputs": [
    {
     "data": {
      "text/html": [
       "<div><style>\n",
       ".dataframe > thead > tr,\n",
       ".dataframe > tbody > tr {\n",
       "  text-align: right;\n",
       "  white-space: pre-wrap;\n",
       "}\n",
       "</style>\n",
       "<small>shape: (754, 12)</small><table border=\"1\" class=\"dataframe\"><thead><tr><th>row_id</th><th>tomo_id</th><th>Motor axis 0</th><th>Motor axis 1</th><th>Motor axis 2</th><th>Array shape (axis 0)</th><th>Array shape (axis 1)</th><th>Array shape (axis 2)</th><th>Voxel spacing</th><th>Number of motors</th><th>source</th><th>conf</th></tr><tr><td>u32</td><td>str</td><td>f64</td><td>f64</td><td>f64</td><td>i64</td><td>i64</td><td>i64</td><td>f64</td><td>i64</td><td>str</td><td>f64</td></tr></thead><tbody><tr><td>0</td><td>&quot;tomo_003acc&quot;</td><td>-1.0</td><td>-1.0</td><td>-1.0</td><td>500</td><td>1912</td><td>1847</td><td>6.5</td><td>0</td><td>&quot;origin&quot;</td><td>1.0</td></tr><tr><td>1</td><td>&quot;tomo_00e047&quot;</td><td>169.0</td><td>546.0</td><td>603.0</td><td>300</td><td>959</td><td>928</td><td>15.6</td><td>1</td><td>&quot;origin&quot;</td><td>1.0</td></tr><tr><td>2</td><td>&quot;tomo_00e463&quot;</td><td>235.0</td><td>403.0</td><td>137.0</td><td>500</td><td>924</td><td>956</td><td>19.7</td><td>6</td><td>&quot;origin&quot;</td><td>1.0</td></tr><tr><td>3</td><td>&quot;tomo_00e463&quot;</td><td>243.0</td><td>363.0</td><td>153.0</td><td>500</td><td>924</td><td>956</td><td>19.7</td><td>6</td><td>&quot;origin&quot;</td><td>1.0</td></tr><tr><td>4</td><td>&quot;tomo_00e463&quot;</td><td>222.0</td><td>379.0</td><td>144.0</td><td>500</td><td>924</td><td>956</td><td>19.7</td><td>6</td><td>&quot;origin&quot;</td><td>1.0</td></tr><tr><td>&hellip;</td><td>&hellip;</td><td>&hellip;</td><td>&hellip;</td><td>&hellip;</td><td>&hellip;</td><td>&hellip;</td><td>&hellip;</td><td>&hellip;</td><td>&hellip;</td><td>&hellip;</td><td>&hellip;</td></tr><tr><td>749</td><td>&quot;tomo_fe050c&quot;</td><td>143.125</td><td>93.875</td><td>405.75</td><td>300</td><td>959</td><td>928</td><td>15.6</td><td>1</td><td>&quot;round1&quot;</td><td>0.655273</td></tr><tr><td>750</td><td>&quot;tomo_fe85f6&quot;</td><td>463.5</td><td>903.5</td><td>747.0</td><td>800</td><td>928</td><td>960</td><td>13.1</td><td>0</td><td>&quot;round1&quot;</td><td>0.329102</td></tr><tr><td>751</td><td>&quot;tomo_fea6e8&quot;</td><td>-1.0</td><td>-1.0</td><td>-1.0</td><td>300</td><td>960</td><td>928</td><td>16.8</td><td>0</td><td>&quot;round1&quot;</td><td>1.0</td></tr><tr><td>752</td><td>&quot;tomo_ff505c&quot;</td><td>111.0</td><td>816.0</td><td>678.0</td><td>300</td><td>959</td><td>928</td><td>15.6</td><td>1</td><td>&quot;origin&quot;</td><td>1.0</td></tr><tr><td>753</td><td>&quot;tomo_ff7c20&quot;</td><td>307.25</td><td>493.0</td><td>63.0</td><td>800</td><td>928</td><td>960</td><td>13.1</td><td>0</td><td>&quot;round1&quot;</td><td>0.679199</td></tr></tbody></table></div>"
      ],
      "text/plain": [
       "shape: (754, 12)\n",
       "┌────────┬─────────────┬─────────────┬─────────────┬───┬─────────┬─────────────┬────────┬──────────┐\n",
       "│ row_id ┆ tomo_id     ┆ Motor axis  ┆ Motor axis  ┆ … ┆ Voxel   ┆ Number of   ┆ source ┆ conf     │\n",
       "│ ---    ┆ ---         ┆ 0           ┆ 1           ┆   ┆ spacing ┆ motors      ┆ ---    ┆ ---      │\n",
       "│ u32    ┆ str         ┆ ---         ┆ ---         ┆   ┆ ---     ┆ ---         ┆ str    ┆ f64      │\n",
       "│        ┆             ┆ f64         ┆ f64         ┆   ┆ f64     ┆ i64         ┆        ┆          │\n",
       "╞════════╪═════════════╪═════════════╪═════════════╪═══╪═════════╪═════════════╪════════╪══════════╡\n",
       "│ 0      ┆ tomo_003acc ┆ -1.0        ┆ -1.0        ┆ … ┆ 6.5     ┆ 0           ┆ origin ┆ 1.0      │\n",
       "│ 1      ┆ tomo_00e047 ┆ 169.0       ┆ 546.0       ┆ … ┆ 15.6    ┆ 1           ┆ origin ┆ 1.0      │\n",
       "│ 2      ┆ tomo_00e463 ┆ 235.0       ┆ 403.0       ┆ … ┆ 19.7    ┆ 6           ┆ origin ┆ 1.0      │\n",
       "│ 3      ┆ tomo_00e463 ┆ 243.0       ┆ 363.0       ┆ … ┆ 19.7    ┆ 6           ┆ origin ┆ 1.0      │\n",
       "│ 4      ┆ tomo_00e463 ┆ 222.0       ┆ 379.0       ┆ … ┆ 19.7    ┆ 6           ┆ origin ┆ 1.0      │\n",
       "│ …      ┆ …           ┆ …           ┆ …           ┆ … ┆ …       ┆ …           ┆ …      ┆ …        │\n",
       "│ 749    ┆ tomo_fe050c ┆ 143.125     ┆ 93.875      ┆ … ┆ 15.6    ┆ 1           ┆ round1 ┆ 0.655273 │\n",
       "│ 750    ┆ tomo_fe85f6 ┆ 463.5       ┆ 903.5       ┆ … ┆ 13.1    ┆ 0           ┆ round1 ┆ 0.329102 │\n",
       "│ 751    ┆ tomo_fea6e8 ┆ -1.0        ┆ -1.0        ┆ … ┆ 16.8    ┆ 0           ┆ round1 ┆ 1.0      │\n",
       "│ 752    ┆ tomo_ff505c ┆ 111.0       ┆ 816.0       ┆ … ┆ 15.6    ┆ 1           ┆ origin ┆ 1.0      │\n",
       "│ 753    ┆ tomo_ff7c20 ┆ 307.25      ┆ 493.0       ┆ … ┆ 13.1    ┆ 0           ┆ round1 ┆ 0.679199 │\n",
       "└────────┴─────────────┴─────────────┴─────────────┴───┴─────────┴─────────────┴────────┴──────────┘"
      ]
     },
     "execution_count": 11,
     "metadata": {},
     "output_type": "execute_result"
    }
   ],
   "source": [
    "NEW_SOURCE = 'round1'\n",
    "\n",
    "new_rows = []\n",
    "\n",
    "for (tomo_id, ), tomo_gt in gt_df.group_by('tomo_id', maintain_order=True):\n",
    "    # print(tomo_id, len(tomo_gt), type(tomo_gt))\n",
    "    if tomo_id in anno and len(anno[tomo_id]) > 0:\n",
    "        tags = anno[tomo_id]\n",
    "        assert len(tags) > 0\n",
    "        assert len(tomo_gt) == 1\n",
    "        # assert tomo_gt[0, 'Motor axis 0'] == tomo_gt[0, 'Motor axis 1'] == tomo_gt[0, 'Motor axis 2'] == -1.0\n",
    "        pseudo_label = pseudo_df.filter(pl.col('tomo_id') == tomo_id)\n",
    "        assert all([0<=e<=5 for e in tags])            \n",
    "        \n",
    "        for tag in tags:\n",
    "            if tag == 0:\n",
    "                # 0 mean keep the current GT with posibly more pos annotations\n",
    "                # if GT is negative, still be negative, no change\n",
    "                if len(tomo_gt) == 1 and tomo_gt[0, 'Motor axis 2'] == -1.0:\n",
    "                    # ensure [0] is the only tag\n",
    "                    assert len(tags) == 1 and tags[0] == 0\n",
    "                assert len(tomo_gt) == 1\n",
    "                # assert tomo_gt[0, 'Motor axis 2'] == -1.0\n",
    "                new_row = tomo_gt.clone()\n",
    "                new_row = new_row.with_columns(\n",
    "                    pl.lit(NEW_SOURCE).alias('source')\n",
    "                )\n",
    "                new_rows.append(new_row)\n",
    "            else:\n",
    "                new_row = tomo_gt.clone()\n",
    "                assert len(new_row) == 1\n",
    "                pseudo_row = pseudo_label[tag-1]\n",
    "                assert len(pseudo_row) == 1\n",
    "                new_row[0, 'Motor axis 0'] = pseudo_row[0, 'motor_z']\n",
    "                new_row[0, 'Motor axis 1'] = pseudo_row[0, 'motor_y']\n",
    "                new_row[0, 'Motor axis 2'] = pseudo_row[0, 'motor_x']\n",
    "                new_row[0, 'source'] = NEW_SOURCE\n",
    "                new_row[0, 'conf'] = pseudo_row[0, 'conf']\n",
    "                new_rows.append(new_row)\n",
    "    else:\n",
    "        new_rows.append(tomo_gt)\n",
    "        # if len(tomo_gt) > 1:\n",
    "        #     print('ting!')\n",
    "\n",
    "new_df = pl.concat(new_rows).select(pl.col('*').exclude('row_id')).with_row_index('row_id')\n",
    "new_df"
   ]
  },
  {
   "cell_type": "code",
   "execution_count": null,
   "id": "4f285fb6-cf49-4422-a4b8-7df0da77fbd7",
   "metadata": {},
   "outputs": [],
   "source": []
  },
  {
   "cell_type": "code",
   "execution_count": null,
   "id": "eed85e84-206e-48ee-a1e7-b3d50a91d376",
   "metadata": {},
   "outputs": [],
   "source": []
  },
  {
   "cell_type": "code",
   "execution_count": 12,
   "id": "42e472f9-a0da-486d-aa0b-7a603dc45a77",
   "metadata": {},
   "outputs": [
    {
     "data": {
      "text/html": [
       "<div><style>\n",
       ".dataframe > thead > tr,\n",
       ".dataframe > tbody > tr {\n",
       "  text-align: right;\n",
       "  white-space: pre-wrap;\n",
       "}\n",
       "</style>\n",
       "<small>shape: (754, 12)</small><table border=\"1\" class=\"dataframe\"><thead><tr><th>row_id</th><th>tomo_id</th><th>Motor axis 0</th><th>Motor axis 1</th><th>Motor axis 2</th><th>Array shape (axis 0)</th><th>Array shape (axis 1)</th><th>Array shape (axis 2)</th><th>Voxel spacing</th><th>Number of motors</th><th>source</th><th>conf</th></tr><tr><td>u32</td><td>str</td><td>f64</td><td>f64</td><td>f64</td><td>i64</td><td>i64</td><td>i64</td><td>f64</td><td>i64</td><td>str</td><td>f64</td></tr></thead><tbody><tr><td>0</td><td>&quot;tomo_003acc&quot;</td><td>-1.0</td><td>-1.0</td><td>-1.0</td><td>500</td><td>1912</td><td>1847</td><td>6.5</td><td>0</td><td>&quot;origin&quot;</td><td>1.0</td></tr><tr><td>1</td><td>&quot;tomo_00e047&quot;</td><td>169.0</td><td>546.0</td><td>603.0</td><td>300</td><td>959</td><td>928</td><td>15.6</td><td>1</td><td>&quot;origin&quot;</td><td>1.0</td></tr><tr><td>2</td><td>&quot;tomo_00e463&quot;</td><td>235.0</td><td>403.0</td><td>137.0</td><td>500</td><td>924</td><td>956</td><td>19.7</td><td>6</td><td>&quot;origin&quot;</td><td>1.0</td></tr><tr><td>3</td><td>&quot;tomo_00e463&quot;</td><td>243.0</td><td>363.0</td><td>153.0</td><td>500</td><td>924</td><td>956</td><td>19.7</td><td>6</td><td>&quot;origin&quot;</td><td>1.0</td></tr><tr><td>4</td><td>&quot;tomo_00e463&quot;</td><td>222.0</td><td>379.0</td><td>144.0</td><td>500</td><td>924</td><td>956</td><td>19.7</td><td>6</td><td>&quot;origin&quot;</td><td>1.0</td></tr><tr><td>&hellip;</td><td>&hellip;</td><td>&hellip;</td><td>&hellip;</td><td>&hellip;</td><td>&hellip;</td><td>&hellip;</td><td>&hellip;</td><td>&hellip;</td><td>&hellip;</td><td>&hellip;</td><td>&hellip;</td></tr><tr><td>749</td><td>&quot;tomo_fe050c&quot;</td><td>143.125</td><td>93.875</td><td>405.75</td><td>300</td><td>959</td><td>928</td><td>15.6</td><td>1</td><td>&quot;round1&quot;</td><td>0.655273</td></tr><tr><td>750</td><td>&quot;tomo_fe85f6&quot;</td><td>463.5</td><td>903.5</td><td>747.0</td><td>800</td><td>928</td><td>960</td><td>13.1</td><td>0</td><td>&quot;round1&quot;</td><td>0.329102</td></tr><tr><td>751</td><td>&quot;tomo_fea6e8&quot;</td><td>-1.0</td><td>-1.0</td><td>-1.0</td><td>300</td><td>960</td><td>928</td><td>16.8</td><td>0</td><td>&quot;round1&quot;</td><td>1.0</td></tr><tr><td>752</td><td>&quot;tomo_ff505c&quot;</td><td>111.0</td><td>816.0</td><td>678.0</td><td>300</td><td>959</td><td>928</td><td>15.6</td><td>1</td><td>&quot;origin&quot;</td><td>1.0</td></tr><tr><td>753</td><td>&quot;tomo_ff7c20&quot;</td><td>307.25</td><td>493.0</td><td>63.0</td><td>800</td><td>928</td><td>960</td><td>13.1</td><td>0</td><td>&quot;round1&quot;</td><td>0.679199</td></tr></tbody></table></div>"
      ],
      "text/plain": [
       "shape: (754, 12)\n",
       "┌────────┬─────────────┬─────────────┬─────────────┬───┬─────────┬─────────────┬────────┬──────────┐\n",
       "│ row_id ┆ tomo_id     ┆ Motor axis  ┆ Motor axis  ┆ … ┆ Voxel   ┆ Number of   ┆ source ┆ conf     │\n",
       "│ ---    ┆ ---         ┆ 0           ┆ 1           ┆   ┆ spacing ┆ motors      ┆ ---    ┆ ---      │\n",
       "│ u32    ┆ str         ┆ ---         ┆ ---         ┆   ┆ ---     ┆ ---         ┆ str    ┆ f64      │\n",
       "│        ┆             ┆ f64         ┆ f64         ┆   ┆ f64     ┆ i64         ┆        ┆          │\n",
       "╞════════╪═════════════╪═════════════╪═════════════╪═══╪═════════╪═════════════╪════════╪══════════╡\n",
       "│ 0      ┆ tomo_003acc ┆ -1.0        ┆ -1.0        ┆ … ┆ 6.5     ┆ 0           ┆ origin ┆ 1.0      │\n",
       "│ 1      ┆ tomo_00e047 ┆ 169.0       ┆ 546.0       ┆ … ┆ 15.6    ┆ 1           ┆ origin ┆ 1.0      │\n",
       "│ 2      ┆ tomo_00e463 ┆ 235.0       ┆ 403.0       ┆ … ┆ 19.7    ┆ 6           ┆ origin ┆ 1.0      │\n",
       "│ 3      ┆ tomo_00e463 ┆ 243.0       ┆ 363.0       ┆ … ┆ 19.7    ┆ 6           ┆ origin ┆ 1.0      │\n",
       "│ 4      ┆ tomo_00e463 ┆ 222.0       ┆ 379.0       ┆ … ┆ 19.7    ┆ 6           ┆ origin ┆ 1.0      │\n",
       "│ …      ┆ …           ┆ …           ┆ …           ┆ … ┆ …       ┆ …           ┆ …      ┆ …        │\n",
       "│ 749    ┆ tomo_fe050c ┆ 143.125     ┆ 93.875      ┆ … ┆ 15.6    ┆ 1           ┆ round1 ┆ 0.655273 │\n",
       "│ 750    ┆ tomo_fe85f6 ┆ 463.5       ┆ 903.5       ┆ … ┆ 13.1    ┆ 0           ┆ round1 ┆ 0.329102 │\n",
       "│ 751    ┆ tomo_fea6e8 ┆ -1.0        ┆ -1.0        ┆ … ┆ 16.8    ┆ 0           ┆ round1 ┆ 1.0      │\n",
       "│ 752    ┆ tomo_ff505c ┆ 111.0       ┆ 816.0       ┆ … ┆ 15.6    ┆ 1           ┆ origin ┆ 1.0      │\n",
       "│ 753    ┆ tomo_ff7c20 ┆ 307.25      ┆ 493.0       ┆ … ┆ 13.1    ┆ 0           ┆ round1 ┆ 0.679199 │\n",
       "└────────┴─────────────┴─────────────┴─────────────┴───┴─────────┴─────────────┴────────┴──────────┘"
      ]
     },
     "execution_count": 12,
     "metadata": {},
     "output_type": "execute_result"
    }
   ],
   "source": [
    "new_df"
   ]
  },
  {
   "cell_type": "code",
   "execution_count": 13,
   "id": "7e1bbb54-aaea-4bfd-87ab-62a3ca2ed037",
   "metadata": {},
   "outputs": [
    {
     "data": {
      "text/html": [
       "<div><style>\n",
       ".dataframe > thead > tr,\n",
       ".dataframe > tbody > tr {\n",
       "  text-align: right;\n",
       "  white-space: pre-wrap;\n",
       "}\n",
       "</style>\n",
       "<small>shape: (3, 12)</small><table border=\"1\" class=\"dataframe\"><thead><tr><th>row_id</th><th>tomo_id</th><th>Motor axis 0</th><th>Motor axis 1</th><th>Motor axis 2</th><th>Array shape (axis 0)</th><th>Array shape (axis 1)</th><th>Array shape (axis 2)</th><th>Voxel spacing</th><th>Number of motors</th><th>source</th><th>conf</th></tr><tr><td>u32</td><td>str</td><td>f64</td><td>f64</td><td>f64</td><td>i64</td><td>i64</td><td>i64</td><td>f64</td><td>i64</td><td>str</td><td>f64</td></tr></thead><tbody><tr><td>305</td><td>&quot;tomo_6521dc&quot;</td><td>200.5</td><td>463.0</td><td>233.375</td><td>300</td><td>960</td><td>928</td><td>15.6</td><td>0</td><td>&quot;round1&quot;</td><td>0.631348</td></tr><tr><td>306</td><td>&quot;tomo_6521dc&quot;</td><td>126.6875</td><td>693.0</td><td>471.25</td><td>300</td><td>960</td><td>928</td><td>15.6</td><td>0</td><td>&quot;round1&quot;</td><td>0.285645</td></tr><tr><td>307</td><td>&quot;tomo_6521dc&quot;</td><td>151.25</td><td>734.0</td><td>553.5</td><td>300</td><td>960</td><td>928</td><td>15.6</td><td>0</td><td>&quot;round1&quot;</td><td>0.26001</td></tr></tbody></table></div>"
      ],
      "text/plain": [
       "shape: (3, 12)\n",
       "┌────────┬─────────────┬─────────────┬─────────────┬───┬─────────┬─────────────┬────────┬──────────┐\n",
       "│ row_id ┆ tomo_id     ┆ Motor axis  ┆ Motor axis  ┆ … ┆ Voxel   ┆ Number of   ┆ source ┆ conf     │\n",
       "│ ---    ┆ ---         ┆ 0           ┆ 1           ┆   ┆ spacing ┆ motors      ┆ ---    ┆ ---      │\n",
       "│ u32    ┆ str         ┆ ---         ┆ ---         ┆   ┆ ---     ┆ ---         ┆ str    ┆ f64      │\n",
       "│        ┆             ┆ f64         ┆ f64         ┆   ┆ f64     ┆ i64         ┆        ┆          │\n",
       "╞════════╪═════════════╪═════════════╪═════════════╪═══╪═════════╪═════════════╪════════╪══════════╡\n",
       "│ 305    ┆ tomo_6521dc ┆ 200.5       ┆ 463.0       ┆ … ┆ 15.6    ┆ 0           ┆ round1 ┆ 0.631348 │\n",
       "│ 306    ┆ tomo_6521dc ┆ 126.6875    ┆ 693.0       ┆ … ┆ 15.6    ┆ 0           ┆ round1 ┆ 0.285645 │\n",
       "│ 307    ┆ tomo_6521dc ┆ 151.25      ┆ 734.0       ┆ … ┆ 15.6    ┆ 0           ┆ round1 ┆ 0.26001  │\n",
       "└────────┴─────────────┴─────────────┴─────────────┴───┴─────────┴─────────────┴────────┴──────────┘"
      ]
     },
     "execution_count": 13,
     "metadata": {},
     "output_type": "execute_result"
    }
   ],
   "source": [
    "new_df.filter(pl.col('tomo_id') == 'tomo_6521dc')"
   ]
  },
  {
   "cell_type": "code",
   "execution_count": 14,
   "id": "bf6e8262-b49d-4d86-926a-e96e4438644d",
   "metadata": {},
   "outputs": [
    {
     "data": {
      "text/plain": [
       "132"
      ]
     },
     "execution_count": 14,
     "metadata": {},
     "output_type": "execute_result"
    }
   ],
   "source": [
    "new_df.filter(pl.col('source') == 'round1').n_unique('tomo_id')"
   ]
  },
  {
   "cell_type": "code",
   "execution_count": null,
   "id": "08a9c05a-2be0-48fd-a618-a65e5827d94e",
   "metadata": {},
   "outputs": [],
   "source": []
  },
  {
   "cell_type": "code",
   "execution_count": null,
   "id": "b08e6a7d-0de0-4061-a32e-d0922ac3fb24",
   "metadata": {},
   "outputs": [],
   "source": [
    "new_df.write_csv('/home/dangnh36/datasets/.comp/byu/processed/train_labels_v2.csv')"
   ]
  },
  {
   "cell_type": "code",
   "execution_count": null,
   "id": "319c6bfe-9933-4212-81e2-bfc703325760",
   "metadata": {},
   "outputs": [],
   "source": []
  },
  {
   "cell_type": "code",
   "execution_count": null,
   "id": "07666a1c-5d24-40f6-b8d0-8a74c5b07e24",
   "metadata": {},
   "outputs": [],
   "source": []
  },
  {
   "cell_type": "code",
   "execution_count": null,
   "id": "c0bf0430-f647-44a7-8f4a-1aa6fc2f1e38",
   "metadata": {},
   "outputs": [],
   "source": []
  },
  {
   "cell_type": "code",
   "execution_count": null,
   "id": "39c3d1ed-5d51-458f-b228-36ca245e407f",
   "metadata": {},
   "outputs": [],
   "source": []
  },
  {
   "cell_type": "code",
   "execution_count": null,
   "id": "f38aa270-6b8e-40ac-b968-8c7244db7bd2",
   "metadata": {},
   "outputs": [],
   "source": []
  },
  {
   "cell_type": "code",
   "execution_count": null,
   "id": "1cbeeba3-8b2e-4236-acef-f3d65174c549",
   "metadata": {},
   "outputs": [],
   "source": []
  },
  {
   "cell_type": "code",
   "execution_count": null,
   "id": "f749adfe-a669-445a-abd3-8e8d8a3e55a6",
   "metadata": {},
   "outputs": [],
   "source": []
  },
  {
   "cell_type": "code",
   "execution_count": 16,
   "id": "9edad739-2635-4ad7-bc4a-e9a1000453a8",
   "metadata": {},
   "outputs": [],
   "source": []
  },
  {
   "cell_type": "code",
   "execution_count": null,
   "id": "c745b922-7a95-4222-bf30-d8cd7bf58226",
   "metadata": {},
   "outputs": [],
   "source": []
  },
  {
   "cell_type": "code",
   "execution_count": 9,
   "id": "39797c59-fea3-495a-aa41-b185eaf6a05a",
   "metadata": {},
   "outputs": [
    {
     "data": {
      "text/plain": [
       "451"
      ]
     },
     "execution_count": 9,
     "metadata": {},
     "output_type": "execute_result"
    }
   ],
   "source": [
    "pl.read_csv('/home/dangnh36/datasets/.comp/byu/processed/gt.csv')['num_motors'].sum()"
   ]
  },
  {
   "cell_type": "code",
   "execution_count": 11,
   "id": "180ce2c6-a0fe-4787-877b-d681d3fd3e34",
   "metadata": {
    "editable": true,
    "slideshow": {
     "slide_type": ""
    },
    "tags": []
   },
   "outputs": [
    {
     "name": "stdout",
     "output_type": "stream",
     "text": [
      "DF:\n"
     ]
    },
    {
     "data": {
      "text/html": [
       "<div><style>\n",
       ".dataframe > thead > tr,\n",
       ".dataframe > tbody > tr {\n",
       "  text-align: right;\n",
       "  white-space: pre-wrap;\n",
       "}\n",
       "</style>\n",
       "<small>shape: (754, 22)</small><table border=\"1\" class=\"dataframe\"><thead><tr><th>row_id</th><th>tomo_id</th><th>motor_z</th><th>motor_y</th><th>motor_x</th><th>Z</th><th>Y</th><th>X</th><th>voxel_spacing</th><th>ori_num_motors</th><th>source</th><th>conf</th><th>has_motor</th><th>num_motors</th><th>ZA</th><th>YA</th><th>XA</th><th>motor_zA</th><th>motor_yA</th><th>motor_xA</th><th>V</th><th>VA</th></tr><tr><td>i64</td><td>str</td><td>f64</td><td>f64</td><td>f64</td><td>i64</td><td>i64</td><td>i64</td><td>f64</td><td>i64</td><td>str</td><td>f64</td><td>bool</td><td>u32</td><td>f64</td><td>f64</td><td>f64</td><td>f64</td><td>f64</td><td>f64</td><td>i64</td><td>f64</td></tr></thead><tbody><tr><td>0</td><td>&quot;tomo_003acc&quot;</td><td>-1.0</td><td>-1.0</td><td>-1.0</td><td>500</td><td>1912</td><td>1847</td><td>6.5</td><td>0</td><td>&quot;origin&quot;</td><td>1.0</td><td>false</td><td>0</td><td>3250.0</td><td>12428.0</td><td>12005.5</td><td>-6.5</td><td>-6.5</td><td>-6.5</td><td>1765732000</td><td>4.8491e11</td></tr><tr><td>1</td><td>&quot;tomo_00e047&quot;</td><td>169.0</td><td>546.0</td><td>603.0</td><td>300</td><td>959</td><td>928</td><td>15.6</td><td>1</td><td>&quot;origin&quot;</td><td>1.0</td><td>true</td><td>1</td><td>4680.0</td><td>14960.4</td><td>14476.8</td><td>2636.4</td><td>8517.6</td><td>9406.8</td><td>266985600</td><td>1.0136e12</td></tr><tr><td>2</td><td>&quot;tomo_00e463&quot;</td><td>235.0</td><td>403.0</td><td>137.0</td><td>500</td><td>924</td><td>956</td><td>19.7</td><td>6</td><td>&quot;origin&quot;</td><td>1.0</td><td>true</td><td>6</td><td>9850.0</td><td>18202.8</td><td>18833.2</td><td>4629.5</td><td>7939.1</td><td>2698.9</td><td>441672000</td><td>3.3767e12</td></tr><tr><td>3</td><td>&quot;tomo_00e463&quot;</td><td>243.0</td><td>363.0</td><td>153.0</td><td>500</td><td>924</td><td>956</td><td>19.7</td><td>6</td><td>&quot;origin&quot;</td><td>1.0</td><td>true</td><td>6</td><td>9850.0</td><td>18202.8</td><td>18833.2</td><td>4787.1</td><td>7151.1</td><td>3014.1</td><td>441672000</td><td>3.3767e12</td></tr><tr><td>4</td><td>&quot;tomo_00e463&quot;</td><td>222.0</td><td>379.0</td><td>144.0</td><td>500</td><td>924</td><td>956</td><td>19.7</td><td>6</td><td>&quot;origin&quot;</td><td>1.0</td><td>true</td><td>6</td><td>9850.0</td><td>18202.8</td><td>18833.2</td><td>4373.4</td><td>7466.3</td><td>2836.8</td><td>441672000</td><td>3.3767e12</td></tr><tr><td>&hellip;</td><td>&hellip;</td><td>&hellip;</td><td>&hellip;</td><td>&hellip;</td><td>&hellip;</td><td>&hellip;</td><td>&hellip;</td><td>&hellip;</td><td>&hellip;</td><td>&hellip;</td><td>&hellip;</td><td>&hellip;</td><td>&hellip;</td><td>&hellip;</td><td>&hellip;</td><td>&hellip;</td><td>&hellip;</td><td>&hellip;</td><td>&hellip;</td><td>&hellip;</td><td>&hellip;</td></tr><tr><td>749</td><td>&quot;tomo_fe050c&quot;</td><td>143.125</td><td>93.875</td><td>405.75</td><td>300</td><td>959</td><td>928</td><td>15.6</td><td>1</td><td>&quot;round1&quot;</td><td>0.655273</td><td>true</td><td>2</td><td>4680.0</td><td>14960.4</td><td>14476.8</td><td>2232.75</td><td>1464.45</td><td>6329.7</td><td>266985600</td><td>1.0136e12</td></tr><tr><td>750</td><td>&quot;tomo_fe85f6&quot;</td><td>463.5</td><td>903.5</td><td>747.0</td><td>800</td><td>928</td><td>960</td><td>13.1</td><td>0</td><td>&quot;round1&quot;</td><td>0.329102</td><td>true</td><td>1</td><td>10480.0</td><td>12156.8</td><td>12576.0</td><td>6071.85</td><td>11835.85</td><td>9785.7</td><td>712704000</td><td>1.6022e12</td></tr><tr><td>751</td><td>&quot;tomo_fea6e8&quot;</td><td>-1.0</td><td>-1.0</td><td>-1.0</td><td>300</td><td>960</td><td>928</td><td>16.8</td><td>0</td><td>&quot;round1&quot;</td><td>1.0</td><td>false</td><td>0</td><td>5040.0</td><td>16128.0</td><td>15590.4</td><td>-16.8</td><td>-16.8</td><td>-16.8</td><td>267264000</td><td>1.2673e12</td></tr><tr><td>752</td><td>&quot;tomo_ff505c&quot;</td><td>111.0</td><td>816.0</td><td>678.0</td><td>300</td><td>959</td><td>928</td><td>15.6</td><td>1</td><td>&quot;origin&quot;</td><td>1.0</td><td>true</td><td>1</td><td>4680.0</td><td>14960.4</td><td>14476.8</td><td>1731.6</td><td>12729.6</td><td>10576.8</td><td>266985600</td><td>1.0136e12</td></tr><tr><td>753</td><td>&quot;tomo_ff7c20&quot;</td><td>307.25</td><td>493.0</td><td>63.0</td><td>800</td><td>928</td><td>960</td><td>13.1</td><td>0</td><td>&quot;round1&quot;</td><td>0.679199</td><td>true</td><td>1</td><td>10480.0</td><td>12156.8</td><td>12576.0</td><td>4024.975</td><td>6458.3</td><td>825.3</td><td>712704000</td><td>1.6022e12</td></tr></tbody></table></div>"
      ],
      "text/plain": [
       "shape: (754, 22)\n",
       "┌────────┬─────────────┬─────────┬─────────┬───┬──────────┬──────────┬────────────┬───────────┐\n",
       "│ row_id ┆ tomo_id     ┆ motor_z ┆ motor_y ┆ … ┆ motor_yA ┆ motor_xA ┆ V          ┆ VA        │\n",
       "│ ---    ┆ ---         ┆ ---     ┆ ---     ┆   ┆ ---      ┆ ---      ┆ ---        ┆ ---       │\n",
       "│ i64    ┆ str         ┆ f64     ┆ f64     ┆   ┆ f64      ┆ f64      ┆ i64        ┆ f64       │\n",
       "╞════════╪═════════════╪═════════╪═════════╪═══╪══════════╪══════════╪════════════╪═══════════╡\n",
       "│ 0      ┆ tomo_003acc ┆ -1.0    ┆ -1.0    ┆ … ┆ -6.5     ┆ -6.5     ┆ 1765732000 ┆ 4.8491e11 │\n",
       "│ 1      ┆ tomo_00e047 ┆ 169.0   ┆ 546.0   ┆ … ┆ 8517.6   ┆ 9406.8   ┆ 266985600  ┆ 1.0136e12 │\n",
       "│ 2      ┆ tomo_00e463 ┆ 235.0   ┆ 403.0   ┆ … ┆ 7939.1   ┆ 2698.9   ┆ 441672000  ┆ 3.3767e12 │\n",
       "│ 3      ┆ tomo_00e463 ┆ 243.0   ┆ 363.0   ┆ … ┆ 7151.1   ┆ 3014.1   ┆ 441672000  ┆ 3.3767e12 │\n",
       "│ 4      ┆ tomo_00e463 ┆ 222.0   ┆ 379.0   ┆ … ┆ 7466.3   ┆ 2836.8   ┆ 441672000  ┆ 3.3767e12 │\n",
       "│ …      ┆ …           ┆ …       ┆ …       ┆ … ┆ …        ┆ …        ┆ …          ┆ …         │\n",
       "│ 749    ┆ tomo_fe050c ┆ 143.125 ┆ 93.875  ┆ … ┆ 1464.45  ┆ 6329.7   ┆ 266985600  ┆ 1.0136e12 │\n",
       "│ 750    ┆ tomo_fe85f6 ┆ 463.5   ┆ 903.5   ┆ … ┆ 11835.85 ┆ 9785.7   ┆ 712704000  ┆ 1.6022e12 │\n",
       "│ 751    ┆ tomo_fea6e8 ┆ -1.0    ┆ -1.0    ┆ … ┆ -16.8    ┆ -16.8    ┆ 267264000  ┆ 1.2673e12 │\n",
       "│ 752    ┆ tomo_ff505c ┆ 111.0   ┆ 816.0   ┆ … ┆ 12729.6  ┆ 10576.8  ┆ 266985600  ┆ 1.0136e12 │\n",
       "│ 753    ┆ tomo_ff7c20 ┆ 307.25  ┆ 493.0   ┆ … ┆ 6458.3   ┆ 825.3    ┆ 712704000  ┆ 1.6022e12 │\n",
       "└────────┴─────────────┴─────────┴─────────┴───┴──────────┴──────────┴────────────┴───────────┘"
      ]
     },
     "metadata": {},
     "output_type": "display_data"
    },
    {
     "name": "stdout",
     "output_type": "stream",
     "text": [
      "DF2:\n"
     ]
    },
    {
     "data": {
      "text/html": [
       "<div><style>\n",
       ".dataframe > thead > tr,\n",
       ".dataframe > tbody > tr {\n",
       "  text-align: right;\n",
       "  white-space: pre-wrap;\n",
       "}\n",
       "</style>\n",
       "<small>shape: (648, 20)</small><table border=\"1\" class=\"dataframe\"><thead><tr><th>tomo_id</th><th>Z</th><th>Y</th><th>X</th><th>voxel_spacing</th><th>ori_num_motors</th><th>num_motors</th><th>ZA</th><th>YA</th><th>XA</th><th>V</th><th>VA</th><th>motor_z</th><th>motor_y</th><th>motor_x</th><th>motor_zA</th><th>motor_yA</th><th>motor_xA</th><th>motor_zyx</th><th>motor_zyxA</th></tr><tr><td>str</td><td>i64</td><td>i64</td><td>i64</td><td>f64</td><td>i64</td><td>u32</td><td>f64</td><td>f64</td><td>f64</td><td>i64</td><td>f64</td><td>f64</td><td>f64</td><td>f64</td><td>f64</td><td>f64</td><td>f64</td><td>str</td><td>str</td></tr></thead><tbody><tr><td>&quot;tomo_003acc&quot;</td><td>500</td><td>1912</td><td>1847</td><td>6.5</td><td>0</td><td>0</td><td>3250.0</td><td>12428.0</td><td>12005.5</td><td>1765732000</td><td>4.8491e11</td><td>-1.0</td><td>-1.0</td><td>-1.0</td><td>-6.5</td><td>-6.5</td><td>-6.5</td><td>&quot;[]&quot;</td><td>&quot;[]&quot;</td></tr><tr><td>&quot;tomo_00e047&quot;</td><td>300</td><td>959</td><td>928</td><td>15.6</td><td>1</td><td>1</td><td>4680.0</td><td>14960.4</td><td>14476.8</td><td>266985600</td><td>1.0136e12</td><td>169.0</td><td>546.0</td><td>603.0</td><td>2636.4</td><td>8517.6</td><td>9406.8</td><td>&quot;[[169.0, 546.0, 603.0]]&quot;</td><td>&quot;[[2636.4, 8517.6, 9406.8]]&quot;</td></tr><tr><td>&quot;tomo_00e463&quot;</td><td>500</td><td>924</td><td>956</td><td>19.7</td><td>6</td><td>6</td><td>9850.0</td><td>18202.8</td><td>18833.2</td><td>441672000</td><td>3.3767e12</td><td>235.0</td><td>403.0</td><td>137.0</td><td>4629.5</td><td>7939.1</td><td>2698.9</td><td>&quot;[[235.0, 403.0, 137.0], [243.0…</td><td>&quot;[[4629.5, 7939.099999999999, 2…</td></tr><tr><td>&quot;tomo_01a877&quot;</td><td>300</td><td>960</td><td>928</td><td>13.1</td><td>1</td><td>1</td><td>3930.0</td><td>12576.0</td><td>12156.8</td><td>267264000</td><td>6.0083e11</td><td>147.0</td><td>638.0</td><td>286.0</td><td>1925.7</td><td>8357.8</td><td>3746.6</td><td>&quot;[[147.0, 638.0, 286.0]]&quot;</td><td>&quot;[[1925.7, 8357.8, 3746.6]]&quot;</td></tr><tr><td>&quot;tomo_02862f&quot;</td><td>300</td><td>959</td><td>928</td><td>15.6</td><td>1</td><td>1</td><td>4680.0</td><td>14960.4</td><td>14476.8</td><td>266985600</td><td>1.0136e12</td><td>101.0</td><td>351.0</td><td>120.0</td><td>1575.6</td><td>5475.6</td><td>1872.0</td><td>&quot;[[101.0, 351.0, 120.0]]&quot;</td><td>&quot;[[1575.6, 5475.599999999999, 1…</td></tr><tr><td>&hellip;</td><td>&hellip;</td><td>&hellip;</td><td>&hellip;</td><td>&hellip;</td><td>&hellip;</td><td>&hellip;</td><td>&hellip;</td><td>&hellip;</td><td>&hellip;</td><td>&hellip;</td><td>&hellip;</td><td>&hellip;</td><td>&hellip;</td><td>&hellip;</td><td>&hellip;</td><td>&hellip;</td><td>&hellip;</td><td>&hellip;</td><td>&hellip;</td></tr><tr><td>&quot;tomo_fe050c&quot;</td><td>300</td><td>959</td><td>928</td><td>15.6</td><td>1</td><td>2</td><td>4680.0</td><td>14960.4</td><td>14476.8</td><td>266985600</td><td>1.0136e12</td><td>138.0</td><td>134.0</td><td>542.0</td><td>2152.8</td><td>2090.4</td><td>8455.2</td><td>&quot;[[138.0, 134.0, 542.0], [143.1…</td><td>&quot;[[2152.7999999999997, 2090.4, …</td></tr><tr><td>&quot;tomo_fe85f6&quot;</td><td>800</td><td>928</td><td>960</td><td>13.1</td><td>0</td><td>1</td><td>10480.0</td><td>12156.8</td><td>12576.0</td><td>712704000</td><td>1.6022e12</td><td>463.5</td><td>903.5</td><td>747.0</td><td>6071.85</td><td>11835.85</td><td>9785.7</td><td>&quot;[[463.5, 903.5, 747.0]]&quot;</td><td>&quot;[[6071.849999999999, 11835.85,…</td></tr><tr><td>&quot;tomo_fea6e8&quot;</td><td>300</td><td>960</td><td>928</td><td>16.8</td><td>0</td><td>0</td><td>5040.0</td><td>16128.0</td><td>15590.4</td><td>267264000</td><td>1.2673e12</td><td>-1.0</td><td>-1.0</td><td>-1.0</td><td>-16.8</td><td>-16.8</td><td>-16.8</td><td>&quot;[]&quot;</td><td>&quot;[]&quot;</td></tr><tr><td>&quot;tomo_ff505c&quot;</td><td>300</td><td>959</td><td>928</td><td>15.6</td><td>1</td><td>1</td><td>4680.0</td><td>14960.4</td><td>14476.8</td><td>266985600</td><td>1.0136e12</td><td>111.0</td><td>816.0</td><td>678.0</td><td>1731.6</td><td>12729.6</td><td>10576.8</td><td>&quot;[[111.0, 816.0, 678.0]]&quot;</td><td>&quot;[[1731.6, 12729.6, 10576.8]]&quot;</td></tr><tr><td>&quot;tomo_ff7c20&quot;</td><td>800</td><td>928</td><td>960</td><td>13.1</td><td>0</td><td>1</td><td>10480.0</td><td>12156.8</td><td>12576.0</td><td>712704000</td><td>1.6022e12</td><td>307.25</td><td>493.0</td><td>63.0</td><td>4024.975</td><td>6458.3</td><td>825.3</td><td>&quot;[[307.25, 493.0, 63.0]]&quot;</td><td>&quot;[[4024.975, 6458.3, 825.3]]&quot;</td></tr></tbody></table></div>"
      ],
      "text/plain": [
       "shape: (648, 20)\n",
       "┌─────────────┬─────┬──────┬──────┬───┬──────────┬──────────┬───────────────────┬──────────────────┐\n",
       "│ tomo_id     ┆ Z   ┆ Y    ┆ X    ┆ … ┆ motor_yA ┆ motor_xA ┆ motor_zyx         ┆ motor_zyxA       │\n",
       "│ ---         ┆ --- ┆ ---  ┆ ---  ┆   ┆ ---      ┆ ---      ┆ ---               ┆ ---              │\n",
       "│ str         ┆ i64 ┆ i64  ┆ i64  ┆   ┆ f64      ┆ f64      ┆ str               ┆ str              │\n",
       "╞═════════════╪═════╪══════╪══════╪═══╪══════════╪══════════╪═══════════════════╪══════════════════╡\n",
       "│ tomo_003acc ┆ 500 ┆ 1912 ┆ 1847 ┆ … ┆ -6.5     ┆ -6.5     ┆ []                ┆ []               │\n",
       "│ tomo_00e047 ┆ 300 ┆ 959  ┆ 928  ┆ … ┆ 8517.6   ┆ 9406.8   ┆ [[169.0, 546.0,   ┆ [[2636.4,        │\n",
       "│             ┆     ┆      ┆      ┆   ┆          ┆          ┆ 603.0]]           ┆ 8517.6, 9406.8]] │\n",
       "│ tomo_00e463 ┆ 500 ┆ 924  ┆ 956  ┆ … ┆ 7939.1   ┆ 2698.9   ┆ [[235.0, 403.0,   ┆ [[4629.5, 7939.0 │\n",
       "│             ┆     ┆      ┆      ┆   ┆          ┆          ┆ 137.0], [243.0…   ┆ 99999999999, 2…  │\n",
       "│ tomo_01a877 ┆ 300 ┆ 960  ┆ 928  ┆ … ┆ 8357.8   ┆ 3746.6   ┆ [[147.0, 638.0,   ┆ [[1925.7,        │\n",
       "│             ┆     ┆      ┆      ┆   ┆          ┆          ┆ 286.0]]           ┆ 8357.8, 3746.6]] │\n",
       "│ tomo_02862f ┆ 300 ┆ 959  ┆ 928  ┆ … ┆ 5475.6   ┆ 1872.0   ┆ [[101.0, 351.0,   ┆ [[1575.6, 5475.5 │\n",
       "│             ┆     ┆      ┆      ┆   ┆          ┆          ┆ 120.0]]           ┆ 99999999999, 1…  │\n",
       "│ …           ┆ …   ┆ …    ┆ …    ┆ … ┆ …        ┆ …        ┆ …                 ┆ …                │\n",
       "│ tomo_fe050c ┆ 300 ┆ 959  ┆ 928  ┆ … ┆ 2090.4   ┆ 8455.2   ┆ [[138.0, 134.0,   ┆ [[2152.799999999 │\n",
       "│             ┆     ┆      ┆      ┆   ┆          ┆          ┆ 542.0], [143.1…   ┆ 9997, 2090.4, …  │\n",
       "│ tomo_fe85f6 ┆ 800 ┆ 928  ┆ 960  ┆ … ┆ 11835.85 ┆ 9785.7   ┆ [[463.5, 903.5,   ┆ [[6071.849999999 │\n",
       "│             ┆     ┆      ┆      ┆   ┆          ┆          ┆ 747.0]]           ┆ 999, 11835.85,…  │\n",
       "│ tomo_fea6e8 ┆ 300 ┆ 960  ┆ 928  ┆ … ┆ -16.8    ┆ -16.8    ┆ []                ┆ []               │\n",
       "│ tomo_ff505c ┆ 300 ┆ 959  ┆ 928  ┆ … ┆ 12729.6  ┆ 10576.8  ┆ [[111.0, 816.0,   ┆ [[1731.6,        │\n",
       "│             ┆     ┆      ┆      ┆   ┆          ┆          ┆ 678.0]]           ┆ 12729.6,         │\n",
       "│             ┆     ┆      ┆      ┆   ┆          ┆          ┆                   ┆ 10576.8]]        │\n",
       "│ tomo_ff7c20 ┆ 800 ┆ 928  ┆ 960  ┆ … ┆ 6458.3   ┆ 825.3    ┆ [[307.25, 493.0,  ┆ [[4024.975,      │\n",
       "│             ┆     ┆      ┆      ┆   ┆          ┆          ┆ 63.0]]            ┆ 6458.3, 825.3]]  │\n",
       "└─────────────┴─────┴──────┴──────┴───┴──────────┴──────────┴───────────────────┴──────────────────┘"
      ]
     },
     "metadata": {},
     "output_type": "display_data"
    }
   ],
   "source": [
    "df = pl.scan_csv('/home/dangnh36/datasets/.comp/byu/processed/train_labels_v2.csv').collect()\n",
    "df = df.rename({'Motor axis 0': 'motor_z', 'Motor axis 1': 'motor_y', 'Motor axis 2': 'motor_x', 'Array shape (axis 0)': 'Z', 'Array shape (axis 1)': 'Y', 'Array shape (axis 2)': 'X',\n",
    "               'Voxel spacing': 'voxel_spacing', 'Number of motors': 'ori_num_motors'}).with_columns(\n",
    "    (pl.col('motor_z') >= 0).alias('has_motor')\n",
    ").with_columns(\n",
    "    (pl.len().over('tomo_id') * pl.col('has_motor')).alias('num_motors')\n",
    ").with_columns(\n",
    "    (pl.col('Z') * pl.col('voxel_spacing')).alias('ZA'),\n",
    "    (pl.col('Y') * pl.col('voxel_spacing')).alias('YA'),\n",
    "    (pl.col('X') * pl.col('voxel_spacing')).alias('XA'),\n",
    "    (pl.col('motor_z') * pl.col('voxel_spacing')).alias('motor_zA'),\n",
    "    (pl.col('motor_y') * pl.col('voxel_spacing')).alias('motor_yA'),\n",
    "    (pl.col('motor_x') * pl.col('voxel_spacing')).alias('motor_xA')\n",
    ").with_columns(\n",
    "    (pl.col('Z') * pl.col('Y') * pl.col('X')).alias('V'),\n",
    "    (pl.col('ZA') * pl.col('YA') * pl.col('XA')).alias('VA')\n",
    ")\n",
    "\n",
    "print('DF:')\n",
    "display(df)\n",
    "\n",
    "# display(df.filter(pl.col('ori_num_motors') != pl.col('num_motors')))\n",
    "\n",
    "df2 = df.with_columns(\n",
    "    pl.concat_list(['motor_z', 'motor_y', 'motor_x']).alias('motor_zyx'),\n",
    "    pl.concat_list(['motor_zA', 'motor_yA', 'motor_xA']).alias('motor_zyxA')\n",
    ").group_by('tomo_id', maintain_order=True).agg(\n",
    "    pl.col('Z', 'Y', 'X', 'voxel_spacing', 'ori_num_motors', 'num_motors', 'ZA', 'YA', 'XA', 'V', 'VA', 'motor_z', 'motor_y', 'motor_x', 'motor_zA', 'motor_yA', 'motor_xA').first(),\n",
    "    pl.col('motor_zyx', 'motor_zyxA').map_elements(lambda x: str([e for e in x.to_list() if e[0] >= 0]), return_dtype = pl.String)\n",
    ")\n",
    "print('DF2:')\n",
    "display(df2)\n"
   ]
  },
  {
   "cell_type": "code",
   "execution_count": 10,
   "id": "966b5b59-a613-4287-992e-d5bb5a1063cb",
   "metadata": {
    "editable": true,
    "slideshow": {
     "slide_type": ""
    },
    "tags": []
   },
   "outputs": [
    {
     "data": {
      "text/plain": [
       "523"
      ]
     },
     "execution_count": 10,
     "metadata": {},
     "output_type": "execute_result"
    }
   ],
   "source": [
    "df2['num_motors'].sum()"
   ]
  },
  {
   "cell_type": "code",
   "execution_count": 12,
   "id": "79331bf4-1159-4fb3-8ac5-4d61e71b72e3",
   "metadata": {},
   "outputs": [],
   "source": [
    "df2.write_csv('/home/dangnh36/datasets/.comp/byu/processed/gt_v2.csv')"
   ]
  },
  {
   "cell_type": "code",
   "execution_count": null,
   "id": "9e6e2e49-8c81-4722-a052-1c25292eee51",
   "metadata": {},
   "outputs": [],
   "source": []
  },
  {
   "cell_type": "code",
   "execution_count": null,
   "id": "240eec5d-4a22-4eb8-88eb-01feb0d76f48",
   "metadata": {},
   "outputs": [],
   "source": []
  },
  {
   "cell_type": "code",
   "execution_count": null,
   "id": "919adfe5-efba-4363-bf6c-f562a396f20e",
   "metadata": {},
   "outputs": [],
   "source": []
  },
  {
   "cell_type": "code",
   "execution_count": null,
   "id": "ae725bf6-6b0c-4b5e-b89f-b846edcc3de1",
   "metadata": {},
   "outputs": [],
   "source": []
  }
 ],
 "metadata": {
  "kernelspec": {
   "display_name": "Python 3 (ipykernel)",
   "language": "python",
   "name": "python3"
  },
  "language_info": {
   "codemirror_mode": {
    "name": "ipython",
    "version": 3
   },
   "file_extension": ".py",
   "mimetype": "text/x-python",
   "name": "python",
   "nbconvert_exporter": "python",
   "pygments_lexer": "ipython3",
   "version": "3.11.10"
  }
 },
 "nbformat": 4,
 "nbformat_minor": 5
}
