{
 "cells": [
  {
   "cell_type": "code",
   "execution_count": 2,
   "id": "6b772d5e-6c65-49b6-84fb-3f760073161f",
   "metadata": {},
   "outputs": [],
   "source": [
    "from byu.data.datasets.heatmap_3d_dataset import Heatmap3dDataset\n",
    "from omegaconf import OmegaConf\n",
    "import logging\n",
    "from tqdm import tqdm\n",
    "from itkwidgets import view\n",
    "import numpy as np\n",
    "import copy\n",
    "from matplotlib import pyplot as plt\n",
    "import pandas as pd\n",
    "from torch.nn import functional as F"
   ]
  },
  {
   "cell_type": "code",
   "execution_count": null,
   "id": "13638648-2a06-4580-9027-6d1af4658ec6",
   "metadata": {},
   "outputs": [],
   "source": []
  },
  {
   "cell_type": "code",
   "execution_count": 36,
   "id": "7eed9ebd-1e7a-44a1-a662-98c1383b15ea",
   "metadata": {
    "scrolled": true
   },
   "outputs": [
    {
     "name": "stderr",
     "output_type": "stream",
     "text": [
      "/home/dangnh36/projects/.comp/byu/yagm/src/yagm/transforms/keypoints/helper.py:50: UserWarning: To copy construct from a tensor, it is recommended to use sourceTensor.clone().detach() or sourceTensor.clone().detach().requires_grad_(True), rather than torch.tensor(sourceTensor).\n",
      "  crop_start = torch.tensor(crop_start)[None]\n",
      "/home/dangnh36/projects/.comp/byu/yagm/src/yagm/transforms/keypoints/helper.py:51: UserWarning: To copy construct from a tensor, it is recommended to use sourceTensor.clone().detach() or sourceTensor.clone().detach().requires_grad_(True), rather than torch.tensor(sourceTensor).\n",
      "  crop_end = torch.tensor(crop_end)[None] + end_offset\n",
      "Pre-patching..: 100%|█| 648/648 [00:02<00:00, \n"
     ]
    }
   ],
   "source": [
    "from omegaconf import OmegaConf\n",
    "\n",
    "logging.basicConfig(level=logging.INFO)\n",
    "\n",
    "yaml_str = \"\"\"\n",
    "\n",
    "env:\n",
    "    data_dir: /home/dangnh36/datasets/.comp/byu/\n",
    "\n",
    "cv:\n",
    "    strategy: skf4_rd42\n",
    "    num_folds: 4\n",
    "    fold_idx: 1\n",
    "    train_on_all: True\n",
    "\n",
    "loader:\n",
    "    num_workers: 1\n",
    "\n",
    "data:\n",
    "    label_fname: gt_v2  # gt | gt_v2 | gt_v3 | all_gt | all_gt_v3\n",
    "    patch_size: [224, 448, 448]\n",
    "    start: [0, 0, 0]\n",
    "    overlap: [0, 0, 0]\n",
    "    border: [0, 0, 0]\n",
    "    \n",
    "    sigma: 0.2\n",
    "    fast_val_workers: 5\n",
    "    fast_val_prefetch: 5\n",
    "    io_backend: cv2  # cv2, cv2_seq, npy, cache\n",
    "    crop_outside: True\n",
    "    ensure_fg: True\n",
    "    label_smooth: [0.0,1.0]\n",
    "    filter_rule: null  # null | eq1 | le1\n",
    "    \n",
    "    \n",
    "    sampling:\n",
    "      method: pre_patch  # pre_patch | rand_crop\n",
    "      pre_patch:\n",
    "          fg_max_dup: 1\n",
    "          bg_ratio: 0.0\n",
    "          bg_from_pos_ratio: 0.01\n",
    "          overlap: [0, 0, 0]\n",
    "      rand_crop:\n",
    "          random_center: True\n",
    "          margin: 0.25\n",
    "          auto_correct_center: True\n",
    "          pos_weight: 1\n",
    "          neg_weight: 1\n",
    "    \n",
    "    transform:\n",
    "        resample_mode: trilinear # F.grid_sample() mode\n",
    "        target_spacing: [16,16,16]\n",
    "        heatmap_mode: gaussian\n",
    "        heatmap_stride: [16,16,16]\n",
    "        heatmap_same_sigma: False\n",
    "        heatmap_same_std: True\n",
    "        lazy: True\n",
    "        device: null\n",
    "    aug:\n",
    "        enable: True\n",
    "        zoom_prob: 1.0\n",
    "        zoom_range: [[0.6, 1.2], [0.6, 1.2], [0.6, 1.2]]  # (X, Y, Z) or (H, W, D)\n",
    "        # affine1\n",
    "        affine1_prob: 0.0\n",
    "        affine1_scale: 0.3  # max_skew_xy = 1.3 / 0.7 = 1.86\n",
    "        # affine2\n",
    "        affine2_prob: 1.0\n",
    "        affine2_rotate_xy: 15 # degrees\n",
    "        affine2_scale: 0.3  # max_skew_xy = 1.3 / 0.7 = 1.86\n",
    "        affine2_shear: 0.3\n",
    "    \n",
    "        rand_shift: False  # only used in rand_crop, very useful if random_center=auto_correct_center=False\n",
    "    \n",
    "        # no lazy, can't properly transform points\n",
    "        grid_distort_prob: 0.0\n",
    "        smooth_deform_prob: 0.0\n",
    "    \n",
    "        intensity_prob: 0.5\n",
    "        smooth_prob: 0.0\n",
    "        hist_equalize: False\n",
    "        downsample_prob: 0.2\n",
    "        coarse_dropout_prob: 0.0\n",
    "    \n",
    "        # MIXER\n",
    "        mixup_prob: 0.0\n",
    "        cutmix_prob: 0.0\n",
    "        mixer_alpha: 1.0\n",
    "        mixup_target_mode: max\n",
    "    \n",
    "    tta:\n",
    "        # enable: [zyx]\n",
    "        enable: [zyx, zxy, zyx_x, zyx_y]\n",
    "        # enable: [zyx, zyx_x, zyx_y, zyx_z, zyx_xy, zyx_xz, zyx_yz, zyx_xyz, zxy, zxy_x, zxy_y, zxy_z, zxy_xy, zxy_xz, zxy_yz, zxy_xyz]\n",
    "\"\"\"\n",
    "global_cfg = OmegaConf.create(yaml_str)\n",
    "dataset = Heatmap3dDataset(global_cfg, stage=\"train\")"
   ]
  },
  {
   "cell_type": "code",
   "execution_count": 18,
   "id": "27071682-602c-491e-9ab7-e285b9ec8922",
   "metadata": {},
   "outputs": [
    {
     "name": "stdout",
     "output_type": "stream",
     "text": [
      "LEN: 23040\n"
     ]
    },
    {
     "name": "stderr",
     "output_type": "stream",
     "text": [
      "/opt/conda/lib/python3.11/site-packages/monai/transforms/spatial/array.py:497: UserWarning: `data_array` is not of type MetaTensor, assuming affine to be identity.\n",
      "  warnings.warn(\"`data_array` is not of type MetaTensor, assuming affine to be identity.\")\n"
     ]
    },
    {
     "name": "stdout",
     "output_type": "stream",
     "text": [
      "idx -> <class 'torch.Tensor'> torch.int64 torch.Size([])\n",
      "image -> <class 'monai.data.meta_tensor.MetaTensor'> torch.uint8 torch.Size([1, 224, 448, 448])\n",
      "heatmap -> <class 'torch.Tensor'> torch.float16 torch.Size([1, 224, 448, 448])\n"
     ]
    },
    {
     "name": "stderr",
     "output_type": "stream",
     "text": [
      " 50%|█████▌     | 1/2 [00:06<00:06,  6.59s/it]"
     ]
    },
    {
     "name": "stdout",
     "output_type": "stream",
     "text": [
      "metatensor(0, dtype=torch.uint8) metatensor(254, dtype=torch.uint8)\n",
      "tensor(0., dtype=torch.float16) tensor(0., dtype=torch.float16)\n",
      "----------------\n",
      "\n",
      "idx -> <class 'torch.Tensor'> torch.int64 torch.Size([])\n",
      "image -> <class 'monai.data.meta_tensor.MetaTensor'> torch.uint8 torch.Size([1, 224, 448, 448])\n",
      "heatmap -> <class 'torch.Tensor'> torch.float16 torch.Size([1, 224, 448, 448])\n"
     ]
    },
    {
     "name": "stderr",
     "output_type": "stream",
     "text": [
      "100%|███████████| 2/2 [00:12<00:00,  6.50s/it]"
     ]
    },
    {
     "name": "stdout",
     "output_type": "stream",
     "text": [
      "metatensor(0, dtype=torch.uint8) metatensor(254, dtype=torch.uint8)\n",
      "tensor(0., dtype=torch.float16) tensor(0., dtype=torch.float16)\n",
      "----------------\n",
      "\n"
     ]
    },
    {
     "name": "stderr",
     "output_type": "stream",
     "text": [
      "\n"
     ]
    }
   ],
   "source": [
    "print(\"LEN:\", len(dataset))\n",
    "for i in tqdm(range(0, 2, 1)):\n",
    "    sample = dataset[i]\n",
    "    for k, v in sample.items():\n",
    "        print(f\"{k} -> {type(v)} {v.dtype} {v.shape}\")\n",
    "    print(sample[\"image\"].min(), sample[\"image\"].max())\n",
    "    print(sample[\"heatmap\"].min(), sample[\"heatmap\"].max())\n",
    "    print(\"----------------\\n\")"
   ]
  },
  {
   "cell_type": "code",
   "execution_count": null,
   "id": "2010e91c-08f0-4079-9270-fdee750193fd",
   "metadata": {},
   "outputs": [],
   "source": []
  },
  {
   "cell_type": "code",
   "execution_count": null,
   "id": "04569e9c-1248-45cc-8483-846f1cd0b157",
   "metadata": {},
   "outputs": [],
   "source": []
  },
  {
   "cell_type": "code",
   "execution_count": null,
   "id": "2e9accc7-dbe2-4643-b182-b591e2c66411",
   "metadata": {},
   "outputs": [],
   "source": []
  },
  {
   "cell_type": "code",
   "execution_count": null,
   "id": "072da2f4-acc7-48fe-afe5-59187e89122d",
   "metadata": {},
   "outputs": [],
   "source": [
    "sample = dataset[611]\n",
    "\n",
    "image = (sample['image'][0]).cpu().numpy().astype(np.uint8)\n",
    "heatmap = sample['heatmap']\n",
    "print('BEFORE INTERPOLATE:', heatmap.shape, heatmap.min(), heatmap.max())\n",
    "heatmap = F.interpolate(\n",
    "            heatmap[None],\n",
    "            size=None,\n",
    "            scale_factor=1,\n",
    "            mode='trilinear',\n",
    "            align_corners=False,\n",
    "            recompute_scale_factor=False,\n",
    "        )[0]\n",
    "print('AFTER INTERPOLATE:', heatmap.shape, heatmap.dtype, heatmap.min(), heatmap.max())\n",
    "print(image.shape, image.dtype)\n",
    "heatmap = (heatmap[0] * 255).cpu().numpy().astype(np.uint8)\n",
    "\n",
    "\n",
    "# view(image = image,\n",
    "#     label_image=heatmap,\n",
    "#     label_blend = 1.0,\n",
    "#     cmap = 'Grayscale',\n",
    "# )\n",
    "\n",
    "view(image = heatmap,\n",
    "    cmap = 'Grayscale',\n",
    ")"
   ]
  },
  {
   "cell_type": "code",
   "execution_count": null,
   "id": "f2e9352f-bb61-45e9-8454-8df89d5ebad9",
   "metadata": {},
   "outputs": [],
   "source": []
  },
  {
   "cell_type": "code",
   "execution_count": null,
   "id": "0bfb570b-4d7b-4041-971d-ceea978b3da6",
   "metadata": {},
   "outputs": [],
   "source": []
  },
  {
   "cell_type": "code",
   "execution_count": null,
   "id": "32e3f050-ac92-4f7c-a864-6cef86f65f46",
   "metadata": {},
   "outputs": [],
   "source": []
  },
  {
   "cell_type": "code",
   "execution_count": 4,
   "id": "7234d88d-39cc-49e8-beb9-897874186e54",
   "metadata": {},
   "outputs": [
    {
     "name": "stderr",
     "output_type": "stream",
     "text": [
      "/opt/conda/lib/python3.11/site-packages/monai/transforms/spatial/array.py:497: UserWarning: `data_array` is not of type MetaTensor, assuming affine to be identity.\n",
      "  warnings.warn(\"`data_array` is not of type MetaTensor, assuming affine to be identity.\")\n"
     ]
    },
    {
     "data": {
      "text/plain": [
       "(torch.Size([1, 56, 112, 112]),\n",
       " tensor(0., dtype=torch.float16),\n",
       " tensor(1., dtype=torch.float16))"
      ]
     },
     "execution_count": 4,
     "metadata": {},
     "output_type": "execute_result"
    }
   ],
   "source": [
    "sample = dataset[611]\n",
    "heatmap = sample['heatmap']\n",
    "heatmap.shape, heatmap.min(), heatmap.max()"
   ]
  },
  {
   "cell_type": "code",
   "execution_count": 6,
   "id": "0be7e024-547c-44da-80c0-074040922ff1",
   "metadata": {},
   "outputs": [],
   "source": [
    "import cc3d"
   ]
  },
  {
   "cell_type": "code",
   "execution_count": 24,
   "id": "c87631e3-4738-4403-bbc6-936624e25a4e",
   "metadata": {},
   "outputs": [
    {
     "name": "stdout",
     "output_type": "stream",
     "text": [
      "[0 1]\n",
      "(56, 112, 112)\n",
      "{'voxel_counts': array([694084,   8380], dtype=uint32), 'bounding_boxes': [(slice(0, 56, None), slice(0, 112, None), slice(0, 112, None)), (slice(23, 49, None), slice(64, 89, None), slice(34, 59, None))], 'centroids': array([[27.40232594, 55.25025789, 55.6109419 ],\n",
      "       [35.58997613, 76.18520286, 46.31109785]])}\n"
     ]
    }
   ],
   "source": [
    "componet = cc3d.connected_components((heatmap[0] > 0.5).numpy(), binary_image=True)\n",
    "print(np.unique(componet))\n",
    "print(componet.shape)\n",
    "stats = cc3d.statistics(componet)\n",
    "# zyx = stats[\"centroids\"][1:]\n",
    "print(stats)"
   ]
  },
  {
   "cell_type": "code",
   "execution_count": null,
   "id": "b78a405d-36f8-4ec3-a543-ddc395f4d645",
   "metadata": {},
   "outputs": [],
   "source": []
  },
  {
   "cell_type": "code",
   "execution_count": 27,
   "id": "2775eedb-e1d5-4326-ad70-ed5dc691fda6",
   "metadata": {},
   "outputs": [
    {
     "data": {
      "text/plain": [
       "torch.Size([8380])"
      ]
     },
     "execution_count": 27,
     "metadata": {},
     "output_type": "execute_result"
    }
   ],
   "source": [
    "heatmap[0][componet == 1].shape"
   ]
  },
  {
   "cell_type": "code",
   "execution_count": null,
   "id": "4c858fa6-689b-4f47-94f0-bfcd8bf8f512",
   "metadata": {},
   "outputs": [],
   "source": []
  },
  {
   "cell_type": "code",
   "execution_count": null,
   "id": "9c87914a-14f8-4376-8e8a-c76f52d83ba3",
   "metadata": {},
   "outputs": [],
   "source": []
  },
  {
   "cell_type": "code",
   "execution_count": null,
   "id": "cf003034-71bd-4ddc-9542-ecb6bf798ab6",
   "metadata": {},
   "outputs": [],
   "source": []
  },
  {
   "cell_type": "code",
   "execution_count": null,
   "id": "bd72d793-a4ef-46f9-be86-8c57ad5ccedd",
   "metadata": {},
   "outputs": [],
   "source": []
  },
  {
   "cell_type": "code",
   "execution_count": null,
   "id": "34abe886-a5d3-486d-86ef-a2ec782105c5",
   "metadata": {},
   "outputs": [],
   "source": []
  },
  {
   "cell_type": "code",
   "execution_count": null,
   "id": "aaf05e28-7d34-4f23-92b2-3ccaba0a9a61",
   "metadata": {},
   "outputs": [],
   "source": []
  },
  {
   "cell_type": "code",
   "execution_count": null,
   "id": "d2a7a7e2-2dd8-42f0-832f-7d29ef4b88f2",
   "metadata": {},
   "outputs": [],
   "source": []
  },
  {
   "cell_type": "code",
   "execution_count": null,
   "id": "8e99dead-9d72-40af-a5dd-42c94a70be9b",
   "metadata": {},
   "outputs": [],
   "source": []
  },
  {
   "cell_type": "code",
   "execution_count": null,
   "id": "52b0d84a-0ac1-4eed-baf5-0f21f343ccf7",
   "metadata": {},
   "outputs": [],
   "source": []
  },
  {
   "cell_type": "code",
   "execution_count": null,
   "id": "5de36a08-ac20-4fe5-8962-2413c8bf3cab",
   "metadata": {},
   "outputs": [],
   "source": []
  },
  {
   "cell_type": "code",
   "execution_count": null,
   "id": "e80f2743-af9a-4f5e-8873-95f4d93a760a",
   "metadata": {},
   "outputs": [],
   "source": []
  },
  {
   "cell_type": "code",
   "execution_count": null,
   "id": "8f750f44-7999-454f-9bcf-d3ab4599a459",
   "metadata": {},
   "outputs": [],
   "source": []
  }
 ],
 "metadata": {
  "kernelspec": {
   "display_name": "Python 3 (ipykernel)",
   "language": "python",
   "name": "python3"
  },
  "language_info": {
   "codemirror_mode": {
    "name": "ipython",
    "version": 3
   },
   "file_extension": ".py",
   "mimetype": "text/x-python",
   "name": "python",
   "nbconvert_exporter": "python",
   "pygments_lexer": "ipython3",
   "version": "3.11.10"
  }
 },
 "nbformat": 4,
 "nbformat_minor": 5
}
