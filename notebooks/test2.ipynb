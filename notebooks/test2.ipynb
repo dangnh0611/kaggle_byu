{
 "cells": [
  {
   "cell_type": "code",
   "execution_count": 2,
   "id": "f8363786-1b96-42dd-ab74-bfc93ceb6a2f",
   "metadata": {},
   "outputs": [],
   "source": [
    "import pandas as pd\n",
    "import polars as pl"
   ]
  },
  {
   "cell_type": "code",
   "execution_count": 3,
   "id": "b2a031e0-b146-426d-b287-12a22958fc9e",
   "metadata": {},
   "outputs": [
    {
     "data": {
      "text/html": [
       "<div>\n",
       "<style scoped>\n",
       "    .dataframe tbody tr th:only-of-type {\n",
       "        vertical-align: middle;\n",
       "    }\n",
       "\n",
       "    .dataframe tbody tr th {\n",
       "        vertical-align: top;\n",
       "    }\n",
       "\n",
       "    .dataframe thead th {\n",
       "        text-align: right;\n",
       "    }\n",
       "</style>\n",
       "<table border=\"1\" class=\"dataframe\">\n",
       "  <thead>\n",
       "    <tr style=\"text-align: right;\">\n",
       "      <th></th>\n",
       "      <th>tomo_id</th>\n",
       "      <th>ori_shape</th>\n",
       "      <th>ori_spacing</th>\n",
       "      <th>target_shape</th>\n",
       "      <th>target_spacing</th>\n",
       "    </tr>\n",
       "  </thead>\n",
       "  <tbody>\n",
       "    <tr>\n",
       "      <th>0</th>\n",
       "      <td>tomo_003acc</td>\n",
       "      <td>(500, 1912, 1847)</td>\n",
       "      <td>6.5</td>\n",
       "      <td>(203, 776, 750)</td>\n",
       "      <td>16.0</td>\n",
       "    </tr>\n",
       "    <tr>\n",
       "      <th>1</th>\n",
       "      <td>tomo_00e047</td>\n",
       "      <td>(300, 959, 928)</td>\n",
       "      <td>15.6</td>\n",
       "      <td>(292, 935, 904)</td>\n",
       "      <td>16.0</td>\n",
       "    </tr>\n",
       "    <tr>\n",
       "      <th>2</th>\n",
       "      <td>tomo_00e463</td>\n",
       "      <td>(500, 924, 956)</td>\n",
       "      <td>19.7</td>\n",
       "      <td>(615, 1137, 1177)</td>\n",
       "      <td>16.0</td>\n",
       "    </tr>\n",
       "    <tr>\n",
       "      <th>3</th>\n",
       "      <td>tomo_01a877</td>\n",
       "      <td>(300, 960, 928)</td>\n",
       "      <td>13.1</td>\n",
       "      <td>(245, 786, 759)</td>\n",
       "      <td>16.0</td>\n",
       "    </tr>\n",
       "    <tr>\n",
       "      <th>4</th>\n",
       "      <td>tomo_02862f</td>\n",
       "      <td>(300, 959, 928)</td>\n",
       "      <td>15.6</td>\n",
       "      <td>(292, 935, 904)</td>\n",
       "      <td>16.0</td>\n",
       "    </tr>\n",
       "    <tr>\n",
       "      <th>...</th>\n",
       "      <td>...</td>\n",
       "      <td>...</td>\n",
       "      <td>...</td>\n",
       "      <td>...</td>\n",
       "      <td>...</td>\n",
       "    </tr>\n",
       "    <tr>\n",
       "      <th>643</th>\n",
       "      <td>tomo_fe050c</td>\n",
       "      <td>(300, 959, 928)</td>\n",
       "      <td>15.6</td>\n",
       "      <td>(292, 935, 904)</td>\n",
       "      <td>16.0</td>\n",
       "    </tr>\n",
       "    <tr>\n",
       "      <th>644</th>\n",
       "      <td>tomo_fe85f6</td>\n",
       "      <td>(800, 928, 960)</td>\n",
       "      <td>13.1</td>\n",
       "      <td>(655, 759, 786)</td>\n",
       "      <td>16.0</td>\n",
       "    </tr>\n",
       "    <tr>\n",
       "      <th>645</th>\n",
       "      <td>tomo_fea6e8</td>\n",
       "      <td>(300, 960, 928)</td>\n",
       "      <td>16.8</td>\n",
       "      <td>(315, 1008, 974)</td>\n",
       "      <td>16.0</td>\n",
       "    </tr>\n",
       "    <tr>\n",
       "      <th>646</th>\n",
       "      <td>tomo_ff505c</td>\n",
       "      <td>(300, 959, 928)</td>\n",
       "      <td>15.6</td>\n",
       "      <td>(292, 935, 904)</td>\n",
       "      <td>16.0</td>\n",
       "    </tr>\n",
       "    <tr>\n",
       "      <th>647</th>\n",
       "      <td>tomo_ff7c20</td>\n",
       "      <td>(800, 928, 960)</td>\n",
       "      <td>13.1</td>\n",
       "      <td>(655, 759, 786)</td>\n",
       "      <td>16.0</td>\n",
       "    </tr>\n",
       "  </tbody>\n",
       "</table>\n",
       "<p>648 rows × 5 columns</p>\n",
       "</div>"
      ],
      "text/plain": [
       "         tomo_id          ori_shape  ori_spacing       target_shape  \\\n",
       "0    tomo_003acc  (500, 1912, 1847)          6.5    (203, 776, 750)   \n",
       "1    tomo_00e047    (300, 959, 928)         15.6    (292, 935, 904)   \n",
       "2    tomo_00e463    (500, 924, 956)         19.7  (615, 1137, 1177)   \n",
       "3    tomo_01a877    (300, 960, 928)         13.1    (245, 786, 759)   \n",
       "4    tomo_02862f    (300, 959, 928)         15.6    (292, 935, 904)   \n",
       "..           ...                ...          ...                ...   \n",
       "643  tomo_fe050c    (300, 959, 928)         15.6    (292, 935, 904)   \n",
       "644  tomo_fe85f6    (800, 928, 960)         13.1    (655, 759, 786)   \n",
       "645  tomo_fea6e8    (300, 960, 928)         16.8   (315, 1008, 974)   \n",
       "646  tomo_ff505c    (300, 959, 928)         15.6    (292, 935, 904)   \n",
       "647  tomo_ff7c20    (800, 928, 960)         13.1    (655, 759, 786)   \n",
       "\n",
       "     target_spacing  \n",
       "0              16.0  \n",
       "1              16.0  \n",
       "2              16.0  \n",
       "3              16.0  \n",
       "4              16.0  \n",
       "..              ...  \n",
       "643            16.0  \n",
       "644            16.0  \n",
       "645            16.0  \n",
       "646            16.0  \n",
       "647            16.0  \n",
       "\n",
       "[648 rows x 5 columns]"
      ]
     },
     "execution_count": 3,
     "metadata": {},
     "output_type": "execute_result"
    }
   ],
   "source": [
    "df = pd.read_csv('/home/dangnh36/datasets/byu/processed/spaced/16.0_trilinear.csv')\n",
    "df"
   ]
  },
  {
   "cell_type": "code",
   "execution_count": null,
   "id": "c1db65c5-c5c7-4c64-92fc-17159f5b96c7",
   "metadata": {},
   "outputs": [],
   "source": []
  },
  {
   "cell_type": "code",
   "execution_count": null,
   "id": "809ea1d7-c238-41c2-b536-1a97563c54f9",
   "metadata": {},
   "outputs": [],
   "source": []
  },
  {
   "cell_type": "code",
   "execution_count": 4,
   "id": "23e5b278-7533-418c-88d2-64b6f979e7aa",
   "metadata": {},
   "outputs": [],
   "source": [
    "from byu.utils.misc import compute_target_spacing_shape"
   ]
  },
  {
   "cell_type": "code",
   "execution_count": 14,
   "id": "b90e0554-14cb-4dc7-b5d7-2fe4ff55e730",
   "metadata": {},
   "outputs": [
    {
     "name": "stdout",
     "output_type": "stream",
     "text": [
      "DONE\n"
     ]
    }
   ],
   "source": [
    "for i, row in df.iterrows():\n",
    "    target_shape = eval(row['target_shape'])\n",
    "    target_shape2= compute_target_spacing_shape(\n",
    "        eval(row['ori_shape']),\n",
    "        row['ori_spacing'],\n",
    "        row['target_spacing'],\n",
    "        method=\"torch\",\n",
    "        scale_extent=False,\n",
    "    )\n",
    "    assert target_shape == target_shape2, f'{target_shape} {target_shape2}'\n",
    "print('DONE')"
   ]
  },
  {
   "cell_type": "code",
   "execution_count": null,
   "id": "f8de092a-5fad-4be3-8a05-5369c6d1e2d3",
   "metadata": {},
   "outputs": [],
   "source": []
  },
  {
   "cell_type": "code",
   "execution_count": null,
   "id": "d0321fd6-6937-4e67-b884-83e59292d077",
   "metadata": {},
   "outputs": [],
   "source": []
  },
  {
   "cell_type": "code",
   "execution_count": null,
   "id": "7f602c88-02d5-48b7-9eba-8c1c48e7b2e0",
   "metadata": {},
   "outputs": [],
   "source": []
  },
  {
   "cell_type": "code",
   "execution_count": null,
   "id": "ec925ab1-82ab-4064-9419-8af8b351ada4",
   "metadata": {},
   "outputs": [],
   "source": []
  },
  {
   "cell_type": "code",
   "execution_count": 3,
   "id": "5ff7f7c7-3381-46da-8cc3-b937dc74e554",
   "metadata": {},
   "outputs": [
    {
     "data": {
      "text/html": [
       "<div><style>\n",
       ".dataframe > thead > tr,\n",
       ".dataframe > tbody > tr {\n",
       "  text-align: right;\n",
       "  white-space: pre-wrap;\n",
       "}\n",
       "</style>\n",
       "<small>shape: (1_935, 10)</small><table border=\"1\" class=\"dataframe\"><thead><tr><th>tomo_id</th><th>Z</th><th>Y</th><th>X</th><th>voxel_spacing</th><th>num_motors</th><th>motor_z</th><th>motor_y</th><th>motor_x</th><th>motor_zyx</th></tr><tr><td>str</td><td>i64</td><td>i64</td><td>i64</td><td>f64</td><td>i64</td><td>f64</td><td>f64</td><td>f64</td><td>str</td></tr></thead><tbody><tr><td>&quot;tomo_003acc&quot;</td><td>500</td><td>1912</td><td>1847</td><td>6.5</td><td>0</td><td>-1.0</td><td>-1.0</td><td>-1.0</td><td>&quot;[]&quot;</td></tr><tr><td>&quot;tomo_00e047&quot;</td><td>300</td><td>959</td><td>928</td><td>15.6</td><td>1</td><td>169.0</td><td>546.0</td><td>603.0</td><td>&quot;[[169.0, 546.0, 603.0]]&quot;</td></tr><tr><td>&quot;tomo_00e463&quot;</td><td>500</td><td>924</td><td>956</td><td>19.7</td><td>8</td><td>235.0</td><td>403.0</td><td>137.0</td><td>&quot;[[235.0, 403.0, 137.0], [243.0…</td></tr><tr><td>&quot;tomo_01a877&quot;</td><td>300</td><td>960</td><td>928</td><td>13.1</td><td>1</td><td>147.0</td><td>638.0</td><td>286.0</td><td>&quot;[[147.0, 638.0, 286.0]]&quot;</td></tr><tr><td>&quot;tomo_02862f&quot;</td><td>300</td><td>959</td><td>928</td><td>15.6</td><td>1</td><td>101.0</td><td>351.0</td><td>120.0</td><td>&quot;[[101.0, 351.0, 120.0]]&quot;</td></tr><tr><td>&hellip;</td><td>&hellip;</td><td>&hellip;</td><td>&hellip;</td><td>&hellip;</td><td>&hellip;</td><td>&hellip;</td><td>&hellip;</td><td>&hellip;</td><td>&hellip;</td></tr><tr><td>&quot;ycw2013-11-24-19&quot;</td><td>800</td><td>928</td><td>960</td><td>19.733</td><td>2</td><td>439.0</td><td>173.0</td><td>419.5</td><td>&quot;[[439.0, 173.0, 419.5], [406.5…</td></tr><tr><td>&quot;ycw2013-11-24-2&quot;</td><td>800</td><td>928</td><td>960</td><td>19.733</td><td>1</td><td>429.25</td><td>799.0</td><td>834.5</td><td>&quot;[[429.25, 799.0, 834.5]]&quot;</td></tr><tr><td>&quot;ycw2013-11-24-24&quot;</td><td>800</td><td>928</td><td>960</td><td>19.733</td><td>6</td><td>348.25</td><td>332.0</td><td>260.5</td><td>&quot;[[348.25, 332.0, 260.5], [328.…</td></tr><tr><td>&quot;ycw2013-11-24-5&quot;</td><td>800</td><td>928</td><td>960</td><td>19.733</td><td>6</td><td>396.75</td><td>150.375</td><td>620.5</td><td>&quot;[[396.75, 150.375, 620.5], [42…</td></tr><tr><td>&quot;ycw2017-11-30-30&quot;</td><td>600</td><td>928</td><td>960</td><td>16.145</td><td>2</td><td>354.25</td><td>227.375</td><td>632.0</td><td>&quot;[[354.25, 227.375, 632.0], [35…</td></tr></tbody></table></div>"
      ],
      "text/plain": [
       "shape: (1_935, 10)\n",
       "┌──────────────────┬─────┬──────┬──────┬───┬─────────┬─────────┬─────────┬─────────────────────────┐\n",
       "│ tomo_id          ┆ Z   ┆ Y    ┆ X    ┆ … ┆ motor_z ┆ motor_y ┆ motor_x ┆ motor_zyx               │\n",
       "│ ---              ┆ --- ┆ ---  ┆ ---  ┆   ┆ ---     ┆ ---     ┆ ---     ┆ ---                     │\n",
       "│ str              ┆ i64 ┆ i64  ┆ i64  ┆   ┆ f64     ┆ f64     ┆ f64     ┆ str                     │\n",
       "╞══════════════════╪═════╪══════╪══════╪═══╪═════════╪═════════╪═════════╪═════════════════════════╡\n",
       "│ tomo_003acc      ┆ 500 ┆ 1912 ┆ 1847 ┆ … ┆ -1.0    ┆ -1.0    ┆ -1.0    ┆ []                      │\n",
       "│ tomo_00e047      ┆ 300 ┆ 959  ┆ 928  ┆ … ┆ 169.0   ┆ 546.0   ┆ 603.0   ┆ [[169.0, 546.0, 603.0]] │\n",
       "│ tomo_00e463      ┆ 500 ┆ 924  ┆ 956  ┆ … ┆ 235.0   ┆ 403.0   ┆ 137.0   ┆ [[235.0, 403.0, 137.0], │\n",
       "│                  ┆     ┆      ┆      ┆   ┆         ┆         ┆         ┆ [243.0…                 │\n",
       "│ tomo_01a877      ┆ 300 ┆ 960  ┆ 928  ┆ … ┆ 147.0   ┆ 638.0   ┆ 286.0   ┆ [[147.0, 638.0, 286.0]] │\n",
       "│ tomo_02862f      ┆ 300 ┆ 959  ┆ 928  ┆ … ┆ 101.0   ┆ 351.0   ┆ 120.0   ┆ [[101.0, 351.0, 120.0]] │\n",
       "│ …                ┆ …   ┆ …    ┆ …    ┆ … ┆ …       ┆ …       ┆ …       ┆ …                       │\n",
       "│ ycw2013-11-24-19 ┆ 800 ┆ 928  ┆ 960  ┆ … ┆ 439.0   ┆ 173.0   ┆ 419.5   ┆ [[439.0, 173.0, 419.5], │\n",
       "│                  ┆     ┆      ┆      ┆   ┆         ┆         ┆         ┆ [406.5…                 │\n",
       "│ ycw2013-11-24-2  ┆ 800 ┆ 928  ┆ 960  ┆ … ┆ 429.25  ┆ 799.0   ┆ 834.5   ┆ [[429.25, 799.0,        │\n",
       "│                  ┆     ┆      ┆      ┆   ┆         ┆         ┆         ┆ 834.5]]                 │\n",
       "│ ycw2013-11-24-24 ┆ 800 ┆ 928  ┆ 960  ┆ … ┆ 348.25  ┆ 332.0   ┆ 260.5   ┆ [[348.25, 332.0,        │\n",
       "│                  ┆     ┆      ┆      ┆   ┆         ┆         ┆         ┆ 260.5], [328.…          │\n",
       "│ ycw2013-11-24-5  ┆ 800 ┆ 928  ┆ 960  ┆ … ┆ 396.75  ┆ 150.375 ┆ 620.5   ┆ [[396.75, 150.375,      │\n",
       "│                  ┆     ┆      ┆      ┆   ┆         ┆         ┆         ┆ 620.5], [42…            │\n",
       "│ ycw2017-11-30-30 ┆ 600 ┆ 928  ┆ 960  ┆ … ┆ 354.25  ┆ 227.375 ┆ 632.0   ┆ [[354.25, 227.375,      │\n",
       "│                  ┆     ┆      ┆      ┆   ┆         ┆         ┆         ┆ 632.0], [35…            │\n",
       "└──────────────────┴─────┴──────┴──────┴───┴─────────┴─────────┴─────────┴─────────────────────────┘"
      ]
     },
     "execution_count": 3,
     "metadata": {},
     "output_type": "execute_result"
    }
   ],
   "source": [
    "df = pl.scan_csv('../data/processed/all_gt_v3.csv').collect()\n",
    "df"
   ]
  },
  {
   "cell_type": "code",
   "execution_count": 6,
   "id": "be24fad4-fcd6-4ee0-a081-59b657dc90cd",
   "metadata": {},
   "outputs": [
    {
     "data": {
      "text/plain": [
       "(array([ 222., 1406.,  201.,   56.,   22.,    7.,   12.,    3.,    3.,\n",
       "           3.]),\n",
       " array([ 0.,  1.,  2.,  3.,  4.,  5.,  6.,  7.,  8.,  9., 10.]),\n",
       " <BarContainer object of 10 artists>)"
      ]
     },
     "execution_count": 6,
     "metadata": {},
     "output_type": "execute_result"
    },
    {
     "data": {
      "image/png": "[encoded data removed]",
      "text/plain": [
       "<Figure size 640x480 with 1 Axes>"
      ]
     },
     "metadata": {},
     "output_type": "display_data"
    }
   ],
   "source": [
    "from matplotlib import pyplot as plt\n",
    "plt.hist(df['num_motors'])"
   ]
  },
  {
   "cell_type": "code",
   "execution_count": 7,
   "id": "ccf714bf-0540-40b2-a5f8-c44c9fe82ffb",
   "metadata": {},
   "outputs": [
    {
     "data": {
      "text/plain": [
       "2245"
      ]
     },
     "execution_count": 7,
     "metadata": {},
     "output_type": "execute_result"
    }
   ],
   "source": [
    "df['num_motors'].sum()"
   ]
  },
  {
   "cell_type": "code",
   "execution_count": null,
   "id": "d89c4fea-fb09-49e2-936d-34937ba228a8",
   "metadata": {},
   "outputs": [],
   "source": []
  }
 ],
 "metadata": {
  "kernelspec": {
   "display_name": "Python 3 (ipykernel)",
   "language": "python",
   "name": "python3"
  },
  "language_info": {
   "codemirror_mode": {
    "name": "ipython",
    "version": 3
   },
   "file_extension": ".py",
   "mimetype": "text/x-python",
   "name": "python",
   "nbconvert_exporter": "python",
   "pygments_lexer": "ipython3",
   "version": "3.11.10"
  }
 },
 "nbformat": 4,
 "nbformat_minor": 5
}
