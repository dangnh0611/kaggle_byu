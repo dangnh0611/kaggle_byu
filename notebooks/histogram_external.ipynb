{
 "cells": [
  {
   "cell_type": "code",
   "execution_count": null,
   "id": "6f623757-21b6-4148-b45b-6a383809d889",
   "metadata": {},
   "outputs": [],
   "source": [
    "import torch\n",
    "import os\n",
    "import numpy as np\n",
    "import pandas as pd\n",
    "import polars as pl\n",
    "from torch.nn import functional as F\n",
    "from byu.data.io import MultithreadOpencvTomogramLoader\n",
    "from tqdm import tqdm\n",
    "import cv2\n",
    "\n",
    "tomo_loader = MultithreadOpencvTomogramLoader(8)"
   ]
  },
  {
   "cell_type": "code",
   "execution_count": null,
   "id": "c05ba34d-eabe-46c5-9f22-bed2331315e0",
   "metadata": {},
   "outputs": [],
   "source": [
    "ret = {}\n",
    "DATA_DIR = '/home/dangnh36/datasets/.comp/byu/external/tomogram/'\n",
    "\n",
    "tomo_ids = sorted(os.listdir(DATA_DIR))\n",
    "print('Number of tomos:', len(tomo_ids))\n",
    "global_hist = None\n",
    "\n",
    "for tomo_id in tqdm(tomo_ids):\n",
    "    tomo_dir = os.path.join(DATA_DIR, tomo_id)\n",
    "    tomo = tomo_loader.load(tomo_dir)\n",
    "    ori_shape = tuple(tomo.shape)\n",
    "\n",
    "    tomo = torch.from_numpy(tomo)\n",
    "    assert tomo.dtype == torch.uint8\n",
    "    spaced_shape = tuple(tomo.shape)\n",
    "    print(tomo_id, ori_shape, '-->', spaced_shape, tomo.dtype)\n",
    "    hist = torch.bincount(tomo.view(-1), minlength=256)\n",
    "    assert hist.shape[0] == 256\n",
    "    # print((tomo == 255).sum())\n",
    "    # hist = hist / hist.sum()\n",
    "    hist = hist.cpu().numpy()\n",
    "    ret[tomo_id] = {\n",
    "        'ori_shape': ori_shape,\n",
    "        'spaced_shape': spaced_shape,\n",
    "        'hist': hist.tolist()\n",
    "    }"
   ]
  },
  {
   "cell_type": "code",
   "execution_count": null,
   "id": "160eddaf-2d32-4cf9-b421-460d4fa85b03",
   "metadata": {},
   "outputs": [],
   "source": []
  },
  {
   "cell_type": "code",
   "execution_count": null,
   "id": "d2d334c8-07c9-4bca-8abb-94ed924b7d86",
   "metadata": {},
   "outputs": [],
   "source": []
  },
  {
   "cell_type": "code",
   "execution_count": null,
   "id": "c24bde19-dc07-471f-bd1a-6d8d925411b2",
   "metadata": {},
   "outputs": [],
   "source": [
    "import json\n",
    "\n",
    "with open('/home/dangnh36/datasets/.comp/byu/processed/', 'r') as f:\n",
    "    ret = json.load(f)"
   ]
  },
  {
   "cell_type": "code",
   "execution_count": null,
   "id": "ec9f0ecb-8e4f-4ec6-a97e-430adfe1f56d",
   "metadata": {},
   "outputs": [],
   "source": []
  },
  {
   "cell_type": "code",
   "execution_count": null,
   "id": "7cf13dd7-8846-4592-8f08-195df7f02e4e",
   "metadata": {},
   "outputs": [],
   "source": []
  },
  {
   "cell_type": "code",
   "execution_count": null,
   "id": "da2dbacb-1d39-476a-81fc-6ebd62a65a00",
   "metadata": {},
   "outputs": [],
   "source": []
  },
  {
   "cell_type": "code",
   "execution_count": null,
   "id": "002423cb-840c-4929-8f08-650b6c75adde",
   "metadata": {},
   "outputs": [],
   "source": []
  },
  {
   "cell_type": "code",
   "execution_count": null,
   "id": "9b958b71-12cf-487e-9cf2-bb5b373ebacc",
   "metadata": {},
   "outputs": [],
   "source": [
    "accu = None\n",
    "avg = None\n",
    "all_hists = []\n",
    "\n",
    "for i, (tomo_id, data) in enumerate(ret.items()):\n",
    "    hist = np.array(data['hist'])\n",
    "    norm_hist = hist / hist.sum()\n",
    "    # print(norm_hist.sum())\n",
    "    if i == 0:\n",
    "        accu = hist.copy()\n",
    "        avg = norm_hist.copy()\n",
    "    else:\n",
    "        accu += hist\n",
    "        avg += norm_hist\n",
    "    all_hists.append(norm_hist)\n",
    "\n",
    "\n",
    "all_hists = np.array(all_hists)\n",
    "# all_hists = all_hists.reshape((len(ret), -1, 8)).mean(axis = -1)\n",
    "\n",
    "accu = accu / accu.sum()\n",
    "avg  = avg / len(ret)\n",
    "print(accu.sum(), avg.sum())\n",
    "print([e.sum() for e in all_hists])"
   ]
  },
  {
   "cell_type": "code",
   "execution_count": null,
   "id": "bb7c3117-7647-467a-a371-1fdebdfbfab8",
   "metadata": {},
   "outputs": [],
   "source": [
    "len(ret)"
   ]
  },
  {
   "cell_type": "code",
   "execution_count": null,
   "id": "6638d29a-3248-45c1-9f67-cf6e5df4a0dc",
   "metadata": {},
   "outputs": [],
   "source": []
  },
  {
   "cell_type": "code",
   "execution_count": null,
   "id": "ff20c0df-224b-442a-ab08-049e4aec28a6",
   "metadata": {},
   "outputs": [],
   "source": [
    "wrong2 = ['aba2014-02-21-14', 'mba2011-02-16-1', 'mba2011-02-16-103', 'mba2011-02-16-106', 'mba2011-02-16-108', 'mba2011-02-16-11', 'mba2011-02-16-111', 'mba2011-02-16-115', 'mba2011-02-16-116', 'mba2011-02-16-12', 'mba2011-02-16-122', 'mba2011-02-16-123', 'mba2011-02-16-129', 'mba2011-02-16-133', 'mba2011-02-16-139', 'mba2011-02-16-141', 'mba2011-02-16-143', 'mba2011-02-16-145', 'mba2011-02-16-147', 'mba2011-02-16-15', 'mba2011-02-16-150', 'mba2011-02-16-153', 'mba2011-02-16-155', 'mba2011-02-16-157', 'mba2011-02-16-160', 'mba2011-02-16-162', 'mba2011-02-16-17', 'mba2011-02-16-170', 'mba2011-02-16-173', 'mba2011-02-16-176', 'mba2011-02-16-19', 'mba2011-02-16-20', 'mba2011-02-16-23', 'mba2011-02-16-26', 'mba2011-02-16-27', 'mba2011-02-16-28', 'mba2011-02-16-29', 'mba2011-02-16-3', 'mba2011-02-16-30', 'mba2011-02-16-32', 'mba2011-02-16-33', 'mba2011-02-16-34', 'mba2011-02-16-35', 'mba2011-02-16-37', 'mba2011-02-16-40', 'mba2011-02-16-42', 'mba2011-02-16-46', 'mba2011-02-16-48', 'mba2011-02-16-52', 'mba2011-02-16-53', 'mba2011-02-16-55', 'mba2011-02-16-60', 'mba2011-02-16-64', 'mba2011-02-16-65', 'mba2011-02-16-67', 'mba2011-02-16-68', 'mba2011-02-16-71', 'mba2011-02-16-75', 'mba2011-02-16-79', 'mba2011-02-16-88', 'mba2011-02-16-90', 'mba2011-02-16-95']\n",
    "len(wrong2)"
   ]
  },
  {
   "cell_type": "code",
   "execution_count": null,
   "id": "c506ab9e-b41a-4f68-888f-4f4fd01873c9",
   "metadata": {},
   "outputs": [],
   "source": [
    "np.percentile((all_hists[:, :50].sum(axis = 1) / all_hists[:, 50:].sum(axis = 1)), 99)"
   ]
  },
  {
   "cell_type": "code",
   "execution_count": null,
   "id": "c8a90d0e-6bb4-416a-9604-067ae649db9a",
   "metadata": {},
   "outputs": [],
   "source": []
  },
  {
   "cell_type": "code",
   "execution_count": null,
   "id": "16719201-7be0-4a82-a388-f0fb53f4f985",
   "metadata": {},
   "outputs": [],
   "source": []
  },
  {
   "cell_type": "code",
   "execution_count": null,
   "id": "53b740f3-405b-4510-8edf-e27a59dc5c1b",
   "metadata": {},
   "outputs": [],
   "source": [
    "CUTOFF = 25\n",
    "\n",
    "wrong_quantile_tomo_ids = sorted([list(ret.keys())[idx] for idx in np.where(all_hists[:, :CUTOFF].sum(axis=1) / all_hists[:, CUTOFF:].sum(axis = 1) > 0.04)[0]])\n",
    "# wrong_quantile_tomo_ids = sorted([list(ret.keys())[idx] for idx in np.where(all_hists[:, -CUTOFF:].sum(axis=1) / all_hists[:, :-CUTOFF].sum(axis = 1) > 0.04)[0]])\n",
    "print(len(wrong_quantile_tomo_ids))\n",
    "print(wrong_quantile_tomo_ids)"
   ]
  },
  {
   "cell_type": "code",
   "execution_count": null,
   "id": "e2251789-d5b1-4764-9785-2cd4fa2301af",
   "metadata": {},
   "outputs": [],
   "source": [
    "import matplotlib.pyplot as plt\n",
    "import numpy as np\n",
    "import cv2\n",
    "\n",
    "for i, tomo_id in enumerate(['mba2011-02-16-1', 'mba2011-02-16-106', 'mba2011-02-16-108', 'mba2011-02-16-11', 'mba2011-02-16-116', 'mba2011-02-16-12', 'mba2011-02-16-123', 'mba2011-02-16-129', 'mba2011-02-16-133', 'mba2011-02-16-139', 'mba2011-02-16-141', 'mba2011-02-16-145', 'mba2011-02-16-153', 'mba2011-02-16-155', 'mba2011-02-16-157', 'mba2011-02-16-160', 'mba2011-02-16-162', 'mba2011-02-16-17', 'mba2011-02-16-176', 'mba2011-02-16-19', 'mba2011-02-16-26', 'mba2011-02-16-27', 'mba2011-02-16-28', 'mba2011-02-16-29', 'mba2011-02-16-32', 'mba2011-02-16-33', 'mba2011-02-16-34', 'mba2011-02-16-40', 'mba2011-02-16-42', 'mba2011-02-16-46', 'mba2011-02-16-48', 'mba2011-02-16-53', 'mba2011-02-16-55', 'mba2011-02-16-60', 'mba2011-02-16-64', 'mba2011-02-16-65', 'mba2011-02-16-67', 'mba2011-02-16-71', 'mba2011-02-16-75', 'mba2011-02-16-79', 'mba2011-02-16-88', 'mba2011-02-16-90', 'mba2011-02-16-95']):\n",
    "    print(i, tomo_id)\n",
    "    \n",
    "    hist = ret[tomo_id]['hist']\n",
    "    img = cv2.imread(f'/home/dangnh36/datasets/.comp/byu/processed/external/tomogram/{tomo_id}/slice_0050.jpg')\n",
    "    img = cv2.cvtColor(img, cv2.COLOR_BGR2RGB)  # Convert BGR to RGB for correct display\n",
    "\n",
    "    # Create a 1-row, 2-column subplot\n",
    "    fig, axs = plt.subplots(1, 2, figsize=(12, 4))\n",
    "\n",
    "    # Histogram\n",
    "    axs[0].bar(np.arange(0, 256), hist)\n",
    "    axs[0].set_title('Histogram')\n",
    "\n",
    "    # Image\n",
    "    axs[1].imshow(img)\n",
    "    axs[1].axis('off')\n",
    "    axs[1].set_title('Slice Image')\n",
    "\n",
    "    plt.suptitle(f'Tomogram ID: {tomo_id}')\n",
    "    plt.tight_layout()\n",
    "    plt.show()\n",
    "\n",
    "    print('-----------------------\\n')\n"
   ]
  },
  {
   "cell_type": "code",
   "execution_count": null,
   "id": "c2943c00-6a58-4989-9e6b-117ccfdd7588",
   "metadata": {},
   "outputs": [],
   "source": []
  },
  {
   "cell_type": "code",
   "execution_count": null,
   "id": "485f3389-997b-42f8-82ce-8595a684b929",
   "metadata": {
    "scrolled": true
   },
   "outputs": [],
   "source": [
    "too_light_candidates = ['mba2011-02-16-106', 'mba2011-02-16-108', 'mba2011-02-16-12', 'mba2011-02-16-139', 'mba2011-02-16-145', 'mba2011-02-16-153', 'mba2011-02-16-155', 'mba2011-02-16-162', 'mba2011-02-16-17', 'mba2011-02-16-176', 'mba2011-02-16-19', 'mba2011-02-16-26', 'mba2011-02-16-28', 'mba2011-02-16-33', 'mba2011-02-16-34', 'mba2011-02-16-42', 'mba2011-02-16-46', 'mba2011-02-16-48', 'mba2011-02-16-53', 'mba2011-02-16-60', 'mba2011-02-16-90', 'mba2012-01-12-11', 'mba2012-01-12-21', 'mba2012-01-13-23', 'mba2012-01-13-26', 'mba2012-04-24-20', 'mba2012-08-29-1', 'mba2012-08-29-2', 'mba2012-08-29-23', 'mba2012-08-29-9']\n",
    "\n",
    "too_light = too_light_candidates[:-9]\n",
    "print(too_light)"
   ]
  },
  {
   "cell_type": "code",
   "execution_count": null,
   "id": "2971cd26-b424-42ec-a029-750c51b67226",
   "metadata": {},
   "outputs": [],
   "source": []
  },
  {
   "cell_type": "code",
   "execution_count": null,
   "id": "1b97c2ba-b66f-4bbc-84e5-bd724f5b2077",
   "metadata": {},
   "outputs": [],
   "source": [
    "too_dark_candidates = ['mba2011-02-16-1', 'mba2011-02-16-108', 'mba2011-02-16-11', 'mba2011-02-16-116', 'mba2011-02-16-12', 'mba2011-02-16-123', 'mba2011-02-16-129', 'mba2011-02-16-133', 'mba2011-02-16-139', 'mba2011-02-16-141', 'mba2011-02-16-145', 'mba2011-02-16-153', 'mba2011-02-16-155', 'mba2011-02-16-157', 'mba2011-02-16-160', 'mba2011-02-16-162', 'mba2011-02-16-17', 'mba2011-02-16-176', 'mba2011-02-16-19', 'mba2011-02-16-26', 'mba2011-02-16-27', 'mba2011-02-16-28', 'mba2011-02-16-29', 'mba2011-02-16-32', 'mba2011-02-16-33', 'mba2011-02-16-34', 'mba2011-02-16-40', 'mba2011-02-16-53', 'mba2011-02-16-55', 'mba2011-02-16-60', 'mba2011-02-16-64', 'mba2011-02-16-65', 'mba2011-02-16-67', 'mba2011-02-16-71', 'mba2011-02-16-75', 'mba2011-02-16-79', 'mba2011-02-16-88', 'mba2011-02-16-90', 'mba2011-02-16-95', 'mba2011-03-24-6', 'mba2011-12-17-26', 'mba2012-01-13-12', 'mba2012-01-13-28', 'mba2012-01-13-29', 'mba2012-04-22-6', 'mba2012-04-24-17']\n",
    "\n",
    "too_dark = too_dark_candidates[:39]\n",
    "print(too_dark)"
   ]
  },
  {
   "cell_type": "code",
   "execution_count": null,
   "id": "ec8fb01f-25d3-46d8-b75c-d887d4c90e5f",
   "metadata": {},
   "outputs": [],
   "source": [
    "print(sorted(list(set(too_light).union(set(too_dark)))))"
   ]
  },
  {
   "cell_type": "code",
   "execution_count": null,
   "id": "9e99ba81-294e-4cfa-ba22-7f2028957c5c",
   "metadata": {},
   "outputs": [],
   "source": [
    "WRONG_QUANTILE_TOMO_IDS = ['mba2011-02-16-1', 'mba2011-02-16-106', 'mba2011-02-16-108', 'mba2011-02-16-11', 'mba2011-02-16-116', 'mba2011-02-16-12', 'mba2011-02-16-123', 'mba2011-02-16-129', 'mba2011-02-16-133', 'mba2011-02-16-139', 'mba2011-02-16-141', 'mba2011-02-16-145', 'mba2011-02-16-153', 'mba2011-02-16-155', 'mba2011-02-16-157', 'mba2011-02-16-160', 'mba2011-02-16-162', 'mba2011-02-16-17', 'mba2011-02-16-176', 'mba2011-02-16-19', 'mba2011-02-16-26', 'mba2011-02-16-27', 'mba2011-02-16-28', 'mba2011-02-16-29', 'mba2011-02-16-32', 'mba2011-02-16-33', 'mba2011-02-16-34', 'mba2011-02-16-40', 'mba2011-02-16-42', 'mba2011-02-16-46', 'mba2011-02-16-48', 'mba2011-02-16-53', 'mba2011-02-16-55', 'mba2011-02-16-60', 'mba2011-02-16-64', 'mba2011-02-16-65', 'mba2011-02-16-67', 'mba2011-02-16-71', 'mba2011-02-16-75', 'mba2011-02-16-79', 'mba2011-02-16-88', 'mba2011-02-16-90', 'mba2011-02-16-95']\n",
    "len(WRONG_QUANTILE_TOMO_IDS)"
   ]
  },
  {
   "cell_type": "code",
   "execution_count": null,
   "id": "86567e7a-5c86-4eb1-b2b8-dc605192286e",
   "metadata": {},
   "outputs": [],
   "source": []
  },
  {
   "cell_type": "code",
   "execution_count": null,
   "id": "d9cf7a20-982e-4563-8b78-c5288f4e3e64",
   "metadata": {},
   "outputs": [],
   "source": [
    "WRONG_QUANTILE_TOMO_IDS[1]"
   ]
  },
  {
   "cell_type": "code",
   "execution_count": null,
   "id": "2bd6d163-e042-443f-bda3-406c45207f2a",
   "metadata": {},
   "outputs": [],
   "source": [
    "# SRC_TOMO_DIR = '/home/dangnh36/datasets/.comp/byu/processed/external_wrong_quantile/tomogram/'\n",
    "# SRC_META_DIR = '/home/dangnh36/datasets/.comp/byu/processed/external_wrong_quantile/meta/'\n",
    "\n",
    "# DST_TOMO_DIR = '/home/dangnh36/datasets/.comp/byu/processed/external/tomogram/'\n",
    "# DST_META_DIR = '/home/dangnh36/datasets/.comp/byu/processed/external/meta/'\n",
    "\n",
    "# import shutil\n",
    "\n",
    "# for tomo_id in WRONG_QUANTILE_TOMO_IDS[:]:\n",
    "#     src_tomo_dir = os.path.join(SRC_TOMO_DIR, tomo_id)\n",
    "#     assert os.path.isdir(src_tomo_dir)\n",
    "#     dst_tomo_dir = os.path.join(DST_TOMO_DIR, tomo_id)\n",
    "#     assert os.path.isdir(dst_tomo_dir)\n",
    "#     shutil.rmtree(dst_tomo_dir)\n",
    "#     shutil.move(src_tomo_dir, DST_TOMO_DIR)\n",
    "\n",
    "#     src_meta_path = os.path.join(SRC_META_DIR, f'{tomo_id}.json')\n",
    "#     assert os.path.isfile(src_meta_path)\n",
    "#     dst_meta_path = os.path.join(DST_META_DIR, f'{tomo_id}.json')\n",
    "#     os.remove(dst_meta_path)\n",
    "#     shutil.move(src_meta_path, DST_META_DIR)"
   ]
  },
  {
   "cell_type": "code",
   "execution_count": null,
   "id": "efc450b8-64de-4ce4-bf4e-89ba20348942",
   "metadata": {},
   "outputs": [],
   "source": []
  },
  {
   "cell_type": "code",
   "execution_count": null,
   "id": "50cd1641-44c0-456a-897a-5eb5752f9473",
   "metadata": {},
   "outputs": [],
   "source": []
  },
  {
   "cell_type": "code",
   "execution_count": null,
   "id": "2360ee55-6f26-478a-8d8e-8380075d7bf0",
   "metadata": {},
   "outputs": [],
   "source": []
  },
  {
   "cell_type": "code",
   "execution_count": null,
   "id": "b07b1503-ae34-4ac1-8e62-bf523208634c",
   "metadata": {},
   "outputs": [],
   "source": []
  },
  {
   "cell_type": "code",
   "execution_count": null,
   "id": "51b6aa8e-25ca-46e9-9e41-95e706b1836b",
   "metadata": {},
   "outputs": [],
   "source": []
  },
  {
   "cell_type": "code",
   "execution_count": null,
   "id": "f4e20352-e584-4d02-9900-c9ee2bbaf516",
   "metadata": {},
   "outputs": [],
   "source": []
  },
  {
   "cell_type": "code",
   "execution_count": null,
   "id": "6ef0cc20-15a1-43df-b5c8-e9dc1566c904",
   "metadata": {},
   "outputs": [],
   "source": []
  },
  {
   "cell_type": "code",
   "execution_count": null,
   "id": "50198800-5d50-4308-8407-902dfbc17fc0",
   "metadata": {},
   "outputs": [],
   "source": []
  },
  {
   "cell_type": "code",
   "execution_count": null,
   "id": "dbd481af-c1d1-4d49-8ae5-9373696a499f",
   "metadata": {},
   "outputs": [],
   "source": []
  },
  {
   "cell_type": "code",
   "execution_count": null,
   "id": "026948e6-cf7e-4887-b30e-129a3ef1928d",
   "metadata": {},
   "outputs": [],
   "source": []
  }
 ],
 "metadata": {
  "kernelspec": {
   "display_name": "Python 3 (ipykernel)",
   "language": "python",
   "name": "python3"
  },
  "language_info": {
   "codemirror_mode": {
    "name": "ipython",
    "version": 3
   },
   "file_extension": ".py",
   "mimetype": "text/x-python",
   "name": "python",
   "nbconvert_exporter": "python",
   "pygments_lexer": "ipython3",
   "version": "3.11.10"
  }
 },
 "nbformat": 4,
 "nbformat_minor": 5
}
