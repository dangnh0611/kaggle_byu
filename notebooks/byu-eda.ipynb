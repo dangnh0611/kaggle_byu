{
 "cells": [
  {
   "cell_type": "code",
   "execution_count": 3,
   "metadata": {},
   "outputs": [],
   "source": [
    "import polars as pl\n",
    "import sys\n",
    "import json\n",
    "import numpy as np\n",
    "import cv2\n",
    "from matplotlib import pyplot as plt\n",
    "import math\n",
    "import os\n",
    "from tqdm.notebook import tqdm"
   ]
  },
  {
   "cell_type": "code",
   "execution_count": 4,
   "metadata": {},
   "outputs": [],
   "source": [
    "PERCENTILES = [0.01, 0.05, 0.1, 0.25, 0.5, 0.75, 0.9, 0.95, 0.99]"
   ]
  },
  {
   "cell_type": "code",
   "execution_count": 30,
   "metadata": {
    "execution": {
     "iopub.execute_input": "2025-03-10T17:13:40.517211Z",
     "iopub.status.busy": "2025-03-10T17:13:40.516829Z",
     "iopub.status.idle": "2025-03-10T17:13:40.531624Z",
     "shell.execute_reply": "2025-03-10T17:13:40.529514Z",
     "shell.execute_reply.started": "2025-03-10T17:13:40.517181Z"
    }
   },
   "outputs": [
    {
     "data": {
      "text/html": [
       "<div><style>\n",
       ".dataframe > thead > tr,\n",
       ".dataframe > tbody > tr {\n",
       "  text-align: right;\n",
       "  white-space: pre-wrap;\n",
       "}\n",
       "</style>\n",
       "<small>shape: (737, 10)</small><table border=\"1\" class=\"dataframe\"><thead><tr><th>row_id</th><th>tomo_id</th><th>Motor axis 0</th><th>Motor axis 1</th><th>Motor axis 2</th><th>Array shape (axis 0)</th><th>Array shape (axis 1)</th><th>Array shape (axis 2)</th><th>Voxel spacing</th><th>Number of motors</th></tr><tr><td>i64</td><td>str</td><td>f64</td><td>f64</td><td>f64</td><td>i64</td><td>i64</td><td>i64</td><td>f64</td><td>i64</td></tr></thead><tbody><tr><td>0</td><td>&quot;tomo_003acc&quot;</td><td>-1.0</td><td>-1.0</td><td>-1.0</td><td>500</td><td>1912</td><td>1847</td><td>6.5</td><td>0</td></tr><tr><td>1</td><td>&quot;tomo_00e047&quot;</td><td>169.0</td><td>546.0</td><td>603.0</td><td>300</td><td>959</td><td>928</td><td>15.6</td><td>1</td></tr><tr><td>2</td><td>&quot;tomo_00e463&quot;</td><td>235.0</td><td>403.0</td><td>137.0</td><td>500</td><td>924</td><td>956</td><td>19.7</td><td>6</td></tr><tr><td>3</td><td>&quot;tomo_00e463&quot;</td><td>243.0</td><td>363.0</td><td>153.0</td><td>500</td><td>924</td><td>956</td><td>19.7</td><td>6</td></tr><tr><td>4</td><td>&quot;tomo_00e463&quot;</td><td>222.0</td><td>379.0</td><td>144.0</td><td>500</td><td>924</td><td>956</td><td>19.7</td><td>6</td></tr><tr><td>&hellip;</td><td>&hellip;</td><td>&hellip;</td><td>&hellip;</td><td>&hellip;</td><td>&hellip;</td><td>&hellip;</td><td>&hellip;</td><td>&hellip;</td><td>&hellip;</td></tr><tr><td>732</td><td>&quot;tomo_fe050c&quot;</td><td>138.0</td><td>134.0</td><td>542.0</td><td>300</td><td>959</td><td>928</td><td>15.6</td><td>1</td></tr><tr><td>733</td><td>&quot;tomo_fe85f6&quot;</td><td>-1.0</td><td>-1.0</td><td>-1.0</td><td>800</td><td>928</td><td>960</td><td>13.1</td><td>0</td></tr><tr><td>734</td><td>&quot;tomo_fea6e8&quot;</td><td>-1.0</td><td>-1.0</td><td>-1.0</td><td>300</td><td>960</td><td>928</td><td>16.8</td><td>0</td></tr><tr><td>735</td><td>&quot;tomo_ff505c&quot;</td><td>111.0</td><td>816.0</td><td>678.0</td><td>300</td><td>959</td><td>928</td><td>15.6</td><td>1</td></tr><tr><td>736</td><td>&quot;tomo_ff7c20&quot;</td><td>-1.0</td><td>-1.0</td><td>-1.0</td><td>800</td><td>928</td><td>960</td><td>13.1</td><td>0</td></tr></tbody></table></div>"
      ],
      "text/plain": [
       "shape: (737, 10)\n",
       "┌────────┬──────────────┬────────┬────────┬───┬──────────────┬─────────────┬─────────┬─────────────┐\n",
       "│ row_id ┆ tomo_id      ┆ Motor  ┆ Motor  ┆ … ┆ Array shape  ┆ Array shape ┆ Voxel   ┆ Number of   │\n",
       "│ ---    ┆ ---          ┆ axis 0 ┆ axis 1 ┆   ┆ (axis 1)     ┆ (axis 2)    ┆ spacing ┆ motors      │\n",
       "│ i64    ┆ str          ┆ ---    ┆ ---    ┆   ┆ ---          ┆ ---         ┆ ---     ┆ ---         │\n",
       "│        ┆              ┆ f64    ┆ f64    ┆   ┆ i64          ┆ i64         ┆ f64     ┆ i64         │\n",
       "╞════════╪══════════════╪════════╪════════╪═══╪══════════════╪═════════════╪═════════╪═════════════╡\n",
       "│ 0      ┆ tomo_003acc  ┆ -1.0   ┆ -1.0   ┆ … ┆ 1912         ┆ 1847        ┆ 6.5     ┆ 0           │\n",
       "│ 1      ┆ tomo_00e047  ┆ 169.0  ┆ 546.0  ┆ … ┆ 959          ┆ 928         ┆ 15.6    ┆ 1           │\n",
       "│ 2      ┆ tomo_00e463  ┆ 235.0  ┆ 403.0  ┆ … ┆ 924          ┆ 956         ┆ 19.7    ┆ 6           │\n",
       "│ 3      ┆ tomo_00e463  ┆ 243.0  ┆ 363.0  ┆ … ┆ 924          ┆ 956         ┆ 19.7    ┆ 6           │\n",
       "│ 4      ┆ tomo_00e463  ┆ 222.0  ┆ 379.0  ┆ … ┆ 924          ┆ 956         ┆ 19.7    ┆ 6           │\n",
       "│ …      ┆ …            ┆ …      ┆ …      ┆ … ┆ …            ┆ …           ┆ …       ┆ …           │\n",
       "│ 732    ┆ tomo_fe050c  ┆ 138.0  ┆ 134.0  ┆ … ┆ 959          ┆ 928         ┆ 15.6    ┆ 1           │\n",
       "│ 733    ┆ tomo_fe85f6  ┆ -1.0   ┆ -1.0   ┆ … ┆ 928          ┆ 960         ┆ 13.1    ┆ 0           │\n",
       "│ 734    ┆ tomo_fea6e8  ┆ -1.0   ┆ -1.0   ┆ … ┆ 960          ┆ 928         ┆ 16.8    ┆ 0           │\n",
       "│ 735    ┆ tomo_ff505c  ┆ 111.0  ┆ 816.0  ┆ … ┆ 959          ┆ 928         ┆ 15.6    ┆ 1           │\n",
       "│ 736    ┆ tomo_ff7c20  ┆ -1.0   ┆ -1.0   ┆ … ┆ 928          ┆ 960         ┆ 13.1    ┆ 0           │\n",
       "└────────┴──────────────┴────────┴────────┴───┴──────────────┴─────────────┴─────────┴─────────────┘"
      ]
     },
     "execution_count": 30,
     "metadata": {},
     "output_type": "execute_result"
    }
   ],
   "source": [
    "df = pl.scan_csv('/kaggle/input/byu-locating-bacterial-flagellar-motors-2025/train_labels.csv').collect()\n",
    "df"
   ]
  },
  {
   "cell_type": "code",
   "execution_count": 31,
   "metadata": {
    "execution": {
     "iopub.execute_input": "2025-03-10T17:13:41.798902Z",
     "iopub.status.busy": "2025-03-10T17:13:41.798574Z",
     "iopub.status.idle": "2025-03-10T17:13:41.812331Z",
     "shell.execute_reply": "2025-03-10T17:13:41.810803Z",
     "shell.execute_reply.started": "2025-03-10T17:13:41.798878Z"
    }
   },
   "outputs": [
    {
     "data": {
      "text/html": [
       "<div><style>\n",
       ".dataframe > thead > tr,\n",
       ".dataframe > tbody > tr {\n",
       "  text-align: right;\n",
       "  white-space: pre-wrap;\n",
       "}\n",
       "</style>\n",
       "<small>shape: (9, 11)</small><table border=\"1\" class=\"dataframe\"><thead><tr><th>statistic</th><th>row_id</th><th>tomo_id</th><th>Motor axis 0</th><th>Motor axis 1</th><th>Motor axis 2</th><th>Array shape (axis 0)</th><th>Array shape (axis 1)</th><th>Array shape (axis 2)</th><th>Voxel spacing</th><th>Number of motors</th></tr><tr><td>str</td><td>f64</td><td>str</td><td>f64</td><td>f64</td><td>f64</td><td>f64</td><td>f64</td><td>f64</td><td>f64</td><td>f64</td></tr></thead><tbody><tr><td>&quot;count&quot;</td><td>737.0</td><td>&quot;737&quot;</td><td>737.0</td><td>737.0</td><td>737.0</td><td>737.0</td><td>737.0</td><td>737.0</td><td>737.0</td><td>737.0</td></tr><tr><td>&quot;null_count&quot;</td><td>0.0</td><td>&quot;0&quot;</td><td>0.0</td><td>0.0</td><td>0.0</td><td>0.0</td><td>0.0</td><td>0.0</td><td>0.0</td><td>0.0</td></tr><tr><td>&quot;mean&quot;</td><td>368.0</td><td>null</td><td>101.861601</td><td>294.85346</td><td>300.818182</td><td>422.651289</td><td>950.207598</td><td>954.819539</td><td>15.341655</td><td>1.127544</td></tr><tr><td>&quot;std&quot;</td><td>212.897863</td><td>null</td><td>102.208293</td><td>282.325485</td><td>293.368799</td><td>174.341523</td><td>64.861948</td><td>97.22997</td><td>2.398197</td><td>1.642676</td></tr><tr><td>&quot;min&quot;</td><td>0.0</td><td>&quot;tomo_003acc&quot;</td><td>-1.0</td><td>-1.0</td><td>-1.0</td><td>300.0</td><td>924.0</td><td>924.0</td><td>6.5</td><td>0.0</td></tr><tr><td>&quot;25%&quot;</td><td>184.0</td><td>null</td><td>-1.0</td><td>-1.0</td><td>-1.0</td><td>300.0</td><td>928.0</td><td>928.0</td><td>13.1</td><td>0.0</td></tr><tr><td>&quot;50%&quot;</td><td>368.0</td><td>null</td><td>106.0</td><td>278.0</td><td>280.0</td><td>300.0</td><td>959.0</td><td>928.0</td><td>15.6</td><td>1.0</td></tr><tr><td>&quot;75%&quot;</td><td>552.0</td><td>null</td><td>170.0</td><td>549.0</td><td>567.0</td><td>500.0</td><td>960.0</td><td>956.0</td><td>16.8</td><td>1.0</td></tr><tr><td>&quot;max&quot;</td><td>736.0</td><td>&quot;tomo_ff7c20&quot;</td><td>466.0</td><td>904.0</td><td>902.0</td><td>800.0</td><td>1912.0</td><td>1847.0</td><td>19.7</td><td>10.0</td></tr></tbody></table></div>"
      ],
      "text/plain": [
       "shape: (9, 11)\n",
       "┌───────────┬───────────┬───────────┬───────────┬───┬───────────┬───────────┬───────────┬──────────┐\n",
       "│ statistic ┆ row_id    ┆ tomo_id   ┆ Motor     ┆ … ┆ Array     ┆ Array     ┆ Voxel     ┆ Number   │\n",
       "│ ---       ┆ ---       ┆ ---       ┆ axis 0    ┆   ┆ shape     ┆ shape     ┆ spacing   ┆ of       │\n",
       "│ str       ┆ f64       ┆ str       ┆ ---       ┆   ┆ (axis 1)  ┆ (axis 2)  ┆ ---       ┆ motors   │\n",
       "│           ┆           ┆           ┆ f64       ┆   ┆ ---       ┆ ---       ┆ f64       ┆ ---      │\n",
       "│           ┆           ┆           ┆           ┆   ┆ f64       ┆ f64       ┆           ┆ f64      │\n",
       "╞═══════════╪═══════════╪═══════════╪═══════════╪═══╪═══════════╪═══════════╪═══════════╪══════════╡\n",
       "│ count     ┆ 737.0     ┆ 737       ┆ 737.0     ┆ … ┆ 737.0     ┆ 737.0     ┆ 737.0     ┆ 737.0    │\n",
       "│ null_coun ┆ 0.0       ┆ 0         ┆ 0.0       ┆ … ┆ 0.0       ┆ 0.0       ┆ 0.0       ┆ 0.0      │\n",
       "│ t         ┆           ┆           ┆           ┆   ┆           ┆           ┆           ┆          │\n",
       "│ mean      ┆ 368.0     ┆ null      ┆ 101.86160 ┆ … ┆ 950.20759 ┆ 954.81953 ┆ 15.341655 ┆ 1.127544 │\n",
       "│           ┆           ┆           ┆ 1         ┆   ┆ 8         ┆ 9         ┆           ┆          │\n",
       "│ std       ┆ 212.89786 ┆ null      ┆ 102.20829 ┆ … ┆ 64.861948 ┆ 97.22997  ┆ 2.398197  ┆ 1.642676 │\n",
       "│           ┆ 3         ┆           ┆ 3         ┆   ┆           ┆           ┆           ┆          │\n",
       "│ min       ┆ 0.0       ┆ tomo_003a ┆ -1.0      ┆ … ┆ 924.0     ┆ 924.0     ┆ 6.5       ┆ 0.0      │\n",
       "│           ┆           ┆ cc        ┆           ┆   ┆           ┆           ┆           ┆          │\n",
       "│ 25%       ┆ 184.0     ┆ null      ┆ -1.0      ┆ … ┆ 928.0     ┆ 928.0     ┆ 13.1      ┆ 0.0      │\n",
       "│ 50%       ┆ 368.0     ┆ null      ┆ 106.0     ┆ … ┆ 959.0     ┆ 928.0     ┆ 15.6      ┆ 1.0      │\n",
       "│ 75%       ┆ 552.0     ┆ null      ┆ 170.0     ┆ … ┆ 960.0     ┆ 956.0     ┆ 16.8      ┆ 1.0      │\n",
       "│ max       ┆ 736.0     ┆ tomo_ff7c ┆ 466.0     ┆ … ┆ 1912.0    ┆ 1847.0    ┆ 19.7      ┆ 10.0     │\n",
       "│           ┆           ┆ 20        ┆           ┆   ┆           ┆           ┆           ┆          │\n",
       "└───────────┴───────────┴───────────┴───────────┴───┴───────────┴───────────┴───────────┴──────────┘"
      ]
     },
     "execution_count": 31,
     "metadata": {},
     "output_type": "execute_result"
    }
   ],
   "source": [
    "df.describe()"
   ]
  },
  {
   "cell_type": "code",
   "execution_count": 32,
   "metadata": {
    "execution": {
     "iopub.execute_input": "2025-03-10T17:13:47.761860Z",
     "iopub.status.busy": "2025-03-10T17:13:47.761326Z",
     "iopub.status.idle": "2025-03-10T17:13:47.772755Z",
     "shell.execute_reply": "2025-03-10T17:13:47.771018Z",
     "shell.execute_reply.started": "2025-03-10T17:13:47.761804Z"
    }
   },
   "outputs": [
    {
     "name": "stdout",
     "output_type": "stream",
     "text": [
      "[  0. 556. 359.]\n"
     ]
    }
   ],
   "source": [
    "tmp = df.select(pl.col('Motor axis 0', 'Motor axis 1', 'Motor axis 2')).to_numpy()\n",
    "for row in tmp:\n",
    "    if row[0] ==-1:\n",
    "        assert row[1] == row[2] == -1\n",
    "    else:\n",
    "        if row[0] * row[1] * row[2] == 0:\n",
    "            print(row)\n",
    "        assert row[0] >= 0 and row[1] >= 0 and row[2] >= 0, f'{row}'"
   ]
  },
  {
   "cell_type": "code",
   "execution_count": 33,
   "metadata": {
    "execution": {
     "iopub.execute_input": "2025-03-10T17:14:00.918973Z",
     "iopub.status.busy": "2025-03-10T17:14:00.918578Z",
     "iopub.status.idle": "2025-03-10T17:14:00.928670Z",
     "shell.execute_reply": "2025-03-10T17:14:00.927468Z",
     "shell.execute_reply.started": "2025-03-10T17:14:00.918942Z"
    }
   },
   "outputs": [
    {
     "data": {
      "text/html": [
       "<div><style>\n",
       ".dataframe > thead > tr,\n",
       ".dataframe > tbody > tr {\n",
       "  text-align: right;\n",
       "  white-space: pre-wrap;\n",
       "}\n",
       "</style>\n",
       "<small>shape: (737, 11)</small><table border=\"1\" class=\"dataframe\"><thead><tr><th>row_id</th><th>tomo_id</th><th>Motor axis 0</th><th>Motor axis 1</th><th>Motor axis 2</th><th>Array shape (axis 0)</th><th>Array shape (axis 1)</th><th>Array shape (axis 2)</th><th>Voxel spacing</th><th>Number of motors</th><th>has_motor</th></tr><tr><td>i64</td><td>str</td><td>f64</td><td>f64</td><td>f64</td><td>i64</td><td>i64</td><td>i64</td><td>f64</td><td>i64</td><td>bool</td></tr></thead><tbody><tr><td>0</td><td>&quot;tomo_003acc&quot;</td><td>-1.0</td><td>-1.0</td><td>-1.0</td><td>500</td><td>1912</td><td>1847</td><td>6.5</td><td>0</td><td>false</td></tr><tr><td>1</td><td>&quot;tomo_00e047&quot;</td><td>169.0</td><td>546.0</td><td>603.0</td><td>300</td><td>959</td><td>928</td><td>15.6</td><td>1</td><td>true</td></tr><tr><td>2</td><td>&quot;tomo_00e463&quot;</td><td>235.0</td><td>403.0</td><td>137.0</td><td>500</td><td>924</td><td>956</td><td>19.7</td><td>6</td><td>true</td></tr><tr><td>3</td><td>&quot;tomo_00e463&quot;</td><td>243.0</td><td>363.0</td><td>153.0</td><td>500</td><td>924</td><td>956</td><td>19.7</td><td>6</td><td>true</td></tr><tr><td>4</td><td>&quot;tomo_00e463&quot;</td><td>222.0</td><td>379.0</td><td>144.0</td><td>500</td><td>924</td><td>956</td><td>19.7</td><td>6</td><td>true</td></tr><tr><td>&hellip;</td><td>&hellip;</td><td>&hellip;</td><td>&hellip;</td><td>&hellip;</td><td>&hellip;</td><td>&hellip;</td><td>&hellip;</td><td>&hellip;</td><td>&hellip;</td><td>&hellip;</td></tr><tr><td>732</td><td>&quot;tomo_fe050c&quot;</td><td>138.0</td><td>134.0</td><td>542.0</td><td>300</td><td>959</td><td>928</td><td>15.6</td><td>1</td><td>true</td></tr><tr><td>733</td><td>&quot;tomo_fe85f6&quot;</td><td>-1.0</td><td>-1.0</td><td>-1.0</td><td>800</td><td>928</td><td>960</td><td>13.1</td><td>0</td><td>false</td></tr><tr><td>734</td><td>&quot;tomo_fea6e8&quot;</td><td>-1.0</td><td>-1.0</td><td>-1.0</td><td>300</td><td>960</td><td>928</td><td>16.8</td><td>0</td><td>false</td></tr><tr><td>735</td><td>&quot;tomo_ff505c&quot;</td><td>111.0</td><td>816.0</td><td>678.0</td><td>300</td><td>959</td><td>928</td><td>15.6</td><td>1</td><td>true</td></tr><tr><td>736</td><td>&quot;tomo_ff7c20&quot;</td><td>-1.0</td><td>-1.0</td><td>-1.0</td><td>800</td><td>928</td><td>960</td><td>13.1</td><td>0</td><td>false</td></tr></tbody></table></div>"
      ],
      "text/plain": [
       "shape: (737, 11)\n",
       "┌────────┬─────────────┬────────┬─────────────┬───┬─────────────┬─────────┬────────────┬───────────┐\n",
       "│ row_id ┆ tomo_id     ┆ Motor  ┆ Motor axis  ┆ … ┆ Array shape ┆ Voxel   ┆ Number of  ┆ has_motor │\n",
       "│ ---    ┆ ---         ┆ axis 0 ┆ 1           ┆   ┆ (axis 2)    ┆ spacing ┆ motors     ┆ ---       │\n",
       "│ i64    ┆ str         ┆ ---    ┆ ---         ┆   ┆ ---         ┆ ---     ┆ ---        ┆ bool      │\n",
       "│        ┆             ┆ f64    ┆ f64         ┆   ┆ i64         ┆ f64     ┆ i64        ┆           │\n",
       "╞════════╪═════════════╪════════╪═════════════╪═══╪═════════════╪═════════╪════════════╪═══════════╡\n",
       "│ 0      ┆ tomo_003acc ┆ -1.0   ┆ -1.0        ┆ … ┆ 1847        ┆ 6.5     ┆ 0          ┆ false     │\n",
       "│ 1      ┆ tomo_00e047 ┆ 169.0  ┆ 546.0       ┆ … ┆ 928         ┆ 15.6    ┆ 1          ┆ true      │\n",
       "│ 2      ┆ tomo_00e463 ┆ 235.0  ┆ 403.0       ┆ … ┆ 956         ┆ 19.7    ┆ 6          ┆ true      │\n",
       "│ 3      ┆ tomo_00e463 ┆ 243.0  ┆ 363.0       ┆ … ┆ 956         ┆ 19.7    ┆ 6          ┆ true      │\n",
       "│ 4      ┆ tomo_00e463 ┆ 222.0  ┆ 379.0       ┆ … ┆ 956         ┆ 19.7    ┆ 6          ┆ true      │\n",
       "│ …      ┆ …           ┆ …      ┆ …           ┆ … ┆ …           ┆ …       ┆ …          ┆ …         │\n",
       "│ 732    ┆ tomo_fe050c ┆ 138.0  ┆ 134.0       ┆ … ┆ 928         ┆ 15.6    ┆ 1          ┆ true      │\n",
       "│ 733    ┆ tomo_fe85f6 ┆ -1.0   ┆ -1.0        ┆ … ┆ 960         ┆ 13.1    ┆ 0          ┆ false     │\n",
       "│ 734    ┆ tomo_fea6e8 ┆ -1.0   ┆ -1.0        ┆ … ┆ 928         ┆ 16.8    ┆ 0          ┆ false     │\n",
       "│ 735    ┆ tomo_ff505c ┆ 111.0  ┆ 816.0       ┆ … ┆ 928         ┆ 15.6    ┆ 1          ┆ true      │\n",
       "│ 736    ┆ tomo_ff7c20 ┆ -1.0   ┆ -1.0        ┆ … ┆ 960         ┆ 13.1    ┆ 0          ┆ false     │\n",
       "└────────┴─────────────┴────────┴─────────────┴───┴─────────────┴─────────┴────────────┴───────────┘"
      ]
     },
     "execution_count": 33,
     "metadata": {},
     "output_type": "execute_result"
    }
   ],
   "source": [
    "df = df.with_columns((pl.col('Motor axis 0') >= 0).alias('has_motor'))\n",
    "df"
   ]
  },
  {
   "cell_type": "code",
   "execution_count": 36,
   "metadata": {
    "execution": {
     "iopub.execute_input": "2025-03-10T17:14:46.094821Z",
     "iopub.status.busy": "2025-03-10T17:14:46.094403Z",
     "iopub.status.idle": "2025-03-10T17:14:46.102993Z",
     "shell.execute_reply": "2025-03-10T17:14:46.101662Z",
     "shell.execute_reply.started": "2025-03-10T17:14:46.094791Z"
    }
   },
   "outputs": [
    {
     "data": {
      "text/plain": [
       "True"
      ]
     },
     "execution_count": 36,
     "metadata": {},
     "output_type": "execute_result"
    }
   ],
   "source": [
    "(df['has_motor'] == (df['Number of motors'] > 0)).all()"
   ]
  },
  {
   "cell_type": "code",
   "execution_count": 39,
   "metadata": {
    "execution": {
     "iopub.execute_input": "2025-03-10T17:23:40.675091Z",
     "iopub.status.busy": "2025-03-10T17:23:40.674732Z",
     "iopub.status.idle": "2025-03-10T17:23:40.687131Z",
     "shell.execute_reply": "2025-03-10T17:23:40.685715Z",
     "shell.execute_reply.started": "2025-03-10T17:23:40.675058Z"
    }
   },
   "outputs": [
    {
     "data": {
      "text/html": [
       "<div><style>\n",
       ".dataframe > thead > tr,\n",
       ".dataframe > tbody > tr {\n",
       "  text-align: right;\n",
       "  white-space: pre-wrap;\n",
       "}\n",
       "</style>\n",
       "<small>shape: (737, 12)</small><table border=\"1\" class=\"dataframe\"><thead><tr><th>row_id</th><th>tomo_id</th><th>Motor axis 0</th><th>Motor axis 1</th><th>Motor axis 2</th><th>Array shape (axis 0)</th><th>Array shape (axis 1)</th><th>Array shape (axis 2)</th><th>Voxel spacing</th><th>Number of motors</th><th>has_motor</th><th>num_motors</th></tr><tr><td>i64</td><td>str</td><td>f64</td><td>f64</td><td>f64</td><td>i64</td><td>i64</td><td>i64</td><td>f64</td><td>i64</td><td>bool</td><td>u32</td></tr></thead><tbody><tr><td>0</td><td>&quot;tomo_003acc&quot;</td><td>-1.0</td><td>-1.0</td><td>-1.0</td><td>500</td><td>1912</td><td>1847</td><td>6.5</td><td>0</td><td>false</td><td>0</td></tr><tr><td>1</td><td>&quot;tomo_00e047&quot;</td><td>169.0</td><td>546.0</td><td>603.0</td><td>300</td><td>959</td><td>928</td><td>15.6</td><td>1</td><td>true</td><td>1</td></tr><tr><td>2</td><td>&quot;tomo_00e463&quot;</td><td>235.0</td><td>403.0</td><td>137.0</td><td>500</td><td>924</td><td>956</td><td>19.7</td><td>6</td><td>true</td><td>6</td></tr><tr><td>3</td><td>&quot;tomo_00e463&quot;</td><td>243.0</td><td>363.0</td><td>153.0</td><td>500</td><td>924</td><td>956</td><td>19.7</td><td>6</td><td>true</td><td>6</td></tr><tr><td>4</td><td>&quot;tomo_00e463&quot;</td><td>222.0</td><td>379.0</td><td>144.0</td><td>500</td><td>924</td><td>956</td><td>19.7</td><td>6</td><td>true</td><td>6</td></tr><tr><td>&hellip;</td><td>&hellip;</td><td>&hellip;</td><td>&hellip;</td><td>&hellip;</td><td>&hellip;</td><td>&hellip;</td><td>&hellip;</td><td>&hellip;</td><td>&hellip;</td><td>&hellip;</td><td>&hellip;</td></tr><tr><td>732</td><td>&quot;tomo_fe050c&quot;</td><td>138.0</td><td>134.0</td><td>542.0</td><td>300</td><td>959</td><td>928</td><td>15.6</td><td>1</td><td>true</td><td>1</td></tr><tr><td>733</td><td>&quot;tomo_fe85f6&quot;</td><td>-1.0</td><td>-1.0</td><td>-1.0</td><td>800</td><td>928</td><td>960</td><td>13.1</td><td>0</td><td>false</td><td>0</td></tr><tr><td>734</td><td>&quot;tomo_fea6e8&quot;</td><td>-1.0</td><td>-1.0</td><td>-1.0</td><td>300</td><td>960</td><td>928</td><td>16.8</td><td>0</td><td>false</td><td>0</td></tr><tr><td>735</td><td>&quot;tomo_ff505c&quot;</td><td>111.0</td><td>816.0</td><td>678.0</td><td>300</td><td>959</td><td>928</td><td>15.6</td><td>1</td><td>true</td><td>1</td></tr><tr><td>736</td><td>&quot;tomo_ff7c20&quot;</td><td>-1.0</td><td>-1.0</td><td>-1.0</td><td>800</td><td>928</td><td>960</td><td>13.1</td><td>0</td><td>false</td><td>0</td></tr></tbody></table></div>"
      ],
      "text/plain": [
       "shape: (737, 12)\n",
       "┌────────┬─────────────┬────────┬─────────────┬───┬─────────┬─────────────┬───────────┬────────────┐\n",
       "│ row_id ┆ tomo_id     ┆ Motor  ┆ Motor axis  ┆ … ┆ Voxel   ┆ Number of   ┆ has_motor ┆ num_motors │\n",
       "│ ---    ┆ ---         ┆ axis 0 ┆ 1           ┆   ┆ spacing ┆ motors      ┆ ---       ┆ ---        │\n",
       "│ i64    ┆ str         ┆ ---    ┆ ---         ┆   ┆ ---     ┆ ---         ┆ bool      ┆ u32        │\n",
       "│        ┆             ┆ f64    ┆ f64         ┆   ┆ f64     ┆ i64         ┆           ┆            │\n",
       "╞════════╪═════════════╪════════╪═════════════╪═══╪═════════╪═════════════╪═══════════╪════════════╡\n",
       "│ 0      ┆ tomo_003acc ┆ -1.0   ┆ -1.0        ┆ … ┆ 6.5     ┆ 0           ┆ false     ┆ 0          │\n",
       "│ 1      ┆ tomo_00e047 ┆ 169.0  ┆ 546.0       ┆ … ┆ 15.6    ┆ 1           ┆ true      ┆ 1          │\n",
       "│ 2      ┆ tomo_00e463 ┆ 235.0  ┆ 403.0       ┆ … ┆ 19.7    ┆ 6           ┆ true      ┆ 6          │\n",
       "│ 3      ┆ tomo_00e463 ┆ 243.0  ┆ 363.0       ┆ … ┆ 19.7    ┆ 6           ┆ true      ┆ 6          │\n",
       "│ 4      ┆ tomo_00e463 ┆ 222.0  ┆ 379.0       ┆ … ┆ 19.7    ┆ 6           ┆ true      ┆ 6          │\n",
       "│ …      ┆ …           ┆ …      ┆ …           ┆ … ┆ …       ┆ …           ┆ …         ┆ …          │\n",
       "│ 732    ┆ tomo_fe050c ┆ 138.0  ┆ 134.0       ┆ … ┆ 15.6    ┆ 1           ┆ true      ┆ 1          │\n",
       "│ 733    ┆ tomo_fe85f6 ┆ -1.0   ┆ -1.0        ┆ … ┆ 13.1    ┆ 0           ┆ false     ┆ 0          │\n",
       "│ 734    ┆ tomo_fea6e8 ┆ -1.0   ┆ -1.0        ┆ … ┆ 16.8    ┆ 0           ┆ false     ┆ 0          │\n",
       "│ 735    ┆ tomo_ff505c ┆ 111.0  ┆ 816.0       ┆ … ┆ 15.6    ┆ 1           ┆ true      ┆ 1          │\n",
       "│ 736    ┆ tomo_ff7c20 ┆ -1.0   ┆ -1.0        ┆ … ┆ 13.1    ┆ 0           ┆ false     ┆ 0          │\n",
       "└────────┴─────────────┴────────┴─────────────┴───┴─────────┴─────────────┴───────────┴────────────┘"
      ]
     },
     "execution_count": 39,
     "metadata": {},
     "output_type": "execute_result"
    }
   ],
   "source": [
    "df = df.with_columns(pl.len().over('tomo_id').alias('num_motors')).with_columns((pl.col('num_motors') * pl.col('has_motor')).alias('num_motors'))\n",
    "df"
   ]
  },
  {
   "cell_type": "markdown",
   "metadata": {},
   "source": [
    "**What TF???**"
   ]
  },
  {
   "cell_type": "code",
   "execution_count": 42,
   "metadata": {
    "execution": {
     "iopub.execute_input": "2025-03-10T17:24:54.784647Z",
     "iopub.status.busy": "2025-03-10T17:24:54.784215Z",
     "iopub.status.idle": "2025-03-10T17:24:54.801028Z",
     "shell.execute_reply": "2025-03-10T17:24:54.799786Z",
     "shell.execute_reply.started": "2025-03-10T17:24:54.784614Z"
    }
   },
   "outputs": [
    {
     "data": {
      "text/html": [
       "<div><style>\n",
       ".dataframe > thead > tr,\n",
       ".dataframe > tbody > tr {\n",
       "  text-align: right;\n",
       "  white-space: pre-wrap;\n",
       "}\n",
       "</style>\n",
       "<small>shape: (4, 12)</small><table border=\"1\" class=\"dataframe\"><thead><tr><th>row_id</th><th>tomo_id</th><th>Motor axis 0</th><th>Motor axis 1</th><th>Motor axis 2</th><th>Array shape (axis 0)</th><th>Array shape (axis 1)</th><th>Array shape (axis 2)</th><th>Voxel spacing</th><th>Number of motors</th><th>has_motor</th><th>num_motors</th></tr><tr><td>i64</td><td>str</td><td>f64</td><td>f64</td><td>f64</td><td>i64</td><td>i64</td><td>i64</td><td>f64</td><td>i64</td><td>bool</td><td>u32</td></tr></thead><tbody><tr><td>127</td><td>&quot;tomo_2b3cdf&quot;</td><td>134.0</td><td>173.0</td><td>662.0</td><td>300</td><td>960</td><td>928</td><td>13.1</td><td>2</td><td>true</td><td>1</td></tr><tr><td>284</td><td>&quot;tomo_62eea8&quot;</td><td>111.0</td><td>469.0</td><td>334.0</td><td>300</td><td>960</td><td>928</td><td>13.1</td><td>2</td><td>true</td><td>1</td></tr><tr><td>580</td><td>&quot;tomo_c84b8e&quot;</td><td>147.0</td><td>317.0</td><td>681.0</td><td>300</td><td>960</td><td>928</td><td>13.1</td><td>2</td><td>true</td><td>1</td></tr><tr><td>676</td><td>&quot;tomo_e6f7f7&quot;</td><td>180.0</td><td>548.0</td><td>267.0</td><td>300</td><td>960</td><td>928</td><td>13.1</td><td>2</td><td>true</td><td>1</td></tr></tbody></table></div>"
      ],
      "text/plain": [
       "shape: (4, 12)\n",
       "┌────────┬─────────────┬────────┬─────────────┬───┬─────────┬─────────────┬───────────┬────────────┐\n",
       "│ row_id ┆ tomo_id     ┆ Motor  ┆ Motor axis  ┆ … ┆ Voxel   ┆ Number of   ┆ has_motor ┆ num_motors │\n",
       "│ ---    ┆ ---         ┆ axis 0 ┆ 1           ┆   ┆ spacing ┆ motors      ┆ ---       ┆ ---        │\n",
       "│ i64    ┆ str         ┆ ---    ┆ ---         ┆   ┆ ---     ┆ ---         ┆ bool      ┆ u32        │\n",
       "│        ┆             ┆ f64    ┆ f64         ┆   ┆ f64     ┆ i64         ┆           ┆            │\n",
       "╞════════╪═════════════╪════════╪═════════════╪═══╪═════════╪═════════════╪═══════════╪════════════╡\n",
       "│ 127    ┆ tomo_2b3cdf ┆ 134.0  ┆ 173.0       ┆ … ┆ 13.1    ┆ 2           ┆ true      ┆ 1          │\n",
       "│ 284    ┆ tomo_62eea8 ┆ 111.0  ┆ 469.0       ┆ … ┆ 13.1    ┆ 2           ┆ true      ┆ 1          │\n",
       "│ 580    ┆ tomo_c84b8e ┆ 147.0  ┆ 317.0       ┆ … ┆ 13.1    ┆ 2           ┆ true      ┆ 1          │\n",
       "│ 676    ┆ tomo_e6f7f7 ┆ 180.0  ┆ 548.0       ┆ … ┆ 13.1    ┆ 2           ┆ true      ┆ 1          │\n",
       "└────────┴─────────────┴────────┴─────────────┴───┴─────────┴─────────────┴───────────┴────────────┘"
      ]
     },
     "execution_count": 42,
     "metadata": {},
     "output_type": "execute_result"
    }
   ],
   "source": [
    "df.filter(pl.col('Number of motors') != pl.col('num_motors'))"
   ]
  },
  {
   "cell_type": "code",
   "execution_count": 44,
   "metadata": {
    "execution": {
     "iopub.execute_input": "2025-03-10T17:26:45.302488Z",
     "iopub.status.busy": "2025-03-10T17:26:45.302074Z",
     "iopub.status.idle": "2025-03-10T17:26:45.320364Z",
     "shell.execute_reply": "2025-03-10T17:26:45.319418Z",
     "shell.execute_reply.started": "2025-03-10T17:26:45.302452Z"
    }
   },
   "outputs": [
    {
     "data": {
      "text/html": [
       "<div><style>\n",
       ".dataframe > thead > tr,\n",
       ".dataframe > tbody > tr {\n",
       "  text-align: right;\n",
       "  white-space: pre-wrap;\n",
       "}\n",
       "</style>\n",
       "<small>shape: (1, 12)</small><table border=\"1\" class=\"dataframe\"><thead><tr><th>row_id</th><th>tomo_id</th><th>Motor axis 0</th><th>Motor axis 1</th><th>Motor axis 2</th><th>Array shape (axis 0)</th><th>Array shape (axis 1)</th><th>Array shape (axis 2)</th><th>Voxel spacing</th><th>Number of motors</th><th>has_motor</th><th>num_motors</th></tr><tr><td>i64</td><td>str</td><td>f64</td><td>f64</td><td>f64</td><td>i64</td><td>i64</td><td>i64</td><td>f64</td><td>i64</td><td>bool</td><td>u32</td></tr></thead><tbody><tr><td>127</td><td>&quot;tomo_2b3cdf&quot;</td><td>134.0</td><td>173.0</td><td>662.0</td><td>300</td><td>960</td><td>928</td><td>13.1</td><td>2</td><td>true</td><td>1</td></tr></tbody></table></div>"
      ],
      "text/plain": [
       "shape: (1, 12)\n",
       "┌────────┬─────────────┬────────┬─────────────┬───┬─────────┬─────────────┬───────────┬────────────┐\n",
       "│ row_id ┆ tomo_id     ┆ Motor  ┆ Motor axis  ┆ … ┆ Voxel   ┆ Number of   ┆ has_motor ┆ num_motors │\n",
       "│ ---    ┆ ---         ┆ axis 0 ┆ 1           ┆   ┆ spacing ┆ motors      ┆ ---       ┆ ---        │\n",
       "│ i64    ┆ str         ┆ ---    ┆ ---         ┆   ┆ ---     ┆ ---         ┆ bool      ┆ u32        │\n",
       "│        ┆             ┆ f64    ┆ f64         ┆   ┆ f64     ┆ i64         ┆           ┆            │\n",
       "╞════════╪═════════════╪════════╪═════════════╪═══╪═════════╪═════════════╪═══════════╪════════════╡\n",
       "│ 127    ┆ tomo_2b3cdf ┆ 134.0  ┆ 173.0       ┆ … ┆ 13.1    ┆ 2           ┆ true      ┆ 1          │\n",
       "└────────┴─────────────┴────────┴─────────────┴───┴─────────┴─────────────┴───────────┴────────────┘"
      ]
     },
     "metadata": {},
     "output_type": "display_data"
    },
    {
     "data": {
      "text/html": [
       "<div><style>\n",
       ".dataframe > thead > tr,\n",
       ".dataframe > tbody > tr {\n",
       "  text-align: right;\n",
       "  white-space: pre-wrap;\n",
       "}\n",
       "</style>\n",
       "<small>shape: (1, 12)</small><table border=\"1\" class=\"dataframe\"><thead><tr><th>row_id</th><th>tomo_id</th><th>Motor axis 0</th><th>Motor axis 1</th><th>Motor axis 2</th><th>Array shape (axis 0)</th><th>Array shape (axis 1)</th><th>Array shape (axis 2)</th><th>Voxel spacing</th><th>Number of motors</th><th>has_motor</th><th>num_motors</th></tr><tr><td>i64</td><td>str</td><td>f64</td><td>f64</td><td>f64</td><td>i64</td><td>i64</td><td>i64</td><td>f64</td><td>i64</td><td>bool</td><td>u32</td></tr></thead><tbody><tr><td>284</td><td>&quot;tomo_62eea8&quot;</td><td>111.0</td><td>469.0</td><td>334.0</td><td>300</td><td>960</td><td>928</td><td>13.1</td><td>2</td><td>true</td><td>1</td></tr></tbody></table></div>"
      ],
      "text/plain": [
       "shape: (1, 12)\n",
       "┌────────┬─────────────┬────────┬─────────────┬───┬─────────┬─────────────┬───────────┬────────────┐\n",
       "│ row_id ┆ tomo_id     ┆ Motor  ┆ Motor axis  ┆ … ┆ Voxel   ┆ Number of   ┆ has_motor ┆ num_motors │\n",
       "│ ---    ┆ ---         ┆ axis 0 ┆ 1           ┆   ┆ spacing ┆ motors      ┆ ---       ┆ ---        │\n",
       "│ i64    ┆ str         ┆ ---    ┆ ---         ┆   ┆ ---     ┆ ---         ┆ bool      ┆ u32        │\n",
       "│        ┆             ┆ f64    ┆ f64         ┆   ┆ f64     ┆ i64         ┆           ┆            │\n",
       "╞════════╪═════════════╪════════╪═════════════╪═══╪═════════╪═════════════╪═══════════╪════════════╡\n",
       "│ 284    ┆ tomo_62eea8 ┆ 111.0  ┆ 469.0       ┆ … ┆ 13.1    ┆ 2           ┆ true      ┆ 1          │\n",
       "└────────┴─────────────┴────────┴─────────────┴───┴─────────┴─────────────┴───────────┴────────────┘"
      ]
     },
     "metadata": {},
     "output_type": "display_data"
    },
    {
     "data": {
      "text/html": [
       "<div><style>\n",
       ".dataframe > thead > tr,\n",
       ".dataframe > tbody > tr {\n",
       "  text-align: right;\n",
       "  white-space: pre-wrap;\n",
       "}\n",
       "</style>\n",
       "<small>shape: (1, 12)</small><table border=\"1\" class=\"dataframe\"><thead><tr><th>row_id</th><th>tomo_id</th><th>Motor axis 0</th><th>Motor axis 1</th><th>Motor axis 2</th><th>Array shape (axis 0)</th><th>Array shape (axis 1)</th><th>Array shape (axis 2)</th><th>Voxel spacing</th><th>Number of motors</th><th>has_motor</th><th>num_motors</th></tr><tr><td>i64</td><td>str</td><td>f64</td><td>f64</td><td>f64</td><td>i64</td><td>i64</td><td>i64</td><td>f64</td><td>i64</td><td>bool</td><td>u32</td></tr></thead><tbody><tr><td>284</td><td>&quot;tomo_62eea8&quot;</td><td>111.0</td><td>469.0</td><td>334.0</td><td>300</td><td>960</td><td>928</td><td>13.1</td><td>2</td><td>true</td><td>1</td></tr></tbody></table></div>"
      ],
      "text/plain": [
       "shape: (1, 12)\n",
       "┌────────┬─────────────┬────────┬─────────────┬───┬─────────┬─────────────┬───────────┬────────────┐\n",
       "│ row_id ┆ tomo_id     ┆ Motor  ┆ Motor axis  ┆ … ┆ Voxel   ┆ Number of   ┆ has_motor ┆ num_motors │\n",
       "│ ---    ┆ ---         ┆ axis 0 ┆ 1           ┆   ┆ spacing ┆ motors      ┆ ---       ┆ ---        │\n",
       "│ i64    ┆ str         ┆ ---    ┆ ---         ┆   ┆ ---     ┆ ---         ┆ bool      ┆ u32        │\n",
       "│        ┆             ┆ f64    ┆ f64         ┆   ┆ f64     ┆ i64         ┆           ┆            │\n",
       "╞════════╪═════════════╪════════╪═════════════╪═══╪═════════╪═════════════╪═══════════╪════════════╡\n",
       "│ 284    ┆ tomo_62eea8 ┆ 111.0  ┆ 469.0       ┆ … ┆ 13.1    ┆ 2           ┆ true      ┆ 1          │\n",
       "└────────┴─────────────┴────────┴─────────────┴───┴─────────┴─────────────┴───────────┴────────────┘"
      ]
     },
     "metadata": {},
     "output_type": "display_data"
    },
    {
     "data": {
      "text/html": [
       "<div><style>\n",
       ".dataframe > thead > tr,\n",
       ".dataframe > tbody > tr {\n",
       "  text-align: right;\n",
       "  white-space: pre-wrap;\n",
       "}\n",
       "</style>\n",
       "<small>shape: (1, 12)</small><table border=\"1\" class=\"dataframe\"><thead><tr><th>row_id</th><th>tomo_id</th><th>Motor axis 0</th><th>Motor axis 1</th><th>Motor axis 2</th><th>Array shape (axis 0)</th><th>Array shape (axis 1)</th><th>Array shape (axis 2)</th><th>Voxel spacing</th><th>Number of motors</th><th>has_motor</th><th>num_motors</th></tr><tr><td>i64</td><td>str</td><td>f64</td><td>f64</td><td>f64</td><td>i64</td><td>i64</td><td>i64</td><td>f64</td><td>i64</td><td>bool</td><td>u32</td></tr></thead><tbody><tr><td>676</td><td>&quot;tomo_e6f7f7&quot;</td><td>180.0</td><td>548.0</td><td>267.0</td><td>300</td><td>960</td><td>928</td><td>13.1</td><td>2</td><td>true</td><td>1</td></tr></tbody></table></div>"
      ],
      "text/plain": [
       "shape: (1, 12)\n",
       "┌────────┬─────────────┬────────┬─────────────┬───┬─────────┬─────────────┬───────────┬────────────┐\n",
       "│ row_id ┆ tomo_id     ┆ Motor  ┆ Motor axis  ┆ … ┆ Voxel   ┆ Number of   ┆ has_motor ┆ num_motors │\n",
       "│ ---    ┆ ---         ┆ axis 0 ┆ 1           ┆   ┆ spacing ┆ motors      ┆ ---       ┆ ---        │\n",
       "│ i64    ┆ str         ┆ ---    ┆ ---         ┆   ┆ ---     ┆ ---         ┆ bool      ┆ u32        │\n",
       "│        ┆             ┆ f64    ┆ f64         ┆   ┆ f64     ┆ i64         ┆           ┆            │\n",
       "╞════════╪═════════════╪════════╪═════════════╪═══╪═════════╪═════════════╪═══════════╪════════════╡\n",
       "│ 676    ┆ tomo_e6f7f7 ┆ 180.0  ┆ 548.0       ┆ … ┆ 13.1    ┆ 2           ┆ true      ┆ 1          │\n",
       "└────────┴─────────────┴────────┴─────────────┴───┴─────────┴─────────────┴───────────┴────────────┘"
      ]
     },
     "metadata": {},
     "output_type": "display_data"
    }
   ],
   "source": [
    "display(df.filter(pl.col('tomo_id') == 'tomo_2b3cdf'))\n",
    "display(df.filter(pl.col('tomo_id') == 'tomo_62eea8'))\n",
    "display(df.filter(pl.col('tomo_id') == 'tomo_62eea8'))\n",
    "display(df.filter(pl.col('tomo_id') == 'tomo_e6f7f7'))"
   ]
  },
  {
   "cell_type": "code",
   "execution_count": 7,
   "metadata": {
    "execution": {
     "iopub.execute_input": "2025-03-10T17:01:29.868230Z",
     "iopub.status.busy": "2025-03-10T17:01:29.867907Z",
     "iopub.status.idle": "2025-03-10T17:01:29.875966Z",
     "shell.execute_reply": "2025-03-10T17:01:29.874903Z",
     "shell.execute_reply.started": "2025-03-10T17:01:29.868202Z"
    }
   },
   "outputs": [
    {
     "data": {
      "text/plain": [
       "648"
      ]
     },
     "execution_count": 7,
     "metadata": {},
     "output_type": "execute_result"
    }
   ],
   "source": [
    "df.n_unique('tomo_id')"
   ]
  },
  {
   "cell_type": "code",
   "execution_count": 8,
   "metadata": {
    "execution": {
     "iopub.execute_input": "2025-03-10T17:01:29.878929Z",
     "iopub.status.busy": "2025-03-10T17:01:29.878520Z",
     "iopub.status.idle": "2025-03-10T17:01:29.930963Z",
     "shell.execute_reply": "2025-03-10T17:01:29.929841Z",
     "shell.execute_reply.started": "2025-03-10T17:01:29.878902Z"
    }
   },
   "outputs": [
    {
     "data": {
      "text/html": [
       "<div><style>\n",
       ".dataframe > thead > tr,\n",
       ".dataframe > tbody > tr {\n",
       "  text-align: right;\n",
       "  white-space: pre-wrap;\n",
       "}\n",
       "</style>\n",
       "<small>shape: (1, 2)</small><table border=\"1\" class=\"dataframe\"><thead><tr><th>num_motors</th><th>len</th></tr><tr><td>u32</td><td>u32</td></tr></thead><tbody><tr><td>1</td><td>286</td></tr></tbody></table></div>"
      ],
      "text/plain": [
       "shape: (1, 2)\n",
       "┌────────────┬─────┐\n",
       "│ num_motors ┆ len │\n",
       "│ ---        ┆ --- │\n",
       "│ u32        ┆ u32 │\n",
       "╞════════════╪═════╡\n",
       "│ 1          ┆ 286 │\n",
       "└────────────┴─────┘"
      ]
     },
     "execution_count": 8,
     "metadata": {},
     "output_type": "execute_result"
    }
   ],
   "source": [
    "df.filter(~pl.col('has_motor')).group_by('tomo_id').agg(pl.len().alias('num_motors')).group_by('num_motors').len().sort('num_motors')"
   ]
  },
  {
   "cell_type": "code",
   "execution_count": 9,
   "metadata": {
    "execution": {
     "iopub.execute_input": "2025-03-10T17:01:29.932280Z",
     "iopub.status.busy": "2025-03-10T17:01:29.931989Z",
     "iopub.status.idle": "2025-03-10T17:01:29.943229Z",
     "shell.execute_reply": "2025-03-10T17:01:29.941914Z",
     "shell.execute_reply.started": "2025-03-10T17:01:29.932257Z"
    }
   },
   "outputs": [
    {
     "data": {
      "text/html": [
       "<div><style>\n",
       ".dataframe > thead > tr,\n",
       ".dataframe > tbody > tr {\n",
       "  text-align: right;\n",
       "  white-space: pre-wrap;\n",
       "}\n",
       "</style>\n",
       "<small>shape: (6, 2)</small><table border=\"1\" class=\"dataframe\"><thead><tr><th>num_motors</th><th>len</th></tr><tr><td>u32</td><td>u32</td></tr></thead><tbody><tr><td>1</td><td>317</td></tr><tr><td>2</td><td>26</td></tr><tr><td>3</td><td>6</td></tr><tr><td>4</td><td>9</td></tr><tr><td>6</td><td>3</td></tr><tr><td>10</td><td>1</td></tr></tbody></table></div>"
      ],
      "text/plain": [
       "shape: (6, 2)\n",
       "┌────────────┬─────┐\n",
       "│ num_motors ┆ len │\n",
       "│ ---        ┆ --- │\n",
       "│ u32        ┆ u32 │\n",
       "╞════════════╪═════╡\n",
       "│ 1          ┆ 317 │\n",
       "│ 2          ┆ 26  │\n",
       "│ 3          ┆ 6   │\n",
       "│ 4          ┆ 9   │\n",
       "│ 6          ┆ 3   │\n",
       "│ 10         ┆ 1   │\n",
       "└────────────┴─────┘"
      ]
     },
     "execution_count": 9,
     "metadata": {},
     "output_type": "execute_result"
    }
   ],
   "source": [
    "df.filter(pl.col('has_motor')).group_by('tomo_id').agg(pl.len().alias('num_motors')).group_by('num_motors').len().sort('num_motors')"
   ]
  },
  {
   "cell_type": "markdown",
   "metadata": {},
   "source": [
    "Number of motors per tomo distribution:\n",
    "```\n",
    "0\t286\n",
    "1\t317\n",
    "2\t26\n",
    "3\t6\n",
    "4\t9\n",
    "6\t3\n",
    "10\t1\n",
    "```\n"
   ]
  },
  {
   "cell_type": "code",
   "execution_count": 10,
   "metadata": {
    "execution": {
     "iopub.execute_input": "2025-03-10T17:01:30.125922Z",
     "iopub.status.busy": "2025-03-10T17:01:30.125540Z",
     "iopub.status.idle": "2025-03-10T17:01:30.133091Z",
     "shell.execute_reply": "2025-03-10T17:01:30.131723Z",
     "shell.execute_reply.started": "2025-03-10T17:01:30.125894Z"
    }
   },
   "outputs": [
    {
     "data": {
      "text/plain": [
       "648"
      ]
     },
     "execution_count": 10,
     "metadata": {},
     "output_type": "execute_result"
    }
   ],
   "source": [
    "286 + 317 + 26 + 6 + 9 + 3 + 1"
   ]
  },
  {
   "cell_type": "code",
   "execution_count": 11,
   "metadata": {
    "execution": {
     "iopub.execute_input": "2025-03-10T17:01:30.305618Z",
     "iopub.status.busy": "2025-03-10T17:01:30.305192Z",
     "iopub.status.idle": "2025-03-10T17:01:30.324469Z",
     "shell.execute_reply": "2025-03-10T17:01:30.322640Z",
     "shell.execute_reply.started": "2025-03-10T17:01:30.305586Z"
    }
   },
   "outputs": [
    {
     "data": {
      "text/plain": [
       "648"
      ]
     },
     "execution_count": 11,
     "metadata": {},
     "output_type": "execute_result"
    }
   ],
   "source": [
    "tomo_names = sorted(os.listdir('/kaggle/input/byu-locating-bacterial-flagellar-motors-2025/train'))\n",
    "len(tomo_names)"
   ]
  },
  {
   "cell_type": "code",
   "execution_count": 12,
   "metadata": {
    "execution": {
     "iopub.execute_input": "2025-03-10T17:01:30.471778Z",
     "iopub.status.busy": "2025-03-10T17:01:30.471337Z",
     "iopub.status.idle": "2025-03-10T17:01:30.481308Z",
     "shell.execute_reply": "2025-03-10T17:01:30.480038Z",
     "shell.execute_reply.started": "2025-03-10T17:01:30.471742Z"
    }
   },
   "outputs": [
    {
     "data": {
      "text/html": [
       "<div><style>\n",
       ".dataframe > thead > tr,\n",
       ".dataframe > tbody > tr {\n",
       "  text-align: right;\n",
       "  white-space: pre-wrap;\n",
       "}\n",
       "</style>\n",
       "<small>shape: (737, 11)</small><table border=\"1\" class=\"dataframe\"><thead><tr><th>row_id</th><th>tomo_id</th><th>Motor axis 0</th><th>Motor axis 1</th><th>Motor axis 2</th><th>Array shape (axis 0)</th><th>Array shape (axis 1)</th><th>Array shape (axis 2)</th><th>Voxel spacing</th><th>Number of motors</th><th>has_motor</th></tr><tr><td>i64</td><td>str</td><td>f64</td><td>f64</td><td>f64</td><td>i64</td><td>i64</td><td>i64</td><td>f64</td><td>i64</td><td>bool</td></tr></thead><tbody><tr><td>0</td><td>&quot;tomo_003acc&quot;</td><td>-1.0</td><td>-1.0</td><td>-1.0</td><td>500</td><td>1912</td><td>1847</td><td>6.5</td><td>0</td><td>false</td></tr><tr><td>1</td><td>&quot;tomo_00e047&quot;</td><td>169.0</td><td>546.0</td><td>603.0</td><td>300</td><td>959</td><td>928</td><td>15.6</td><td>1</td><td>true</td></tr><tr><td>2</td><td>&quot;tomo_00e463&quot;</td><td>235.0</td><td>403.0</td><td>137.0</td><td>500</td><td>924</td><td>956</td><td>19.7</td><td>6</td><td>true</td></tr><tr><td>3</td><td>&quot;tomo_00e463&quot;</td><td>243.0</td><td>363.0</td><td>153.0</td><td>500</td><td>924</td><td>956</td><td>19.7</td><td>6</td><td>true</td></tr><tr><td>4</td><td>&quot;tomo_00e463&quot;</td><td>222.0</td><td>379.0</td><td>144.0</td><td>500</td><td>924</td><td>956</td><td>19.7</td><td>6</td><td>true</td></tr><tr><td>&hellip;</td><td>&hellip;</td><td>&hellip;</td><td>&hellip;</td><td>&hellip;</td><td>&hellip;</td><td>&hellip;</td><td>&hellip;</td><td>&hellip;</td><td>&hellip;</td><td>&hellip;</td></tr><tr><td>732</td><td>&quot;tomo_fe050c&quot;</td><td>138.0</td><td>134.0</td><td>542.0</td><td>300</td><td>959</td><td>928</td><td>15.6</td><td>1</td><td>true</td></tr><tr><td>733</td><td>&quot;tomo_fe85f6&quot;</td><td>-1.0</td><td>-1.0</td><td>-1.0</td><td>800</td><td>928</td><td>960</td><td>13.1</td><td>0</td><td>false</td></tr><tr><td>734</td><td>&quot;tomo_fea6e8&quot;</td><td>-1.0</td><td>-1.0</td><td>-1.0</td><td>300</td><td>960</td><td>928</td><td>16.8</td><td>0</td><td>false</td></tr><tr><td>735</td><td>&quot;tomo_ff505c&quot;</td><td>111.0</td><td>816.0</td><td>678.0</td><td>300</td><td>959</td><td>928</td><td>15.6</td><td>1</td><td>true</td></tr><tr><td>736</td><td>&quot;tomo_ff7c20&quot;</td><td>-1.0</td><td>-1.0</td><td>-1.0</td><td>800</td><td>928</td><td>960</td><td>13.1</td><td>0</td><td>false</td></tr></tbody></table></div>"
      ],
      "text/plain": [
       "shape: (737, 11)\n",
       "┌────────┬─────────────┬────────┬─────────────┬───┬─────────────┬─────────┬────────────┬───────────┐\n",
       "│ row_id ┆ tomo_id     ┆ Motor  ┆ Motor axis  ┆ … ┆ Array shape ┆ Voxel   ┆ Number of  ┆ has_motor │\n",
       "│ ---    ┆ ---         ┆ axis 0 ┆ 1           ┆   ┆ (axis 2)    ┆ spacing ┆ motors     ┆ ---       │\n",
       "│ i64    ┆ str         ┆ ---    ┆ ---         ┆   ┆ ---         ┆ ---     ┆ ---        ┆ bool      │\n",
       "│        ┆             ┆ f64    ┆ f64         ┆   ┆ i64         ┆ f64     ┆ i64        ┆           │\n",
       "╞════════╪═════════════╪════════╪═════════════╪═══╪═════════════╪═════════╪════════════╪═══════════╡\n",
       "│ 0      ┆ tomo_003acc ┆ -1.0   ┆ -1.0        ┆ … ┆ 1847        ┆ 6.5     ┆ 0          ┆ false     │\n",
       "│ 1      ┆ tomo_00e047 ┆ 169.0  ┆ 546.0       ┆ … ┆ 928         ┆ 15.6    ┆ 1          ┆ true      │\n",
       "│ 2      ┆ tomo_00e463 ┆ 235.0  ┆ 403.0       ┆ … ┆ 956         ┆ 19.7    ┆ 6          ┆ true      │\n",
       "│ 3      ┆ tomo_00e463 ┆ 243.0  ┆ 363.0       ┆ … ┆ 956         ┆ 19.7    ┆ 6          ┆ true      │\n",
       "│ 4      ┆ tomo_00e463 ┆ 222.0  ┆ 379.0       ┆ … ┆ 956         ┆ 19.7    ┆ 6          ┆ true      │\n",
       "│ …      ┆ …           ┆ …      ┆ …           ┆ … ┆ …           ┆ …       ┆ …          ┆ …         │\n",
       "│ 732    ┆ tomo_fe050c ┆ 138.0  ┆ 134.0       ┆ … ┆ 928         ┆ 15.6    ┆ 1          ┆ true      │\n",
       "│ 733    ┆ tomo_fe85f6 ┆ -1.0   ┆ -1.0        ┆ … ┆ 960         ┆ 13.1    ┆ 0          ┆ false     │\n",
       "│ 734    ┆ tomo_fea6e8 ┆ -1.0   ┆ -1.0        ┆ … ┆ 928         ┆ 16.8    ┆ 0          ┆ false     │\n",
       "│ 735    ┆ tomo_ff505c ┆ 111.0  ┆ 816.0       ┆ … ┆ 928         ┆ 15.6    ┆ 1          ┆ true      │\n",
       "│ 736    ┆ tomo_ff7c20 ┆ -1.0   ┆ -1.0        ┆ … ┆ 960         ┆ 13.1    ┆ 0          ┆ false     │\n",
       "└────────┴─────────────┴────────┴─────────────┴───┴─────────────┴─────────┴────────────┴───────────┘"
      ]
     },
     "execution_count": 12,
     "metadata": {},
     "output_type": "execute_result"
    }
   ],
   "source": [
    "df"
   ]
  },
  {
   "cell_type": "code",
   "execution_count": 13,
   "metadata": {
    "execution": {
     "iopub.execute_input": "2025-03-10T17:01:30.652762Z",
     "iopub.status.busy": "2025-03-10T17:01:30.652377Z",
     "iopub.status.idle": "2025-03-10T17:01:51.690985Z",
     "shell.execute_reply": "2025-03-10T17:01:51.689935Z",
     "shell.execute_reply.started": "2025-03-10T17:01:30.652732Z"
    }
   },
   "outputs": [
    {
     "name": "stderr",
     "output_type": "stream",
     "text": [
      "737it [00:21, 35.06it/s]\n"
     ]
    }
   ],
   "source": [
    "for i, row in tqdm(enumerate(df.iter_rows(named = True))):\n",
    "    tomo_id = row['tomo_id']\n",
    "    Z, Y, X = row['Array shape (axis 0)'], row['Array shape (axis 1)'], row['Array shape (axis 2)']\n",
    "    # print(Z, Y, X)\n",
    "    tomo_dir = os.path.join('/kaggle/input/byu-locating-bacterial-flagellar-motors-2025/train/', tomo_id)\n",
    "    slice_img_names = sorted(os.listdir(tomo_dir))\n",
    "    assert slice_img_names == [f'slice_{j:04d}.jpg' for j in range(Z)]\n",
    "\n",
    "    img = cv2.imread(os.path.join('/kaggle/input/byu-locating-bacterial-flagellar-motors-2025/train/', tomo_id, 'slice_0000.jpg'))\n",
    "    assert img.shape[:2] == (Y, X)"
   ]
  },
  {
   "cell_type": "code",
   "execution_count": 14,
   "metadata": {
    "execution": {
     "iopub.execute_input": "2025-03-10T17:01:51.692646Z",
     "iopub.status.busy": "2025-03-10T17:01:51.692308Z",
     "iopub.status.idle": "2025-03-10T17:01:51.710432Z",
     "shell.execute_reply": "2025-03-10T17:01:51.708929Z",
     "shell.execute_reply.started": "2025-03-10T17:01:51.692619Z"
    }
   },
   "outputs": [
    {
     "data": {
      "text/html": [
       "<div><style>\n",
       ".dataframe > thead > tr,\n",
       ".dataframe > tbody > tr {\n",
       "  text-align: right;\n",
       "  white-space: pre-wrap;\n",
       "}\n",
       "</style>\n",
       "<small>shape: (737, 17)</small><table border=\"1\" class=\"dataframe\"><thead><tr><th>row_id</th><th>tomo_id</th><th>Motor axis 0</th><th>Motor axis 1</th><th>Motor axis 2</th><th>Array shape (axis 0)</th><th>Array shape (axis 1)</th><th>Array shape (axis 2)</th><th>Voxel spacing</th><th>Number of motors</th><th>has_motor</th><th>ZA</th><th>YA</th><th>XA</th><th>V</th><th>VA</th><th>aspect_ratio</th></tr><tr><td>i64</td><td>str</td><td>f64</td><td>f64</td><td>f64</td><td>i64</td><td>i64</td><td>i64</td><td>f64</td><td>i64</td><td>bool</td><td>f64</td><td>f64</td><td>f64</td><td>i64</td><td>f64</td><td>f64</td></tr></thead><tbody><tr><td>0</td><td>&quot;tomo_003acc&quot;</td><td>-1.0</td><td>-1.0</td><td>-1.0</td><td>500</td><td>1912</td><td>1847</td><td>6.5</td><td>0</td><td>false</td><td>3250.0</td><td>12428.0</td><td>12005.5</td><td>1765732000</td><td>4.8491e11</td><td>0.966004</td></tr><tr><td>1</td><td>&quot;tomo_00e047&quot;</td><td>169.0</td><td>546.0</td><td>603.0</td><td>300</td><td>959</td><td>928</td><td>15.6</td><td>1</td><td>true</td><td>4680.0</td><td>14960.4</td><td>14476.8</td><td>266985600</td><td>1.0136e12</td><td>0.967675</td></tr><tr><td>2</td><td>&quot;tomo_00e463&quot;</td><td>235.0</td><td>403.0</td><td>137.0</td><td>500</td><td>924</td><td>956</td><td>19.7</td><td>6</td><td>true</td><td>9850.0</td><td>18202.8</td><td>18833.2</td><td>441672000</td><td>3.3767e12</td><td>1.034632</td></tr><tr><td>3</td><td>&quot;tomo_00e463&quot;</td><td>243.0</td><td>363.0</td><td>153.0</td><td>500</td><td>924</td><td>956</td><td>19.7</td><td>6</td><td>true</td><td>9850.0</td><td>18202.8</td><td>18833.2</td><td>441672000</td><td>3.3767e12</td><td>1.034632</td></tr><tr><td>4</td><td>&quot;tomo_00e463&quot;</td><td>222.0</td><td>379.0</td><td>144.0</td><td>500</td><td>924</td><td>956</td><td>19.7</td><td>6</td><td>true</td><td>9850.0</td><td>18202.8</td><td>18833.2</td><td>441672000</td><td>3.3767e12</td><td>1.034632</td></tr><tr><td>&hellip;</td><td>&hellip;</td><td>&hellip;</td><td>&hellip;</td><td>&hellip;</td><td>&hellip;</td><td>&hellip;</td><td>&hellip;</td><td>&hellip;</td><td>&hellip;</td><td>&hellip;</td><td>&hellip;</td><td>&hellip;</td><td>&hellip;</td><td>&hellip;</td><td>&hellip;</td><td>&hellip;</td></tr><tr><td>732</td><td>&quot;tomo_fe050c&quot;</td><td>138.0</td><td>134.0</td><td>542.0</td><td>300</td><td>959</td><td>928</td><td>15.6</td><td>1</td><td>true</td><td>4680.0</td><td>14960.4</td><td>14476.8</td><td>266985600</td><td>1.0136e12</td><td>0.967675</td></tr><tr><td>733</td><td>&quot;tomo_fe85f6&quot;</td><td>-1.0</td><td>-1.0</td><td>-1.0</td><td>800</td><td>928</td><td>960</td><td>13.1</td><td>0</td><td>false</td><td>10480.0</td><td>12156.8</td><td>12576.0</td><td>712704000</td><td>1.6022e12</td><td>1.034483</td></tr><tr><td>734</td><td>&quot;tomo_fea6e8&quot;</td><td>-1.0</td><td>-1.0</td><td>-1.0</td><td>300</td><td>960</td><td>928</td><td>16.8</td><td>0</td><td>false</td><td>5040.0</td><td>16128.0</td><td>15590.4</td><td>267264000</td><td>1.2673e12</td><td>0.966667</td></tr><tr><td>735</td><td>&quot;tomo_ff505c&quot;</td><td>111.0</td><td>816.0</td><td>678.0</td><td>300</td><td>959</td><td>928</td><td>15.6</td><td>1</td><td>true</td><td>4680.0</td><td>14960.4</td><td>14476.8</td><td>266985600</td><td>1.0136e12</td><td>0.967675</td></tr><tr><td>736</td><td>&quot;tomo_ff7c20&quot;</td><td>-1.0</td><td>-1.0</td><td>-1.0</td><td>800</td><td>928</td><td>960</td><td>13.1</td><td>0</td><td>false</td><td>10480.0</td><td>12156.8</td><td>12576.0</td><td>712704000</td><td>1.6022e12</td><td>1.034483</td></tr></tbody></table></div>"
      ],
      "text/plain": [
       "shape: (737, 17)\n",
       "┌────────┬─────────────┬────────┬─────────────┬───┬─────────┬─────────────┬───────────┬────────────┐\n",
       "│ row_id ┆ tomo_id     ┆ Motor  ┆ Motor axis  ┆ … ┆ XA      ┆ V           ┆ VA        ┆ aspect_rat │\n",
       "│ ---    ┆ ---         ┆ axis 0 ┆ 1           ┆   ┆ ---     ┆ ---         ┆ ---       ┆ io         │\n",
       "│ i64    ┆ str         ┆ ---    ┆ ---         ┆   ┆ f64     ┆ i64         ┆ f64       ┆ ---        │\n",
       "│        ┆             ┆ f64    ┆ f64         ┆   ┆         ┆             ┆           ┆ f64        │\n",
       "╞════════╪═════════════╪════════╪═════════════╪═══╪═════════╪═════════════╪═══════════╪════════════╡\n",
       "│ 0      ┆ tomo_003acc ┆ -1.0   ┆ -1.0        ┆ … ┆ 12005.5 ┆ 1765732000  ┆ 4.8491e11 ┆ 0.966004   │\n",
       "│ 1      ┆ tomo_00e047 ┆ 169.0  ┆ 546.0       ┆ … ┆ 14476.8 ┆ 266985600   ┆ 1.0136e12 ┆ 0.967675   │\n",
       "│ 2      ┆ tomo_00e463 ┆ 235.0  ┆ 403.0       ┆ … ┆ 18833.2 ┆ 441672000   ┆ 3.3767e12 ┆ 1.034632   │\n",
       "│ 3      ┆ tomo_00e463 ┆ 243.0  ┆ 363.0       ┆ … ┆ 18833.2 ┆ 441672000   ┆ 3.3767e12 ┆ 1.034632   │\n",
       "│ 4      ┆ tomo_00e463 ┆ 222.0  ┆ 379.0       ┆ … ┆ 18833.2 ┆ 441672000   ┆ 3.3767e12 ┆ 1.034632   │\n",
       "│ …      ┆ …           ┆ …      ┆ …           ┆ … ┆ …       ┆ …           ┆ …         ┆ …          │\n",
       "│ 732    ┆ tomo_fe050c ┆ 138.0  ┆ 134.0       ┆ … ┆ 14476.8 ┆ 266985600   ┆ 1.0136e12 ┆ 0.967675   │\n",
       "│ 733    ┆ tomo_fe85f6 ┆ -1.0   ┆ -1.0        ┆ … ┆ 12576.0 ┆ 712704000   ┆ 1.6022e12 ┆ 1.034483   │\n",
       "│ 734    ┆ tomo_fea6e8 ┆ -1.0   ┆ -1.0        ┆ … ┆ 15590.4 ┆ 267264000   ┆ 1.2673e12 ┆ 0.966667   │\n",
       "│ 735    ┆ tomo_ff505c ┆ 111.0  ┆ 816.0       ┆ … ┆ 14476.8 ┆ 266985600   ┆ 1.0136e12 ┆ 0.967675   │\n",
       "│ 736    ┆ tomo_ff7c20 ┆ -1.0   ┆ -1.0        ┆ … ┆ 12576.0 ┆ 712704000   ┆ 1.6022e12 ┆ 1.034483   │\n",
       "└────────┴─────────────┴────────┴─────────────┴───┴─────────┴─────────────┴───────────┴────────────┘"
      ]
     },
     "execution_count": 14,
     "metadata": {},
     "output_type": "execute_result"
    }
   ],
   "source": [
    "df = df.with_columns(\n",
    "    (pl.col('Array shape (axis 0)') * pl.col('Voxel spacing')).alias('ZA'),\n",
    "    (pl.col('Array shape (axis 1)') * pl.col('Voxel spacing')).alias('YA'),\n",
    "    (pl.col('Array shape (axis 2)') * pl.col('Voxel spacing')).alias('XA'),\n",
    ").with_columns(\n",
    "    (pl.col('Array shape (axis 0)') * pl.col('Array shape (axis 1)') * pl.col('Array shape (axis 2)')).alias('V'),\n",
    "    (pl.col('ZA') * pl.col('YA') * pl.col('XA')).alias('VA'),\n",
    "    (pl.col('Array shape (axis 2)') / pl.col('Array shape (axis 1)')).alias('aspect_ratio')\n",
    ")\n",
    "df"
   ]
  },
  {
   "cell_type": "markdown",
   "metadata": {},
   "source": [
    "### Voxel spacing"
   ]
  },
  {
   "cell_type": "code",
   "execution_count": 15,
   "metadata": {
    "execution": {
     "iopub.execute_input": "2025-03-10T17:01:51.712966Z",
     "iopub.status.busy": "2025-03-10T17:01:51.712593Z",
     "iopub.status.idle": "2025-03-10T17:01:52.037225Z",
     "shell.execute_reply": "2025-03-10T17:01:52.035921Z",
     "shell.execute_reply.started": "2025-03-10T17:01:51.712937Z"
    }
   },
   "outputs": [
    {
     "data": {
      "text/plain": [
       "(array([  3.,   0.,   0.,   0.,   0., 311., 177., 125.,   0., 121.]),\n",
       " array([ 6.5 ,  7.82,  9.14, 10.46, 11.78, 13.1 , 14.42, 15.74, 17.06,\n",
       "        18.38, 19.7 ]),\n",
       " <BarContainer object of 10 artists>)"
      ]
     },
     "execution_count": 15,
     "metadata": {},
     "output_type": "execute_result"
    },
    {
     "data": {
      "image/png": "[encoded data removed]",
      "text/plain": [
       "<Figure size 640x480 with 1 Axes>"
      ]
     },
     "metadata": {},
     "output_type": "display_data"
    }
   ],
   "source": [
    "plt.hist(df['Voxel spacing'])"
   ]
  },
  {
   "cell_type": "code",
   "execution_count": 16,
   "metadata": {
    "execution": {
     "iopub.execute_input": "2025-03-10T17:01:52.039460Z",
     "iopub.status.busy": "2025-03-10T17:01:52.039062Z",
     "iopub.status.idle": "2025-03-10T17:01:52.048255Z",
     "shell.execute_reply": "2025-03-10T17:01:52.047336Z",
     "shell.execute_reply.started": "2025-03-10T17:01:52.039416Z"
    }
   },
   "outputs": [
    {
     "data": {
      "text/html": [
       "<div><style>\n",
       ".dataframe > thead > tr,\n",
       ".dataframe > tbody > tr {\n",
       "  text-align: right;\n",
       "  white-space: pre-wrap;\n",
       "}\n",
       "</style>\n",
       "<small>shape: (10, 2)</small><table border=\"1\" class=\"dataframe\"><thead><tr><th>Voxel spacing</th><th>len</th></tr><tr><td>f64</td><td>u32</td></tr></thead><tbody><tr><td>6.5</td><td>3</td></tr><tr><td>13.1</td><td>291</td></tr><tr><td>13.2</td><td>2</td></tr><tr><td>13.3</td><td>18</td></tr><tr><td>15.6</td><td>177</td></tr><tr><td>16.1</td><td>40</td></tr><tr><td>16.8</td><td>85</td></tr><tr><td>19.2</td><td>7</td></tr><tr><td>19.3</td><td>10</td></tr><tr><td>19.7</td><td>104</td></tr></tbody></table></div>"
      ],
      "text/plain": [
       "shape: (10, 2)\n",
       "┌───────────────┬─────┐\n",
       "│ Voxel spacing ┆ len │\n",
       "│ ---           ┆ --- │\n",
       "│ f64           ┆ u32 │\n",
       "╞═══════════════╪═════╡\n",
       "│ 6.5           ┆ 3   │\n",
       "│ 13.1          ┆ 291 │\n",
       "│ 13.2          ┆ 2   │\n",
       "│ 13.3          ┆ 18  │\n",
       "│ 15.6          ┆ 177 │\n",
       "│ 16.1          ┆ 40  │\n",
       "│ 16.8          ┆ 85  │\n",
       "│ 19.2          ┆ 7   │\n",
       "│ 19.3          ┆ 10  │\n",
       "│ 19.7          ┆ 104 │\n",
       "└───────────────┴─────┘"
      ]
     },
     "execution_count": 16,
     "metadata": {},
     "output_type": "execute_result"
    }
   ],
   "source": [
    "df.group_by('Voxel spacing').len().sort('Voxel spacing')"
   ]
  },
  {
   "cell_type": "code",
   "execution_count": null,
   "metadata": {},
   "outputs": [],
   "source": []
  },
  {
   "cell_type": "markdown",
   "metadata": {},
   "source": [
    "### ZYX shape"
   ]
  },
  {
   "cell_type": "code",
   "execution_count": 17,
   "metadata": {
    "execution": {
     "iopub.execute_input": "2025-03-10T17:01:52.049755Z",
     "iopub.status.busy": "2025-03-10T17:01:52.049450Z",
     "iopub.status.idle": "2025-03-10T17:01:52.250736Z",
     "shell.execute_reply": "2025-03-10T17:01:52.249679Z",
     "shell.execute_reply.started": "2025-03-10T17:01:52.049729Z"
    }
   },
   "outputs": [
    {
     "data": {
      "text/html": [
       "<div><style>\n",
       ".dataframe > thead > tr,\n",
       ".dataframe > tbody > tr {\n",
       "  text-align: right;\n",
       "  white-space: pre-wrap;\n",
       "}\n",
       "</style>\n",
       "<small>shape: (6, 2)</small><table border=\"1\" class=\"dataframe\"><thead><tr><th>Array shape (axis 0)</th><th>len</th></tr><tr><td>i64</td><td>u32</td></tr></thead><tbody><tr><td>300</td><td>439</td></tr><tr><td>400</td><td>1</td></tr><tr><td>494</td><td>1</td></tr><tr><td>500</td><td>191</td></tr><tr><td>600</td><td>3</td></tr><tr><td>800</td><td>102</td></tr></tbody></table></div>"
      ],
      "text/plain": [
       "shape: (6, 2)\n",
       "┌──────────────────────┬─────┐\n",
       "│ Array shape (axis 0) ┆ len │\n",
       "│ ---                  ┆ --- │\n",
       "│ i64                  ┆ u32 │\n",
       "╞══════════════════════╪═════╡\n",
       "│ 300                  ┆ 439 │\n",
       "│ 400                  ┆ 1   │\n",
       "│ 494                  ┆ 1   │\n",
       "│ 500                  ┆ 191 │\n",
       "│ 600                  ┆ 3   │\n",
       "│ 800                  ┆ 102 │\n",
       "└──────────────────────┴─────┘"
      ]
     },
     "metadata": {},
     "output_type": "display_data"
    },
    {
     "data": {
      "text/plain": [
       "(array([439.,   0.,   1.,   1., 191.,   0.,   3.,   0.,   0., 102.]),\n",
       " array([300., 350., 400., 450., 500., 550., 600., 650., 700., 750., 800.]),\n",
       " <BarContainer object of 10 artists>)"
      ]
     },
     "execution_count": 17,
     "metadata": {},
     "output_type": "execute_result"
    },
    {
     "data": {
      "image/png": "[encoded data removed]",
      "text/plain": [
       "<Figure size 640x480 with 1 Axes>"
      ]
     },
     "metadata": {},
     "output_type": "display_data"
    }
   ],
   "source": [
    "display(df.group_by('Array shape (axis 0)').len().sort('Array shape (axis 0)'))\n",
    "plt.hist(df['Array shape (axis 0)'])"
   ]
  },
  {
   "cell_type": "code",
   "execution_count": 18,
   "metadata": {
    "execution": {
     "iopub.execute_input": "2025-03-10T17:01:52.252092Z",
     "iopub.status.busy": "2025-03-10T17:01:52.251720Z",
     "iopub.status.idle": "2025-03-10T17:01:52.449619Z",
     "shell.execute_reply": "2025-03-10T17:01:52.448637Z",
     "shell.execute_reply.started": "2025-03-10T17:01:52.252051Z"
    }
   },
   "outputs": [
    {
     "data": {
      "text/html": [
       "<div><style>\n",
       ".dataframe > thead > tr,\n",
       ".dataframe > tbody > tr {\n",
       "  text-align: right;\n",
       "  white-space: pre-wrap;\n",
       "}\n",
       "</style>\n",
       "<small>shape: (8, 2)</small><table border=\"1\" class=\"dataframe\"><thead><tr><th>Array shape (axis 1)</th><th>len</th></tr><tr><td>i64</td><td>u32</td></tr></thead><tbody><tr><td>924</td><td>120</td></tr><tr><td>927</td><td>11</td></tr><tr><td>928</td><td>202</td></tr><tr><td>956</td><td>1</td></tr><tr><td>959</td><td>74</td></tr><tr><td>960</td><td>308</td></tr><tr><td>1024</td><td>18</td></tr><tr><td>1912</td><td>3</td></tr></tbody></table></div>"
      ],
      "text/plain": [
       "shape: (8, 2)\n",
       "┌──────────────────────┬─────┐\n",
       "│ Array shape (axis 1) ┆ len │\n",
       "│ ---                  ┆ --- │\n",
       "│ i64                  ┆ u32 │\n",
       "╞══════════════════════╪═════╡\n",
       "│ 924                  ┆ 120 │\n",
       "│ 927                  ┆ 11  │\n",
       "│ 928                  ┆ 202 │\n",
       "│ 956                  ┆ 1   │\n",
       "│ 959                  ┆ 74  │\n",
       "│ 960                  ┆ 308 │\n",
       "│ 1024                 ┆ 18  │\n",
       "│ 1912                 ┆ 3   │\n",
       "└──────────────────────┴─────┘"
      ]
     },
     "metadata": {},
     "output_type": "display_data"
    },
    {
     "data": {
      "text/plain": [
       "(array([716.,  18.,   0.,   0.,   0.,   0.,   0.,   0.,   0.,   3.]),\n",
       " array([ 924. , 1022.8, 1121.6, 1220.4, 1319.2, 1418. , 1516.8, 1615.6,\n",
       "        1714.4, 1813.2, 1912. ]),\n",
       " <BarContainer object of 10 artists>)"
      ]
     },
     "execution_count": 18,
     "metadata": {},
     "output_type": "execute_result"
    },
    {
     "data": {
      "image/png": "[encoded data removed]",
      "text/plain": [
       "<Figure size 640x480 with 1 Axes>"
      ]
     },
     "metadata": {},
     "output_type": "display_data"
    }
   ],
   "source": [
    "display(df.group_by('Array shape (axis 1)').len().sort('Array shape (axis 1)'))\n",
    "plt.hist(df['Array shape (axis 1)'])"
   ]
  },
  {
   "cell_type": "code",
   "execution_count": 19,
   "metadata": {
    "execution": {
     "iopub.execute_input": "2025-03-10T17:01:52.450720Z",
     "iopub.status.busy": "2025-03-10T17:01:52.450437Z",
     "iopub.status.idle": "2025-03-10T17:01:52.654911Z",
     "shell.execute_reply": "2025-03-10T17:01:52.653783Z",
     "shell.execute_reply.started": "2025-03-10T17:01:52.450697Z"
    }
   },
   "outputs": [
    {
     "data": {
      "text/html": [
       "<div><style>\n",
       ".dataframe > thead > tr,\n",
       ".dataframe > tbody > tr {\n",
       "  text-align: right;\n",
       "  white-space: pre-wrap;\n",
       "}\n",
       "</style>\n",
       "<small>shape: (7, 2)</small><table border=\"1\" class=\"dataframe\"><thead><tr><th>Array shape (axis 2)</th><th>len</th></tr><tr><td>i64</td><td>u32</td></tr></thead><tbody><tr><td>924</td><td>1</td></tr><tr><td>928</td><td>456</td></tr><tr><td>956</td><td>120</td></tr><tr><td>959</td><td>11</td></tr><tr><td>960</td><td>128</td></tr><tr><td>1440</td><td>18</td></tr><tr><td>1847</td><td>3</td></tr></tbody></table></div>"
      ],
      "text/plain": [
       "shape: (7, 2)\n",
       "┌──────────────────────┬─────┐\n",
       "│ Array shape (axis 2) ┆ len │\n",
       "│ ---                  ┆ --- │\n",
       "│ i64                  ┆ u32 │\n",
       "╞══════════════════════╪═════╡\n",
       "│ 924                  ┆ 1   │\n",
       "│ 928                  ┆ 456 │\n",
       "│ 956                  ┆ 120 │\n",
       "│ 959                  ┆ 11  │\n",
       "│ 960                  ┆ 128 │\n",
       "│ 1440                 ┆ 18  │\n",
       "│ 1847                 ┆ 3   │\n",
       "└──────────────────────┴─────┘"
      ]
     },
     "metadata": {},
     "output_type": "display_data"
    },
    {
     "data": {
      "text/plain": [
       "(array([716.,   0.,   0.,   0.,   0.,  18.,   0.,   0.,   0.,   3.]),\n",
       " array([ 924. , 1016.3, 1108.6, 1200.9, 1293.2, 1385.5, 1477.8, 1570.1,\n",
       "        1662.4, 1754.7, 1847. ]),\n",
       " <BarContainer object of 10 artists>)"
      ]
     },
     "execution_count": 19,
     "metadata": {},
     "output_type": "execute_result"
    },
    {
     "data": {
      "image/png": "[encoded data removed]",
      "text/plain": [
       "<Figure size 640x480 with 1 Axes>"
      ]
     },
     "metadata": {},
     "output_type": "display_data"
    }
   ],
   "source": [
    "display(df.group_by('Array shape (axis 2)').len().sort('Array shape (axis 2)'))\n",
    "plt.hist(df['Array shape (axis 2)'])"
   ]
  },
  {
   "cell_type": "code",
   "execution_count": 20,
   "metadata": {
    "execution": {
     "iopub.execute_input": "2025-03-10T17:01:52.657898Z",
     "iopub.status.busy": "2025-03-10T17:01:52.657582Z",
     "iopub.status.idle": "2025-03-10T17:01:52.858875Z",
     "shell.execute_reply": "2025-03-10T17:01:52.857690Z",
     "shell.execute_reply.started": "2025-03-10T17:01:52.657871Z"
    }
   },
   "outputs": [
    {
     "data": {
      "text/html": [
       "<div><style>\n",
       ".dataframe > thead > tr,\n",
       ".dataframe > tbody > tr {\n",
       "  text-align: right;\n",
       "  white-space: pre-wrap;\n",
       "}\n",
       "</style>\n",
       "<small>shape: (23, 2)</small><table border=\"1\" class=\"dataframe\"><thead><tr><th>ZA</th><th>len</th></tr><tr><td>f64</td><td>u32</td></tr></thead><tbody><tr><td>3211.0</td><td>1</td></tr><tr><td>3250.0</td><td>2</td></tr><tr><td>3930.0</td><td>171</td></tr><tr><td>3960.0</td><td>1</td></tr><tr><td>4680.0</td><td>175</td></tr><tr><td>&hellip;</td><td>&hellip;</td></tr><tr><td>10480.0</td><td>72</td></tr><tr><td>10560.0</td><td>1</td></tr><tr><td>11580.0</td><td>1</td></tr><tr><td>12880.0</td><td>21</td></tr><tr><td>15440.0</td><td>8</td></tr></tbody></table></div>"
      ],
      "text/plain": [
       "shape: (23, 2)\n",
       "┌─────────┬─────┐\n",
       "│ ZA      ┆ len │\n",
       "│ ---     ┆ --- │\n",
       "│ f64     ┆ u32 │\n",
       "╞═════════╪═════╡\n",
       "│ 3211.0  ┆ 1   │\n",
       "│ 3250.0  ┆ 2   │\n",
       "│ 3930.0  ┆ 171 │\n",
       "│ 3960.0  ┆ 1   │\n",
       "│ 4680.0  ┆ 175 │\n",
       "│ …       ┆ …   │\n",
       "│ 10480.0 ┆ 72  │\n",
       "│ 10560.0 ┆ 1   │\n",
       "│ 11580.0 ┆ 1   │\n",
       "│ 12880.0 ┆ 21  │\n",
       "│ 15440.0 ┆ 8   │\n",
       "└─────────┴─────┘"
      ]
     },
     "metadata": {},
     "output_type": "display_data"
    },
    {
     "data": {
      "text/plain": [
       "(array([175., 256.,  78.,  16.,   6., 175.,   2.,  21.,   0.,   8.]),\n",
       " array([ 3211. ,  4433.9,  5656.8,  6879.7,  8102.6,  9325.5, 10548.4,\n",
       "        11771.3, 12994.2, 14217.1, 15440. ]),\n",
       " <BarContainer object of 10 artists>)"
      ]
     },
     "execution_count": 20,
     "metadata": {},
     "output_type": "execute_result"
    },
    {
     "data": {
      "image/png": "[encoded data removed]",
      "text/plain": [
       "<Figure size 640x480 with 1 Axes>"
      ]
     },
     "metadata": {},
     "output_type": "display_data"
    }
   ],
   "source": [
    "display(df.group_by('ZA').len().sort('ZA'))\n",
    "plt.hist(df['ZA'])"
   ]
  },
  {
   "cell_type": "code",
   "execution_count": 21,
   "metadata": {
    "execution": {
     "iopub.execute_input": "2025-03-10T17:01:52.860520Z",
     "iopub.status.busy": "2025-03-10T17:01:52.860219Z",
     "iopub.status.idle": "2025-03-10T17:01:53.067158Z",
     "shell.execute_reply": "2025-03-10T17:01:53.066070Z",
     "shell.execute_reply.started": "2025-03-10T17:01:52.860495Z"
    }
   },
   "outputs": [
    {
     "data": {
      "text/html": [
       "<div><style>\n",
       ".dataframe > thead > tr,\n",
       ".dataframe > tbody > tr {\n",
       "  text-align: right;\n",
       "  white-space: pre-wrap;\n",
       "}\n",
       "</style>\n",
       "<small>shape: (18, 2)</small><table border=\"1\" class=\"dataframe\"><thead><tr><th>YA</th><th>len</th></tr><tr><td>f64</td><td>u32</td></tr></thead><tbody><tr><td>12143.7</td><td>11</td></tr><tr><td>12156.8</td><td>134</td></tr><tr><td>12249.6</td><td>2</td></tr><tr><td>12428.0</td><td>3</td></tr><tr><td>12576.0</td><td>146</td></tr><tr><td>&hellip;</td><td>&hellip;</td></tr><tr><td>15590.4</td><td>13</td></tr><tr><td>16128.0</td><td>72</td></tr><tr><td>17910.4</td><td>10</td></tr><tr><td>18202.8</td><td>104</td></tr><tr><td>18432.0</td><td>7</td></tr></tbody></table></div>"
      ],
      "text/plain": [
       "shape: (18, 2)\n",
       "┌─────────┬─────┐\n",
       "│ YA      ┆ len │\n",
       "│ ---     ┆ --- │\n",
       "│ f64     ┆ u32 │\n",
       "╞═════════╪═════╡\n",
       "│ 12143.7 ┆ 11  │\n",
       "│ 12156.8 ┆ 134 │\n",
       "│ 12249.6 ┆ 2   │\n",
       "│ 12428.0 ┆ 3   │\n",
       "│ 12576.0 ┆ 146 │\n",
       "│ …       ┆ …   │\n",
       "│ 15590.4 ┆ 13  │\n",
       "│ 16128.0 ┆ 72  │\n",
       "│ 17910.4 ┆ 10  │\n",
       "│ 18202.8 ┆ 104 │\n",
       "│ 18432.0 ┆ 7   │\n",
       "└─────────┴─────┘"
      ]
     },
     "metadata": {},
     "output_type": "display_data"
    },
    {
     "data": {
      "text/plain": [
       "(array([296.,   0.,  18.,  21., 194.,  15.,  72.,   0.,   0., 121.]),\n",
       " array([12143.7 , 12772.53, 13401.36, 14030.19, 14659.02, 15287.85,\n",
       "        15916.68, 16545.51, 17174.34, 17803.17, 18432.  ]),\n",
       " <BarContainer object of 10 artists>)"
      ]
     },
     "execution_count": 21,
     "metadata": {},
     "output_type": "execute_result"
    },
    {
     "data": {
      "image/png": "[encoded data removed]",
      "text/plain": [
       "<Figure size 640x480 with 1 Axes>"
      ]
     },
     "metadata": {},
     "output_type": "display_data"
    }
   ],
   "source": [
    "display(df.group_by('YA').len().sort('YA'))\n",
    "plt.hist(df['YA'])"
   ]
  },
  {
   "cell_type": "code",
   "execution_count": 22,
   "metadata": {
    "execution": {
     "iopub.execute_input": "2025-03-10T17:01:53.068325Z",
     "iopub.status.busy": "2025-03-10T17:01:53.068047Z",
     "iopub.status.idle": "2025-03-10T17:01:53.286253Z",
     "shell.execute_reply": "2025-03-10T17:01:53.285210Z",
     "shell.execute_reply.started": "2025-03-10T17:01:53.068301Z"
    }
   },
   "outputs": [
    {
     "data": {
      "text/html": [
       "<div><style>\n",
       ".dataframe > thead > tr,\n",
       ".dataframe > tbody > tr {\n",
       "  text-align: right;\n",
       "  white-space: pre-wrap;\n",
       "}\n",
       "</style>\n",
       "<small>shape: (15, 2)</small><table border=\"1\" class=\"dataframe\"><thead><tr><th>XA</th><th>len</th></tr><tr><td>f64</td><td>u32</td></tr></thead><tbody><tr><td>12005.5</td><td>3</td></tr><tr><td>12156.8</td><td>174</td></tr><tr><td>12249.6</td><td>2</td></tr><tr><td>12562.9</td><td>11</td></tr><tr><td>12576.0</td><td>106</td></tr><tr><td>&hellip;</td><td>&hellip;</td></tr><tr><td>15590.4</td><td>85</td></tr><tr><td>17817.6</td><td>7</td></tr><tr><td>17910.4</td><td>10</td></tr><tr><td>18833.2</td><td>104</td></tr><tr><td>19152.0</td><td>18</td></tr></tbody></table></div>"
      ],
      "text/plain": [
       "shape: (15, 2)\n",
       "┌─────────┬─────┐\n",
       "│ XA      ┆ len │\n",
       "│ ---     ┆ --- │\n",
       "│ f64     ┆ u32 │\n",
       "╞═════════╪═════╡\n",
       "│ 12005.5 ┆ 3   │\n",
       "│ 12156.8 ┆ 174 │\n",
       "│ 12249.6 ┆ 2   │\n",
       "│ 12562.9 ┆ 11  │\n",
       "│ 12576.0 ┆ 106 │\n",
       "│ …       ┆ …   │\n",
       "│ 15590.4 ┆ 85  │\n",
       "│ 17817.6 ┆ 7   │\n",
       "│ 17910.4 ┆ 10  │\n",
       "│ 18833.2 ┆ 104 │\n",
       "│ 19152.0 ┆ 18  │\n",
       "└─────────┴─────┘"
      ]
     },
     "metadata": {},
     "output_type": "display_data"
    },
    {
     "data": {
      "text/plain": [
       "(array([296.,   0.,   0., 177.,  40.,  85.,   0.,   0.,  17., 122.]),\n",
       " array([12005.5 , 12720.15, 13434.8 , 14149.45, 14864.1 , 15578.75,\n",
       "        16293.4 , 17008.05, 17722.7 , 18437.35, 19152.  ]),\n",
       " <BarContainer object of 10 artists>)"
      ]
     },
     "execution_count": 22,
     "metadata": {},
     "output_type": "execute_result"
    },
    {
     "data": {
      "image/png": "[encoded data removed]",
      "text/plain": [
       "<Figure size 640x480 with 1 Axes>"
      ]
     },
     "metadata": {},
     "output_type": "display_data"
    }
   ],
   "source": [
    "display(df.group_by('XA').len().sort('XA'))\n",
    "plt.hist(df['XA'])"
   ]
  },
  {
   "cell_type": "code",
   "execution_count": null,
   "metadata": {},
   "outputs": [],
   "source": []
  },
  {
   "cell_type": "code",
   "execution_count": 23,
   "metadata": {
    "execution": {
     "iopub.execute_input": "2025-03-10T17:01:53.287733Z",
     "iopub.status.busy": "2025-03-10T17:01:53.287413Z",
     "iopub.status.idle": "2025-03-10T17:01:53.537617Z",
     "shell.execute_reply": "2025-03-10T17:01:53.536306Z",
     "shell.execute_reply.started": "2025-03-10T17:01:53.287704Z"
    }
   },
   "outputs": [
    {
     "data": {
      "text/html": [
       "<div><style>\n",
       ".dataframe > thead > tr,\n",
       ".dataframe > tbody > tr {\n",
       "  text-align: right;\n",
       "  white-space: pre-wrap;\n",
       "}\n",
       "</style>\n",
       "<small>shape: (17, 2)</small><table border=\"1\" class=\"dataframe\"><thead><tr><th>V</th><th>len</th></tr><tr><td>i64</td><td>u32</td></tr></thead><tbody><tr><td>258355200</td><td>59</td></tr><tr><td>265003200</td><td>5</td></tr><tr><td>266985600</td><td>74</td></tr><tr><td>267264000</td><td>301</td></tr><tr><td>356352000</td><td>1</td></tr><tr><td>&hellip;</td><td>&hellip;</td></tr><tr><td>711194400</td><td>10</td></tr><tr><td>712704000</td><td>80</td></tr><tr><td>737280000</td><td>18</td></tr><tr><td>1744543216</td><td>1</td></tr><tr><td>1765732000</td><td>2</td></tr></tbody></table></div>"
      ],
      "text/plain": [
       "shape: (17, 2)\n",
       "┌────────────┬─────┐\n",
       "│ V          ┆ len │\n",
       "│ ---        ┆ --- │\n",
       "│ i64        ┆ u32 │\n",
       "╞════════════╪═════╡\n",
       "│ 258355200  ┆ 59  │\n",
       "│ 265003200  ┆ 5   │\n",
       "│ 266985600  ┆ 74  │\n",
       "│ 267264000  ┆ 301 │\n",
       "│ 356352000  ┆ 1   │\n",
       "│ …          ┆ …   │\n",
       "│ 711194400  ┆ 10  │\n",
       "│ 712704000  ┆ 80  │\n",
       "│ 737280000  ┆ 18  │\n",
       "│ 1744543216 ┆ 1   │\n",
       "│ 1765732000 ┆ 2   │\n",
       "└────────────┴─────┘"
      ]
     },
     "metadata": {},
     "output_type": "display_data"
    },
    {
     "data": {
      "text/plain": [
       "(array([439.,   1., 171.,   3.,   0.,  12., 108.,   0.,   0.,   0.,   0.,\n",
       "          0.,   0.,   0.,   0.,   0.,   0.,   0.,   0.,   3.]),\n",
       " array([2.58355200e+08, 3.33724040e+08, 4.09092880e+08, 4.84461720e+08,\n",
       "        5.59830560e+08, 6.35199400e+08, 7.10568240e+08, 7.85937080e+08,\n",
       "        8.61305920e+08, 9.36674760e+08, 1.01204360e+09, 1.08741244e+09,\n",
       "        1.16278128e+09, 1.23815012e+09, 1.31351896e+09, 1.38888780e+09,\n",
       "        1.46425664e+09, 1.53962548e+09, 1.61499432e+09, 1.69036316e+09,\n",
       "        1.76573200e+09]),\n",
       " <BarContainer object of 20 artists>)"
      ]
     },
     "execution_count": 23,
     "metadata": {},
     "output_type": "execute_result"
    },
    {
     "data": {
      "image/png": "[encoded data removed]",
      "text/plain": [
       "<Figure size 640x480 with 1 Axes>"
      ]
     },
     "metadata": {},
     "output_type": "display_data"
    }
   ],
   "source": [
    "display(df.group_by('V').len().sort('V'))\n",
    "plt.hist(df['V'], bins = 20)"
   ]
  },
  {
   "cell_type": "code",
   "execution_count": 24,
   "metadata": {
    "execution": {
     "iopub.execute_input": "2025-03-10T17:01:53.539203Z",
     "iopub.status.busy": "2025-03-10T17:01:53.538888Z",
     "iopub.status.idle": "2025-03-10T17:01:53.771646Z",
     "shell.execute_reply": "2025-03-10T17:01:53.770521Z",
     "shell.execute_reply.started": "2025-03-10T17:01:53.539176Z"
    }
   },
   "outputs": [
    {
     "data": {
      "text/plain": [
       "(array([439.,   0.,   0.,   0.,   1.,   0.,   0., 171.,   0.,   0.,   1.,\n",
       "          2.,   0.,   0.,   0.,   0.,   0.,  12.,  90.,  18.]),\n",
       " array([2.5835520e+08, 2.8230144e+08, 3.0624768e+08, 3.3019392e+08,\n",
       "        3.5414016e+08, 3.7808640e+08, 4.0203264e+08, 4.2597888e+08,\n",
       "        4.4992512e+08, 4.7387136e+08, 4.9781760e+08, 5.2176384e+08,\n",
       "        5.4571008e+08, 5.6965632e+08, 5.9360256e+08, 6.1754880e+08,\n",
       "        6.4149504e+08, 6.6544128e+08, 6.8938752e+08, 7.1333376e+08,\n",
       "        7.3728000e+08]),\n",
       " <BarContainer object of 20 artists>)"
      ]
     },
     "execution_count": 24,
     "metadata": {},
     "output_type": "execute_result"
    },
    {
     "data": {
      "image/png": "[encoded data removed]",
      "text/plain": [
       "<Figure size 640x480 with 1 Axes>"
      ]
     },
     "metadata": {},
     "output_type": "display_data"
    }
   ],
   "source": [
    "plt.hist(df.filter(pl.col('V') < 1.5e9)['V'], bins = 20)"
   ]
  },
  {
   "cell_type": "code",
   "execution_count": null,
   "metadata": {},
   "outputs": [],
   "source": []
  },
  {
   "cell_type": "markdown",
   "metadata": {},
   "source": [
    "### VA (Voxels in Angstrom)"
   ]
  },
  {
   "cell_type": "code",
   "execution_count": 25,
   "metadata": {
    "execution": {
     "iopub.execute_input": "2025-03-10T17:01:53.773096Z",
     "iopub.status.busy": "2025-03-10T17:01:53.772767Z",
     "iopub.status.idle": "2025-03-10T17:01:54.008772Z",
     "shell.execute_reply": "2025-03-10T17:01:54.007687Z",
     "shell.execute_reply.started": "2025-03-10T17:01:53.773068Z"
    }
   },
   "outputs": [
    {
     "data": {
      "text/html": [
       "<div><style>\n",
       ".dataframe > thead > tr,\n",
       ".dataframe > tbody > tr {\n",
       "  text-align: right;\n",
       "  white-space: pre-wrap;\n",
       "}\n",
       "</style>\n",
       "<small>shape: (32, 2)</small><table border=\"1\" class=\"dataframe\"><thead><tr><th>VA</th><th>len</th></tr><tr><td>f64</td><td>u32</td></tr></thead><tbody><tr><td>4.7910e11</td><td>1</td></tr><tr><td>4.8491e11</td><td>2</td></tr><tr><td>5.8081e11</td><td>25</td></tr><tr><td>5.9421e11</td><td>1</td></tr><tr><td>6.0083e11</td><td>146</td></tr><tr><td>&hellip;</td><td>&hellip;</td></tr><tr><td>2.9743e12</td><td>21</td></tr><tr><td>3.0956e12</td><td>1</td></tr><tr><td>3.3767e12</td><td>100</td></tr><tr><td>3.7147e12</td><td>1</td></tr><tr><td>4.9529e12</td><td>8</td></tr></tbody></table></div>"
      ],
      "text/plain": [
       "shape: (32, 2)\n",
       "┌───────────┬─────┐\n",
       "│ VA        ┆ len │\n",
       "│ ---       ┆ --- │\n",
       "│ f64       ┆ u32 │\n",
       "╞═══════════╪═════╡\n",
       "│ 4.7910e11 ┆ 1   │\n",
       "│ 4.8491e11 ┆ 2   │\n",
       "│ 5.8081e11 ┆ 25  │\n",
       "│ 5.9421e11 ┆ 1   │\n",
       "│ 6.0083e11 ┆ 146 │\n",
       "│ …         ┆ …   │\n",
       "│ 2.9743e12 ┆ 21  │\n",
       "│ 3.0956e12 ┆ 1   │\n",
       "│ 3.3767e12 ┆ 100 │\n",
       "│ 3.7147e12 ┆ 1   │\n",
       "│ 4.9529e12 ┆ 8   │\n",
       "└───────────┴─────┘"
      ]
     },
     "metadata": {},
     "output_type": "display_data"
    },
    {
     "data": {
      "text/plain": [
       "(array([175.,   0., 225.,  80.,   4.,  87.,  29.,   6.,   0.,   0.,   0.,\n",
       "         22., 100.,   0.,   1.,   0.,   0.,   0.,   0.,   8.]),\n",
       " array([4.79095181e+11, 7.02784456e+11, 9.26473732e+11, 1.15016301e+12,\n",
       "        1.37385228e+12, 1.59754156e+12, 1.82123083e+12, 2.04492011e+12,\n",
       "        2.26860938e+12, 2.49229866e+12, 2.71598794e+12, 2.93967721e+12,\n",
       "        3.16336649e+12, 3.38705576e+12, 3.61074504e+12, 3.83443431e+12,\n",
       "        4.05812359e+12, 4.28181286e+12, 4.50550214e+12, 4.72919142e+12,\n",
       "        4.95288069e+12]),\n",
       " <BarContainer object of 20 artists>)"
      ]
     },
     "execution_count": 25,
     "metadata": {},
     "output_type": "execute_result"
    },
    {
     "data": {
      "image/png": "[encoded data removed]",
      "text/plain": [
       "<Figure size 640x480 with 1 Axes>"
      ]
     },
     "metadata": {},
     "output_type": "display_data"
    }
   ],
   "source": [
    "display(df.group_by('VA').len().sort('VA'))\n",
    "plt.hist(df['VA'], bins = 20)"
   ]
  },
  {
   "cell_type": "code",
   "execution_count": 26,
   "metadata": {
    "execution": {
     "iopub.execute_input": "2025-03-10T17:01:54.010334Z",
     "iopub.status.busy": "2025-03-10T17:01:54.009934Z",
     "iopub.status.idle": "2025-03-10T17:01:54.241680Z",
     "shell.execute_reply": "2025-03-10T17:01:54.240477Z",
     "shell.execute_reply.started": "2025-03-10T17:01:54.010294Z"
    }
   },
   "outputs": [
    {
     "data": {
      "text/html": [
       "<div><style>\n",
       ".dataframe > thead > tr,\n",
       ".dataframe > tbody > tr {\n",
       "  text-align: right;\n",
       "  white-space: pre-wrap;\n",
       "}\n",
       "</style>\n",
       "<small>shape: (9, 2)</small><table border=\"1\" class=\"dataframe\"><thead><tr><th>aspect_ratio</th><th>len</th></tr><tr><td>f64</td><td>u32</td></tr></thead><tbody><tr><td>0.966004</td><td>3</td></tr><tr><td>0.966527</td><td>1</td></tr><tr><td>0.966667</td><td>308</td></tr><tr><td>0.967675</td><td>74</td></tr><tr><td>1.0</td><td>74</td></tr><tr><td>1.034483</td><td>128</td></tr><tr><td>1.03452</td><td>11</td></tr><tr><td>1.034632</td><td>120</td></tr><tr><td>1.40625</td><td>18</td></tr></tbody></table></div>"
      ],
      "text/plain": [
       "shape: (9, 2)\n",
       "┌──────────────┬─────┐\n",
       "│ aspect_ratio ┆ len │\n",
       "│ ---          ┆ --- │\n",
       "│ f64          ┆ u32 │\n",
       "╞══════════════╪═════╡\n",
       "│ 0.966004     ┆ 3   │\n",
       "│ 0.966527     ┆ 1   │\n",
       "│ 0.966667     ┆ 308 │\n",
       "│ 0.967675     ┆ 74  │\n",
       "│ 1.0          ┆ 74  │\n",
       "│ 1.034483     ┆ 128 │\n",
       "│ 1.03452      ┆ 11  │\n",
       "│ 1.034632     ┆ 120 │\n",
       "│ 1.40625      ┆ 18  │\n",
       "└──────────────┴─────┘"
      ]
     },
     "metadata": {},
     "output_type": "display_data"
    },
    {
     "data": {
      "text/plain": [
       "(array([386.,  74.,   0., 259.,   0.,   0.,   0.,   0.,   0.,   0.,   0.,\n",
       "          0.,   0.,   0.,   0.,   0.,   0.,   0.,   0.,  18.]),\n",
       " array([0.96600418, 0.98801647, 1.01002877, 1.03204106, 1.05405335,\n",
       "        1.07606564, 1.09807793, 1.12009022, 1.14210251, 1.1641148 ,\n",
       "        1.18612709, 1.20813938, 1.23015167, 1.25216396, 1.27417626,\n",
       "        1.29618855, 1.31820084, 1.34021313, 1.36222542, 1.38423771,\n",
       "        1.40625   ]),\n",
       " <BarContainer object of 20 artists>)"
      ]
     },
     "execution_count": 26,
     "metadata": {},
     "output_type": "execute_result"
    },
    {
     "data": {
      "image/png": "[encoded data removed]",
      "text/plain": [
       "<Figure size 640x480 with 1 Axes>"
      ]
     },
     "metadata": {},
     "output_type": "display_data"
    }
   ],
   "source": [
    "display(df.group_by('aspect_ratio').len().sort('aspect_ratio'))\n",
    "plt.hist(df['aspect_ratio'], bins = 20)"
   ]
  },
  {
   "cell_type": "code",
   "execution_count": null,
   "metadata": {},
   "outputs": [],
   "source": []
  },
  {
   "cell_type": "code",
   "execution_count": 27,
   "metadata": {
    "execution": {
     "iopub.execute_input": "2025-03-10T17:05:24.671805Z",
     "iopub.status.busy": "2025-03-10T17:05:24.671350Z",
     "iopub.status.idle": "2025-03-10T17:05:24.682234Z",
     "shell.execute_reply": "2025-03-10T17:05:24.681145Z",
     "shell.execute_reply.started": "2025-03-10T17:05:24.671773Z"
    }
   },
   "outputs": [
    {
     "data": {
      "text/html": [
       "<div><style>\n",
       ".dataframe > thead > tr,\n",
       ".dataframe > tbody > tr {\n",
       "  text-align: right;\n",
       "  white-space: pre-wrap;\n",
       "}\n",
       "</style>\n",
       "<small>shape: (737, 17)</small><table border=\"1\" class=\"dataframe\"><thead><tr><th>row_id</th><th>tomo_id</th><th>Motor axis 0</th><th>Motor axis 1</th><th>Motor axis 2</th><th>Array shape (axis 0)</th><th>Array shape (axis 1)</th><th>Array shape (axis 2)</th><th>Voxel spacing</th><th>Number of motors</th><th>has_motor</th><th>ZA</th><th>YA</th><th>XA</th><th>V</th><th>VA</th><th>aspect_ratio</th></tr><tr><td>i64</td><td>str</td><td>f64</td><td>f64</td><td>f64</td><td>i64</td><td>i64</td><td>i64</td><td>f64</td><td>i64</td><td>bool</td><td>f64</td><td>f64</td><td>f64</td><td>i64</td><td>f64</td><td>f64</td></tr></thead><tbody><tr><td>0</td><td>&quot;tomo_003acc&quot;</td><td>-1.0</td><td>-1.0</td><td>-1.0</td><td>500</td><td>1912</td><td>1847</td><td>6.5</td><td>0</td><td>false</td><td>3250.0</td><td>12428.0</td><td>12005.5</td><td>1765732000</td><td>4.8491e11</td><td>0.966004</td></tr><tr><td>1</td><td>&quot;tomo_00e047&quot;</td><td>169.0</td><td>546.0</td><td>603.0</td><td>300</td><td>959</td><td>928</td><td>15.6</td><td>1</td><td>true</td><td>4680.0</td><td>14960.4</td><td>14476.8</td><td>266985600</td><td>1.0136e12</td><td>0.967675</td></tr><tr><td>2</td><td>&quot;tomo_00e463&quot;</td><td>235.0</td><td>403.0</td><td>137.0</td><td>500</td><td>924</td><td>956</td><td>19.7</td><td>6</td><td>true</td><td>9850.0</td><td>18202.8</td><td>18833.2</td><td>441672000</td><td>3.3767e12</td><td>1.034632</td></tr><tr><td>3</td><td>&quot;tomo_00e463&quot;</td><td>243.0</td><td>363.0</td><td>153.0</td><td>500</td><td>924</td><td>956</td><td>19.7</td><td>6</td><td>true</td><td>9850.0</td><td>18202.8</td><td>18833.2</td><td>441672000</td><td>3.3767e12</td><td>1.034632</td></tr><tr><td>4</td><td>&quot;tomo_00e463&quot;</td><td>222.0</td><td>379.0</td><td>144.0</td><td>500</td><td>924</td><td>956</td><td>19.7</td><td>6</td><td>true</td><td>9850.0</td><td>18202.8</td><td>18833.2</td><td>441672000</td><td>3.3767e12</td><td>1.034632</td></tr><tr><td>&hellip;</td><td>&hellip;</td><td>&hellip;</td><td>&hellip;</td><td>&hellip;</td><td>&hellip;</td><td>&hellip;</td><td>&hellip;</td><td>&hellip;</td><td>&hellip;</td><td>&hellip;</td><td>&hellip;</td><td>&hellip;</td><td>&hellip;</td><td>&hellip;</td><td>&hellip;</td><td>&hellip;</td></tr><tr><td>732</td><td>&quot;tomo_fe050c&quot;</td><td>138.0</td><td>134.0</td><td>542.0</td><td>300</td><td>959</td><td>928</td><td>15.6</td><td>1</td><td>true</td><td>4680.0</td><td>14960.4</td><td>14476.8</td><td>266985600</td><td>1.0136e12</td><td>0.967675</td></tr><tr><td>733</td><td>&quot;tomo_fe85f6&quot;</td><td>-1.0</td><td>-1.0</td><td>-1.0</td><td>800</td><td>928</td><td>960</td><td>13.1</td><td>0</td><td>false</td><td>10480.0</td><td>12156.8</td><td>12576.0</td><td>712704000</td><td>1.6022e12</td><td>1.034483</td></tr><tr><td>734</td><td>&quot;tomo_fea6e8&quot;</td><td>-1.0</td><td>-1.0</td><td>-1.0</td><td>300</td><td>960</td><td>928</td><td>16.8</td><td>0</td><td>false</td><td>5040.0</td><td>16128.0</td><td>15590.4</td><td>267264000</td><td>1.2673e12</td><td>0.966667</td></tr><tr><td>735</td><td>&quot;tomo_ff505c&quot;</td><td>111.0</td><td>816.0</td><td>678.0</td><td>300</td><td>959</td><td>928</td><td>15.6</td><td>1</td><td>true</td><td>4680.0</td><td>14960.4</td><td>14476.8</td><td>266985600</td><td>1.0136e12</td><td>0.967675</td></tr><tr><td>736</td><td>&quot;tomo_ff7c20&quot;</td><td>-1.0</td><td>-1.0</td><td>-1.0</td><td>800</td><td>928</td><td>960</td><td>13.1</td><td>0</td><td>false</td><td>10480.0</td><td>12156.8</td><td>12576.0</td><td>712704000</td><td>1.6022e12</td><td>1.034483</td></tr></tbody></table></div>"
      ],
      "text/plain": [
       "shape: (737, 17)\n",
       "┌────────┬─────────────┬────────┬─────────────┬───┬─────────┬─────────────┬───────────┬────────────┐\n",
       "│ row_id ┆ tomo_id     ┆ Motor  ┆ Motor axis  ┆ … ┆ XA      ┆ V           ┆ VA        ┆ aspect_rat │\n",
       "│ ---    ┆ ---         ┆ axis 0 ┆ 1           ┆   ┆ ---     ┆ ---         ┆ ---       ┆ io         │\n",
       "│ i64    ┆ str         ┆ ---    ┆ ---         ┆   ┆ f64     ┆ i64         ┆ f64       ┆ ---        │\n",
       "│        ┆             ┆ f64    ┆ f64         ┆   ┆         ┆             ┆           ┆ f64        │\n",
       "╞════════╪═════════════╪════════╪═════════════╪═══╪═════════╪═════════════╪═══════════╪════════════╡\n",
       "│ 0      ┆ tomo_003acc ┆ -1.0   ┆ -1.0        ┆ … ┆ 12005.5 ┆ 1765732000  ┆ 4.8491e11 ┆ 0.966004   │\n",
       "│ 1      ┆ tomo_00e047 ┆ 169.0  ┆ 546.0       ┆ … ┆ 14476.8 ┆ 266985600   ┆ 1.0136e12 ┆ 0.967675   │\n",
       "│ 2      ┆ tomo_00e463 ┆ 235.0  ┆ 403.0       ┆ … ┆ 18833.2 ┆ 441672000   ┆ 3.3767e12 ┆ 1.034632   │\n",
       "│ 3      ┆ tomo_00e463 ┆ 243.0  ┆ 363.0       ┆ … ┆ 18833.2 ┆ 441672000   ┆ 3.3767e12 ┆ 1.034632   │\n",
       "│ 4      ┆ tomo_00e463 ┆ 222.0  ┆ 379.0       ┆ … ┆ 18833.2 ┆ 441672000   ┆ 3.3767e12 ┆ 1.034632   │\n",
       "│ …      ┆ …           ┆ …      ┆ …           ┆ … ┆ …       ┆ …           ┆ …         ┆ …          │\n",
       "│ 732    ┆ tomo_fe050c ┆ 138.0  ┆ 134.0       ┆ … ┆ 14476.8 ┆ 266985600   ┆ 1.0136e12 ┆ 0.967675   │\n",
       "│ 733    ┆ tomo_fe85f6 ┆ -1.0   ┆ -1.0        ┆ … ┆ 12576.0 ┆ 712704000   ┆ 1.6022e12 ┆ 1.034483   │\n",
       "│ 734    ┆ tomo_fea6e8 ┆ -1.0   ┆ -1.0        ┆ … ┆ 15590.4 ┆ 267264000   ┆ 1.2673e12 ┆ 0.966667   │\n",
       "│ 735    ┆ tomo_ff505c ┆ 111.0  ┆ 816.0       ┆ … ┆ 14476.8 ┆ 266985600   ┆ 1.0136e12 ┆ 0.967675   │\n",
       "│ 736    ┆ tomo_ff7c20 ┆ -1.0   ┆ -1.0        ┆ … ┆ 12576.0 ┆ 712704000   ┆ 1.6022e12 ┆ 1.034483   │\n",
       "└────────┴─────────────┴────────┴─────────────┴───┴─────────┴─────────────┴───────────┴────────────┘"
      ]
     },
     "execution_count": 27,
     "metadata": {},
     "output_type": "execute_result"
    }
   ],
   "source": [
    "df"
   ]
  },
  {
   "cell_type": "code",
   "execution_count": null,
   "metadata": {},
   "outputs": [],
   "source": []
  },
  {
   "cell_type": "code",
   "execution_count": null,
   "metadata": {},
   "outputs": [],
   "source": []
  },
  {
   "cell_type": "code",
   "execution_count": null,
   "metadata": {},
   "outputs": [],
   "source": []
  },
  {
   "cell_type": "code",
   "execution_count": 20,
   "metadata": {},
   "outputs": [
    {
     "data": {
      "text/html": [
       "<div><style>\n",
       ".dataframe > thead > tr,\n",
       ".dataframe > tbody > tr {\n",
       "  text-align: right;\n",
       "  white-space: pre-wrap;\n",
       "}\n",
       "</style>\n",
       "<small>shape: (737, 20)</small><table border=\"1\" class=\"dataframe\"><thead><tr><th>row_id</th><th>tomo_id</th><th>motor_z</th><th>motor_y</th><th>motor_x</th><th>Z</th><th>Y</th><th>X</th><th>voxel_spacing</th><th>ori_num_motors</th><th>has_motor</th><th>num_motors</th><th>ZA</th><th>YA</th><th>XA</th><th>motor_zA</th><th>motor_yA</th><th>motor_xA</th><th>V</th><th>VA</th></tr><tr><td>i64</td><td>str</td><td>f64</td><td>f64</td><td>f64</td><td>i64</td><td>i64</td><td>i64</td><td>f64</td><td>i64</td><td>bool</td><td>u32</td><td>f64</td><td>f64</td><td>f64</td><td>f64</td><td>f64</td><td>f64</td><td>i64</td><td>f64</td></tr></thead><tbody><tr><td>0</td><td>&quot;tomo_003acc&quot;</td><td>-1.0</td><td>-1.0</td><td>-1.0</td><td>500</td><td>1912</td><td>1847</td><td>6.5</td><td>0</td><td>false</td><td>0</td><td>3250.0</td><td>12428.0</td><td>12005.5</td><td>-6.5</td><td>-6.5</td><td>-6.5</td><td>1765732000</td><td>4.8491e11</td></tr><tr><td>1</td><td>&quot;tomo_00e047&quot;</td><td>169.0</td><td>546.0</td><td>603.0</td><td>300</td><td>959</td><td>928</td><td>15.6</td><td>1</td><td>true</td><td>1</td><td>4680.0</td><td>14960.4</td><td>14476.8</td><td>2636.4</td><td>8517.6</td><td>9406.8</td><td>266985600</td><td>1.0136e12</td></tr><tr><td>2</td><td>&quot;tomo_00e463&quot;</td><td>235.0</td><td>403.0</td><td>137.0</td><td>500</td><td>924</td><td>956</td><td>19.7</td><td>6</td><td>true</td><td>6</td><td>9850.0</td><td>18202.8</td><td>18833.2</td><td>4629.5</td><td>7939.1</td><td>2698.9</td><td>441672000</td><td>3.3767e12</td></tr><tr><td>3</td><td>&quot;tomo_00e463&quot;</td><td>243.0</td><td>363.0</td><td>153.0</td><td>500</td><td>924</td><td>956</td><td>19.7</td><td>6</td><td>true</td><td>6</td><td>9850.0</td><td>18202.8</td><td>18833.2</td><td>4787.1</td><td>7151.1</td><td>3014.1</td><td>441672000</td><td>3.3767e12</td></tr><tr><td>4</td><td>&quot;tomo_00e463&quot;</td><td>222.0</td><td>379.0</td><td>144.0</td><td>500</td><td>924</td><td>956</td><td>19.7</td><td>6</td><td>true</td><td>6</td><td>9850.0</td><td>18202.8</td><td>18833.2</td><td>4373.4</td><td>7466.3</td><td>2836.8</td><td>441672000</td><td>3.3767e12</td></tr><tr><td>&hellip;</td><td>&hellip;</td><td>&hellip;</td><td>&hellip;</td><td>&hellip;</td><td>&hellip;</td><td>&hellip;</td><td>&hellip;</td><td>&hellip;</td><td>&hellip;</td><td>&hellip;</td><td>&hellip;</td><td>&hellip;</td><td>&hellip;</td><td>&hellip;</td><td>&hellip;</td><td>&hellip;</td><td>&hellip;</td><td>&hellip;</td><td>&hellip;</td></tr><tr><td>732</td><td>&quot;tomo_fe050c&quot;</td><td>138.0</td><td>134.0</td><td>542.0</td><td>300</td><td>959</td><td>928</td><td>15.6</td><td>1</td><td>true</td><td>1</td><td>4680.0</td><td>14960.4</td><td>14476.8</td><td>2152.8</td><td>2090.4</td><td>8455.2</td><td>266985600</td><td>1.0136e12</td></tr><tr><td>733</td><td>&quot;tomo_fe85f6&quot;</td><td>-1.0</td><td>-1.0</td><td>-1.0</td><td>800</td><td>928</td><td>960</td><td>13.1</td><td>0</td><td>false</td><td>0</td><td>10480.0</td><td>12156.8</td><td>12576.0</td><td>-13.1</td><td>-13.1</td><td>-13.1</td><td>712704000</td><td>1.6022e12</td></tr><tr><td>734</td><td>&quot;tomo_fea6e8&quot;</td><td>-1.0</td><td>-1.0</td><td>-1.0</td><td>300</td><td>960</td><td>928</td><td>16.8</td><td>0</td><td>false</td><td>0</td><td>5040.0</td><td>16128.0</td><td>15590.4</td><td>-16.8</td><td>-16.8</td><td>-16.8</td><td>267264000</td><td>1.2673e12</td></tr><tr><td>735</td><td>&quot;tomo_ff505c&quot;</td><td>111.0</td><td>816.0</td><td>678.0</td><td>300</td><td>959</td><td>928</td><td>15.6</td><td>1</td><td>true</td><td>1</td><td>4680.0</td><td>14960.4</td><td>14476.8</td><td>1731.6</td><td>12729.6</td><td>10576.8</td><td>266985600</td><td>1.0136e12</td></tr><tr><td>736</td><td>&quot;tomo_ff7c20&quot;</td><td>-1.0</td><td>-1.0</td><td>-1.0</td><td>800</td><td>928</td><td>960</td><td>13.1</td><td>0</td><td>false</td><td>0</td><td>10480.0</td><td>12156.8</td><td>12576.0</td><td>-13.1</td><td>-13.1</td><td>-13.1</td><td>712704000</td><td>1.6022e12</td></tr></tbody></table></div>"
      ],
      "text/plain": [
       "shape: (737, 20)\n",
       "┌────────┬─────────────┬─────────┬─────────┬───┬──────────┬──────────┬────────────┬───────────┐\n",
       "│ row_id ┆ tomo_id     ┆ motor_z ┆ motor_y ┆ … ┆ motor_yA ┆ motor_xA ┆ V          ┆ VA        │\n",
       "│ ---    ┆ ---         ┆ ---     ┆ ---     ┆   ┆ ---      ┆ ---      ┆ ---        ┆ ---       │\n",
       "│ i64    ┆ str         ┆ f64     ┆ f64     ┆   ┆ f64      ┆ f64      ┆ i64        ┆ f64       │\n",
       "╞════════╪═════════════╪═════════╪═════════╪═══╪══════════╪══════════╪════════════╪═══════════╡\n",
       "│ 0      ┆ tomo_003acc ┆ -1.0    ┆ -1.0    ┆ … ┆ -6.5     ┆ -6.5     ┆ 1765732000 ┆ 4.8491e11 │\n",
       "│ 1      ┆ tomo_00e047 ┆ 169.0   ┆ 546.0   ┆ … ┆ 8517.6   ┆ 9406.8   ┆ 266985600  ┆ 1.0136e12 │\n",
       "│ 2      ┆ tomo_00e463 ┆ 235.0   ┆ 403.0   ┆ … ┆ 7939.1   ┆ 2698.9   ┆ 441672000  ┆ 3.3767e12 │\n",
       "│ 3      ┆ tomo_00e463 ┆ 243.0   ┆ 363.0   ┆ … ┆ 7151.1   ┆ 3014.1   ┆ 441672000  ┆ 3.3767e12 │\n",
       "│ 4      ┆ tomo_00e463 ┆ 222.0   ┆ 379.0   ┆ … ┆ 7466.3   ┆ 2836.8   ┆ 441672000  ┆ 3.3767e12 │\n",
       "│ …      ┆ …           ┆ …       ┆ …       ┆ … ┆ …        ┆ …        ┆ …          ┆ …         │\n",
       "│ 732    ┆ tomo_fe050c ┆ 138.0   ┆ 134.0   ┆ … ┆ 2090.4   ┆ 8455.2   ┆ 266985600  ┆ 1.0136e12 │\n",
       "│ 733    ┆ tomo_fe85f6 ┆ -1.0    ┆ -1.0    ┆ … ┆ -13.1    ┆ -13.1    ┆ 712704000  ┆ 1.6022e12 │\n",
       "│ 734    ┆ tomo_fea6e8 ┆ -1.0    ┆ -1.0    ┆ … ┆ -16.8    ┆ -16.8    ┆ 267264000  ┆ 1.2673e12 │\n",
       "│ 735    ┆ tomo_ff505c ┆ 111.0   ┆ 816.0   ┆ … ┆ 12729.6  ┆ 10576.8  ┆ 266985600  ┆ 1.0136e12 │\n",
       "│ 736    ┆ tomo_ff7c20 ┆ -1.0    ┆ -1.0    ┆ … ┆ -13.1    ┆ -13.1    ┆ 712704000  ┆ 1.6022e12 │\n",
       "└────────┴─────────────┴─────────┴─────────┴───┴──────────┴──────────┴────────────┴───────────┘"
      ]
     },
     "execution_count": 20,
     "metadata": {},
     "output_type": "execute_result"
    }
   ],
   "source": [
    "df = pl.scan_csv('/home/dangnh36/datasets/byu/raw/train_labels.csv').collect()\n",
    "df = df.rename({'Motor axis 0': 'motor_z', 'Motor axis 1': 'motor_y', 'Motor axis 2': 'motor_x', 'Array shape (axis 0)': 'Z', 'Array shape (axis 1)': 'Y', 'Array shape (axis 2)': 'X',\n",
    "               'Voxel spacing': 'voxel_spacing', 'Number of motors': 'ori_num_motors'}).with_columns(\n",
    "    (pl.col('motor_z') >= 0).alias('has_motor')\n",
    ").with_columns(\n",
    "    (pl.len().over('tomo_id') * pl.col('has_motor')).alias('num_motors')\n",
    ").with_columns(\n",
    "    (pl.col('Z') * pl.col('voxel_spacing')).alias('ZA'),\n",
    "    (pl.col('Y') * pl.col('voxel_spacing')).alias('YA'),\n",
    "    (pl.col('X') * pl.col('voxel_spacing')).alias('XA'),\n",
    "    (pl.col('motor_z') * pl.col('voxel_spacing')).alias('motor_zA'),\n",
    "    (pl.col('motor_y') * pl.col('voxel_spacing')).alias('motor_yA'),\n",
    "    (pl.col('motor_x') * pl.col('voxel_spacing')).alias('motor_xA')\n",
    ").with_columns(\n",
    "    (pl.col('Z') * pl.col('Y') * pl.col('X')).alias('V'),\n",
    "    (pl.col('ZA') * pl.col('YA') * pl.col('XA')).alias('VA')\n",
    ")\n",
    "\n",
    "\n",
    "# display(df.filter(pl.col('ori_num_motors') != pl.col('num_motors')))\n",
    "df"
   ]
  },
  {
   "cell_type": "code",
   "execution_count": 77,
   "metadata": {},
   "outputs": [],
   "source": [
    "# df.write_csv('/home/dangnh36/datasets/byu/processed/gt_ori.csv')"
   ]
  },
  {
   "cell_type": "code",
   "execution_count": 21,
   "metadata": {},
   "outputs": [
    {
     "data": {
      "text/html": [
       "<div><style>\n",
       ".dataframe > thead > tr,\n",
       ".dataframe > tbody > tr {\n",
       "  text-align: right;\n",
       "  white-space: pre-wrap;\n",
       "}\n",
       "</style>\n",
       "<small>shape: (648, 20)</small><table border=\"1\" class=\"dataframe\"><thead><tr><th>tomo_id</th><th>Z</th><th>Y</th><th>X</th><th>voxel_spacing</th><th>ori_num_motors</th><th>num_motors</th><th>ZA</th><th>YA</th><th>XA</th><th>V</th><th>VA</th><th>motor_z</th><th>motor_y</th><th>motor_x</th><th>motor_zA</th><th>motor_yA</th><th>motor_xA</th><th>motor_zyx</th><th>motor_zyxA</th></tr><tr><td>str</td><td>i64</td><td>i64</td><td>i64</td><td>f64</td><td>i64</td><td>u32</td><td>f64</td><td>f64</td><td>f64</td><td>i64</td><td>f64</td><td>f64</td><td>f64</td><td>f64</td><td>f64</td><td>f64</td><td>f64</td><td>str</td><td>str</td></tr></thead><tbody><tr><td>&quot;tomo_003acc&quot;</td><td>500</td><td>1912</td><td>1847</td><td>6.5</td><td>0</td><td>0</td><td>3250.0</td><td>12428.0</td><td>12005.5</td><td>1765732000</td><td>4.8491e11</td><td>-1.0</td><td>-1.0</td><td>-1.0</td><td>-6.5</td><td>-6.5</td><td>-6.5</td><td>&quot;[]&quot;</td><td>&quot;[]&quot;</td></tr><tr><td>&quot;tomo_00e047&quot;</td><td>300</td><td>959</td><td>928</td><td>15.6</td><td>1</td><td>1</td><td>4680.0</td><td>14960.4</td><td>14476.8</td><td>266985600</td><td>1.0136e12</td><td>169.0</td><td>546.0</td><td>603.0</td><td>2636.4</td><td>8517.6</td><td>9406.8</td><td>&quot;[[169.0, 546.0, 603.0]]&quot;</td><td>&quot;[[2636.4, 8517.6, 9406.8]]&quot;</td></tr><tr><td>&quot;tomo_00e463&quot;</td><td>500</td><td>924</td><td>956</td><td>19.7</td><td>6</td><td>6</td><td>9850.0</td><td>18202.8</td><td>18833.2</td><td>441672000</td><td>3.3767e12</td><td>235.0</td><td>403.0</td><td>137.0</td><td>4629.5</td><td>7939.1</td><td>2698.9</td><td>&quot;[[235.0, 403.0, 137.0], [243.0…</td><td>&quot;[[4629.5, 7939.099999999999, 2…</td></tr><tr><td>&quot;tomo_01a877&quot;</td><td>300</td><td>960</td><td>928</td><td>13.1</td><td>1</td><td>1</td><td>3930.0</td><td>12576.0</td><td>12156.8</td><td>267264000</td><td>6.0083e11</td><td>147.0</td><td>638.0</td><td>286.0</td><td>1925.7</td><td>8357.8</td><td>3746.6</td><td>&quot;[[147.0, 638.0, 286.0]]&quot;</td><td>&quot;[[1925.7, 8357.8, 3746.6]]&quot;</td></tr><tr><td>&quot;tomo_02862f&quot;</td><td>300</td><td>959</td><td>928</td><td>15.6</td><td>1</td><td>1</td><td>4680.0</td><td>14960.4</td><td>14476.8</td><td>266985600</td><td>1.0136e12</td><td>101.0</td><td>351.0</td><td>120.0</td><td>1575.6</td><td>5475.6</td><td>1872.0</td><td>&quot;[[101.0, 351.0, 120.0]]&quot;</td><td>&quot;[[1575.6, 5475.599999999999, 1…</td></tr><tr><td>&hellip;</td><td>&hellip;</td><td>&hellip;</td><td>&hellip;</td><td>&hellip;</td><td>&hellip;</td><td>&hellip;</td><td>&hellip;</td><td>&hellip;</td><td>&hellip;</td><td>&hellip;</td><td>&hellip;</td><td>&hellip;</td><td>&hellip;</td><td>&hellip;</td><td>&hellip;</td><td>&hellip;</td><td>&hellip;</td><td>&hellip;</td><td>&hellip;</td></tr><tr><td>&quot;tomo_fe050c&quot;</td><td>300</td><td>959</td><td>928</td><td>15.6</td><td>1</td><td>1</td><td>4680.0</td><td>14960.4</td><td>14476.8</td><td>266985600</td><td>1.0136e12</td><td>138.0</td><td>134.0</td><td>542.0</td><td>2152.8</td><td>2090.4</td><td>8455.2</td><td>&quot;[[138.0, 134.0, 542.0]]&quot;</td><td>&quot;[[2152.7999999999997, 2090.4, …</td></tr><tr><td>&quot;tomo_fe85f6&quot;</td><td>800</td><td>928</td><td>960</td><td>13.1</td><td>0</td><td>0</td><td>10480.0</td><td>12156.8</td><td>12576.0</td><td>712704000</td><td>1.6022e12</td><td>-1.0</td><td>-1.0</td><td>-1.0</td><td>-13.1</td><td>-13.1</td><td>-13.1</td><td>&quot;[]&quot;</td><td>&quot;[]&quot;</td></tr><tr><td>&quot;tomo_fea6e8&quot;</td><td>300</td><td>960</td><td>928</td><td>16.8</td><td>0</td><td>0</td><td>5040.0</td><td>16128.0</td><td>15590.4</td><td>267264000</td><td>1.2673e12</td><td>-1.0</td><td>-1.0</td><td>-1.0</td><td>-16.8</td><td>-16.8</td><td>-16.8</td><td>&quot;[]&quot;</td><td>&quot;[]&quot;</td></tr><tr><td>&quot;tomo_ff505c&quot;</td><td>300</td><td>959</td><td>928</td><td>15.6</td><td>1</td><td>1</td><td>4680.0</td><td>14960.4</td><td>14476.8</td><td>266985600</td><td>1.0136e12</td><td>111.0</td><td>816.0</td><td>678.0</td><td>1731.6</td><td>12729.6</td><td>10576.8</td><td>&quot;[[111.0, 816.0, 678.0]]&quot;</td><td>&quot;[[1731.6, 12729.6, 10576.8]]&quot;</td></tr><tr><td>&quot;tomo_ff7c20&quot;</td><td>800</td><td>928</td><td>960</td><td>13.1</td><td>0</td><td>0</td><td>10480.0</td><td>12156.8</td><td>12576.0</td><td>712704000</td><td>1.6022e12</td><td>-1.0</td><td>-1.0</td><td>-1.0</td><td>-13.1</td><td>-13.1</td><td>-13.1</td><td>&quot;[]&quot;</td><td>&quot;[]&quot;</td></tr></tbody></table></div>"
      ],
      "text/plain": [
       "shape: (648, 20)\n",
       "┌─────────────┬─────┬──────┬──────┬───┬──────────┬──────────┬───────────────────┬──────────────────┐\n",
       "│ tomo_id     ┆ Z   ┆ Y    ┆ X    ┆ … ┆ motor_yA ┆ motor_xA ┆ motor_zyx         ┆ motor_zyxA       │\n",
       "│ ---         ┆ --- ┆ ---  ┆ ---  ┆   ┆ ---      ┆ ---      ┆ ---               ┆ ---              │\n",
       "│ str         ┆ i64 ┆ i64  ┆ i64  ┆   ┆ f64      ┆ f64      ┆ str               ┆ str              │\n",
       "╞═════════════╪═════╪══════╪══════╪═══╪══════════╪══════════╪═══════════════════╪══════════════════╡\n",
       "│ tomo_003acc ┆ 500 ┆ 1912 ┆ 1847 ┆ … ┆ -6.5     ┆ -6.5     ┆ []                ┆ []               │\n",
       "│ tomo_00e047 ┆ 300 ┆ 959  ┆ 928  ┆ … ┆ 8517.6   ┆ 9406.8   ┆ [[169.0, 546.0,   ┆ [[2636.4,        │\n",
       "│             ┆     ┆      ┆      ┆   ┆          ┆          ┆ 603.0]]           ┆ 8517.6, 9406.8]] │\n",
       "│ tomo_00e463 ┆ 500 ┆ 924  ┆ 956  ┆ … ┆ 7939.1   ┆ 2698.9   ┆ [[235.0, 403.0,   ┆ [[4629.5, 7939.0 │\n",
       "│             ┆     ┆      ┆      ┆   ┆          ┆          ┆ 137.0], [243.0…   ┆ 99999999999, 2…  │\n",
       "│ tomo_01a877 ┆ 300 ┆ 960  ┆ 928  ┆ … ┆ 8357.8   ┆ 3746.6   ┆ [[147.0, 638.0,   ┆ [[1925.7,        │\n",
       "│             ┆     ┆      ┆      ┆   ┆          ┆          ┆ 286.0]]           ┆ 8357.8, 3746.6]] │\n",
       "│ tomo_02862f ┆ 300 ┆ 959  ┆ 928  ┆ … ┆ 5475.6   ┆ 1872.0   ┆ [[101.0, 351.0,   ┆ [[1575.6, 5475.5 │\n",
       "│             ┆     ┆      ┆      ┆   ┆          ┆          ┆ 120.0]]           ┆ 99999999999, 1…  │\n",
       "│ …           ┆ …   ┆ …    ┆ …    ┆ … ┆ …        ┆ …        ┆ …                 ┆ …                │\n",
       "│ tomo_fe050c ┆ 300 ┆ 959  ┆ 928  ┆ … ┆ 2090.4   ┆ 8455.2   ┆ [[138.0, 134.0,   ┆ [[2152.799999999 │\n",
       "│             ┆     ┆      ┆      ┆   ┆          ┆          ┆ 542.0]]           ┆ 9997, 2090.4, …  │\n",
       "│ tomo_fe85f6 ┆ 800 ┆ 928  ┆ 960  ┆ … ┆ -13.1    ┆ -13.1    ┆ []                ┆ []               │\n",
       "│ tomo_fea6e8 ┆ 300 ┆ 960  ┆ 928  ┆ … ┆ -16.8    ┆ -16.8    ┆ []                ┆ []               │\n",
       "│ tomo_ff505c ┆ 300 ┆ 959  ┆ 928  ┆ … ┆ 12729.6  ┆ 10576.8  ┆ [[111.0, 816.0,   ┆ [[1731.6,        │\n",
       "│             ┆     ┆      ┆      ┆   ┆          ┆          ┆ 678.0]]           ┆ 12729.6,         │\n",
       "│             ┆     ┆      ┆      ┆   ┆          ┆          ┆                   ┆ 10576.8]]        │\n",
       "│ tomo_ff7c20 ┆ 800 ┆ 928  ┆ 960  ┆ … ┆ -13.1    ┆ -13.1    ┆ []                ┆ []               │\n",
       "└─────────────┴─────┴──────┴──────┴───┴──────────┴──────────┴───────────────────┴──────────────────┘"
      ]
     },
     "execution_count": 21,
     "metadata": {},
     "output_type": "execute_result"
    }
   ],
   "source": [
    "df2 = df.with_columns(\n",
    "    pl.concat_list(['motor_z', 'motor_y', 'motor_x']).alias('motor_zyx'),\n",
    "    pl.concat_list(['motor_zA', 'motor_yA', 'motor_xA']).alias('motor_zyxA')\n",
    ").group_by('tomo_id', maintain_order=True).agg(\n",
    "    pl.col('Z', 'Y', 'X', 'voxel_spacing', 'ori_num_motors', 'num_motors', 'ZA', 'YA', 'XA', 'V', 'VA', 'motor_z', 'motor_y', 'motor_x', 'motor_zA', 'motor_yA', 'motor_xA').first(),\n",
    "    pl.col('motor_zyx', 'motor_zyxA').map_elements(lambda x: str([e for e in x.to_list() if e[0] >= 0]), return_dtype = pl.String)\n",
    ")\n",
    "df2"
   ]
  },
  {
   "cell_type": "code",
   "execution_count": 22,
   "metadata": {},
   "outputs": [
    {
     "name": "stderr",
     "output_type": "stream",
     "text": [
      "sys:1: MapWithoutReturnDtypeWarning: Calling `map_elements` without specifying `return_dtype` can lead to unpredictable results. Specify `return_dtype` to silence this warning.\n",
      "sys:1: MapWithoutReturnDtypeWarning: Calling `map_elements` without specifying `return_dtype` can lead to unpredictable results. Specify `return_dtype` to silence this warning.\n"
     ]
    },
    {
     "data": {
      "text/plain": [
       "True"
      ]
     },
     "execution_count": 22,
     "metadata": {},
     "output_type": "execute_result"
    }
   ],
   "source": [
    "df2.select(\n",
    "    pl.col('tomo_id'),\n",
    "    pl.col('motor_zyx', 'motor_zyxA').map_elements(lambda x: len(eval(x))) == pl.col('num_motors')\n",
    ").to_numpy().all()"
   ]
  },
  {
   "cell_type": "code",
   "execution_count": 23,
   "metadata": {},
   "outputs": [
    {
     "data": {
      "text/html": [
       "<div><style>\n",
       ".dataframe > thead > tr,\n",
       ".dataframe > tbody > tr {\n",
       "  text-align: right;\n",
       "  white-space: pre-wrap;\n",
       "}\n",
       "</style>\n",
       "<small>shape: (648, 20)</small><table border=\"1\" class=\"dataframe\"><thead><tr><th>tomo_id</th><th>Z</th><th>Y</th><th>X</th><th>voxel_spacing</th><th>ori_num_motors</th><th>num_motors</th><th>ZA</th><th>YA</th><th>XA</th><th>V</th><th>VA</th><th>motor_z</th><th>motor_y</th><th>motor_x</th><th>motor_zA</th><th>motor_yA</th><th>motor_xA</th><th>motor_zyx</th><th>motor_zyxA</th></tr><tr><td>str</td><td>i64</td><td>i64</td><td>i64</td><td>f64</td><td>i64</td><td>u32</td><td>f64</td><td>f64</td><td>f64</td><td>i64</td><td>f64</td><td>f64</td><td>f64</td><td>f64</td><td>f64</td><td>f64</td><td>f64</td><td>str</td><td>str</td></tr></thead><tbody><tr><td>&quot;tomo_003acc&quot;</td><td>500</td><td>1912</td><td>1847</td><td>6.5</td><td>0</td><td>0</td><td>3250.0</td><td>12428.0</td><td>12005.5</td><td>1765732000</td><td>4.8491e11</td><td>-1.0</td><td>-1.0</td><td>-1.0</td><td>-6.5</td><td>-6.5</td><td>-6.5</td><td>&quot;[]&quot;</td><td>&quot;[]&quot;</td></tr><tr><td>&quot;tomo_00e047&quot;</td><td>300</td><td>959</td><td>928</td><td>15.6</td><td>1</td><td>1</td><td>4680.0</td><td>14960.4</td><td>14476.8</td><td>266985600</td><td>1.0136e12</td><td>169.0</td><td>546.0</td><td>603.0</td><td>2636.4</td><td>8517.6</td><td>9406.8</td><td>&quot;[[169.0, 546.0, 603.0]]&quot;</td><td>&quot;[[2636.4, 8517.6, 9406.8]]&quot;</td></tr><tr><td>&quot;tomo_00e463&quot;</td><td>500</td><td>924</td><td>956</td><td>19.7</td><td>6</td><td>6</td><td>9850.0</td><td>18202.8</td><td>18833.2</td><td>441672000</td><td>3.3767e12</td><td>235.0</td><td>403.0</td><td>137.0</td><td>4629.5</td><td>7939.1</td><td>2698.9</td><td>&quot;[[235.0, 403.0, 137.0], [243.0…</td><td>&quot;[[4629.5, 7939.099999999999, 2…</td></tr><tr><td>&quot;tomo_01a877&quot;</td><td>300</td><td>960</td><td>928</td><td>13.1</td><td>1</td><td>1</td><td>3930.0</td><td>12576.0</td><td>12156.8</td><td>267264000</td><td>6.0083e11</td><td>147.0</td><td>638.0</td><td>286.0</td><td>1925.7</td><td>8357.8</td><td>3746.6</td><td>&quot;[[147.0, 638.0, 286.0]]&quot;</td><td>&quot;[[1925.7, 8357.8, 3746.6]]&quot;</td></tr><tr><td>&quot;tomo_02862f&quot;</td><td>300</td><td>959</td><td>928</td><td>15.6</td><td>1</td><td>1</td><td>4680.0</td><td>14960.4</td><td>14476.8</td><td>266985600</td><td>1.0136e12</td><td>101.0</td><td>351.0</td><td>120.0</td><td>1575.6</td><td>5475.6</td><td>1872.0</td><td>&quot;[[101.0, 351.0, 120.0]]&quot;</td><td>&quot;[[1575.6, 5475.599999999999, 1…</td></tr><tr><td>&hellip;</td><td>&hellip;</td><td>&hellip;</td><td>&hellip;</td><td>&hellip;</td><td>&hellip;</td><td>&hellip;</td><td>&hellip;</td><td>&hellip;</td><td>&hellip;</td><td>&hellip;</td><td>&hellip;</td><td>&hellip;</td><td>&hellip;</td><td>&hellip;</td><td>&hellip;</td><td>&hellip;</td><td>&hellip;</td><td>&hellip;</td><td>&hellip;</td></tr><tr><td>&quot;tomo_fe050c&quot;</td><td>300</td><td>959</td><td>928</td><td>15.6</td><td>1</td><td>1</td><td>4680.0</td><td>14960.4</td><td>14476.8</td><td>266985600</td><td>1.0136e12</td><td>138.0</td><td>134.0</td><td>542.0</td><td>2152.8</td><td>2090.4</td><td>8455.2</td><td>&quot;[[138.0, 134.0, 542.0]]&quot;</td><td>&quot;[[2152.7999999999997, 2090.4, …</td></tr><tr><td>&quot;tomo_fe85f6&quot;</td><td>800</td><td>928</td><td>960</td><td>13.1</td><td>0</td><td>0</td><td>10480.0</td><td>12156.8</td><td>12576.0</td><td>712704000</td><td>1.6022e12</td><td>-1.0</td><td>-1.0</td><td>-1.0</td><td>-13.1</td><td>-13.1</td><td>-13.1</td><td>&quot;[]&quot;</td><td>&quot;[]&quot;</td></tr><tr><td>&quot;tomo_fea6e8&quot;</td><td>300</td><td>960</td><td>928</td><td>16.8</td><td>0</td><td>0</td><td>5040.0</td><td>16128.0</td><td>15590.4</td><td>267264000</td><td>1.2673e12</td><td>-1.0</td><td>-1.0</td><td>-1.0</td><td>-16.8</td><td>-16.8</td><td>-16.8</td><td>&quot;[]&quot;</td><td>&quot;[]&quot;</td></tr><tr><td>&quot;tomo_ff505c&quot;</td><td>300</td><td>959</td><td>928</td><td>15.6</td><td>1</td><td>1</td><td>4680.0</td><td>14960.4</td><td>14476.8</td><td>266985600</td><td>1.0136e12</td><td>111.0</td><td>816.0</td><td>678.0</td><td>1731.6</td><td>12729.6</td><td>10576.8</td><td>&quot;[[111.0, 816.0, 678.0]]&quot;</td><td>&quot;[[1731.6, 12729.6, 10576.8]]&quot;</td></tr><tr><td>&quot;tomo_ff7c20&quot;</td><td>800</td><td>928</td><td>960</td><td>13.1</td><td>0</td><td>0</td><td>10480.0</td><td>12156.8</td><td>12576.0</td><td>712704000</td><td>1.6022e12</td><td>-1.0</td><td>-1.0</td><td>-1.0</td><td>-13.1</td><td>-13.1</td><td>-13.1</td><td>&quot;[]&quot;</td><td>&quot;[]&quot;</td></tr></tbody></table></div>"
      ],
      "text/plain": [
       "shape: (648, 20)\n",
       "┌─────────────┬─────┬──────┬──────┬───┬──────────┬──────────┬───────────────────┬──────────────────┐\n",
       "│ tomo_id     ┆ Z   ┆ Y    ┆ X    ┆ … ┆ motor_yA ┆ motor_xA ┆ motor_zyx         ┆ motor_zyxA       │\n",
       "│ ---         ┆ --- ┆ ---  ┆ ---  ┆   ┆ ---      ┆ ---      ┆ ---               ┆ ---              │\n",
       "│ str         ┆ i64 ┆ i64  ┆ i64  ┆   ┆ f64      ┆ f64      ┆ str               ┆ str              │\n",
       "╞═════════════╪═════╪══════╪══════╪═══╪══════════╪══════════╪═══════════════════╪══════════════════╡\n",
       "│ tomo_003acc ┆ 500 ┆ 1912 ┆ 1847 ┆ … ┆ -6.5     ┆ -6.5     ┆ []                ┆ []               │\n",
       "│ tomo_00e047 ┆ 300 ┆ 959  ┆ 928  ┆ … ┆ 8517.6   ┆ 9406.8   ┆ [[169.0, 546.0,   ┆ [[2636.4,        │\n",
       "│             ┆     ┆      ┆      ┆   ┆          ┆          ┆ 603.0]]           ┆ 8517.6, 9406.8]] │\n",
       "│ tomo_00e463 ┆ 500 ┆ 924  ┆ 956  ┆ … ┆ 7939.1   ┆ 2698.9   ┆ [[235.0, 403.0,   ┆ [[4629.5, 7939.0 │\n",
       "│             ┆     ┆      ┆      ┆   ┆          ┆          ┆ 137.0], [243.0…   ┆ 99999999999, 2…  │\n",
       "│ tomo_01a877 ┆ 300 ┆ 960  ┆ 928  ┆ … ┆ 8357.8   ┆ 3746.6   ┆ [[147.0, 638.0,   ┆ [[1925.7,        │\n",
       "│             ┆     ┆      ┆      ┆   ┆          ┆          ┆ 286.0]]           ┆ 8357.8, 3746.6]] │\n",
       "│ tomo_02862f ┆ 300 ┆ 959  ┆ 928  ┆ … ┆ 5475.6   ┆ 1872.0   ┆ [[101.0, 351.0,   ┆ [[1575.6, 5475.5 │\n",
       "│             ┆     ┆      ┆      ┆   ┆          ┆          ┆ 120.0]]           ┆ 99999999999, 1…  │\n",
       "│ …           ┆ …   ┆ …    ┆ …    ┆ … ┆ …        ┆ …        ┆ …                 ┆ …                │\n",
       "│ tomo_fe050c ┆ 300 ┆ 959  ┆ 928  ┆ … ┆ 2090.4   ┆ 8455.2   ┆ [[138.0, 134.0,   ┆ [[2152.799999999 │\n",
       "│             ┆     ┆      ┆      ┆   ┆          ┆          ┆ 542.0]]           ┆ 9997, 2090.4, …  │\n",
       "│ tomo_fe85f6 ┆ 800 ┆ 928  ┆ 960  ┆ … ┆ -13.1    ┆ -13.1    ┆ []                ┆ []               │\n",
       "│ tomo_fea6e8 ┆ 300 ┆ 960  ┆ 928  ┆ … ┆ -16.8    ┆ -16.8    ┆ []                ┆ []               │\n",
       "│ tomo_ff505c ┆ 300 ┆ 959  ┆ 928  ┆ … ┆ 12729.6  ┆ 10576.8  ┆ [[111.0, 816.0,   ┆ [[1731.6,        │\n",
       "│             ┆     ┆      ┆      ┆   ┆          ┆          ┆ 678.0]]           ┆ 12729.6,         │\n",
       "│             ┆     ┆      ┆      ┆   ┆          ┆          ┆                   ┆ 10576.8]]        │\n",
       "│ tomo_ff7c20 ┆ 800 ┆ 928  ┆ 960  ┆ … ┆ -13.1    ┆ -13.1    ┆ []                ┆ []               │\n",
       "└─────────────┴─────┴──────┴──────┴───┴──────────┴──────────┴───────────────────┴──────────────────┘"
      ]
     },
     "execution_count": 23,
     "metadata": {},
     "output_type": "execute_result"
    }
   ],
   "source": [
    "df2"
   ]
  },
  {
   "cell_type": "code",
   "execution_count": 24,
   "metadata": {},
   "outputs": [],
   "source": [
    "df2.write_csv('/home/dangnh36/datasets/byu/processed/gt.csv')"
   ]
  },
  {
   "cell_type": "code",
   "execution_count": 7,
   "metadata": {
    "execution": {
     "iopub.execute_input": "2025-03-10T19:16:33.724044Z",
     "iopub.status.busy": "2025-03-10T19:16:33.723530Z",
     "iopub.status.idle": "2025-03-10T19:16:33.735496Z",
     "shell.execute_reply": "2025-03-10T19:16:33.733967Z",
     "shell.execute_reply.started": "2025-03-10T19:16:33.724007Z"
    }
   },
   "outputs": [],
   "source": []
  },
  {
   "cell_type": "code",
   "execution_count": null,
   "metadata": {},
   "outputs": [],
   "source": []
  },
  {
   "cell_type": "code",
   "execution_count": null,
   "metadata": {},
   "outputs": [],
   "source": []
  },
  {
   "cell_type": "code",
   "execution_count": 65,
   "metadata": {
    "execution": {
     "iopub.execute_input": "2025-03-10T17:54:18.680274Z",
     "iopub.status.busy": "2025-03-10T17:54:18.679871Z",
     "iopub.status.idle": "2025-03-10T17:54:18.691103Z",
     "shell.execute_reply": "2025-03-10T17:54:18.689600Z",
     "shell.execute_reply.started": "2025-03-10T17:54:18.680237Z"
    }
   },
   "outputs": [
    {
     "data": {
      "text/html": [
       "<div><style>\n",
       ".dataframe > thead > tr,\n",
       ".dataframe > tbody > tr {\n",
       "  text-align: right;\n",
       "  white-space: pre-wrap;\n",
       "}\n",
       "</style>\n",
       "<small>shape: (15, 2)</small><table border=\"1\" class=\"dataframe\"><thead><tr><th>statistic</th><th>value</th></tr><tr><td>str</td><td>f64</td></tr></thead><tbody><tr><td>&quot;count&quot;</td><td>737.0</td></tr><tr><td>&quot;null_count&quot;</td><td>0.0</td></tr><tr><td>&quot;mean&quot;</td><td>15.341655</td></tr><tr><td>&quot;std&quot;</td><td>2.398197</td></tr><tr><td>&quot;min&quot;</td><td>6.5</td></tr><tr><td>&quot;1%&quot;</td><td>13.1</td></tr><tr><td>&quot;5%&quot;</td><td>13.1</td></tr><tr><td>&quot;10%&quot;</td><td>13.1</td></tr><tr><td>&quot;25%&quot;</td><td>13.1</td></tr><tr><td>&quot;50%&quot;</td><td>15.6</td></tr><tr><td>&quot;75%&quot;</td><td>16.8</td></tr><tr><td>&quot;90%&quot;</td><td>19.7</td></tr><tr><td>&quot;95%&quot;</td><td>19.7</td></tr><tr><td>&quot;99%&quot;</td><td>19.7</td></tr><tr><td>&quot;max&quot;</td><td>19.7</td></tr></tbody></table></div>"
      ],
      "text/plain": [
       "shape: (15, 2)\n",
       "┌────────────┬───────────┐\n",
       "│ statistic  ┆ value     │\n",
       "│ ---        ┆ ---       │\n",
       "│ str        ┆ f64       │\n",
       "╞════════════╪═══════════╡\n",
       "│ count      ┆ 737.0     │\n",
       "│ null_count ┆ 0.0       │\n",
       "│ mean       ┆ 15.341655 │\n",
       "│ std        ┆ 2.398197  │\n",
       "│ min        ┆ 6.5       │\n",
       "│ 1%         ┆ 13.1      │\n",
       "│ 5%         ┆ 13.1      │\n",
       "│ 10%        ┆ 13.1      │\n",
       "│ 25%        ┆ 13.1      │\n",
       "│ 50%        ┆ 15.6      │\n",
       "│ 75%        ┆ 16.8      │\n",
       "│ 90%        ┆ 19.7      │\n",
       "│ 95%        ┆ 19.7      │\n",
       "│ 99%        ┆ 19.7      │\n",
       "│ max        ┆ 19.7      │\n",
       "└────────────┴───────────┘"
      ]
     },
     "metadata": {},
     "output_type": "display_data"
    }
   ],
   "source": [
    "with pl.Config(tbl_rows = 30):\n",
    "    display(df['voxel_spacing'].describe(percentiles = PERCENTILES))"
   ]
  },
  {
   "cell_type": "code",
   "execution_count": 67,
   "metadata": {
    "execution": {
     "iopub.execute_input": "2025-03-10T17:54:57.110961Z",
     "iopub.status.busy": "2025-03-10T17:54:57.110481Z",
     "iopub.status.idle": "2025-03-10T17:54:57.121619Z",
     "shell.execute_reply": "2025-03-10T17:54:57.120225Z",
     "shell.execute_reply.started": "2025-03-10T17:54:57.110929Z"
    }
   },
   "outputs": [
    {
     "data": {
      "text/html": [
       "<div><style>\n",
       ".dataframe > thead > tr,\n",
       ".dataframe > tbody > tr {\n",
       "  text-align: right;\n",
       "  white-space: pre-wrap;\n",
       "}\n",
       "</style>\n",
       "<small>shape: (3, 20)</small><table border=\"1\" class=\"dataframe\"><thead><tr><th>row_id</th><th>tomo_id</th><th>motor_z</th><th>motor_y</th><th>motor_x</th><th>Z</th><th>Y</th><th>X</th><th>voxel_spacing</th><th>ori_num_motors</th><th>has_motor</th><th>num_motors</th><th>ZA</th><th>YA</th><th>XA</th><th>motor_zA</th><th>motor_yA</th><th>motor_xA</th><th>V</th><th>VA</th></tr><tr><td>i64</td><td>str</td><td>f64</td><td>f64</td><td>f64</td><td>i64</td><td>i64</td><td>i64</td><td>f64</td><td>i64</td><td>bool</td><td>u32</td><td>f64</td><td>f64</td><td>f64</td><td>f64</td><td>f64</td><td>f64</td><td>i64</td><td>f64</td></tr></thead><tbody><tr><td>0</td><td>&quot;tomo_003acc&quot;</td><td>-1.0</td><td>-1.0</td><td>-1.0</td><td>500</td><td>1912</td><td>1847</td><td>6.5</td><td>0</td><td>false</td><td>0</td><td>3250.0</td><td>12428.0</td><td>12005.5</td><td>-6.5</td><td>-6.5</td><td>-6.5</td><td>1765732000</td><td>4.8491e11</td></tr><tr><td>576</td><td>&quot;tomo_c77de0&quot;</td><td>-1.0</td><td>-1.0</td><td>-1.0</td><td>494</td><td>1912</td><td>1847</td><td>6.5</td><td>0</td><td>false</td><td>0</td><td>3211.0</td><td>12428.0</td><td>12005.5</td><td>-6.5</td><td>-6.5</td><td>-6.5</td><td>1744543216</td><td>4.7910e11</td></tr><tr><td>728</td><td>&quot;tomo_fc90fd&quot;</td><td>-1.0</td><td>-1.0</td><td>-1.0</td><td>500</td><td>1912</td><td>1847</td><td>6.5</td><td>0</td><td>false</td><td>0</td><td>3250.0</td><td>12428.0</td><td>12005.5</td><td>-6.5</td><td>-6.5</td><td>-6.5</td><td>1765732000</td><td>4.8491e11</td></tr></tbody></table></div>"
      ],
      "text/plain": [
       "shape: (3, 20)\n",
       "┌────────┬─────────────┬─────────┬─────────┬───┬──────────┬──────────┬────────────┬───────────┐\n",
       "│ row_id ┆ tomo_id     ┆ motor_z ┆ motor_y ┆ … ┆ motor_yA ┆ motor_xA ┆ V          ┆ VA        │\n",
       "│ ---    ┆ ---         ┆ ---     ┆ ---     ┆   ┆ ---      ┆ ---      ┆ ---        ┆ ---       │\n",
       "│ i64    ┆ str         ┆ f64     ┆ f64     ┆   ┆ f64      ┆ f64      ┆ i64        ┆ f64       │\n",
       "╞════════╪═════════════╪═════════╪═════════╪═══╪══════════╪══════════╪════════════╪═══════════╡\n",
       "│ 0      ┆ tomo_003acc ┆ -1.0    ┆ -1.0    ┆ … ┆ -6.5     ┆ -6.5     ┆ 1765732000 ┆ 4.8491e11 │\n",
       "│ 576    ┆ tomo_c77de0 ┆ -1.0    ┆ -1.0    ┆ … ┆ -6.5     ┆ -6.5     ┆ 1744543216 ┆ 4.7910e11 │\n",
       "│ 728    ┆ tomo_fc90fd ┆ -1.0    ┆ -1.0    ┆ … ┆ -6.5     ┆ -6.5     ┆ 1765732000 ┆ 4.8491e11 │\n",
       "└────────┴─────────────┴─────────┴─────────┴───┴──────────┴──────────┴────────────┴───────────┘"
      ]
     },
     "execution_count": 67,
     "metadata": {},
     "output_type": "execute_result"
    }
   ],
   "source": [
    "df.filter(pl.col('voxel_spacing') < 13.1)"
   ]
  },
  {
   "cell_type": "code",
   "execution_count": 69,
   "metadata": {
    "execution": {
     "iopub.execute_input": "2025-03-10T17:55:52.526168Z",
     "iopub.status.busy": "2025-03-10T17:55:52.525776Z",
     "iopub.status.idle": "2025-03-10T17:55:52.756123Z",
     "shell.execute_reply": "2025-03-10T17:55:52.754945Z",
     "shell.execute_reply.started": "2025-03-10T17:55:52.526135Z"
    }
   },
   "outputs": [
    {
     "data": {
      "text/html": [
       "<div><style>\n",
       ".dataframe > thead > tr,\n",
       ".dataframe > tbody > tr {\n",
       "  text-align: right;\n",
       "  white-space: pre-wrap;\n",
       "}\n",
       "</style>\n",
       "<small>shape: (9, 2)</small><table border=\"1\" class=\"dataframe\"><thead><tr><th>voxel_spacing</th><th>len</th></tr><tr><td>f64</td><td>u32</td></tr></thead><tbody><tr><td>13.1</td><td>291</td></tr><tr><td>13.2</td><td>2</td></tr><tr><td>13.3</td><td>18</td></tr><tr><td>15.6</td><td>177</td></tr><tr><td>16.1</td><td>40</td></tr><tr><td>16.8</td><td>85</td></tr><tr><td>19.2</td><td>7</td></tr><tr><td>19.3</td><td>10</td></tr><tr><td>19.7</td><td>104</td></tr></tbody></table></div>"
      ],
      "text/plain": [
       "shape: (9, 2)\n",
       "┌───────────────┬─────┐\n",
       "│ voxel_spacing ┆ len │\n",
       "│ ---           ┆ --- │\n",
       "│ f64           ┆ u32 │\n",
       "╞═══════════════╪═════╡\n",
       "│ 13.1          ┆ 291 │\n",
       "│ 13.2          ┆ 2   │\n",
       "│ 13.3          ┆ 18  │\n",
       "│ 15.6          ┆ 177 │\n",
       "│ 16.1          ┆ 40  │\n",
       "│ 16.8          ┆ 85  │\n",
       "│ 19.2          ┆ 7   │\n",
       "│ 19.3          ┆ 10  │\n",
       "│ 19.7          ┆ 104 │\n",
       "└───────────────┴─────┘"
      ]
     },
     "metadata": {},
     "output_type": "display_data"
    },
    {
     "data": {
      "text/plain": [
       "(array([311.,   0.,   0.,   0.,   0.,   0.,   0., 177.,   0.,  40.,   0.,\n",
       "         85.,   0.,   0.,   0.,   0.,   0.,   0.,  17., 104.]),\n",
       " array([13.1 , 13.43, 13.76, 14.09, 14.42, 14.75, 15.08, 15.41, 15.74,\n",
       "        16.07, 16.4 , 16.73, 17.06, 17.39, 17.72, 18.05, 18.38, 18.71,\n",
       "        19.04, 19.37, 19.7 ]),\n",
       " <BarContainer object of 20 artists>)"
      ]
     },
     "execution_count": 69,
     "metadata": {},
     "output_type": "execute_result"
    },
    {
     "data": {
      "image/png": "[encoded data removed]",
      "text/plain": [
       "<Figure size 640x480 with 1 Axes>"
      ]
     },
     "metadata": {},
     "output_type": "display_data"
    }
   ],
   "source": [
    "tmp = df.filter(pl.col('voxel_spacing') >= 13.1)\n",
    "display(tmp.group_by('voxel_spacing').len().sort('voxel_spacing'))\n",
    "plt.hist(tmp['voxel_spacing'], bins = 20)"
   ]
  },
  {
   "cell_type": "code",
   "execution_count": 9,
   "metadata": {
    "scrolled": true
   },
   "outputs": [
    {
     "data": {
      "application/vnd.jupyter.widget-view+json": {
       "model_id": "04d6b5275e85411d85b3b3ce152a28da",
       "version_major": 2,
       "version_minor": 0
      },
      "text/plain": [
       "  0%|          | 0/648 [00:00<?, ?it/s]"
      ]
     },
     "metadata": {},
     "output_type": "display_data"
    },
    {
     "data": {
      "application/vnd.jupyter.widget-view+json": {
       "model_id": "aad32971ad7145a58bbe43f55c727adb",
       "version_major": 2,
       "version_minor": 0
      },
      "text/plain": [
       "  0%|          | 0/500 [00:00<?, ?it/s]"
      ]
     },
     "metadata": {},
     "output_type": "display_data"
    },
    {
     "name": "stdout",
     "output_type": "stream",
     "text": [
      "(500, 1912, 1847) uint8\n"
     ]
    },
    {
     "data": {
      "application/vnd.jupyter.widget-view+json": {
       "model_id": "a952cb0033714602bfbf809001affccc",
       "version_major": 2,
       "version_minor": 0
      },
      "text/plain": [
       "  0%|          | 0/300 [00:00<?, ?it/s]"
      ]
     },
     "metadata": {},
     "output_type": "display_data"
    },
    {
     "name": "stdout",
     "output_type": "stream",
     "text": [
      "(300, 959, 928) uint8\n"
     ]
    },
    {
     "data": {
      "application/vnd.jupyter.widget-view+json": {
       "model_id": "77b7b577ea9041ae8103d2c314053263",
       "version_major": 2,
       "version_minor": 0
      },
      "text/plain": [
       "  0%|          | 0/500 [00:00<?, ?it/s]"
      ]
     },
     "metadata": {},
     "output_type": "display_data"
    },
    {
     "name": "stdout",
     "output_type": "stream",
     "text": [
      "(500, 924, 956) uint8\n"
     ]
    },
    {
     "data": {
      "application/vnd.jupyter.widget-view+json": {
       "model_id": "60bb5927f1ce4db49b9b27b2cdcfe04f",
       "version_major": 2,
       "version_minor": 0
      },
      "text/plain": [
       "  0%|          | 0/300 [00:00<?, ?it/s]"
      ]
     },
     "metadata": {},
     "output_type": "display_data"
    },
    {
     "name": "stdout",
     "output_type": "stream",
     "text": [
      "(300, 960, 928) uint8\n"
     ]
    },
    {
     "data": {
      "application/vnd.jupyter.widget-view+json": {
       "model_id": "009d6d43b1874d1b9b50087c97331adf",
       "version_major": 2,
       "version_minor": 0
      },
      "text/plain": [
       "  0%|          | 0/300 [00:00<?, ?it/s]"
      ]
     },
     "metadata": {},
     "output_type": "display_data"
    },
    {
     "name": "stdout",
     "output_type": "stream",
     "text": [
      "(300, 959, 928) uint8\n"
     ]
    },
    {
     "data": {
      "application/vnd.jupyter.widget-view+json": {
       "model_id": "365e546ff9ce41439fb0a1ed0b0b836a",
       "version_major": 2,
       "version_minor": 0
      },
      "text/plain": [
       "  0%|          | 0/300 [00:00<?, ?it/s]"
      ]
     },
     "metadata": {},
     "output_type": "display_data"
    },
    {
     "name": "stdout",
     "output_type": "stream",
     "text": [
      "(300, 960, 928) uint8\n"
     ]
    },
    {
     "data": {
      "application/vnd.jupyter.widget-view+json": {
       "model_id": "01bcf6e7717a4ce7b4d153e03589610b",
       "version_major": 2,
       "version_minor": 0
      },
      "text/plain": [
       "  0%|          | 0/300 [00:00<?, ?it/s]"
      ]
     },
     "metadata": {},
     "output_type": "display_data"
    },
    {
     "name": "stdout",
     "output_type": "stream",
     "text": [
      "(300, 960, 928) uint8\n"
     ]
    },
    {
     "data": {
      "application/vnd.jupyter.widget-view+json": {
       "model_id": "cad8948de6fb445dbd09a198b01b3f97",
       "version_major": 2,
       "version_minor": 0
      },
      "text/plain": [
       "  0%|          | 0/300 [00:00<?, ?it/s]"
      ]
     },
     "metadata": {},
     "output_type": "display_data"
    },
    {
     "name": "stdout",
     "output_type": "stream",
     "text": [
      "(300, 960, 928) uint8\n"
     ]
    },
    {
     "data": {
      "application/vnd.jupyter.widget-view+json": {
       "model_id": "ec85efffd2d8425e9c22b0a8ce41b778",
       "version_major": 2,
       "version_minor": 0
      },
      "text/plain": [
       "  0%|          | 0/300 [00:00<?, ?it/s]"
      ]
     },
     "metadata": {},
     "output_type": "display_data"
    },
    {
     "name": "stdout",
     "output_type": "stream",
     "text": [
      "(300, 959, 928) uint8\n"
     ]
    },
    {
     "data": {
      "application/vnd.jupyter.widget-view+json": {
       "model_id": "40d28e62a9144a22a9b7ccde5621eb3d",
       "version_major": 2,
       "version_minor": 0
      },
      "text/plain": [
       "  0%|          | 0/300 [00:00<?, ?it/s]"
      ]
     },
     "metadata": {},
     "output_type": "display_data"
    },
    {
     "name": "stdout",
     "output_type": "stream",
     "text": [
      "(300, 960, 928) uint8\n"
     ]
    },
    {
     "data": {
      "application/vnd.jupyter.widget-view+json": {
       "model_id": "77c119d8cbd54f6f9fabd33322aef236",
       "version_major": 2,
       "version_minor": 0
      },
      "text/plain": [
       "  0%|          | 0/600 [00:00<?, ?it/s]"
      ]
     },
     "metadata": {},
     "output_type": "display_data"
    },
    {
     "name": "stdout",
     "output_type": "stream",
     "text": [
      "(600, 928, 960) uint8\n"
     ]
    },
    {
     "data": {
      "application/vnd.jupyter.widget-view+json": {
       "model_id": "27a4221d48e54039bf6cf10912b557cf",
       "version_major": 2,
       "version_minor": 0
      },
      "text/plain": [
       "  0%|          | 0/500 [00:00<?, ?it/s]"
      ]
     },
     "metadata": {},
     "output_type": "display_data"
    },
    {
     "name": "stdout",
     "output_type": "stream",
     "text": [
      "(500, 924, 956) uint8\n"
     ]
    },
    {
     "data": {
      "application/vnd.jupyter.widget-view+json": {
       "model_id": "e0e9090bda6c4c7f8b9f10ed7ae8291c",
       "version_major": 2,
       "version_minor": 0
      },
      "text/plain": [
       "  0%|          | 0/500 [00:00<?, ?it/s]"
      ]
     },
     "metadata": {},
     "output_type": "display_data"
    },
    {
     "name": "stdout",
     "output_type": "stream",
     "text": [
      "(500, 1024, 1440) uint8\n"
     ]
    },
    {
     "data": {
      "application/vnd.jupyter.widget-view+json": {
       "model_id": "f197ab0c6d394f9c92ef803d103783a4",
       "version_major": 2,
       "version_minor": 0
      },
      "text/plain": [
       "  0%|          | 0/800 [00:00<?, ?it/s]"
      ]
     },
     "metadata": {},
     "output_type": "display_data"
    },
    {
     "name": "stdout",
     "output_type": "stream",
     "text": [
      "(800, 928, 960) uint8\n"
     ]
    },
    {
     "data": {
      "application/vnd.jupyter.widget-view+json": {
       "model_id": "e116eece43ea4714975829ac96354bdd",
       "version_major": 2,
       "version_minor": 0
      },
      "text/plain": [
       "  0%|          | 0/300 [00:00<?, ?it/s]"
      ]
     },
     "metadata": {},
     "output_type": "display_data"
    },
    {
     "name": "stdout",
     "output_type": "stream",
     "text": [
      "(300, 928, 928) uint8\n"
     ]
    },
    {
     "data": {
      "application/vnd.jupyter.widget-view+json": {
       "model_id": "07ea8cc1fdc54b77a21e696127f25def",
       "version_major": 2,
       "version_minor": 0
      },
      "text/plain": [
       "  0%|          | 0/300 [00:00<?, ?it/s]"
      ]
     },
     "metadata": {},
     "output_type": "display_data"
    },
    {
     "name": "stdout",
     "output_type": "stream",
     "text": [
      "(300, 959, 928) uint8\n"
     ]
    },
    {
     "data": {
      "application/vnd.jupyter.widget-view+json": {
       "model_id": "c26acba99baa457fa82f680309d6cd29",
       "version_major": 2,
       "version_minor": 0
      },
      "text/plain": [
       "  0%|          | 0/300 [00:00<?, ?it/s]"
      ]
     },
     "metadata": {},
     "output_type": "display_data"
    },
    {
     "name": "stdout",
     "output_type": "stream",
     "text": [
      "(300, 960, 928) uint8\n"
     ]
    },
    {
     "data": {
      "application/vnd.jupyter.widget-view+json": {
       "model_id": "eb9d06ca6860487882dd48889340977e",
       "version_major": 2,
       "version_minor": 0
      },
      "text/plain": [
       "  0%|          | 0/300 [00:00<?, ?it/s]"
      ]
     },
     "metadata": {},
     "output_type": "display_data"
    },
    {
     "name": "stdout",
     "output_type": "stream",
     "text": [
      "(300, 960, 928) uint8\n"
     ]
    },
    {
     "data": {
      "application/vnd.jupyter.widget-view+json": {
       "model_id": "75edce9841fc49728901abceb4c6ae12",
       "version_major": 2,
       "version_minor": 0
      },
      "text/plain": [
       "  0%|          | 0/300 [00:00<?, ?it/s]"
      ]
     },
     "metadata": {},
     "output_type": "display_data"
    },
    {
     "name": "stdout",
     "output_type": "stream",
     "text": [
      "(300, 960, 928) uint8\n"
     ]
    },
    {
     "data": {
      "application/vnd.jupyter.widget-view+json": {
       "model_id": "b6e6e128fd204572b0f8635a5a010358",
       "version_major": 2,
       "version_minor": 0
      },
      "text/plain": [
       "  0%|          | 0/300 [00:00<?, ?it/s]"
      ]
     },
     "metadata": {},
     "output_type": "display_data"
    },
    {
     "name": "stdout",
     "output_type": "stream",
     "text": [
      "(300, 959, 928) uint8\n"
     ]
    },
    {
     "data": {
      "application/vnd.jupyter.widget-view+json": {
       "model_id": "9014d3dee419413898c6ebe6bde7b822",
       "version_major": 2,
       "version_minor": 0
      },
      "text/plain": [
       "  0%|          | 0/500 [00:00<?, ?it/s]"
      ]
     },
     "metadata": {},
     "output_type": "display_data"
    },
    {
     "name": "stdout",
     "output_type": "stream",
     "text": [
      "(500, 924, 956) uint8\n"
     ]
    },
    {
     "data": {
      "application/vnd.jupyter.widget-view+json": {
       "model_id": "d9bb0de9a6184eb7bc3c89e0167a6e0c",
       "version_major": 2,
       "version_minor": 0
      },
      "text/plain": [
       "  0%|          | 0/800 [00:00<?, ?it/s]"
      ]
     },
     "metadata": {},
     "output_type": "display_data"
    },
    {
     "name": "stdout",
     "output_type": "stream",
     "text": [
      "(800, 927, 959) uint8\n"
     ]
    },
    {
     "data": {
      "application/vnd.jupyter.widget-view+json": {
       "model_id": "69b51a245f8e4cc5b9fb22da00050db9",
       "version_major": 2,
       "version_minor": 0
      },
      "text/plain": [
       "  0%|          | 0/800 [00:00<?, ?it/s]"
      ]
     },
     "metadata": {},
     "output_type": "display_data"
    },
    {
     "name": "stdout",
     "output_type": "stream",
     "text": [
      "(800, 928, 960) uint8\n"
     ]
    },
    {
     "data": {
      "application/vnd.jupyter.widget-view+json": {
       "model_id": "611b5d4dd81546ae8bb414e022b4dce0",
       "version_major": 2,
       "version_minor": 0
      },
      "text/plain": [
       "  0%|          | 0/800 [00:00<?, ?it/s]"
      ]
     },
     "metadata": {},
     "output_type": "display_data"
    },
    {
     "name": "stdout",
     "output_type": "stream",
     "text": [
      "(800, 928, 960) uint8\n"
     ]
    },
    {
     "data": {
      "application/vnd.jupyter.widget-view+json": {
       "model_id": "7eb5603a1e394684ae2127d69a6ac3b3",
       "version_major": 2,
       "version_minor": 0
      },
      "text/plain": [
       "  0%|          | 0/500 [00:00<?, ?it/s]"
      ]
     },
     "metadata": {},
     "output_type": "display_data"
    },
    {
     "name": "stdout",
     "output_type": "stream",
     "text": [
      "(500, 924, 956) uint8\n"
     ]
    },
    {
     "data": {
      "application/vnd.jupyter.widget-view+json": {
       "model_id": "c110849a5f9c444989ad7a63882bfc03",
       "version_major": 2,
       "version_minor": 0
      },
      "text/plain": [
       "  0%|          | 0/800 [00:00<?, ?it/s]"
      ]
     },
     "metadata": {},
     "output_type": "display_data"
    },
    {
     "name": "stdout",
     "output_type": "stream",
     "text": [
      "(800, 928, 960) uint8\n"
     ]
    },
    {
     "data": {
      "application/vnd.jupyter.widget-view+json": {
       "model_id": "c978f3bfc4a04487ad7c29c11a8418a2",
       "version_major": 2,
       "version_minor": 0
      },
      "text/plain": [
       "  0%|          | 0/300 [00:00<?, ?it/s]"
      ]
     },
     "metadata": {},
     "output_type": "display_data"
    },
    {
     "name": "stdout",
     "output_type": "stream",
     "text": [
      "(300, 928, 928) uint8\n"
     ]
    },
    {
     "data": {
      "application/vnd.jupyter.widget-view+json": {
       "model_id": "b8b5e03b04bc4f72ad16ab5e7fb81adb",
       "version_major": 2,
       "version_minor": 0
      },
      "text/plain": [
       "  0%|          | 0/300 [00:00<?, ?it/s]"
      ]
     },
     "metadata": {},
     "output_type": "display_data"
    },
    {
     "name": "stdout",
     "output_type": "stream",
     "text": [
      "(300, 960, 928) uint8\n"
     ]
    },
    {
     "data": {
      "application/vnd.jupyter.widget-view+json": {
       "model_id": "fc83a834abe1438f8d7fda149aef7f0a",
       "version_major": 2,
       "version_minor": 0
      },
      "text/plain": [
       "  0%|          | 0/300 [00:00<?, ?it/s]"
      ]
     },
     "metadata": {},
     "output_type": "display_data"
    },
    {
     "name": "stdout",
     "output_type": "stream",
     "text": [
      "(300, 959, 928) uint8\n"
     ]
    },
    {
     "data": {
      "application/vnd.jupyter.widget-view+json": {
       "model_id": "5e771e03f38b475c8a1aaa8ed6f0fa75",
       "version_major": 2,
       "version_minor": 0
      },
      "text/plain": [
       "  0%|          | 0/800 [00:00<?, ?it/s]"
      ]
     },
     "metadata": {},
     "output_type": "display_data"
    },
    {
     "name": "stdout",
     "output_type": "stream",
     "text": [
      "(800, 928, 960) uint8\n"
     ]
    },
    {
     "data": {
      "application/vnd.jupyter.widget-view+json": {
       "model_id": "34f3070f7af447efa1de913563797af7",
       "version_major": 2,
       "version_minor": 0
      },
      "text/plain": [
       "  0%|          | 0/300 [00:00<?, ?it/s]"
      ]
     },
     "metadata": {},
     "output_type": "display_data"
    },
    {
     "name": "stdout",
     "output_type": "stream",
     "text": [
      "(300, 960, 928) uint8\n"
     ]
    },
    {
     "data": {
      "application/vnd.jupyter.widget-view+json": {
       "model_id": "4bf0aa7d1c944cb7bfe712793a5c34ad",
       "version_major": 2,
       "version_minor": 0
      },
      "text/plain": [
       "  0%|          | 0/300 [00:00<?, ?it/s]"
      ]
     },
     "metadata": {},
     "output_type": "display_data"
    },
    {
     "name": "stdout",
     "output_type": "stream",
     "text": [
      "(300, 928, 928) uint8\n"
     ]
    },
    {
     "data": {
      "application/vnd.jupyter.widget-view+json": {
       "model_id": "6aeaa9caaf4e428abaa07bda3996d77c",
       "version_major": 2,
       "version_minor": 0
      },
      "text/plain": [
       "  0%|          | 0/500 [00:00<?, ?it/s]"
      ]
     },
     "metadata": {},
     "output_type": "display_data"
    },
    {
     "name": "stdout",
     "output_type": "stream",
     "text": [
      "(500, 928, 960) uint8\n"
     ]
    },
    {
     "data": {
      "application/vnd.jupyter.widget-view+json": {
       "model_id": "13cbc16b9d1848f6bafaec62432eb0be",
       "version_major": 2,
       "version_minor": 0
      },
      "text/plain": [
       "  0%|          | 0/300 [00:00<?, ?it/s]"
      ]
     },
     "metadata": {},
     "output_type": "display_data"
    },
    {
     "name": "stdout",
     "output_type": "stream",
     "text": [
      "(300, 960, 928) uint8\n"
     ]
    },
    {
     "data": {
      "application/vnd.jupyter.widget-view+json": {
       "model_id": "19de0252c2df41529ea6828d2f81010d",
       "version_major": 2,
       "version_minor": 0
      },
      "text/plain": [
       "  0%|          | 0/300 [00:00<?, ?it/s]"
      ]
     },
     "metadata": {},
     "output_type": "display_data"
    },
    {
     "name": "stdout",
     "output_type": "stream",
     "text": [
      "(300, 960, 928) uint8\n"
     ]
    },
    {
     "data": {
      "application/vnd.jupyter.widget-view+json": {
       "model_id": "d86bb506a8bd439b92936fdd5c879f27",
       "version_major": 2,
       "version_minor": 0
      },
      "text/plain": [
       "  0%|          | 0/300 [00:00<?, ?it/s]"
      ]
     },
     "metadata": {},
     "output_type": "display_data"
    },
    {
     "name": "stdout",
     "output_type": "stream",
     "text": [
      "(300, 959, 928) uint8\n"
     ]
    },
    {
     "data": {
      "application/vnd.jupyter.widget-view+json": {
       "model_id": "9aa6520fbe3c45009feb50e28784d382",
       "version_major": 2,
       "version_minor": 0
      },
      "text/plain": [
       "  0%|          | 0/300 [00:00<?, ?it/s]"
      ]
     },
     "metadata": {},
     "output_type": "display_data"
    },
    {
     "name": "stdout",
     "output_type": "stream",
     "text": [
      "(300, 960, 928) uint8\n"
     ]
    },
    {
     "data": {
      "application/vnd.jupyter.widget-view+json": {
       "model_id": "cbfed84f4f6447a197282a905dd5a5b7",
       "version_major": 2,
       "version_minor": 0
      },
      "text/plain": [
       "  0%|          | 0/300 [00:00<?, ?it/s]"
      ]
     },
     "metadata": {},
     "output_type": "display_data"
    },
    {
     "name": "stdout",
     "output_type": "stream",
     "text": [
      "(300, 959, 928) uint8\n"
     ]
    },
    {
     "data": {
      "application/vnd.jupyter.widget-view+json": {
       "model_id": "be3be490a6ea4e83a69dc48237210e09",
       "version_major": 2,
       "version_minor": 0
      },
      "text/plain": [
       "  0%|          | 0/300 [00:00<?, ?it/s]"
      ]
     },
     "metadata": {},
     "output_type": "display_data"
    },
    {
     "name": "stdout",
     "output_type": "stream",
     "text": [
      "(300, 960, 928) uint8\n"
     ]
    },
    {
     "data": {
      "application/vnd.jupyter.widget-view+json": {
       "model_id": "fce93d6e84184476b2fb14ecd572e2f6",
       "version_major": 2,
       "version_minor": 0
      },
      "text/plain": [
       "  0%|          | 0/300 [00:00<?, ?it/s]"
      ]
     },
     "metadata": {},
     "output_type": "display_data"
    },
    {
     "name": "stdout",
     "output_type": "stream",
     "text": [
      "(300, 928, 928) uint8\n"
     ]
    },
    {
     "data": {
      "application/vnd.jupyter.widget-view+json": {
       "model_id": "92c9497ad729420397b45f4a4fdadfd7",
       "version_major": 2,
       "version_minor": 0
      },
      "text/plain": [
       "  0%|          | 0/500 [00:00<?, ?it/s]"
      ]
     },
     "metadata": {},
     "output_type": "display_data"
    },
    {
     "name": "stdout",
     "output_type": "stream",
     "text": [
      "(500, 1024, 1440) uint8\n"
     ]
    },
    {
     "data": {
      "application/vnd.jupyter.widget-view+json": {
       "model_id": "d4f6a7c0bf5f498f84d0cf0bd75a375a",
       "version_major": 2,
       "version_minor": 0
      },
      "text/plain": [
       "  0%|          | 0/300 [00:00<?, ?it/s]"
      ]
     },
     "metadata": {},
     "output_type": "display_data"
    },
    {
     "name": "stdout",
     "output_type": "stream",
     "text": [
      "(300, 960, 928) uint8\n"
     ]
    },
    {
     "data": {
      "application/vnd.jupyter.widget-view+json": {
       "model_id": "9668b8c17cc141d294aeff2893144df1",
       "version_major": 2,
       "version_minor": 0
      },
      "text/plain": [
       "  0%|          | 0/300 [00:00<?, ?it/s]"
      ]
     },
     "metadata": {},
     "output_type": "display_data"
    },
    {
     "name": "stdout",
     "output_type": "stream",
     "text": [
      "(300, 959, 928) uint8\n"
     ]
    },
    {
     "data": {
      "application/vnd.jupyter.widget-view+json": {
       "model_id": "f8408906c0564f4ba9d3078b4486a554",
       "version_major": 2,
       "version_minor": 0
      },
      "text/plain": [
       "  0%|          | 0/300 [00:00<?, ?it/s]"
      ]
     },
     "metadata": {},
     "output_type": "display_data"
    },
    {
     "name": "stdout",
     "output_type": "stream",
     "text": [
      "(300, 960, 928) uint8\n"
     ]
    },
    {
     "data": {
      "application/vnd.jupyter.widget-view+json": {
       "model_id": "dadff9849c2e42009b09da7a9e845206",
       "version_major": 2,
       "version_minor": 0
      },
      "text/plain": [
       "  0%|          | 0/300 [00:00<?, ?it/s]"
      ]
     },
     "metadata": {},
     "output_type": "display_data"
    },
    {
     "name": "stdout",
     "output_type": "stream",
     "text": [
      "(300, 960, 928) uint8\n"
     ]
    },
    {
     "data": {
      "application/vnd.jupyter.widget-view+json": {
       "model_id": "5eb6bc7ec81f4e33bad5d11b8bfde5db",
       "version_major": 2,
       "version_minor": 0
      },
      "text/plain": [
       "  0%|          | 0/300 [00:00<?, ?it/s]"
      ]
     },
     "metadata": {},
     "output_type": "display_data"
    },
    {
     "name": "stdout",
     "output_type": "stream",
     "text": [
      "(300, 928, 928) uint8\n"
     ]
    },
    {
     "data": {
      "application/vnd.jupyter.widget-view+json": {
       "model_id": "17254c206c534ab2ab66a8596fa76b6c",
       "version_major": 2,
       "version_minor": 0
      },
      "text/plain": [
       "  0%|          | 0/300 [00:00<?, ?it/s]"
      ]
     },
     "metadata": {},
     "output_type": "display_data"
    },
    {
     "name": "stdout",
     "output_type": "stream",
     "text": [
      "(300, 959, 928) uint8\n"
     ]
    },
    {
     "data": {
      "application/vnd.jupyter.widget-view+json": {
       "model_id": "1db4c2a57f164ee8ac8ae390ad30af71",
       "version_major": 2,
       "version_minor": 0
      },
      "text/plain": [
       "  0%|          | 0/500 [00:00<?, ?it/s]"
      ]
     },
     "metadata": {},
     "output_type": "display_data"
    },
    {
     "name": "stdout",
     "output_type": "stream",
     "text": [
      "(500, 924, 956) uint8\n"
     ]
    },
    {
     "data": {
      "application/vnd.jupyter.widget-view+json": {
       "model_id": "e67124d931b34818a36c67eac82addc4",
       "version_major": 2,
       "version_minor": 0
      },
      "text/plain": [
       "  0%|          | 0/300 [00:00<?, ?it/s]"
      ]
     },
     "metadata": {},
     "output_type": "display_data"
    },
    {
     "name": "stdout",
     "output_type": "stream",
     "text": [
      "(300, 959, 928) uint8\n"
     ]
    },
    {
     "data": {
      "application/vnd.jupyter.widget-view+json": {
       "model_id": "8be70db473d54525b2bb4464108db7be",
       "version_major": 2,
       "version_minor": 0
      },
      "text/plain": [
       "  0%|          | 0/500 [00:00<?, ?it/s]"
      ]
     },
     "metadata": {},
     "output_type": "display_data"
    },
    {
     "name": "stdout",
     "output_type": "stream",
     "text": [
      "(500, 924, 956) uint8\n"
     ]
    },
    {
     "data": {
      "application/vnd.jupyter.widget-view+json": {
       "model_id": "8d01198c71be4ef1950a85f8ce6aa442",
       "version_major": 2,
       "version_minor": 0
      },
      "text/plain": [
       "  0%|          | 0/300 [00:00<?, ?it/s]"
      ]
     },
     "metadata": {},
     "output_type": "display_data"
    },
    {
     "name": "stdout",
     "output_type": "stream",
     "text": [
      "(300, 959, 928) uint8\n"
     ]
    },
    {
     "data": {
      "application/vnd.jupyter.widget-view+json": {
       "model_id": "ee736dd4435a4dad89976a8f5d87ef96",
       "version_major": 2,
       "version_minor": 0
      },
      "text/plain": [
       "  0%|          | 0/300 [00:00<?, ?it/s]"
      ]
     },
     "metadata": {},
     "output_type": "display_data"
    },
    {
     "name": "stdout",
     "output_type": "stream",
     "text": [
      "(300, 960, 928) uint8\n"
     ]
    },
    {
     "data": {
      "application/vnd.jupyter.widget-view+json": {
       "model_id": "99ac714294aa43c4a3ff767eb1433fad",
       "version_major": 2,
       "version_minor": 0
      },
      "text/plain": [
       "  0%|          | 0/500 [00:00<?, ?it/s]"
      ]
     },
     "metadata": {},
     "output_type": "display_data"
    },
    {
     "name": "stdout",
     "output_type": "stream",
     "text": [
      "(500, 924, 956) uint8\n"
     ]
    },
    {
     "data": {
      "application/vnd.jupyter.widget-view+json": {
       "model_id": "7c4be23c0a0a40659bebec0411836e16",
       "version_major": 2,
       "version_minor": 0
      },
      "text/plain": [
       "  0%|          | 0/300 [00:00<?, ?it/s]"
      ]
     },
     "metadata": {},
     "output_type": "display_data"
    },
    {
     "name": "stdout",
     "output_type": "stream",
     "text": [
      "(300, 960, 928) uint8\n"
     ]
    },
    {
     "data": {
      "application/vnd.jupyter.widget-view+json": {
       "model_id": "327ad803836c4e4d8061e0762bb1cf8b",
       "version_major": 2,
       "version_minor": 0
      },
      "text/plain": [
       "  0%|          | 0/300 [00:00<?, ?it/s]"
      ]
     },
     "metadata": {},
     "output_type": "display_data"
    },
    {
     "name": "stdout",
     "output_type": "stream",
     "text": [
      "(300, 928, 928) uint8\n"
     ]
    },
    {
     "data": {
      "application/vnd.jupyter.widget-view+json": {
       "model_id": "56c949efcedd40ae92d3137a1e436653",
       "version_major": 2,
       "version_minor": 0
      },
      "text/plain": [
       "  0%|          | 0/300 [00:00<?, ?it/s]"
      ]
     },
     "metadata": {},
     "output_type": "display_data"
    },
    {
     "name": "stdout",
     "output_type": "stream",
     "text": [
      "(300, 960, 928) uint8\n"
     ]
    },
    {
     "data": {
      "application/vnd.jupyter.widget-view+json": {
       "model_id": "b8dbab92fc814054845042134cf6b6af",
       "version_major": 2,
       "version_minor": 0
      },
      "text/plain": [
       "  0%|          | 0/300 [00:00<?, ?it/s]"
      ]
     },
     "metadata": {},
     "output_type": "display_data"
    },
    {
     "name": "stdout",
     "output_type": "stream",
     "text": [
      "(300, 960, 928) uint8\n"
     ]
    },
    {
     "data": {
      "application/vnd.jupyter.widget-view+json": {
       "model_id": "66df08595c194dc39bedc3f509879939",
       "version_major": 2,
       "version_minor": 0
      },
      "text/plain": [
       "  0%|          | 0/300 [00:00<?, ?it/s]"
      ]
     },
     "metadata": {},
     "output_type": "display_data"
    },
    {
     "name": "stdout",
     "output_type": "stream",
     "text": [
      "(300, 960, 928) uint8\n"
     ]
    },
    {
     "data": {
      "application/vnd.jupyter.widget-view+json": {
       "model_id": "71765a5b607343a2bb7d9e482ea76228",
       "version_major": 2,
       "version_minor": 0
      },
      "text/plain": [
       "  0%|          | 0/800 [00:00<?, ?it/s]"
      ]
     },
     "metadata": {},
     "output_type": "display_data"
    },
    {
     "name": "stdout",
     "output_type": "stream",
     "text": [
      "(800, 928, 960) uint8\n"
     ]
    },
    {
     "data": {
      "application/vnd.jupyter.widget-view+json": {
       "model_id": "532b77e8a4394806947c2c7abc7def72",
       "version_major": 2,
       "version_minor": 0
      },
      "text/plain": [
       "  0%|          | 0/300 [00:00<?, ?it/s]"
      ]
     },
     "metadata": {},
     "output_type": "display_data"
    },
    {
     "name": "stdout",
     "output_type": "stream",
     "text": [
      "(300, 960, 928) uint8\n"
     ]
    },
    {
     "data": {
      "application/vnd.jupyter.widget-view+json": {
       "model_id": "169a414e85414bb4b54fdcbc83cb8de4",
       "version_major": 2,
       "version_minor": 0
      },
      "text/plain": [
       "  0%|          | 0/800 [00:00<?, ?it/s]"
      ]
     },
     "metadata": {},
     "output_type": "display_data"
    },
    {
     "name": "stdout",
     "output_type": "stream",
     "text": [
      "(800, 928, 960) uint8\n"
     ]
    },
    {
     "data": {
      "application/vnd.jupyter.widget-view+json": {
       "model_id": "80198815dc664509982eeb626bb82c1c",
       "version_major": 2,
       "version_minor": 0
      },
      "text/plain": [
       "  0%|          | 0/300 [00:00<?, ?it/s]"
      ]
     },
     "metadata": {},
     "output_type": "display_data"
    },
    {
     "name": "stdout",
     "output_type": "stream",
     "text": [
      "(300, 960, 928) uint8\n"
     ]
    },
    {
     "data": {
      "application/vnd.jupyter.widget-view+json": {
       "model_id": "a26b7575e32d413fbfebccf418c29557",
       "version_major": 2,
       "version_minor": 0
      },
      "text/plain": [
       "  0%|          | 0/300 [00:00<?, ?it/s]"
      ]
     },
     "metadata": {},
     "output_type": "display_data"
    },
    {
     "name": "stdout",
     "output_type": "stream",
     "text": [
      "(300, 960, 928) uint8\n"
     ]
    },
    {
     "data": {
      "application/vnd.jupyter.widget-view+json": {
       "model_id": "0636de141d5b4df3a7507e71cdbb46e8",
       "version_major": 2,
       "version_minor": 0
      },
      "text/plain": [
       "  0%|          | 0/300 [00:00<?, ?it/s]"
      ]
     },
     "metadata": {},
     "output_type": "display_data"
    },
    {
     "name": "stdout",
     "output_type": "stream",
     "text": [
      "(300, 960, 928) uint8\n"
     ]
    },
    {
     "data": {
      "application/vnd.jupyter.widget-view+json": {
       "model_id": "f1f9cfb5c03147f6bd5b24c592758015",
       "version_major": 2,
       "version_minor": 0
      },
      "text/plain": [
       "  0%|          | 0/300 [00:00<?, ?it/s]"
      ]
     },
     "metadata": {},
     "output_type": "display_data"
    },
    {
     "name": "stdout",
     "output_type": "stream",
     "text": [
      "(300, 960, 928) uint8\n"
     ]
    },
    {
     "data": {
      "application/vnd.jupyter.widget-view+json": {
       "model_id": "259b8d78aa9649ffa1535eab9ed49006",
       "version_major": 2,
       "version_minor": 0
      },
      "text/plain": [
       "  0%|          | 0/300 [00:00<?, ?it/s]"
      ]
     },
     "metadata": {},
     "output_type": "display_data"
    },
    {
     "name": "stdout",
     "output_type": "stream",
     "text": [
      "(300, 960, 928) uint8\n"
     ]
    },
    {
     "data": {
      "application/vnd.jupyter.widget-view+json": {
       "model_id": "3a8af79e399a419faef5214300e85489",
       "version_major": 2,
       "version_minor": 0
      },
      "text/plain": [
       "  0%|          | 0/500 [00:00<?, ?it/s]"
      ]
     },
     "metadata": {},
     "output_type": "display_data"
    },
    {
     "name": "stdout",
     "output_type": "stream",
     "text": [
      "(500, 924, 956) uint8\n"
     ]
    },
    {
     "data": {
      "application/vnd.jupyter.widget-view+json": {
       "model_id": "afc79b42945c42898b41d53afdf0131d",
       "version_major": 2,
       "version_minor": 0
      },
      "text/plain": [
       "  0%|          | 0/800 [00:00<?, ?it/s]"
      ]
     },
     "metadata": {},
     "output_type": "display_data"
    },
    {
     "name": "stdout",
     "output_type": "stream",
     "text": [
      "(800, 927, 959) uint8\n"
     ]
    },
    {
     "data": {
      "application/vnd.jupyter.widget-view+json": {
       "model_id": "51829ad476964933b77624a30000ceec",
       "version_major": 2,
       "version_minor": 0
      },
      "text/plain": [
       "  0%|          | 0/300 [00:00<?, ?it/s]"
      ]
     },
     "metadata": {},
     "output_type": "display_data"
    },
    {
     "name": "stdout",
     "output_type": "stream",
     "text": [
      "(300, 960, 928) uint8\n"
     ]
    },
    {
     "data": {
      "application/vnd.jupyter.widget-view+json": {
       "model_id": "6a5ef599d80e4f6a8569d7685950ef66",
       "version_major": 2,
       "version_minor": 0
      },
      "text/plain": [
       "  0%|          | 0/300 [00:00<?, ?it/s]"
      ]
     },
     "metadata": {},
     "output_type": "display_data"
    },
    {
     "name": "stdout",
     "output_type": "stream",
     "text": [
      "(300, 960, 928) uint8\n"
     ]
    },
    {
     "data": {
      "application/vnd.jupyter.widget-view+json": {
       "model_id": "1c06e470643340d59d9943708f3c942c",
       "version_major": 2,
       "version_minor": 0
      },
      "text/plain": [
       "  0%|          | 0/300 [00:00<?, ?it/s]"
      ]
     },
     "metadata": {},
     "output_type": "display_data"
    },
    {
     "name": "stdout",
     "output_type": "stream",
     "text": [
      "(300, 928, 928) uint8\n"
     ]
    },
    {
     "data": {
      "application/vnd.jupyter.widget-view+json": {
       "model_id": "1f643a3ae68b43c08d145f9123967503",
       "version_major": 2,
       "version_minor": 0
      },
      "text/plain": [
       "  0%|          | 0/500 [00:00<?, ?it/s]"
      ]
     },
     "metadata": {},
     "output_type": "display_data"
    },
    {
     "name": "stdout",
     "output_type": "stream",
     "text": [
      "(500, 928, 960) uint8\n"
     ]
    },
    {
     "data": {
      "application/vnd.jupyter.widget-view+json": {
       "model_id": "961e228daee9486697146fe604ced329",
       "version_major": 2,
       "version_minor": 0
      },
      "text/plain": [
       "  0%|          | 0/800 [00:00<?, ?it/s]"
      ]
     },
     "metadata": {},
     "output_type": "display_data"
    },
    {
     "name": "stdout",
     "output_type": "stream",
     "text": [
      "(800, 928, 960) uint8\n"
     ]
    },
    {
     "data": {
      "application/vnd.jupyter.widget-view+json": {
       "model_id": "d6f7b1168d7a4a9bbd420bbab1ef2364",
       "version_major": 2,
       "version_minor": 0
      },
      "text/plain": [
       "  0%|          | 0/500 [00:00<?, ?it/s]"
      ]
     },
     "metadata": {},
     "output_type": "display_data"
    },
    {
     "name": "stdout",
     "output_type": "stream",
     "text": [
      "(500, 924, 956) uint8\n"
     ]
    },
    {
     "data": {
      "application/vnd.jupyter.widget-view+json": {
       "model_id": "2f82116acb6b45d088ed56f5fa5753c7",
       "version_major": 2,
       "version_minor": 0
      },
      "text/plain": [
       "  0%|          | 0/300 [00:00<?, ?it/s]"
      ]
     },
     "metadata": {},
     "output_type": "display_data"
    },
    {
     "name": "stdout",
     "output_type": "stream",
     "text": [
      "(300, 960, 928) uint8\n"
     ]
    },
    {
     "data": {
      "application/vnd.jupyter.widget-view+json": {
       "model_id": "86d60daddcf84dc6a591d5117d0a62a7",
       "version_major": 2,
       "version_minor": 0
      },
      "text/plain": [
       "  0%|          | 0/300 [00:00<?, ?it/s]"
      ]
     },
     "metadata": {},
     "output_type": "display_data"
    },
    {
     "name": "stdout",
     "output_type": "stream",
     "text": [
      "(300, 959, 928) uint8\n"
     ]
    },
    {
     "data": {
      "application/vnd.jupyter.widget-view+json": {
       "model_id": "d65d6e026a0b481c959e9baaa1fabc46",
       "version_major": 2,
       "version_minor": 0
      },
      "text/plain": [
       "  0%|          | 0/300 [00:00<?, ?it/s]"
      ]
     },
     "metadata": {},
     "output_type": "display_data"
    },
    {
     "name": "stdout",
     "output_type": "stream",
     "text": [
      "(300, 959, 928) uint8\n"
     ]
    },
    {
     "data": {
      "application/vnd.jupyter.widget-view+json": {
       "model_id": "e9714c65872d4c5cbbb89d970bf44ffc",
       "version_major": 2,
       "version_minor": 0
      },
      "text/plain": [
       "  0%|          | 0/300 [00:00<?, ?it/s]"
      ]
     },
     "metadata": {},
     "output_type": "display_data"
    },
    {
     "name": "stdout",
     "output_type": "stream",
     "text": [
      "(300, 960, 928) uint8\n"
     ]
    },
    {
     "data": {
      "application/vnd.jupyter.widget-view+json": {
       "model_id": "78a512804dfb45e98c7915ab7bb07895",
       "version_major": 2,
       "version_minor": 0
      },
      "text/plain": [
       "  0%|          | 0/300 [00:00<?, ?it/s]"
      ]
     },
     "metadata": {},
     "output_type": "display_data"
    },
    {
     "name": "stdout",
     "output_type": "stream",
     "text": [
      "(300, 960, 928) uint8\n"
     ]
    },
    {
     "data": {
      "application/vnd.jupyter.widget-view+json": {
       "model_id": "04dd165966284311a399f768884e69dc",
       "version_major": 2,
       "version_minor": 0
      },
      "text/plain": [
       "  0%|          | 0/300 [00:00<?, ?it/s]"
      ]
     },
     "metadata": {},
     "output_type": "display_data"
    },
    {
     "name": "stdout",
     "output_type": "stream",
     "text": [
      "(300, 960, 928) uint8\n"
     ]
    },
    {
     "data": {
      "application/vnd.jupyter.widget-view+json": {
       "model_id": "f5387955d3584e30b4b47fca43383fde",
       "version_major": 2,
       "version_minor": 0
      },
      "text/plain": [
       "  0%|          | 0/300 [00:00<?, ?it/s]"
      ]
     },
     "metadata": {},
     "output_type": "display_data"
    },
    {
     "name": "stdout",
     "output_type": "stream",
     "text": [
      "(300, 960, 928) uint8\n"
     ]
    },
    {
     "data": {
      "application/vnd.jupyter.widget-view+json": {
       "model_id": "298f9d09d12640b088baf81363073060",
       "version_major": 2,
       "version_minor": 0
      },
      "text/plain": [
       "  0%|          | 0/500 [00:00<?, ?it/s]"
      ]
     },
     "metadata": {},
     "output_type": "display_data"
    },
    {
     "name": "stdout",
     "output_type": "stream",
     "text": [
      "(500, 928, 928) uint8\n"
     ]
    },
    {
     "data": {
      "application/vnd.jupyter.widget-view+json": {
       "model_id": "584ba3fd46954f9b9060efd4e9e1e783",
       "version_major": 2,
       "version_minor": 0
      },
      "text/plain": [
       "  0%|          | 0/300 [00:00<?, ?it/s]"
      ]
     },
     "metadata": {},
     "output_type": "display_data"
    },
    {
     "name": "stdout",
     "output_type": "stream",
     "text": [
      "(300, 960, 928) uint8\n"
     ]
    },
    {
     "data": {
      "application/vnd.jupyter.widget-view+json": {
       "model_id": "b86ed4e67a2846ab8c2b7e30343bca29",
       "version_major": 2,
       "version_minor": 0
      },
      "text/plain": [
       "  0%|          | 0/500 [00:00<?, ?it/s]"
      ]
     },
     "metadata": {},
     "output_type": "display_data"
    },
    {
     "name": "stdout",
     "output_type": "stream",
     "text": [
      "(500, 928, 960) uint8\n"
     ]
    },
    {
     "data": {
      "application/vnd.jupyter.widget-view+json": {
       "model_id": "df751016fe3048da919b86e85738a387",
       "version_major": 2,
       "version_minor": 0
      },
      "text/plain": [
       "  0%|          | 0/500 [00:00<?, ?it/s]"
      ]
     },
     "metadata": {},
     "output_type": "display_data"
    },
    {
     "name": "stdout",
     "output_type": "stream",
     "text": [
      "(500, 928, 960) uint8\n"
     ]
    },
    {
     "data": {
      "application/vnd.jupyter.widget-view+json": {
       "model_id": "b155d2aa49734e3b93f143ece74320b1",
       "version_major": 2,
       "version_minor": 0
      },
      "text/plain": [
       "  0%|          | 0/500 [00:00<?, ?it/s]"
      ]
     },
     "metadata": {},
     "output_type": "display_data"
    },
    {
     "name": "stdout",
     "output_type": "stream",
     "text": [
      "(500, 960, 928) uint8\n"
     ]
    },
    {
     "data": {
      "application/vnd.jupyter.widget-view+json": {
       "model_id": "dc5158c4a6fb4b359f863d8213e5ca7a",
       "version_major": 2,
       "version_minor": 0
      },
      "text/plain": [
       "  0%|          | 0/300 [00:00<?, ?it/s]"
      ]
     },
     "metadata": {},
     "output_type": "display_data"
    },
    {
     "name": "stdout",
     "output_type": "stream",
     "text": [
      "(300, 960, 928) uint8\n"
     ]
    },
    {
     "data": {
      "application/vnd.jupyter.widget-view+json": {
       "model_id": "81de41beb66b4c0fa1c63cf989a354e7",
       "version_major": 2,
       "version_minor": 0
      },
      "text/plain": [
       "  0%|          | 0/300 [00:00<?, ?it/s]"
      ]
     },
     "metadata": {},
     "output_type": "display_data"
    },
    {
     "name": "stdout",
     "output_type": "stream",
     "text": [
      "(300, 960, 928) uint8\n"
     ]
    },
    {
     "data": {
      "application/vnd.jupyter.widget-view+json": {
       "model_id": "664b2522385c42cca96beaaf0139a89c",
       "version_major": 2,
       "version_minor": 0
      },
      "text/plain": [
       "  0%|          | 0/300 [00:00<?, ?it/s]"
      ]
     },
     "metadata": {},
     "output_type": "display_data"
    },
    {
     "name": "stdout",
     "output_type": "stream",
     "text": [
      "(300, 959, 928) uint8\n"
     ]
    },
    {
     "data": {
      "application/vnd.jupyter.widget-view+json": {
       "model_id": "fbef2bbbc5b74ac58333557a446b10c5",
       "version_major": 2,
       "version_minor": 0
      },
      "text/plain": [
       "  0%|          | 0/500 [00:00<?, ?it/s]"
      ]
     },
     "metadata": {},
     "output_type": "display_data"
    },
    {
     "name": "stdout",
     "output_type": "stream",
     "text": [
      "(500, 960, 928) uint8\n"
     ]
    },
    {
     "data": {
      "application/vnd.jupyter.widget-view+json": {
       "model_id": "f1f6a866a0b14bcdb22d13edc0df7704",
       "version_major": 2,
       "version_minor": 0
      },
      "text/plain": [
       "  0%|          | 0/300 [00:00<?, ?it/s]"
      ]
     },
     "metadata": {},
     "output_type": "display_data"
    },
    {
     "name": "stdout",
     "output_type": "stream",
     "text": [
      "(300, 960, 928) uint8\n"
     ]
    },
    {
     "data": {
      "application/vnd.jupyter.widget-view+json": {
       "model_id": "156b2637bf0f4aa6a2571e703da16a13",
       "version_major": 2,
       "version_minor": 0
      },
      "text/plain": [
       "  0%|          | 0/300 [00:00<?, ?it/s]"
      ]
     },
     "metadata": {},
     "output_type": "display_data"
    },
    {
     "name": "stdout",
     "output_type": "stream",
     "text": [
      "(300, 960, 928) uint8\n"
     ]
    },
    {
     "data": {
      "application/vnd.jupyter.widget-view+json": {
       "model_id": "8e2050ee3d8848d4ab579d88d94e642e",
       "version_major": 2,
       "version_minor": 0
      },
      "text/plain": [
       "  0%|          | 0/800 [00:00<?, ?it/s]"
      ]
     },
     "metadata": {},
     "output_type": "display_data"
    },
    {
     "name": "stdout",
     "output_type": "stream",
     "text": [
      "(800, 928, 960) uint8\n"
     ]
    },
    {
     "data": {
      "application/vnd.jupyter.widget-view+json": {
       "model_id": "9d4bbe8180bf4a3092bd989975c79958",
       "version_major": 2,
       "version_minor": 0
      },
      "text/plain": [
       "  0%|          | 0/300 [00:00<?, ?it/s]"
      ]
     },
     "metadata": {},
     "output_type": "display_data"
    },
    {
     "name": "stdout",
     "output_type": "stream",
     "text": [
      "(300, 960, 928) uint8\n"
     ]
    },
    {
     "data": {
      "application/vnd.jupyter.widget-view+json": {
       "model_id": "80bb6ad6863c4aa285fd0a6910a84e10",
       "version_major": 2,
       "version_minor": 0
      },
      "text/plain": [
       "  0%|          | 0/300 [00:00<?, ?it/s]"
      ]
     },
     "metadata": {},
     "output_type": "display_data"
    },
    {
     "name": "stdout",
     "output_type": "stream",
     "text": [
      "(300, 928, 928) uint8\n"
     ]
    },
    {
     "data": {
      "application/vnd.jupyter.widget-view+json": {
       "model_id": "7bc1f56801eb4b4f86feb9893edff67f",
       "version_major": 2,
       "version_minor": 0
      },
      "text/plain": [
       "  0%|          | 0/300 [00:00<?, ?it/s]"
      ]
     },
     "metadata": {},
     "output_type": "display_data"
    },
    {
     "name": "stdout",
     "output_type": "stream",
     "text": [
      "(300, 960, 928) uint8\n"
     ]
    },
    {
     "data": {
      "application/vnd.jupyter.widget-view+json": {
       "model_id": "e37868db43f94d5ca07fd73ab7445ac9",
       "version_major": 2,
       "version_minor": 0
      },
      "text/plain": [
       "  0%|          | 0/300 [00:00<?, ?it/s]"
      ]
     },
     "metadata": {},
     "output_type": "display_data"
    },
    {
     "name": "stdout",
     "output_type": "stream",
     "text": [
      "(300, 960, 928) uint8\n"
     ]
    },
    {
     "data": {
      "application/vnd.jupyter.widget-view+json": {
       "model_id": "b93dbc9922c54dbe8be351d8a5c27fed",
       "version_major": 2,
       "version_minor": 0
      },
      "text/plain": [
       "  0%|          | 0/300 [00:00<?, ?it/s]"
      ]
     },
     "metadata": {},
     "output_type": "display_data"
    },
    {
     "name": "stdout",
     "output_type": "stream",
     "text": [
      "(300, 960, 928) uint8\n"
     ]
    },
    {
     "data": {
      "application/vnd.jupyter.widget-view+json": {
       "model_id": "451d549e9f804b129f5d12f7695bf460",
       "version_major": 2,
       "version_minor": 0
      },
      "text/plain": [
       "  0%|          | 0/300 [00:00<?, ?it/s]"
      ]
     },
     "metadata": {},
     "output_type": "display_data"
    },
    {
     "name": "stdout",
     "output_type": "stream",
     "text": [
      "(300, 956, 924) uint8\n"
     ]
    },
    {
     "data": {
      "application/vnd.jupyter.widget-view+json": {
       "model_id": "d5b55ba369a444f493d2345bbd547cc1",
       "version_major": 2,
       "version_minor": 0
      },
      "text/plain": [
       "  0%|          | 0/300 [00:00<?, ?it/s]"
      ]
     },
     "metadata": {},
     "output_type": "display_data"
    },
    {
     "name": "stdout",
     "output_type": "stream",
     "text": [
      "(300, 960, 928) uint8\n"
     ]
    }
   ],
   "source": [
    "def load_tomo(tomo_dir, start = None, end = None, step = None):\n",
    "    s = slice(start, end, step)\n",
    "    fnames = sorted(os.listdir(tomo_dir))\n",
    "    assert fnames == [f'slice_{j:04d}.jpg' for j in range(len(fnames))]\n",
    "    fnames = fnames[s]\n",
    "    fpaths = [os.path.join(tomo_dir, fname) for fname in fnames]\n",
    "    tomo = None\n",
    "    for i, fpath in tqdm(enumerate(fpaths), total = len(fpaths)):\n",
    "        if i == 0:\n",
    "            img = cv2.imread(fpath, cv2.IMREAD_UNCHANGED)\n",
    "            assert len(img.shape) == 2 # grayscale\n",
    "            tomo = np.empty((len(fpaths), *img.shape), dtype = img.dtype) # ZYX or DHW\n",
    "            tomo[0] = img\n",
    "        cv2.imread(fpath, tomo[i], cv2.IMREAD_UNCHANGED)\n",
    "    assert (tomo.sum(axis = (1,2)) > 0).all()\n",
    "    return tomo\n",
    "    \n",
    "    \n",
    "TRAIN_TOMO_DIR = '/home/dangnh36/datasets/byu/raw/train'\n",
    "all_tomo_ids = sorted(os.listdir(TRAIN_TOMO_DIR))\n",
    "\n",
    "i = 0\n",
    "for tomo_id in tqdm(all_tomo_ids):\n",
    "    tomo = load_tomo(os.path.join(TRAIN_TOMO_DIR, tomo_id))\n",
    "    print(tomo.shape, tomo.dtype)\n",
    "    i+=1\n",
    "    if i >= 100:\n",
    "        break"
   ]
  },
  {
   "cell_type": "code",
   "execution_count": null,
   "metadata": {},
   "outputs": [],
   "source": []
  },
  {
   "cell_type": "code",
   "execution_count": 24,
   "metadata": {},
   "outputs": [
    {
     "name": "stdout",
     "output_type": "stream",
     "text": [
      "CPU COUNT: 64\n"
     ]
    },
    {
     "data": {
      "application/vnd.jupyter.widget-view+json": {
       "model_id": "225498399a274f61a657ae8048ab9d12",
       "version_major": 2,
       "version_minor": 0
      },
      "text/plain": [
       "  0%|          | 0/648 [00:00<?, ?it/s]"
      ]
     },
     "metadata": {},
     "output_type": "display_data"
    }
   ],
   "source": [
    "import threading\n",
    "import multiprocessing as mp\n",
    "from multiprocessing import shared_memory\n",
    "import math\n",
    "\n",
    "print('CPU COUNT:', mp.cpu_count())\n",
    "\n",
    "\n",
    "class ShmNdarray:\n",
    "    def __init__(self, shm_name, shape, dtype, create = True):\n",
    "        # should store primitive/lightweight attributes\n",
    "        # so that it's easy/fast to be pickle/unpickle\n",
    "        self.shm_name = shm_name\n",
    "        self.shape = shape\n",
    "        self.dtype = np.dtype(dtype)\n",
    "        self.nbytes = math.prod(self.shape) * self.dtype.itemsize\n",
    "        if create:\n",
    "            shm = shared_memory.SharedMemory(name = shm_name, create=True, size=self.nbytes)\n",
    "            self.shm_name = shm.name\n",
    "            \n",
    "    @classmethod\n",
    "    def from_numpy(cls, arr, shm_name = None):\n",
    "        shm = shared_memory.SharedMemory(name = shm_name, create=True, size=arr.nbytes)\n",
    "        shm_name, shape, dtype = shm.name, arr.shape, arr.dtype\n",
    "        # create a NumPy array backed by shared memory\n",
    "        shm_arr = np.ndarray(arr.shape, dtype=arr.dtype, buffer=shm.buf)\n",
    "        # Copy the original data into shared memory\n",
    "        # shm_arr[:] = arr[:]\n",
    "        np.copyto(shm_arr, arr)\n",
    "        # shm.close()\n",
    "        return cls(shm_name, shape, dtype, create = False)\n",
    "\n",
    "    def to_numpy(self):\n",
    "        shm = shared_memory.SharedMemory(self.shm_name)\n",
    "        arr = np.ndarray(self.shape, dtype=self.dtype, buffer=shm.buf)\n",
    "        # we need to keep at least 1 reference to this shared memory\n",
    "        # as long as we access to returned numpy array\n",
    "        # unless, SegmentationFault :)\n",
    "        # @TODO (dangnh36): more convenient method to implement this feature\n",
    "        #   - Add shm as attribute to numpy array in runtime: not easy as normal Python class since numpy implementation in C\n",
    "        #   but it may be more complicated as i think with many side effects\n",
    "        #   https://numpy.org/doc/stable/user/basics.subclassing.html#simple-example-adding-an-extra-attribute-to-ndarray\n",
    "        #   https://stackoverflow.com/questions/67509913/add-an-attribute-to-a-numpy-array-in-runtime\n",
    "        return shm, arr\n",
    "\n",
    "    def unlink(self):\n",
    "        shm = shared_memory.SharedMemory(self.shm_name)\n",
    "        shm.unlink()\n",
    "\n",
    "\n",
    "def _load_img_func(args):\n",
    "    tomo_shm, index, fpath = args\n",
    "    _shm, tomo = tomo_shm.to_numpy()\n",
    "    # print(index, fpath, tomo.shape)\n",
    "    cv2.imread(fpath, tomo[index], cv2.IMREAD_UNCHANGED)\n",
    "    _shm.close()\n",
    "    \n",
    "\n",
    "def load_tomo_parallel(tomo_dir, start = None, end = None, step = None, pool = None):\n",
    "    s = slice(start, end, step)\n",
    "    fnames = sorted(os.listdir(tomo_dir))\n",
    "    assert fnames == [f'slice_{j:04d}.jpg' for j in range(len(fnames))]\n",
    "    fnames = fnames[s]\n",
    "    fpaths = [os.path.join(tomo_dir, fname) for fname in fnames]\n",
    "    img = cv2.imread(fpaths[0], cv2.IMREAD_UNCHANGED)\n",
    "    assert len(img.shape) == 2 # grayscale\n",
    "    tomo_shm = ShmNdarray(shm_name = None, shape = (len(fpaths), *img.shape), dtype = np.uint8, create = True)\n",
    "    shm, tomo = tomo_shm.to_numpy()\n",
    "    tomo[0] = img\n",
    "    if pool is None:\n",
    "        pool = mp.Pool(16)\n",
    "    pool.map(_load_img_func, [(tomo_shm, i, fpaths[i]) for i in range(1, len(fpaths))])\n",
    "    assert (tomo.sum(axis = (1,2)) > 0).all()\n",
    "    tomo_shm.unlink()\n",
    "    return tomo\n",
    "    \n",
    "    \n",
    "TRAIN_TOMO_DIR = '/home/dangnh36/datasets/byu/raw/train'\n",
    "all_tomo_ids = sorted(os.listdir(TRAIN_TOMO_DIR))\n",
    "\n",
    "pool = mp.Pool(16)\n",
    "# pool = None\n",
    "i = 0\n",
    "for tomo_id in tqdm(all_tomo_ids):\n",
    "    tomo = load_tomo_parallel(os.path.join(TRAIN_TOMO_DIR, tomo_id), pool = pool)\n",
    "    # print(tomo.shape, tomo.dtype)\n",
    "    i+=1\n",
    "    if i > 100:\n",
    "        break\n",
    "pool.close()"
   ]
  },
  {
   "cell_type": "code",
   "execution_count": null,
   "metadata": {},
   "outputs": [],
   "source": []
  },
  {
   "cell_type": "code",
   "execution_count": 13,
   "metadata": {},
   "outputs": [
    {
     "name": "stdout",
     "output_type": "stream",
     "text": [
      "CPU COUNT: 64\n"
     ]
    },
    {
     "data": {
      "application/vnd.jupyter.widget-view+json": {
       "model_id": "4658a450237b46d499d2410b54a6aef7",
       "version_major": 2,
       "version_minor": 0
      },
      "text/plain": [
       "  0%|          | 0/648 [00:00<?, ?it/s]"
      ]
     },
     "metadata": {},
     "output_type": "display_data"
    }
   ],
   "source": [
    "import threading\n",
    "import multiprocessing as mp\n",
    "from multiprocessing import shared_memory\n",
    "import math\n",
    "\n",
    "from multiprocessing.pool import ThreadPool\n",
    "\n",
    "print('CPU COUNT:', mp.cpu_count())\n",
    "\n",
    "\n",
    "NUM_WORKERS = 8\n",
    "\n",
    "def _load_img_thread_func(args):\n",
    "    buffer, fpath = args\n",
    "    cv2.imread(fpath, buffer, cv2.IMREAD_UNCHANGED)\n",
    "\n",
    "\n",
    "def load_tomo_multithread(tomo_dir, start = None, end = None, step = None, pool = None):\n",
    "    s = slice(start, end, step)\n",
    "    fnames = sorted(os.listdir(tomo_dir))\n",
    "    assert fnames == [f'slice_{j:04d}.jpg' for j in range(len(fnames))]\n",
    "    fnames = fnames[s]\n",
    "    fpaths = [os.path.join(tomo_dir, fname) for fname in fnames]\n",
    "    img = cv2.imread(fpaths[0], cv2.IMREAD_UNCHANGED)\n",
    "    assert len(img.shape) == 2 # grayscale\n",
    "    tomo = np.empty((len(fpaths), *img.shape), dtype = np.uint8)\n",
    "    tomo[0] = img\n",
    "    if pool is None:\n",
    "        pool = mp.pool.ThreadPool(NUM_WORKERS)\n",
    "    pool.map(_load_img_thread_func, [(tomo[i], fpaths[i]) for i in range(1, len(fpaths))])\n",
    "    assert (tomo.sum(axis = (1,2)) > 0).all()\n",
    "    return tomo\n",
    "    \n",
    "    \n",
    "TRAIN_TOMO_DIR = '/home/dangnh36/datasets/byu/raw/train'\n",
    "all_tomo_ids = sorted(os.listdir(TRAIN_TOMO_DIR))\n",
    "\n",
    "pool = ThreadPool(NUM_WORKERS)\n",
    "# pool = None\n",
    "i = 0\n",
    "for tomo_id in tqdm(all_tomo_ids):\n",
    "    tomo = load_tomo_multithread(os.path.join(TRAIN_TOMO_DIR, tomo_id), pool = pool)\n",
    "    assert tomo[-1, -1, -1] >= 0\n",
    "    # print(tomo.shape, tomo.dtype)\n",
    "    i+=1\n",
    "    # if i > 100:\n",
    "    #     break\n",
    "pool.close()"
   ]
  },
  {
   "cell_type": "code",
   "execution_count": null,
   "metadata": {},
   "outputs": [],
   "source": []
  },
  {
   "cell_type": "code",
   "execution_count": null,
   "metadata": {},
   "outputs": [],
   "source": []
  },
  {
   "cell_type": "markdown",
   "metadata": {},
   "source": [
    "#### Speedtest\n",
    "- Sequential: 3p12s / 100 samples\n",
    "\n",
    "- Multiprocess x 4 + no shared pool: 1p09/100 samples\n",
    "- Multiprocess x 4 + shared pool: 1p07 / 100 samples\n",
    "- Multiprocess x 8 + shared pool: 47s / 100 samples\n",
    "- Multiprocess x 16 + shared pool: 35s / 100 samples\n",
    "\n",
    "\n",
    "- Multithread x 4 + shared pool: 59s / 100 samples\n",
    "- Multithread x 8 + shared pool: 39s / 100 samples\n",
    "- Multithread x 16 + shared pool: 30s / 100 samples\n",
    "- Multithread x 64 + shared pool: 25s / 100 samples\n",
    "- Multithread x 64 + no shared pool: 25s / 100 samples\n",
    "- Multithread x 128 + shared pool: 24s / 100 samples\n",
    "\n",
    "\n",
    "# READ\n",
    "- thread x 4: 14p03s\n",
    "- npy: 13p41s (fast cached for about 100 samples)"
   ]
  },
  {
   "cell_type": "code",
   "execution_count": null,
   "metadata": {},
   "outputs": [],
   "source": []
  },
  {
   "cell_type": "code",
   "execution_count": null,
   "metadata": {},
   "outputs": [],
   "source": []
  },
  {
   "cell_type": "markdown",
   "metadata": {},
   "source": [
    "#### npy file"
   ]
  },
  {
   "cell_type": "code",
   "execution_count": 58,
   "metadata": {},
   "outputs": [
    {
     "data": {
      "application/vnd.jupyter.widget-view+json": {
       "model_id": "8523eb9ce2434268a065abbca6bf93b0",
       "version_major": 2,
       "version_minor": 0
      },
      "text/plain": [
       "  0%|          | 0/648 [00:00<?, ?it/s]"
      ]
     },
     "metadata": {},
     "output_type": "display_data"
    }
   ],
   "source": [
    "for tomo_id in tqdm(all_tomo_ids):\n",
    "    tomo = load_tomo_multithread(os.path.join(TRAIN_TOMO_DIR, tomo_id), pool = None)\n",
    "    save_path = os.path.join(f'/home/dangnh36/datasets/byu/processed/npy/{tomo_id}.npy')\n",
    "    os.makedirs(os.path.dirname(save_path), exist_ok = True)\n",
    "    np.save(save_path, tomo)"
   ]
  },
  {
   "cell_type": "code",
   "execution_count": 7,
   "metadata": {},
   "outputs": [
    {
     "data": {
      "application/vnd.jupyter.widget-view+json": {
       "model_id": "616afbb7337a4f48831d8b621f764584",
       "version_major": 2,
       "version_minor": 0
      },
      "text/plain": [
       "  0%|          | 0/648 [00:00<?, ?it/s]"
      ]
     },
     "metadata": {},
     "output_type": "display_data"
    }
   ],
   "source": [
    "for tomo_id in tqdm(all_tomo_ids[:]):\n",
    "    save_path = os.path.join(f'/home/dangnh36/datasets/byu/processed/npy/{tomo_id}.npy')\n",
    "    tomo = np.load(save_path)\n",
    "    assert tomo[-1, -1, -1] >= 0"
   ]
  },
  {
   "cell_type": "code",
   "execution_count": null,
   "metadata": {},
   "outputs": [],
   "source": []
  },
  {
   "cell_type": "markdown",
   "metadata": {},
   "source": [
    "#### Compressed npz file"
   ]
  },
  {
   "cell_type": "code",
   "execution_count": 49,
   "metadata": {},
   "outputs": [
    {
     "data": {
      "application/vnd.jupyter.widget-view+json": {
       "model_id": "eb96d86557934038a7589e37be7382d8",
       "version_major": 2,
       "version_minor": 0
      },
      "text/plain": [
       "  0%|          | 0/100 [00:00<?, ?it/s]"
      ]
     },
     "metadata": {},
     "output_type": "display_data"
    }
   ],
   "source": [
    "for tomo_id in tqdm(all_tomo_ids[:100]):\n",
    "    tomo = load_tomo_multithread(os.path.join(TRAIN_TOMO_DIR, tomo_id), pool = None)\n",
    "    save_path = os.path.join(f'/home/dangnh36/datasets/byu/processed/npz/{tomo_id}.npz')\n",
    "    os.makedirs(os.path.dirname(save_path), exist_ok = True)\n",
    "    np.savez_compressed(save_path, tomo = tomo)"
   ]
  },
  {
   "cell_type": "code",
   "execution_count": 50,
   "metadata": {},
   "outputs": [
    {
     "data": {
      "application/vnd.jupyter.widget-view+json": {
       "model_id": "44431a27c0194a2d9bb552450ee86572",
       "version_major": 2,
       "version_minor": 0
      },
      "text/plain": [
       "  0%|          | 0/100 [00:00<?, ?it/s]"
      ]
     },
     "metadata": {},
     "output_type": "display_data"
    }
   ],
   "source": [
    "for tomo_id in tqdm(all_tomo_ids[:100]):\n",
    "    save_path = os.path.join(f'/home/dangnh36/datasets/byu/processed/npz/{tomo_id}.npz')\n",
    "    tomo = np.load(save_path)['tomo']\n",
    "    assert tomo[-1, -1, -1] > 0"
   ]
  },
  {
   "cell_type": "code",
   "execution_count": null,
   "metadata": {},
   "outputs": [],
   "source": []
  },
  {
   "cell_type": "markdown",
   "metadata": {},
   "source": [
    "#### jpg"
   ]
  },
  {
   "cell_type": "code",
   "execution_count": 48,
   "metadata": {},
   "outputs": [],
   "source": [
    "# for tomo_id in tqdm(all_tomo_ids[:100]):\n",
    "#     tomo = load_tomo_multithread(os.path.join(TRAIN_TOMO_DIR, tomo_id), pool = None)\n",
    "#     save_path = os.path.join(f'/home/dangnh36/datasets/byu/processed/jpg/{tomo_id}.jpg')\n",
    "#     os.makedirs(os.path.dirname(save_path), exist_ok = True)\n",
    "#     tomo_2d = tomo.reshape(-1, tomo.shape[-1])\n",
    "#     print(tomo_2d.shape)\n",
    "#     cv2.imwrite(save_path, tomo_2d)\n",
    "#     # cv2.imwrite(save_path, tomo[0])"
   ]
  },
  {
   "cell_type": "code",
   "execution_count": null,
   "metadata": {},
   "outputs": [],
   "source": []
  },
  {
   "cell_type": "code",
   "execution_count": null,
   "metadata": {},
   "outputs": [],
   "source": []
  },
  {
   "cell_type": "code",
   "execution_count": 5,
   "metadata": {},
   "outputs": [
    {
     "data": {
      "text/html": [
       "<div><style>\n",
       ".dataframe > thead > tr,\n",
       ".dataframe > tbody > tr {\n",
       "  text-align: right;\n",
       "  white-space: pre-wrap;\n",
       "}\n",
       "</style>\n",
       "<small>shape: (648, 14)</small><table border=\"1\" class=\"dataframe\"><thead><tr><th>tomo_id</th><th>Z</th><th>Y</th><th>X</th><th>voxel_spacing</th><th>ori_num_motors</th><th>num_motors</th><th>ZA</th><th>YA</th><th>XA</th><th>V</th><th>VA</th><th>motor_zyx</th><th>motor_zyxA</th></tr><tr><td>str</td><td>i64</td><td>i64</td><td>i64</td><td>f64</td><td>i64</td><td>i64</td><td>f64</td><td>f64</td><td>f64</td><td>i64</td><td>f64</td><td>str</td><td>str</td></tr></thead><tbody><tr><td>&quot;tomo_003acc&quot;</td><td>500</td><td>1912</td><td>1847</td><td>6.5</td><td>0</td><td>0</td><td>3250.0</td><td>12428.0</td><td>12005.5</td><td>1765732000</td><td>4.8491e11</td><td>&quot;[]&quot;</td><td>&quot;[]&quot;</td></tr><tr><td>&quot;tomo_00e047&quot;</td><td>300</td><td>959</td><td>928</td><td>15.6</td><td>1</td><td>1</td><td>4680.0</td><td>14960.4</td><td>14476.8</td><td>266985600</td><td>1.0136e12</td><td>&quot;[[169.0, 546.0, 603.0]]&quot;</td><td>&quot;[[2636.4, 8517.6, 9406.8]]&quot;</td></tr><tr><td>&quot;tomo_00e463&quot;</td><td>500</td><td>924</td><td>956</td><td>19.7</td><td>6</td><td>6</td><td>9850.0</td><td>18202.8</td><td>18833.2</td><td>441672000</td><td>3.3767e12</td><td>&quot;[[235.0, 403.0, 137.0], [243.0…</td><td>&quot;[[4629.5, 7939.099999999999, 2…</td></tr><tr><td>&quot;tomo_01a877&quot;</td><td>300</td><td>960</td><td>928</td><td>13.1</td><td>1</td><td>1</td><td>3930.0</td><td>12576.0</td><td>12156.8</td><td>267264000</td><td>6.0083e11</td><td>&quot;[[147.0, 638.0, 286.0]]&quot;</td><td>&quot;[[1925.7, 8357.8, 3746.6]]&quot;</td></tr><tr><td>&quot;tomo_02862f&quot;</td><td>300</td><td>959</td><td>928</td><td>15.6</td><td>1</td><td>1</td><td>4680.0</td><td>14960.4</td><td>14476.8</td><td>266985600</td><td>1.0136e12</td><td>&quot;[[101.0, 351.0, 120.0]]&quot;</td><td>&quot;[[1575.6, 5475.599999999999, 1…</td></tr><tr><td>&hellip;</td><td>&hellip;</td><td>&hellip;</td><td>&hellip;</td><td>&hellip;</td><td>&hellip;</td><td>&hellip;</td><td>&hellip;</td><td>&hellip;</td><td>&hellip;</td><td>&hellip;</td><td>&hellip;</td><td>&hellip;</td><td>&hellip;</td></tr><tr><td>&quot;tomo_fe050c&quot;</td><td>300</td><td>959</td><td>928</td><td>15.6</td><td>1</td><td>1</td><td>4680.0</td><td>14960.4</td><td>14476.8</td><td>266985600</td><td>1.0136e12</td><td>&quot;[[138.0, 134.0, 542.0]]&quot;</td><td>&quot;[[2152.7999999999997, 2090.4, …</td></tr><tr><td>&quot;tomo_fe85f6&quot;</td><td>800</td><td>928</td><td>960</td><td>13.1</td><td>0</td><td>0</td><td>10480.0</td><td>12156.8</td><td>12576.0</td><td>712704000</td><td>1.6022e12</td><td>&quot;[]&quot;</td><td>&quot;[]&quot;</td></tr><tr><td>&quot;tomo_fea6e8&quot;</td><td>300</td><td>960</td><td>928</td><td>16.8</td><td>0</td><td>0</td><td>5040.0</td><td>16128.0</td><td>15590.4</td><td>267264000</td><td>1.2673e12</td><td>&quot;[]&quot;</td><td>&quot;[]&quot;</td></tr><tr><td>&quot;tomo_ff505c&quot;</td><td>300</td><td>959</td><td>928</td><td>15.6</td><td>1</td><td>1</td><td>4680.0</td><td>14960.4</td><td>14476.8</td><td>266985600</td><td>1.0136e12</td><td>&quot;[[111.0, 816.0, 678.0]]&quot;</td><td>&quot;[[1731.6, 12729.6, 10576.8]]&quot;</td></tr><tr><td>&quot;tomo_ff7c20&quot;</td><td>800</td><td>928</td><td>960</td><td>13.1</td><td>0</td><td>0</td><td>10480.0</td><td>12156.8</td><td>12576.0</td><td>712704000</td><td>1.6022e12</td><td>&quot;[]&quot;</td><td>&quot;[]&quot;</td></tr></tbody></table></div>"
      ],
      "text/plain": [
       "shape: (648, 14)\n",
       "┌─────────────┬─────┬──────┬──────┬───┬────────────┬───────────┬─────────────────┬─────────────────┐\n",
       "│ tomo_id     ┆ Z   ┆ Y    ┆ X    ┆ … ┆ V          ┆ VA        ┆ motor_zyx       ┆ motor_zyxA      │\n",
       "│ ---         ┆ --- ┆ ---  ┆ ---  ┆   ┆ ---        ┆ ---       ┆ ---             ┆ ---             │\n",
       "│ str         ┆ i64 ┆ i64  ┆ i64  ┆   ┆ i64        ┆ f64       ┆ str             ┆ str             │\n",
       "╞═════════════╪═════╪══════╪══════╪═══╪════════════╪═══════════╪═════════════════╪═════════════════╡\n",
       "│ tomo_003acc ┆ 500 ┆ 1912 ┆ 1847 ┆ … ┆ 1765732000 ┆ 4.8491e11 ┆ []              ┆ []              │\n",
       "│ tomo_00e047 ┆ 300 ┆ 959  ┆ 928  ┆ … ┆ 266985600  ┆ 1.0136e12 ┆ [[169.0, 546.0, ┆ [[2636.4,       │\n",
       "│             ┆     ┆      ┆      ┆   ┆            ┆           ┆ 603.0]]         ┆ 8517.6,         │\n",
       "│             ┆     ┆      ┆      ┆   ┆            ┆           ┆                 ┆ 9406.8]]        │\n",
       "│ tomo_00e463 ┆ 500 ┆ 924  ┆ 956  ┆ … ┆ 441672000  ┆ 3.3767e12 ┆ [[235.0, 403.0, ┆ [[4629.5, 7939. │\n",
       "│             ┆     ┆      ┆      ┆   ┆            ┆           ┆ 137.0], [243.0… ┆ 099999999999,   │\n",
       "│             ┆     ┆      ┆      ┆   ┆            ┆           ┆                 ┆ 2…              │\n",
       "│ tomo_01a877 ┆ 300 ┆ 960  ┆ 928  ┆ … ┆ 267264000  ┆ 6.0083e11 ┆ [[147.0, 638.0, ┆ [[1925.7,       │\n",
       "│             ┆     ┆      ┆      ┆   ┆            ┆           ┆ 286.0]]         ┆ 8357.8,         │\n",
       "│             ┆     ┆      ┆      ┆   ┆            ┆           ┆                 ┆ 3746.6]]        │\n",
       "│ tomo_02862f ┆ 300 ┆ 959  ┆ 928  ┆ … ┆ 266985600  ┆ 1.0136e12 ┆ [[101.0, 351.0, ┆ [[1575.6, 5475. │\n",
       "│             ┆     ┆      ┆      ┆   ┆            ┆           ┆ 120.0]]         ┆ 599999999999,   │\n",
       "│             ┆     ┆      ┆      ┆   ┆            ┆           ┆                 ┆ 1…              │\n",
       "│ …           ┆ …   ┆ …    ┆ …    ┆ … ┆ …          ┆ …         ┆ …               ┆ …               │\n",
       "│ tomo_fe050c ┆ 300 ┆ 959  ┆ 928  ┆ … ┆ 266985600  ┆ 1.0136e12 ┆ [[138.0, 134.0, ┆ [[2152.79999999 │\n",
       "│             ┆     ┆      ┆      ┆   ┆            ┆           ┆ 542.0]]         ┆ 99997, 2090.4,  │\n",
       "│             ┆     ┆      ┆      ┆   ┆            ┆           ┆                 ┆ …               │\n",
       "│ tomo_fe85f6 ┆ 800 ┆ 928  ┆ 960  ┆ … ┆ 712704000  ┆ 1.6022e12 ┆ []              ┆ []              │\n",
       "│ tomo_fea6e8 ┆ 300 ┆ 960  ┆ 928  ┆ … ┆ 267264000  ┆ 1.2673e12 ┆ []              ┆ []              │\n",
       "│ tomo_ff505c ┆ 300 ┆ 959  ┆ 928  ┆ … ┆ 266985600  ┆ 1.0136e12 ┆ [[111.0, 816.0, ┆ [[1731.6,       │\n",
       "│             ┆     ┆      ┆      ┆   ┆            ┆           ┆ 678.0]]         ┆ 12729.6,        │\n",
       "│             ┆     ┆      ┆      ┆   ┆            ┆           ┆                 ┆ 10576.8]]       │\n",
       "│ tomo_ff7c20 ┆ 800 ┆ 928  ┆ 960  ┆ … ┆ 712704000  ┆ 1.6022e12 ┆ []              ┆ []              │\n",
       "└─────────────┴─────┴──────┴──────┴───┴────────────┴───────────┴─────────────────┴─────────────────┘"
      ]
     },
     "execution_count": 5,
     "metadata": {},
     "output_type": "execute_result"
    }
   ],
   "source": [
    "df = pl.scan_csv('/home/dangnh36/datasets/byu/processed/gt.csv').collect()\n",
    "df"
   ]
  },
  {
   "cell_type": "code",
   "execution_count": 6,
   "metadata": {},
   "outputs": [
    {
     "data": {
      "text/plain": [
       "4952880690790.4"
      ]
     },
     "execution_count": 6,
     "metadata": {},
     "output_type": "execute_result"
    }
   ],
   "source": [
    "df['VA'].max()"
   ]
  },
  {
   "cell_type": "code",
   "execution_count": 7,
   "metadata": {},
   "outputs": [
    {
     "data": {
      "text/plain": [
       "532.6835808062865"
      ]
     },
     "execution_count": 7,
     "metadata": {},
     "output_type": "execute_result"
    }
   ],
   "source": [
    "# for voxel_spacing = 32, the maximum resolution is about 533 ** 3\n",
    "\n",
    "(df['VA'].max() / (32.0 ** 3)) ** (1/3)"
   ]
  },
  {
   "cell_type": "code",
   "execution_count": 15,
   "metadata": {},
   "outputs": [
    {
     "data": {
      "text/plain": [
       "244.52538747253806"
      ]
     },
     "execution_count": 15,
     "metadata": {},
     "output_type": "execute_result"
    }
   ],
   "source": [
    "# for voxel_spacing = 32, the maximum resolution is about 245 ** 3\n",
    "(df['VA'].min() / (32.0 ** 3)) ** (1/3)"
   ]
  },
  {
   "cell_type": "code",
   "execution_count": 16,
   "metadata": {},
   "outputs": [
    {
     "data": {
      "text/plain": [
       "346.0141799574342"
      ]
     },
     "execution_count": 16,
     "metadata": {},
     "output_type": "execute_result"
    }
   ],
   "source": [
    "# for voxel_spacing = 32, the maximum resolution is about 346 ** 3\n",
    "(df['VA'].mean() / (32.0 ** 3)) ** (1/3)"
   ]
  },
  {
   "cell_type": "code",
   "execution_count": null,
   "metadata": {},
   "outputs": [],
   "source": []
  },
  {
   "cell_type": "code",
   "execution_count": 8,
   "metadata": {},
   "outputs": [
    {
     "data": {
      "text/html": [
       "<div><style>\n",
       ".dataframe > thead > tr,\n",
       ".dataframe > tbody > tr {\n",
       "  text-align: right;\n",
       "  white-space: pre-wrap;\n",
       "}\n",
       "</style>\n",
       "<small>shape: (1, 3)</small><table border=\"1\" class=\"dataframe\"><thead><tr><th>ZA</th><th>YA</th><th>XA</th></tr><tr><td>f64</td><td>f64</td><td>f64</td></tr></thead><tbody><tr><td>482.5</td><td>576.0</td><td>598.5</td></tr></tbody></table></div>"
      ],
      "text/plain": [
       "shape: (1, 3)\n",
       "┌───────┬───────┬───────┐\n",
       "│ ZA    ┆ YA    ┆ XA    │\n",
       "│ ---   ┆ ---   ┆ ---   │\n",
       "│ f64   ┆ f64   ┆ f64   │\n",
       "╞═══════╪═══════╪═══════╡\n",
       "│ 482.5 ┆ 576.0 ┆ 598.5 │\n",
       "└───────┴───────┴───────┘"
      ]
     },
     "execution_count": 8,
     "metadata": {},
     "output_type": "execute_result"
    }
   ],
   "source": [
    "# for voxel spacing = 32, the maximum resolution is 482 * 576 * 598\n",
    "df.select(\n",
    "    pl.col('ZA', 'YA', 'XA').max() / 32.0\n",
    ")"
   ]
  },
  {
   "cell_type": "code",
   "execution_count": 9,
   "metadata": {},
   "outputs": [
    {
     "data": {
      "text/html": [
       "<div><style>\n",
       ".dataframe > thead > tr,\n",
       ".dataframe > tbody > tr {\n",
       "  text-align: right;\n",
       "  white-space: pre-wrap;\n",
       "}\n",
       "</style>\n",
       "<small>shape: (1, 3)</small><table border=\"1\" class=\"dataframe\"><thead><tr><th>ZA</th><th>YA</th><th>XA</th></tr><tr><td>f64</td><td>f64</td><td>f64</td></tr></thead><tbody><tr><td>100.34375</td><td>379.490625</td><td>375.171875</td></tr></tbody></table></div>"
      ],
      "text/plain": [
       "shape: (1, 3)\n",
       "┌───────────┬────────────┬────────────┐\n",
       "│ ZA        ┆ YA         ┆ XA         │\n",
       "│ ---       ┆ ---        ┆ ---        │\n",
       "│ f64       ┆ f64        ┆ f64        │\n",
       "╞═══════════╪════════════╪════════════╡\n",
       "│ 100.34375 ┆ 379.490625 ┆ 375.171875 │\n",
       "└───────────┴────────────┴────────────┘"
      ]
     },
     "execution_count": 9,
     "metadata": {},
     "output_type": "execute_result"
    }
   ],
   "source": [
    "# for voxel spacing = 32, the minimum resolution is 100x379x375\n",
    "df.select(\n",
    "    pl.col('ZA', 'YA', 'XA').min() / 32.0\n",
    ")"
   ]
  },
  {
   "cell_type": "code",
   "execution_count": 10,
   "metadata": {},
   "outputs": [
    {
     "data": {
      "text/html": [
       "<div><style>\n",
       ".dataframe > thead > tr,\n",
       ".dataframe > tbody > tr {\n",
       "  text-align: right;\n",
       "  white-space: pre-wrap;\n",
       "}\n",
       "</style>\n",
       "<small>shape: (1, 3)</small><table border=\"1\" class=\"dataframe\"><thead><tr><th>ZA</th><th>YA</th><th>XA</th></tr><tr><td>f64</td><td>f64</td><td>f64</td></tr></thead><tbody><tr><td>195.033806</td><td>447.369324</td><td>447.722743</td></tr></tbody></table></div>"
      ],
      "text/plain": [
       "shape: (1, 3)\n",
       "┌────────────┬────────────┬────────────┐\n",
       "│ ZA         ┆ YA         ┆ XA         │\n",
       "│ ---        ┆ ---        ┆ ---        │\n",
       "│ f64        ┆ f64        ┆ f64        │\n",
       "╞════════════╪════════════╪════════════╡\n",
       "│ 195.033806 ┆ 447.369324 ┆ 447.722743 │\n",
       "└────────────┴────────────┴────────────┘"
      ]
     },
     "execution_count": 10,
     "metadata": {},
     "output_type": "execute_result"
    }
   ],
   "source": [
    "# for voxel spacing = 32, the avg resolution is 195x447x447\n",
    "df.select(\n",
    "    pl.col('ZA', 'YA', 'XA').mean() / 32.0\n",
    ")"
   ]
  },
  {
   "cell_type": "code",
   "execution_count": null,
   "metadata": {},
   "outputs": [],
   "source": []
  },
  {
   "cell_type": "code",
   "execution_count": 12,
   "metadata": {},
   "outputs": [
    {
     "data": {
      "text/plain": [
       "480"
      ]
     },
     "execution_count": 12,
     "metadata": {},
     "output_type": "execute_result"
    }
   ],
   "source": [
    "32 * 15"
   ]
  },
  {
   "cell_type": "code",
   "execution_count": 18,
   "metadata": {},
   "outputs": [
    {
     "data": {
      "text/plain": [
       "44957696"
      ]
     },
     "execution_count": 18,
     "metadata": {},
     "output_type": "execute_result"
    }
   ],
   "source": [
    "224*448*448"
   ]
  },
  {
   "cell_type": "code",
   "execution_count": 19,
   "metadata": {},
   "outputs": [
    {
     "data": {
      "text/plain": [
       "41421736"
      ]
     },
     "execution_count": 19,
     "metadata": {},
     "output_type": "execute_result"
    }
   ],
   "source": [
    "346 ** 3"
   ]
  },
  {
   "cell_type": "code",
   "execution_count": null,
   "metadata": {},
   "outputs": [],
   "source": []
  },
  {
   "cell_type": "code",
   "execution_count": null,
   "metadata": {},
   "outputs": [],
   "source": []
  },
  {
   "cell_type": "code",
   "execution_count": null,
   "metadata": {},
   "outputs": [],
   "source": []
  },
  {
   "cell_type": "code",
   "execution_count": null,
   "metadata": {},
   "outputs": [],
   "source": []
  }
 ],
 "metadata": {
  "kernelspec": {
   "display_name": "Python 3 (ipykernel)",
   "language": "python",
   "name": "python3"
  },
  "language_info": {
   "codemirror_mode": {
    "name": "ipython",
    "version": 3
   },
   "file_extension": ".py",
   "mimetype": "text/x-python",
   "name": "python",
   "nbconvert_exporter": "python",
   "pygments_lexer": "ipython3",
   "version": "3.11.10"
  }
 },
 "nbformat": 4,
 "nbformat_minor": 4
}
